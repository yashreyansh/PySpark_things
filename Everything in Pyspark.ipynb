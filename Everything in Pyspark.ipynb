{
 "cells": [
  {
   "cell_type": "code",
   "execution_count": 0,
   "metadata": {
    "application/vnd.databricks.v1+cell": {
     "cellMetadata": {
      "byteLimit": 2048000,
      "rowLimit": 10000
     },
     "inputWidgets": {},
     "nuid": "3763a55b-aa50-46c4-81b8-6dea5c1c2b85",
     "showTitle": false,
     "tableResultSettingsMap": {},
     "title": ""
    }
   },
   "outputs": [
    {
     "output_type": "execute_result",
     "data": {
      "text/plain": [
       "False"
      ]
     },
     "execution_count": 116,
     "metadata": {},
     "output_type": "execute_result"
    }
   ],
   "source": [
    "dbutils.fs.rm(\"/FileStore/tables/drivers.json\")"
   ]
  },
  {
   "cell_type": "code",
   "execution_count": 0,
   "metadata": {
    "application/vnd.databricks.v1+cell": {
     "cellMetadata": {
      "byteLimit": 2048000,
      "rowLimit": 10000
     },
     "inputWidgets": {},
     "nuid": "252d922e-7d7d-451b-aa10-fcd754a17952",
     "showTitle": false,
     "tableResultSettingsMap": {},
     "title": ""
    }
   },
   "outputs": [
    {
     "output_type": "execute_result",
     "data": {
      "text/html": [
       "\n",
       "            <div>\n",
       "                <p><b>SparkSession - hive</b></p>\n",
       "                \n",
       "        <div>\n",
       "            <p><b>SparkContext</b></p>\n",
       "\n",
       "            <p><a href=\"/?o=2448260515131980#setting/sparkui/1227-050501-gjmwb9dr/driver-6723395223187280307\">Spark UI</a></p>\n",
       "\n",
       "            <dl>\n",
       "              <dt>Version</dt>\n",
       "                <dd><code>v3.5.0</code></dd>\n",
       "              <dt>Master</dt>\n",
       "                <dd><code>local[8]</code></dd>\n",
       "              <dt>AppName</dt>\n",
       "                <dd><code>Databricks Shell</code></dd>\n",
       "            </dl>\n",
       "        </div>\n",
       "        \n",
       "            </div>\n",
       "        "
      ],
      "text/plain": [
       "<pyspark.sql.session.SparkSession at 0x7f3219954050>"
      ]
     },
     "execution_count": 117,
     "metadata": {},
     "output_type": "execute_result"
    }
   ],
   "source": [
    "spark"
   ]
  },
  {
   "cell_type": "code",
   "execution_count": 0,
   "metadata": {
    "application/vnd.databricks.v1+cell": {
     "cellMetadata": {
      "byteLimit": 2048000,
      "rowLimit": 10000
     },
     "inputWidgets": {},
     "nuid": "d7aa6f7d-7f94-417e-a0b4-493feb154b36",
     "showTitle": false,
     "tableResultSettingsMap": {},
     "title": ""
    }
   },
   "outputs": [
    {
     "output_type": "stream",
     "name": "stdout",
     "output_type": "stream",
     "text": [
      "+---------------+-----------+----------------+---------------+-----------+--------+-----------------+-------------------------+-----------+--------------------+-----------------+-----------------+\n|Item_Identifier|Item_Weight|Item_Fat_Content|Item_Visibility|  Item_Type|Item_MRP|Outlet_Identifier|Outlet_Establishment_Year|Outlet_Size|Outlet_Location_Type|      Outlet_Type|Item_Outlet_Sales|\n+---------------+-----------+----------------+---------------+-----------+--------+-----------------+-------------------------+-----------+--------------------+-----------------+-----------------+\n|          FDA15|        9.3|         Low Fat|    0.016047301|      Dairy|249.8092|           OUT049|                     1999|     Medium|              Tier 1|Supermarket Type1|         3735.138|\n|          DRC01|       5.92|         Regular|    0.019278216|Soft Drinks| 48.2692|           OUT018|                     2009|     Medium|              Tier 3|Supermarket Type2|         443.4228|\n+---------------+-----------+----------------+---------------+-----------+--------+-----------------+-------------------------+-----------+--------------------+-----------------+-----------------+\nonly showing top 2 rows\n\n"
     ]
    }
   ],
   "source": [
    "df = spark.read.format('csv').option('inferSchema', True)\\\n",
    "    .option(\"header\",True)\\\n",
    "        .option(\"multiLine\",True)\\\n",
    "            .load(\"/FileStore/tables/BigMart_Sales.csv\")\n",
    "df.show(2)"
   ]
  },
  {
   "cell_type": "code",
   "execution_count": 0,
   "metadata": {
    "application/vnd.databricks.v1+cell": {
     "cellMetadata": {
      "byteLimit": 2048000,
      "rowLimit": 10000
     },
     "inputWidgets": {},
     "nuid": "27527220-0a96-4c6c-ac79-bd10651a4ce7",
     "showTitle": false,
     "tableResultSettingsMap": {},
     "title": ""
    }
   },
   "outputs": [
    {
     "output_type": "display_data",
     "data": {
      "text/html": [
       "<style scoped>\n",
       "  .table-result-container {\n",
       "    max-height: 300px;\n",
       "    overflow: auto;\n",
       "  }\n",
       "  table, th, td {\n",
       "    border: 1px solid black;\n",
       "    border-collapse: collapse;\n",
       "  }\n",
       "  th, td {\n",
       "    padding: 5px;\n",
       "  }\n",
       "  th {\n",
       "    text-align: left;\n",
       "  }\n",
       "</style><div class='table-result-container'><table class='table-result'><thead style='background-color: white'><tr><th>Item_Identifier</th><th>Item_Weight</th><th>Item_Fat_Content</th><th>Item_Visibility</th><th>Item_Type</th><th>Item_MRP</th><th>Outlet_Identifier</th><th>Outlet_Establishment_Year</th><th>Outlet_Size</th><th>Outlet_Location_Type</th><th>Outlet_Type</th><th>Item_Outlet_Sales</th></tr></thead><tbody><tr><td>FDA15</td><td>9.3</td><td>Low Fat</td><td>0.016047301</td><td>Dairy</td><td>249.8092</td><td>OUT049</td><td>1999</td><td>Medium</td><td>Tier 1</td><td>Supermarket Type1</td><td>3735.138</td></tr><tr><td>DRC01</td><td>5.92</td><td>Regular</td><td>0.019278216</td><td>Soft Drinks</td><td>48.2692</td><td>OUT018</td><td>2009</td><td>Medium</td><td>Tier 3</td><td>Supermarket Type2</td><td>443.4228</td></tr><tr><td>FDN15</td><td>17.5</td><td>Low Fat</td><td>0.016760075</td><td>Meat</td><td>141.618</td><td>OUT049</td><td>1999</td><td>Medium</td><td>Tier 1</td><td>Supermarket Type1</td><td>2097.27</td></tr><tr><td>FDX07</td><td>19.2</td><td>Regular</td><td>0.0</td><td>Fruits and Vegetables</td><td>182.095</td><td>OUT010</td><td>1998</td><td>null</td><td>Tier 3</td><td>Grocery Store</td><td>732.38</td></tr><tr><td>NCD19</td><td>8.93</td><td>Low Fat</td><td>0.0</td><td>Household</td><td>53.8614</td><td>OUT013</td><td>1987</td><td>High</td><td>Tier 3</td><td>Supermarket Type1</td><td>994.7052</td></tr><tr><td>FDP36</td><td>10.395</td><td>Regular</td><td>0.0</td><td>Baking Goods</td><td>51.4008</td><td>OUT018</td><td>2009</td><td>Medium</td><td>Tier 3</td><td>Supermarket Type2</td><td>556.6088</td></tr><tr><td>FDO10</td><td>13.65</td><td>Regular</td><td>0.012741089</td><td>Snack Foods</td><td>57.6588</td><td>OUT013</td><td>1987</td><td>High</td><td>Tier 3</td><td>Supermarket Type1</td><td>343.5528</td></tr><tr><td>FDP10</td><td>null</td><td>Low Fat</td><td>0.127469857</td><td>Snack Foods</td><td>107.7622</td><td>OUT027</td><td>1985</td><td>Medium</td><td>Tier 3</td><td>Supermarket Type3</td><td>4022.7636</td></tr><tr><td>FDH17</td><td>16.2</td><td>Regular</td><td>0.016687114</td><td>Frozen Foods</td><td>96.9726</td><td>OUT045</td><td>2002</td><td>null</td><td>Tier 2</td><td>Supermarket Type1</td><td>1076.5986</td></tr><tr><td>FDU28</td><td>19.2</td><td>Regular</td><td>0.09444959</td><td>Frozen Foods</td><td>187.8214</td><td>OUT017</td><td>2007</td><td>null</td><td>Tier 2</td><td>Supermarket Type1</td><td>4710.535</td></tr><tr><td>FDY07</td><td>11.8</td><td>Low Fat</td><td>0.0</td><td>Fruits and Vegetables</td><td>45.5402</td><td>OUT049</td><td>1999</td><td>Medium</td><td>Tier 1</td><td>Supermarket Type1</td><td>1516.0266</td></tr><tr><td>FDA03</td><td>18.5</td><td>Regular</td><td>0.045463773</td><td>Dairy</td><td>144.1102</td><td>OUT046</td><td>1997</td><td>Small</td><td>Tier 1</td><td>Supermarket Type1</td><td>2187.153</td></tr><tr><td>FDX32</td><td>15.1</td><td>Regular</td><td>0.1000135</td><td>Fruits and Vegetables</td><td>145.4786</td><td>OUT049</td><td>1999</td><td>Medium</td><td>Tier 1</td><td>Supermarket Type1</td><td>1589.2646</td></tr><tr><td>FDS46</td><td>17.6</td><td>Regular</td><td>0.047257328</td><td>Snack Foods</td><td>119.6782</td><td>OUT046</td><td>1997</td><td>Small</td><td>Tier 1</td><td>Supermarket Type1</td><td>2145.2076</td></tr><tr><td>FDF32</td><td>16.35</td><td>Low Fat</td><td>0.0680243</td><td>Fruits and Vegetables</td><td>196.4426</td><td>OUT013</td><td>1987</td><td>High</td><td>Tier 3</td><td>Supermarket Type1</td><td>1977.426</td></tr><tr><td>FDP49</td><td>9.0</td><td>Regular</td><td>0.069088961</td><td>Breakfast</td><td>56.3614</td><td>OUT046</td><td>1997</td><td>Small</td><td>Tier 1</td><td>Supermarket Type1</td><td>1547.3192</td></tr><tr><td>NCB42</td><td>11.8</td><td>Low Fat</td><td>0.008596051</td><td>Health and Hygiene</td><td>115.3492</td><td>OUT018</td><td>2009</td><td>Medium</td><td>Tier 3</td><td>Supermarket Type2</td><td>1621.8888</td></tr><tr><td>FDP49</td><td>9.0</td><td>Regular</td><td>0.069196376</td><td>Breakfast</td><td>54.3614</td><td>OUT049</td><td>1999</td><td>Medium</td><td>Tier 1</td><td>Supermarket Type1</td><td>718.3982</td></tr><tr><td>DRI11</td><td>null</td><td>Low Fat</td><td>0.034237682</td><td>Hard Drinks</td><td>113.2834</td><td>OUT027</td><td>1985</td><td>Medium</td><td>Tier 3</td><td>Supermarket Type3</td><td>2303.668</td></tr><tr><td>FDU02</td><td>13.35</td><td>Low Fat</td><td>0.10249212</td><td>Dairy</td><td>230.5352</td><td>OUT035</td><td>2004</td><td>Small</td><td>Tier 2</td><td>Supermarket Type1</td><td>2748.4224</td></tr><tr><td>FDN22</td><td>18.85</td><td>Regular</td><td>0.138190277</td><td>Snack Foods</td><td>250.8724</td><td>OUT013</td><td>1987</td><td>High</td><td>Tier 3</td><td>Supermarket Type1</td><td>3775.086</td></tr><tr><td>FDW12</td><td>null</td><td>Regular</td><td>0.035399923</td><td>Baking Goods</td><td>144.5444</td><td>OUT027</td><td>1985</td><td>Medium</td><td>Tier 3</td><td>Supermarket Type3</td><td>4064.0432</td></tr><tr><td>NCB30</td><td>14.6</td><td>Low Fat</td><td>0.025698134</td><td>Household</td><td>196.5084</td><td>OUT035</td><td>2004</td><td>Small</td><td>Tier 2</td><td>Supermarket Type1</td><td>1587.2672</td></tr><tr><td>FDC37</td><td>null</td><td>Low Fat</td><td>0.057556998</td><td>Baking Goods</td><td>107.6938</td><td>OUT019</td><td>1985</td><td>Small</td><td>Tier 1</td><td>Grocery Store</td><td>214.3876</td></tr><tr><td>FDR28</td><td>13.85</td><td>Regular</td><td>0.025896485</td><td>Frozen Foods</td><td>165.021</td><td>OUT046</td><td>1997</td><td>Small</td><td>Tier 1</td><td>Supermarket Type1</td><td>4078.025</td></tr><tr><td>NCD06</td><td>13.0</td><td>Low Fat</td><td>0.099887103</td><td>Household</td><td>45.906</td><td>OUT017</td><td>2007</td><td>null</td><td>Tier 2</td><td>Supermarket Type1</td><td>838.908</td></tr><tr><td>FDV10</td><td>7.645</td><td>Regular</td><td>0.066693437</td><td>Snack Foods</td><td>42.3112</td><td>OUT035</td><td>2004</td><td>Small</td><td>Tier 2</td><td>Supermarket Type1</td><td>1065.28</td></tr><tr><td>DRJ59</td><td>11.65</td><td>low fat</td><td>0.019356132</td><td>Hard Drinks</td><td>39.1164</td><td>OUT013</td><td>1987</td><td>High</td><td>Tier 3</td><td>Supermarket Type1</td><td>308.9312</td></tr><tr><td>FDE51</td><td>5.925</td><td>Regular</td><td>0.161466534</td><td>Dairy</td><td>45.5086</td><td>OUT010</td><td>1998</td><td>null</td><td>Tier 3</td><td>Grocery Store</td><td>178.4344</td></tr><tr><td>FDC14</td><td>null</td><td>Regular</td><td>0.072221801</td><td>Canned</td><td>43.6454</td><td>OUT019</td><td>1985</td><td>Small</td><td>Tier 1</td><td>Grocery Store</td><td>125.8362</td></tr><tr><td>FDV38</td><td>19.25</td><td>Low Fat</td><td>0.170348551</td><td>Dairy</td><td>55.7956</td><td>OUT010</td><td>1998</td><td>null</td><td>Tier 3</td><td>Grocery Store</td><td>163.7868</td></tr><tr><td>NCS17</td><td>18.6</td><td>Low Fat</td><td>0.080829372</td><td>Health and Hygiene</td><td>96.4436</td><td>OUT018</td><td>2009</td><td>Medium</td><td>Tier 3</td><td>Supermarket Type2</td><td>2741.7644</td></tr><tr><td>FDP33</td><td>18.7</td><td>Low Fat</td><td>0.0</td><td>Snack Foods</td><td>256.6672</td><td>OUT018</td><td>2009</td><td>Medium</td><td>Tier 3</td><td>Supermarket Type2</td><td>3068.0064</td></tr><tr><td>FDO23</td><td>17.85</td><td>Low Fat</td><td>0.0</td><td>Breads</td><td>93.1436</td><td>OUT045</td><td>2002</td><td>null</td><td>Tier 2</td><td>Supermarket Type1</td><td>2174.5028</td></tr><tr><td>DRH01</td><td>17.5</td><td>Low Fat</td><td>0.097904029</td><td>Soft Drinks</td><td>174.8738</td><td>OUT046</td><td>1997</td><td>Small</td><td>Tier 1</td><td>Supermarket Type1</td><td>2085.2856</td></tr><tr><td>NCX29</td><td>10.0</td><td>Low Fat</td><td>0.089291137</td><td>Health and Hygiene</td><td>146.7102</td><td>OUT049</td><td>1999</td><td>Medium</td><td>Tier 1</td><td>Supermarket Type1</td><td>3791.0652</td></tr><tr><td>FDV20</td><td>null</td><td>Regular</td><td>0.059511812</td><td>Fruits and Vegetables</td><td>128.0678</td><td>OUT027</td><td>1985</td><td>Medium</td><td>Tier 3</td><td>Supermarket Type3</td><td>2797.6916</td></tr><tr><td>DRZ11</td><td>8.85</td><td>Regular</td><td>0.113123893</td><td>Soft Drinks</td><td>122.5388</td><td>OUT018</td><td>2009</td><td>Medium</td><td>Tier 3</td><td>Supermarket Type2</td><td>1609.9044</td></tr><tr><td>FDX10</td><td>null</td><td>Regular</td><td>0.123111453</td><td>Snack Foods</td><td>36.9874</td><td>OUT027</td><td>1985</td><td>Medium</td><td>Tier 3</td><td>Supermarket Type3</td><td>388.1614</td></tr><tr><td>FDB34</td><td>null</td><td>Low Fat</td><td>0.026480954</td><td>Snack Foods</td><td>87.6198</td><td>OUT027</td><td>1985</td><td>Medium</td><td>Tier 3</td><td>Supermarket Type3</td><td>2180.495</td></tr><tr><td>FDU02</td><td>13.35</td><td>Low Fat</td><td>0.102511504</td><td>Dairy</td><td>230.6352</td><td>OUT046</td><td>1997</td><td>Small</td><td>Tier 1</td><td>Supermarket Type1</td><td>3435.528</td></tr><tr><td>FDK43</td><td>9.8</td><td>Low Fat</td><td>0.02681843</td><td>Meat</td><td>126.002</td><td>OUT013</td><td>1987</td><td>High</td><td>Tier 3</td><td>Supermarket Type1</td><td>2150.534</td></tr><tr><td>FDA46</td><td>13.6</td><td>Low Fat</td><td>0.117818348</td><td>Snack Foods</td><td>192.9136</td><td>OUT049</td><td>1999</td><td>Medium</td><td>Tier 1</td><td>Supermarket Type1</td><td>2527.3768</td></tr><tr><td>FDC02</td><td>21.35</td><td>Low Fat</td><td>0.069102831</td><td>Canned</td><td>259.9278</td><td>OUT018</td><td>2009</td><td>Medium</td><td>Tier 3</td><td>Supermarket Type2</td><td>6768.5228</td></tr><tr><td>FDL50</td><td>12.15</td><td>Regular</td><td>0.042277867</td><td>Canned</td><td>126.5046</td><td>OUT013</td><td>1987</td><td>High</td><td>Tier 3</td><td>Supermarket Type1</td><td>373.5138</td></tr><tr><td>FDM39</td><td>6.42</td><td>LF</td><td>0.089498926</td><td>Dairy</td><td>178.1002</td><td>OUT010</td><td>1998</td><td>null</td><td>Tier 3</td><td>Grocery Store</td><td>358.2004</td></tr><tr><td>NCP05</td><td>19.6</td><td>Low Fat</td><td>0.0</td><td>Health and Hygiene</td><td>153.3024</td><td>OUT045</td><td>2002</td><td>null</td><td>Tier 2</td><td>Supermarket Type1</td><td>2428.8384</td></tr><tr><td>FDV49</td><td>10.0</td><td>Low Fat</td><td>0.025879577</td><td>Canned</td><td>265.2226</td><td>OUT045</td><td>2002</td><td>null</td><td>Tier 2</td><td>Supermarket Type1</td><td>5815.0972</td></tr><tr><td>FDL12</td><td>15.85</td><td>Regular</td><td>0.121632721</td><td>Baking Goods</td><td>60.622</td><td>OUT046</td><td>1997</td><td>Small</td><td>Tier 1</td><td>Supermarket Type1</td><td>2576.646</td></tr><tr><td>FDS02</td><td>null</td><td>Regular</td><td>0.255394896</td><td>Dairy</td><td>196.8794</td><td>OUT019</td><td>1985</td><td>Small</td><td>Tier 1</td><td>Grocery Store</td><td>780.3176</td></tr></tbody></table></div>"
      ]
     },
     "metadata": {
      "application/vnd.databricks.v1+output": {
       "addedWidgets": {},
       "aggData": [],
       "aggError": "",
       "aggOverflow": false,
       "aggSchema": [],
       "aggSeriesLimitReached": false,
       "aggType": "",
       "arguments": {},
       "columnCustomDisplayInfos": {},
       "data": [
        [
         "FDA15",
         9.3,
         "Low Fat",
         0.016047301,
         "Dairy",
         249.8092,
         "OUT049",
         1999,
         "Medium",
         "Tier 1",
         "Supermarket Type1",
         3735.138
        ],
        [
         "DRC01",
         5.92,
         "Regular",
         0.019278216,
         "Soft Drinks",
         48.2692,
         "OUT018",
         2009,
         "Medium",
         "Tier 3",
         "Supermarket Type2",
         443.4228
        ],
        [
         "FDN15",
         17.5,
         "Low Fat",
         0.016760075,
         "Meat",
         141.618,
         "OUT049",
         1999,
         "Medium",
         "Tier 1",
         "Supermarket Type1",
         2097.27
        ],
        [
         "FDX07",
         19.2,
         "Regular",
         0.0,
         "Fruits and Vegetables",
         182.095,
         "OUT010",
         1998,
         null,
         "Tier 3",
         "Grocery Store",
         732.38
        ],
        [
         "NCD19",
         8.93,
         "Low Fat",
         0.0,
         "Household",
         53.8614,
         "OUT013",
         1987,
         "High",
         "Tier 3",
         "Supermarket Type1",
         994.7052
        ],
        [
         "FDP36",
         10.395,
         "Regular",
         0.0,
         "Baking Goods",
         51.4008,
         "OUT018",
         2009,
         "Medium",
         "Tier 3",
         "Supermarket Type2",
         556.6088
        ],
        [
         "FDO10",
         13.65,
         "Regular",
         0.012741089,
         "Snack Foods",
         57.6588,
         "OUT013",
         1987,
         "High",
         "Tier 3",
         "Supermarket Type1",
         343.5528
        ],
        [
         "FDP10",
         null,
         "Low Fat",
         0.127469857,
         "Snack Foods",
         107.7622,
         "OUT027",
         1985,
         "Medium",
         "Tier 3",
         "Supermarket Type3",
         4022.7636
        ],
        [
         "FDH17",
         16.2,
         "Regular",
         0.016687114,
         "Frozen Foods",
         96.9726,
         "OUT045",
         2002,
         null,
         "Tier 2",
         "Supermarket Type1",
         1076.5986
        ],
        [
         "FDU28",
         19.2,
         "Regular",
         0.09444959,
         "Frozen Foods",
         187.8214,
         "OUT017",
         2007,
         null,
         "Tier 2",
         "Supermarket Type1",
         4710.535
        ],
        [
         "FDY07",
         11.8,
         "Low Fat",
         0.0,
         "Fruits and Vegetables",
         45.5402,
         "OUT049",
         1999,
         "Medium",
         "Tier 1",
         "Supermarket Type1",
         1516.0266
        ],
        [
         "FDA03",
         18.5,
         "Regular",
         0.045463773,
         "Dairy",
         144.1102,
         "OUT046",
         1997,
         "Small",
         "Tier 1",
         "Supermarket Type1",
         2187.153
        ],
        [
         "FDX32",
         15.1,
         "Regular",
         0.1000135,
         "Fruits and Vegetables",
         145.4786,
         "OUT049",
         1999,
         "Medium",
         "Tier 1",
         "Supermarket Type1",
         1589.2646
        ],
        [
         "FDS46",
         17.6,
         "Regular",
         0.047257328,
         "Snack Foods",
         119.6782,
         "OUT046",
         1997,
         "Small",
         "Tier 1",
         "Supermarket Type1",
         2145.2076
        ],
        [
         "FDF32",
         16.35,
         "Low Fat",
         0.0680243,
         "Fruits and Vegetables",
         196.4426,
         "OUT013",
         1987,
         "High",
         "Tier 3",
         "Supermarket Type1",
         1977.426
        ],
        [
         "FDP49",
         9.0,
         "Regular",
         0.069088961,
         "Breakfast",
         56.3614,
         "OUT046",
         1997,
         "Small",
         "Tier 1",
         "Supermarket Type1",
         1547.3192
        ],
        [
         "NCB42",
         11.8,
         "Low Fat",
         0.008596051,
         "Health and Hygiene",
         115.3492,
         "OUT018",
         2009,
         "Medium",
         "Tier 3",
         "Supermarket Type2",
         1621.8888
        ],
        [
         "FDP49",
         9.0,
         "Regular",
         0.069196376,
         "Breakfast",
         54.3614,
         "OUT049",
         1999,
         "Medium",
         "Tier 1",
         "Supermarket Type1",
         718.3982
        ],
        [
         "DRI11",
         null,
         "Low Fat",
         0.034237682,
         "Hard Drinks",
         113.2834,
         "OUT027",
         1985,
         "Medium",
         "Tier 3",
         "Supermarket Type3",
         2303.668
        ],
        [
         "FDU02",
         13.35,
         "Low Fat",
         0.10249212,
         "Dairy",
         230.5352,
         "OUT035",
         2004,
         "Small",
         "Tier 2",
         "Supermarket Type1",
         2748.4224
        ],
        [
         "FDN22",
         18.85,
         "Regular",
         0.138190277,
         "Snack Foods",
         250.8724,
         "OUT013",
         1987,
         "High",
         "Tier 3",
         "Supermarket Type1",
         3775.086
        ],
        [
         "FDW12",
         null,
         "Regular",
         0.035399923,
         "Baking Goods",
         144.5444,
         "OUT027",
         1985,
         "Medium",
         "Tier 3",
         "Supermarket Type3",
         4064.0432
        ],
        [
         "NCB30",
         14.6,
         "Low Fat",
         0.025698134,
         "Household",
         196.5084,
         "OUT035",
         2004,
         "Small",
         "Tier 2",
         "Supermarket Type1",
         1587.2672
        ],
        [
         "FDC37",
         null,
         "Low Fat",
         0.057556998,
         "Baking Goods",
         107.6938,
         "OUT019",
         1985,
         "Small",
         "Tier 1",
         "Grocery Store",
         214.3876
        ],
        [
         "FDR28",
         13.85,
         "Regular",
         0.025896485,
         "Frozen Foods",
         165.021,
         "OUT046",
         1997,
         "Small",
         "Tier 1",
         "Supermarket Type1",
         4078.025
        ],
        [
         "NCD06",
         13.0,
         "Low Fat",
         0.099887103,
         "Household",
         45.906,
         "OUT017",
         2007,
         null,
         "Tier 2",
         "Supermarket Type1",
         838.908
        ],
        [
         "FDV10",
         7.645,
         "Regular",
         0.066693437,
         "Snack Foods",
         42.3112,
         "OUT035",
         2004,
         "Small",
         "Tier 2",
         "Supermarket Type1",
         1065.28
        ],
        [
         "DRJ59",
         11.65,
         "low fat",
         0.019356132,
         "Hard Drinks",
         39.1164,
         "OUT013",
         1987,
         "High",
         "Tier 3",
         "Supermarket Type1",
         308.9312
        ],
        [
         "FDE51",
         5.925,
         "Regular",
         0.161466534,
         "Dairy",
         45.5086,
         "OUT010",
         1998,
         null,
         "Tier 3",
         "Grocery Store",
         178.4344
        ],
        [
         "FDC14",
         null,
         "Regular",
         0.072221801,
         "Canned",
         43.6454,
         "OUT019",
         1985,
         "Small",
         "Tier 1",
         "Grocery Store",
         125.8362
        ],
        [
         "FDV38",
         19.25,
         "Low Fat",
         0.170348551,
         "Dairy",
         55.7956,
         "OUT010",
         1998,
         null,
         "Tier 3",
         "Grocery Store",
         163.7868
        ],
        [
         "NCS17",
         18.6,
         "Low Fat",
         0.080829372,
         "Health and Hygiene",
         96.4436,
         "OUT018",
         2009,
         "Medium",
         "Tier 3",
         "Supermarket Type2",
         2741.7644
        ],
        [
         "FDP33",
         18.7,
         "Low Fat",
         0.0,
         "Snack Foods",
         256.6672,
         "OUT018",
         2009,
         "Medium",
         "Tier 3",
         "Supermarket Type2",
         3068.0064
        ],
        [
         "FDO23",
         17.85,
         "Low Fat",
         0.0,
         "Breads",
         93.1436,
         "OUT045",
         2002,
         null,
         "Tier 2",
         "Supermarket Type1",
         2174.5028
        ],
        [
         "DRH01",
         17.5,
         "Low Fat",
         0.097904029,
         "Soft Drinks",
         174.8738,
         "OUT046",
         1997,
         "Small",
         "Tier 1",
         "Supermarket Type1",
         2085.2856
        ],
        [
         "NCX29",
         10.0,
         "Low Fat",
         0.089291137,
         "Health and Hygiene",
         146.7102,
         "OUT049",
         1999,
         "Medium",
         "Tier 1",
         "Supermarket Type1",
         3791.0652
        ],
        [
         "FDV20",
         null,
         "Regular",
         0.059511812,
         "Fruits and Vegetables",
         128.0678,
         "OUT027",
         1985,
         "Medium",
         "Tier 3",
         "Supermarket Type3",
         2797.6916
        ],
        [
         "DRZ11",
         8.85,
         "Regular",
         0.113123893,
         "Soft Drinks",
         122.5388,
         "OUT018",
         2009,
         "Medium",
         "Tier 3",
         "Supermarket Type2",
         1609.9044
        ],
        [
         "FDX10",
         null,
         "Regular",
         0.123111453,
         "Snack Foods",
         36.9874,
         "OUT027",
         1985,
         "Medium",
         "Tier 3",
         "Supermarket Type3",
         388.1614
        ],
        [
         "FDB34",
         null,
         "Low Fat",
         0.026480954,
         "Snack Foods",
         87.6198,
         "OUT027",
         1985,
         "Medium",
         "Tier 3",
         "Supermarket Type3",
         2180.495
        ],
        [
         "FDU02",
         13.35,
         "Low Fat",
         0.102511504,
         "Dairy",
         230.6352,
         "OUT046",
         1997,
         "Small",
         "Tier 1",
         "Supermarket Type1",
         3435.528
        ],
        [
         "FDK43",
         9.8,
         "Low Fat",
         0.02681843,
         "Meat",
         126.002,
         "OUT013",
         1987,
         "High",
         "Tier 3",
         "Supermarket Type1",
         2150.534
        ],
        [
         "FDA46",
         13.6,
         "Low Fat",
         0.117818348,
         "Snack Foods",
         192.9136,
         "OUT049",
         1999,
         "Medium",
         "Tier 1",
         "Supermarket Type1",
         2527.3768
        ],
        [
         "FDC02",
         21.35,
         "Low Fat",
         0.069102831,
         "Canned",
         259.9278,
         "OUT018",
         2009,
         "Medium",
         "Tier 3",
         "Supermarket Type2",
         6768.5228
        ],
        [
         "FDL50",
         12.15,
         "Regular",
         0.042277867,
         "Canned",
         126.5046,
         "OUT013",
         1987,
         "High",
         "Tier 3",
         "Supermarket Type1",
         373.5138
        ],
        [
         "FDM39",
         6.42,
         "LF",
         0.089498926,
         "Dairy",
         178.1002,
         "OUT010",
         1998,
         null,
         "Tier 3",
         "Grocery Store",
         358.2004
        ],
        [
         "NCP05",
         19.6,
         "Low Fat",
         0.0,
         "Health and Hygiene",
         153.3024,
         "OUT045",
         2002,
         null,
         "Tier 2",
         "Supermarket Type1",
         2428.8384
        ],
        [
         "FDV49",
         10.0,
         "Low Fat",
         0.025879577,
         "Canned",
         265.2226,
         "OUT045",
         2002,
         null,
         "Tier 2",
         "Supermarket Type1",
         5815.0972
        ],
        [
         "FDL12",
         15.85,
         "Regular",
         0.121632721,
         "Baking Goods",
         60.622,
         "OUT046",
         1997,
         "Small",
         "Tier 1",
         "Supermarket Type1",
         2576.646
        ],
        [
         "FDS02",
         null,
         "Regular",
         0.255394896,
         "Dairy",
         196.8794,
         "OUT019",
         1985,
         "Small",
         "Tier 1",
         "Grocery Store",
         780.3176
        ]
       ],
       "datasetInfos": [],
       "dbfsResultPath": null,
       "isJsonSchema": true,
       "metadata": {},
       "overflow": false,
       "plotOptions": {
        "customPlotOptions": {},
        "displayType": "table",
        "pivotAggregation": null,
        "pivotColumns": null,
        "xColumns": null,
        "yColumns": null
       },
       "removedWidgets": [],
       "schema": [
        {
         "metadata": "{}",
         "name": "Item_Identifier",
         "type": "\"string\""
        },
        {
         "metadata": "{}",
         "name": "Item_Weight",
         "type": "\"double\""
        },
        {
         "metadata": "{}",
         "name": "Item_Fat_Content",
         "type": "\"string\""
        },
        {
         "metadata": "{}",
         "name": "Item_Visibility",
         "type": "\"double\""
        },
        {
         "metadata": "{}",
         "name": "Item_Type",
         "type": "\"string\""
        },
        {
         "metadata": "{}",
         "name": "Item_MRP",
         "type": "\"double\""
        },
        {
         "metadata": "{}",
         "name": "Outlet_Identifier",
         "type": "\"string\""
        },
        {
         "metadata": "{}",
         "name": "Outlet_Establishment_Year",
         "type": "\"integer\""
        },
        {
         "metadata": "{}",
         "name": "Outlet_Size",
         "type": "\"string\""
        },
        {
         "metadata": "{}",
         "name": "Outlet_Location_Type",
         "type": "\"string\""
        },
        {
         "metadata": "{}",
         "name": "Outlet_Type",
         "type": "\"string\""
        },
        {
         "metadata": "{}",
         "name": "Item_Outlet_Sales",
         "type": "\"double\""
        }
       ],
       "type": "table"
      }
     },
     "output_type": "display_data"
    }
   ],
   "source": [
    "df.limit(50).display()"
   ]
  },
  {
   "cell_type": "code",
   "execution_count": 0,
   "metadata": {
    "application/vnd.databricks.v1+cell": {
     "cellMetadata": {
      "byteLimit": 2048000,
      "rowLimit": 10000
     },
     "inputWidgets": {},
     "nuid": "58097115-f006-4ce5-b20c-13a78ecdba76",
     "showTitle": false,
     "tableResultSettingsMap": {},
     "title": ""
    }
   },
   "outputs": [
    {
     "output_type": "stream",
     "name": "stdout",
     "output_type": "stream",
     "text": [
      "root\n |-- Item_Identifier: string (nullable = true)\n |-- Item_Weight: double (nullable = true)\n |-- Item_Fat_Content: string (nullable = true)\n |-- Item_Visibility: double (nullable = true)\n |-- Item_Type: string (nullable = true)\n |-- Item_MRP: double (nullable = true)\n |-- Outlet_Identifier: string (nullable = true)\n |-- Outlet_Establishment_Year: integer (nullable = true)\n |-- Outlet_Size: string (nullable = true)\n |-- Outlet_Location_Type: string (nullable = true)\n |-- Outlet_Type: string (nullable = true)\n |-- Item_Outlet_Sales: double (nullable = true)\n\n"
     ]
    }
   ],
   "source": [
    "df.printSchema()"
   ]
  },
  {
   "cell_type": "code",
   "execution_count": 0,
   "metadata": {
    "application/vnd.databricks.v1+cell": {
     "cellMetadata": {
      "byteLimit": 2048000,
      "rowLimit": 10000
     },
     "inputWidgets": {},
     "nuid": "71d541b9-b4fb-45ad-a930-e266f36c212d",
     "showTitle": false,
     "tableResultSettingsMap": {},
     "title": ""
    }
   },
   "outputs": [],
   "source": []
  },
  {
   "cell_type": "markdown",
   "metadata": {
    "application/vnd.databricks.v1+cell": {
     "cellMetadata": {
      "byteLimit": 2048000,
      "rowLimit": 10000
     },
     "inputWidgets": {},
     "nuid": "b59f5a0b-3bcb-4386-801a-413bc035d569",
     "showTitle": false,
     "tableResultSettingsMap": {},
     "title": ""
    }
   },
   "source": [
    "## Ways to create Schema, \n",
    "1. create as string\n",
    "2. StructType"
   ]
  },
  {
   "cell_type": "code",
   "execution_count": 0,
   "metadata": {
    "application/vnd.databricks.v1+cell": {
     "cellMetadata": {
      "byteLimit": 2048000,
      "rowLimit": 10000
     },
     "inputWidgets": {},
     "nuid": "32d54df7-0e4c-45d3-a311-85f0f835244f",
     "showTitle": false,
     "tableResultSettingsMap": {},
     "title": ""
    }
   },
   "outputs": [
    {
     "output_type": "display_data",
     "data": {
      "text/html": [
       "<style scoped>\n",
       "  .table-result-container {\n",
       "    max-height: 300px;\n",
       "    overflow: auto;\n",
       "  }\n",
       "  table, th, td {\n",
       "    border: 1px solid black;\n",
       "    border-collapse: collapse;\n",
       "  }\n",
       "  th, td {\n",
       "    padding: 5px;\n",
       "  }\n",
       "  th {\n",
       "    text-align: left;\n",
       "  }\n",
       "</style><div class='table-result-container'><table class='table-result'><thead style='background-color: white'><tr><th>Item_Identifier</th><th>Item_Weight</th><th>Item_Fat_Content</th><th>Item_Visibility</th><th>Item_Type</th><th>Item_MRP</th><th>Outlet_Identifier</th><th>Outlet_Establishment_Year</th><th>Outlet_Size</th><th>Outlet_Location_Type</th><th>Outlet_Type</th><th>Item_Outlet_Sales</th></tr></thead><tbody><tr><td>FDA15</td><td>9.3</td><td>Low Fat</td><td>0.016047301</td><td>Dairy</td><td>249.8092</td><td>OUT049</td><td>1999</td><td>Medium</td><td>Tier 1</td><td>Supermarket Type1</td><td>3735.138</td></tr><tr><td>DRC01</td><td>5.92</td><td>Regular</td><td>0.019278216</td><td>Soft Drinks</td><td>48.2692</td><td>OUT018</td><td>2009</td><td>Medium</td><td>Tier 3</td><td>Supermarket Type2</td><td>443.4228</td></tr><tr><td>FDN15</td><td>17.5</td><td>Low Fat</td><td>0.016760075</td><td>Meat</td><td>141.618</td><td>OUT049</td><td>1999</td><td>Medium</td><td>Tier 1</td><td>Supermarket Type1</td><td>2097.27</td></tr><tr><td>FDX07</td><td>19.2</td><td>Regular</td><td>0.0</td><td>Fruits and Vegetables</td><td>182.095</td><td>OUT010</td><td>1998</td><td>null</td><td>Tier 3</td><td>Grocery Store</td><td>732.38</td></tr><tr><td>NCD19</td><td>8.93</td><td>Low Fat</td><td>0.0</td><td>Household</td><td>53.8614</td><td>OUT013</td><td>1987</td><td>High</td><td>Tier 3</td><td>Supermarket Type1</td><td>994.7052</td></tr><tr><td>FDP36</td><td>10.395</td><td>Regular</td><td>0.0</td><td>Baking Goods</td><td>51.4008</td><td>OUT018</td><td>2009</td><td>Medium</td><td>Tier 3</td><td>Supermarket Type2</td><td>556.6088</td></tr><tr><td>FDO10</td><td>13.65</td><td>Regular</td><td>0.012741089</td><td>Snack Foods</td><td>57.6588</td><td>OUT013</td><td>1987</td><td>High</td><td>Tier 3</td><td>Supermarket Type1</td><td>343.5528</td></tr><tr><td>FDP10</td><td>null</td><td>Low Fat</td><td>0.127469857</td><td>Snack Foods</td><td>107.7622</td><td>OUT027</td><td>1985</td><td>Medium</td><td>Tier 3</td><td>Supermarket Type3</td><td>4022.7636</td></tr><tr><td>FDH17</td><td>16.2</td><td>Regular</td><td>0.016687114</td><td>Frozen Foods</td><td>96.9726</td><td>OUT045</td><td>2002</td><td>null</td><td>Tier 2</td><td>Supermarket Type1</td><td>1076.5986</td></tr><tr><td>FDU28</td><td>19.2</td><td>Regular</td><td>0.09444959</td><td>Frozen Foods</td><td>187.8214</td><td>OUT017</td><td>2007</td><td>null</td><td>Tier 2</td><td>Supermarket Type1</td><td>4710.535</td></tr><tr><td>FDY07</td><td>11.8</td><td>Low Fat</td><td>0.0</td><td>Fruits and Vegetables</td><td>45.5402</td><td>OUT049</td><td>1999</td><td>Medium</td><td>Tier 1</td><td>Supermarket Type1</td><td>1516.0266</td></tr><tr><td>FDA03</td><td>18.5</td><td>Regular</td><td>0.045463773</td><td>Dairy</td><td>144.1102</td><td>OUT046</td><td>1997</td><td>Small</td><td>Tier 1</td><td>Supermarket Type1</td><td>2187.153</td></tr><tr><td>FDX32</td><td>15.1</td><td>Regular</td><td>0.1000135</td><td>Fruits and Vegetables</td><td>145.4786</td><td>OUT049</td><td>1999</td><td>Medium</td><td>Tier 1</td><td>Supermarket Type1</td><td>1589.2646</td></tr><tr><td>FDS46</td><td>17.6</td><td>Regular</td><td>0.047257328</td><td>Snack Foods</td><td>119.6782</td><td>OUT046</td><td>1997</td><td>Small</td><td>Tier 1</td><td>Supermarket Type1</td><td>2145.2076</td></tr><tr><td>FDF32</td><td>16.35</td><td>Low Fat</td><td>0.0680243</td><td>Fruits and Vegetables</td><td>196.4426</td><td>OUT013</td><td>1987</td><td>High</td><td>Tier 3</td><td>Supermarket Type1</td><td>1977.426</td></tr><tr><td>FDP49</td><td>9.0</td><td>Regular</td><td>0.069088961</td><td>Breakfast</td><td>56.3614</td><td>OUT046</td><td>1997</td><td>Small</td><td>Tier 1</td><td>Supermarket Type1</td><td>1547.3192</td></tr><tr><td>NCB42</td><td>11.8</td><td>Low Fat</td><td>0.008596051</td><td>Health and Hygiene</td><td>115.3492</td><td>OUT018</td><td>2009</td><td>Medium</td><td>Tier 3</td><td>Supermarket Type2</td><td>1621.8888</td></tr><tr><td>FDP49</td><td>9.0</td><td>Regular</td><td>0.069196376</td><td>Breakfast</td><td>54.3614</td><td>OUT049</td><td>1999</td><td>Medium</td><td>Tier 1</td><td>Supermarket Type1</td><td>718.3982</td></tr><tr><td>DRI11</td><td>null</td><td>Low Fat</td><td>0.034237682</td><td>Hard Drinks</td><td>113.2834</td><td>OUT027</td><td>1985</td><td>Medium</td><td>Tier 3</td><td>Supermarket Type3</td><td>2303.668</td></tr><tr><td>FDU02</td><td>13.35</td><td>Low Fat</td><td>0.10249212</td><td>Dairy</td><td>230.5352</td><td>OUT035</td><td>2004</td><td>Small</td><td>Tier 2</td><td>Supermarket Type1</td><td>2748.4224</td></tr></tbody></table></div>"
      ]
     },
     "metadata": {
      "application/vnd.databricks.v1+output": {
       "addedWidgets": {},
       "aggData": [],
       "aggError": "",
       "aggOverflow": false,
       "aggSchema": [],
       "aggSeriesLimitReached": false,
       "aggType": "",
       "arguments": {},
       "columnCustomDisplayInfos": {},
       "data": [
        [
         "FDA15",
         9.3,
         "Low Fat",
         0.016047301,
         "Dairy",
         249.8092,
         "OUT049",
         1999,
         "Medium",
         "Tier 1",
         "Supermarket Type1",
         3735.138
        ],
        [
         "DRC01",
         5.92,
         "Regular",
         0.019278216,
         "Soft Drinks",
         48.2692,
         "OUT018",
         2009,
         "Medium",
         "Tier 3",
         "Supermarket Type2",
         443.4228
        ],
        [
         "FDN15",
         17.5,
         "Low Fat",
         0.016760075,
         "Meat",
         141.618,
         "OUT049",
         1999,
         "Medium",
         "Tier 1",
         "Supermarket Type1",
         2097.27
        ],
        [
         "FDX07",
         19.2,
         "Regular",
         0.0,
         "Fruits and Vegetables",
         182.095,
         "OUT010",
         1998,
         null,
         "Tier 3",
         "Grocery Store",
         732.38
        ],
        [
         "NCD19",
         8.93,
         "Low Fat",
         0.0,
         "Household",
         53.8614,
         "OUT013",
         1987,
         "High",
         "Tier 3",
         "Supermarket Type1",
         994.7052
        ],
        [
         "FDP36",
         10.395,
         "Regular",
         0.0,
         "Baking Goods",
         51.4008,
         "OUT018",
         2009,
         "Medium",
         "Tier 3",
         "Supermarket Type2",
         556.6088
        ],
        [
         "FDO10",
         13.65,
         "Regular",
         0.012741089,
         "Snack Foods",
         57.6588,
         "OUT013",
         1987,
         "High",
         "Tier 3",
         "Supermarket Type1",
         343.5528
        ],
        [
         "FDP10",
         null,
         "Low Fat",
         0.127469857,
         "Snack Foods",
         107.7622,
         "OUT027",
         1985,
         "Medium",
         "Tier 3",
         "Supermarket Type3",
         4022.7636
        ],
        [
         "FDH17",
         16.2,
         "Regular",
         0.016687114,
         "Frozen Foods",
         96.9726,
         "OUT045",
         2002,
         null,
         "Tier 2",
         "Supermarket Type1",
         1076.5986
        ],
        [
         "FDU28",
         19.2,
         "Regular",
         0.09444959,
         "Frozen Foods",
         187.8214,
         "OUT017",
         2007,
         null,
         "Tier 2",
         "Supermarket Type1",
         4710.535
        ],
        [
         "FDY07",
         11.8,
         "Low Fat",
         0.0,
         "Fruits and Vegetables",
         45.5402,
         "OUT049",
         1999,
         "Medium",
         "Tier 1",
         "Supermarket Type1",
         1516.0266
        ],
        [
         "FDA03",
         18.5,
         "Regular",
         0.045463773,
         "Dairy",
         144.1102,
         "OUT046",
         1997,
         "Small",
         "Tier 1",
         "Supermarket Type1",
         2187.153
        ],
        [
         "FDX32",
         15.1,
         "Regular",
         0.1000135,
         "Fruits and Vegetables",
         145.4786,
         "OUT049",
         1999,
         "Medium",
         "Tier 1",
         "Supermarket Type1",
         1589.2646
        ],
        [
         "FDS46",
         17.6,
         "Regular",
         0.047257328,
         "Snack Foods",
         119.6782,
         "OUT046",
         1997,
         "Small",
         "Tier 1",
         "Supermarket Type1",
         2145.2076
        ],
        [
         "FDF32",
         16.35,
         "Low Fat",
         0.0680243,
         "Fruits and Vegetables",
         196.4426,
         "OUT013",
         1987,
         "High",
         "Tier 3",
         "Supermarket Type1",
         1977.426
        ],
        [
         "FDP49",
         9.0,
         "Regular",
         0.069088961,
         "Breakfast",
         56.3614,
         "OUT046",
         1997,
         "Small",
         "Tier 1",
         "Supermarket Type1",
         1547.3192
        ],
        [
         "NCB42",
         11.8,
         "Low Fat",
         0.008596051,
         "Health and Hygiene",
         115.3492,
         "OUT018",
         2009,
         "Medium",
         "Tier 3",
         "Supermarket Type2",
         1621.8888
        ],
        [
         "FDP49",
         9.0,
         "Regular",
         0.069196376,
         "Breakfast",
         54.3614,
         "OUT049",
         1999,
         "Medium",
         "Tier 1",
         "Supermarket Type1",
         718.3982
        ],
        [
         "DRI11",
         null,
         "Low Fat",
         0.034237682,
         "Hard Drinks",
         113.2834,
         "OUT027",
         1985,
         "Medium",
         "Tier 3",
         "Supermarket Type3",
         2303.668
        ],
        [
         "FDU02",
         13.35,
         "Low Fat",
         0.10249212,
         "Dairy",
         230.5352,
         "OUT035",
         2004,
         "Small",
         "Tier 2",
         "Supermarket Type1",
         2748.4224
        ]
       ],
       "datasetInfos": [],
       "dbfsResultPath": null,
       "isJsonSchema": true,
       "metadata": {},
       "overflow": false,
       "plotOptions": {
        "customPlotOptions": {},
        "displayType": "table",
        "pivotAggregation": null,
        "pivotColumns": null,
        "xColumns": null,
        "yColumns": null
       },
       "removedWidgets": [],
       "schema": [
        {
         "metadata": "{}",
         "name": "Item_Identifier",
         "type": "\"string\""
        },
        {
         "metadata": "{}",
         "name": "Item_Weight",
         "type": "\"double\""
        },
        {
         "metadata": "{}",
         "name": "Item_Fat_Content",
         "type": "\"string\""
        },
        {
         "metadata": "{}",
         "name": "Item_Visibility",
         "type": "\"double\""
        },
        {
         "metadata": "{}",
         "name": "Item_Type",
         "type": "\"string\""
        },
        {
         "metadata": "{}",
         "name": "Item_MRP",
         "type": "\"double\""
        },
        {
         "metadata": "{}",
         "name": "Outlet_Identifier",
         "type": "\"string\""
        },
        {
         "metadata": "{}",
         "name": "Outlet_Establishment_Year",
         "type": "\"integer\""
        },
        {
         "metadata": "{}",
         "name": "Outlet_Size",
         "type": "\"string\""
        },
        {
         "metadata": "{}",
         "name": "Outlet_Location_Type",
         "type": "\"string\""
        },
        {
         "metadata": "{}",
         "name": "Outlet_Type",
         "type": "\"string\""
        },
        {
         "metadata": "{}",
         "name": "Item_Outlet_Sales",
         "type": "\"double\""
        }
       ],
       "type": "table"
      }
     },
     "output_type": "display_data"
    }
   ],
   "source": [
    "## create a schema\n",
    "my_ddl_schema = '''\n",
    "Item_Identifier STRING,\n",
    "Item_Weight DOUBLE,\n",
    "Item_Fat_Content STRING,\n",
    "Item_Visibility DOUBLE,\n",
    "Item_Type STRING,\n",
    "Item_MRP DOUBLE,\n",
    "Outlet_Identifier STRING,\n",
    "Outlet_Establishment_Year INTEGER,\n",
    "Outlet_Size STRING,\n",
    "Outlet_Location_Type STRING,\n",
    "Outlet_Type STRING,\n",
    "Item_Outlet_Sales DOUBLE\n",
    "'''\n",
    "df = spark.read.format(\"csv\").schema(my_ddl_schema)\\\n",
    "    .option(\"header\", True)\\\n",
    "    .load(\"/FileStore/tables/BigMart_Sales.csv\")\n",
    "df.limit(20).display(2)"
   ]
  },
  {
   "cell_type": "code",
   "execution_count": 0,
   "metadata": {
    "application/vnd.databricks.v1+cell": {
     "cellMetadata": {
      "byteLimit": 2048000,
      "rowLimit": 10000
     },
     "inputWidgets": {},
     "nuid": "a400d410-05e9-496a-b125-c990db828013",
     "showTitle": false,
     "tableResultSettingsMap": {},
     "title": ""
    }
   },
   "outputs": [],
   "source": [
    "from pyspark.sql.types import *\n",
    "from pyspark.sql.functions import *"
   ]
  },
  {
   "cell_type": "code",
   "execution_count": 0,
   "metadata": {
    "application/vnd.databricks.v1+cell": {
     "cellMetadata": {
      "byteLimit": 2048000,
      "rowLimit": 10000
     },
     "inputWidgets": {},
     "nuid": "7cc665f5-97e3-4e60-a5dd-90627e1bc54c",
     "showTitle": false,
     "tableResultSettingsMap": {},
     "title": ""
    }
   },
   "outputs": [
    {
     "output_type": "display_data",
     "data": {
      "text/html": [
       "<style scoped>\n",
       "  .table-result-container {\n",
       "    max-height: 300px;\n",
       "    overflow: auto;\n",
       "  }\n",
       "  table, th, td {\n",
       "    border: 1px solid black;\n",
       "    border-collapse: collapse;\n",
       "  }\n",
       "  th, td {\n",
       "    padding: 5px;\n",
       "  }\n",
       "  th {\n",
       "    text-align: left;\n",
       "  }\n",
       "</style><div class='table-result-container'><table class='table-result'><thead style='background-color: white'><tr><th>Item_Identifier</th><th>Item_Weight</th><th>Item_Fat_Content</th><th>Item_Visibility</th><th>Item_Type</th><th>Item_MRP</th><th>Outlet_Identifier</th><th>Outlet_Establishment_Year</th><th>Outlet_Size</th><th>Outlet_Location_Type</th><th>Outlet_Type</th><th>Item_Outlet_Sales</th></tr></thead><tbody><tr><td>FDA15</td><td>9.3</td><td>Low Fat</td><td>0.016047301</td><td>Dairy</td><td>249.8092</td><td>OUT049</td><td>1999</td><td>Medium</td><td>Tier 1</td><td>Supermarket Type1</td><td>3735.138</td></tr><tr><td>DRC01</td><td>5.92</td><td>Regular</td><td>0.019278216</td><td>Soft Drinks</td><td>48.2692</td><td>OUT018</td><td>2009</td><td>Medium</td><td>Tier 3</td><td>Supermarket Type2</td><td>443.4228</td></tr><tr><td>FDN15</td><td>17.5</td><td>Low Fat</td><td>0.016760075</td><td>Meat</td><td>141.618</td><td>OUT049</td><td>1999</td><td>Medium</td><td>Tier 1</td><td>Supermarket Type1</td><td>2097.27</td></tr><tr><td>FDX07</td><td>19.2</td><td>Regular</td><td>0.0</td><td>Fruits and Vegetables</td><td>182.095</td><td>OUT010</td><td>1998</td><td>null</td><td>Tier 3</td><td>Grocery Store</td><td>732.38</td></tr><tr><td>NCD19</td><td>8.93</td><td>Low Fat</td><td>0.0</td><td>Household</td><td>53.8614</td><td>OUT013</td><td>1987</td><td>High</td><td>Tier 3</td><td>Supermarket Type1</td><td>994.7052</td></tr><tr><td>FDP36</td><td>10.395</td><td>Regular</td><td>0.0</td><td>Baking Goods</td><td>51.4008</td><td>OUT018</td><td>2009</td><td>Medium</td><td>Tier 3</td><td>Supermarket Type2</td><td>556.6088</td></tr><tr><td>FDO10</td><td>13.65</td><td>Regular</td><td>0.012741089</td><td>Snack Foods</td><td>57.6588</td><td>OUT013</td><td>1987</td><td>High</td><td>Tier 3</td><td>Supermarket Type1</td><td>343.5528</td></tr><tr><td>FDP10</td><td>null</td><td>Low Fat</td><td>0.127469857</td><td>Snack Foods</td><td>107.7622</td><td>OUT027</td><td>1985</td><td>Medium</td><td>Tier 3</td><td>Supermarket Type3</td><td>4022.7636</td></tr><tr><td>FDH17</td><td>16.2</td><td>Regular</td><td>0.016687114</td><td>Frozen Foods</td><td>96.9726</td><td>OUT045</td><td>2002</td><td>null</td><td>Tier 2</td><td>Supermarket Type1</td><td>1076.5986</td></tr><tr><td>FDU28</td><td>19.2</td><td>Regular</td><td>0.09444959</td><td>Frozen Foods</td><td>187.8214</td><td>OUT017</td><td>2007</td><td>null</td><td>Tier 2</td><td>Supermarket Type1</td><td>4710.535</td></tr><tr><td>FDY07</td><td>11.8</td><td>Low Fat</td><td>0.0</td><td>Fruits and Vegetables</td><td>45.5402</td><td>OUT049</td><td>1999</td><td>Medium</td><td>Tier 1</td><td>Supermarket Type1</td><td>1516.0266</td></tr><tr><td>FDA03</td><td>18.5</td><td>Regular</td><td>0.045463773</td><td>Dairy</td><td>144.1102</td><td>OUT046</td><td>1997</td><td>Small</td><td>Tier 1</td><td>Supermarket Type1</td><td>2187.153</td></tr><tr><td>FDX32</td><td>15.1</td><td>Regular</td><td>0.1000135</td><td>Fruits and Vegetables</td><td>145.4786</td><td>OUT049</td><td>1999</td><td>Medium</td><td>Tier 1</td><td>Supermarket Type1</td><td>1589.2646</td></tr><tr><td>FDS46</td><td>17.6</td><td>Regular</td><td>0.047257328</td><td>Snack Foods</td><td>119.6782</td><td>OUT046</td><td>1997</td><td>Small</td><td>Tier 1</td><td>Supermarket Type1</td><td>2145.2076</td></tr><tr><td>FDF32</td><td>16.35</td><td>Low Fat</td><td>0.0680243</td><td>Fruits and Vegetables</td><td>196.4426</td><td>OUT013</td><td>1987</td><td>High</td><td>Tier 3</td><td>Supermarket Type1</td><td>1977.426</td></tr><tr><td>FDP49</td><td>9.0</td><td>Regular</td><td>0.069088961</td><td>Breakfast</td><td>56.3614</td><td>OUT046</td><td>1997</td><td>Small</td><td>Tier 1</td><td>Supermarket Type1</td><td>1547.3192</td></tr><tr><td>NCB42</td><td>11.8</td><td>Low Fat</td><td>0.008596051</td><td>Health and Hygiene</td><td>115.3492</td><td>OUT018</td><td>2009</td><td>Medium</td><td>Tier 3</td><td>Supermarket Type2</td><td>1621.8888</td></tr><tr><td>FDP49</td><td>9.0</td><td>Regular</td><td>0.069196376</td><td>Breakfast</td><td>54.3614</td><td>OUT049</td><td>1999</td><td>Medium</td><td>Tier 1</td><td>Supermarket Type1</td><td>718.3982</td></tr><tr><td>DRI11</td><td>null</td><td>Low Fat</td><td>0.034237682</td><td>Hard Drinks</td><td>113.2834</td><td>OUT027</td><td>1985</td><td>Medium</td><td>Tier 3</td><td>Supermarket Type3</td><td>2303.668</td></tr><tr><td>FDU02</td><td>13.35</td><td>Low Fat</td><td>0.10249212</td><td>Dairy</td><td>230.5352</td><td>OUT035</td><td>2004</td><td>Small</td><td>Tier 2</td><td>Supermarket Type1</td><td>2748.4224</td></tr></tbody></table></div>"
      ]
     },
     "metadata": {
      "application/vnd.databricks.v1+output": {
       "addedWidgets": {},
       "aggData": [],
       "aggError": "",
       "aggOverflow": false,
       "aggSchema": [],
       "aggSeriesLimitReached": false,
       "aggType": "",
       "arguments": {},
       "columnCustomDisplayInfos": {},
       "data": [
        [
         "FDA15",
         9.3,
         "Low Fat",
         0.016047301,
         "Dairy",
         249.8092,
         "OUT049",
         1999,
         "Medium",
         "Tier 1",
         "Supermarket Type1",
         3735.138
        ],
        [
         "DRC01",
         5.92,
         "Regular",
         0.019278216,
         "Soft Drinks",
         48.2692,
         "OUT018",
         2009,
         "Medium",
         "Tier 3",
         "Supermarket Type2",
         443.4228
        ],
        [
         "FDN15",
         17.5,
         "Low Fat",
         0.016760075,
         "Meat",
         141.618,
         "OUT049",
         1999,
         "Medium",
         "Tier 1",
         "Supermarket Type1",
         2097.27
        ],
        [
         "FDX07",
         19.2,
         "Regular",
         0.0,
         "Fruits and Vegetables",
         182.095,
         "OUT010",
         1998,
         null,
         "Tier 3",
         "Grocery Store",
         732.38
        ],
        [
         "NCD19",
         8.93,
         "Low Fat",
         0.0,
         "Household",
         53.8614,
         "OUT013",
         1987,
         "High",
         "Tier 3",
         "Supermarket Type1",
         994.7052
        ],
        [
         "FDP36",
         10.395,
         "Regular",
         0.0,
         "Baking Goods",
         51.4008,
         "OUT018",
         2009,
         "Medium",
         "Tier 3",
         "Supermarket Type2",
         556.6088
        ],
        [
         "FDO10",
         13.65,
         "Regular",
         0.012741089,
         "Snack Foods",
         57.6588,
         "OUT013",
         1987,
         "High",
         "Tier 3",
         "Supermarket Type1",
         343.5528
        ],
        [
         "FDP10",
         null,
         "Low Fat",
         0.127469857,
         "Snack Foods",
         107.7622,
         "OUT027",
         1985,
         "Medium",
         "Tier 3",
         "Supermarket Type3",
         4022.7636
        ],
        [
         "FDH17",
         16.2,
         "Regular",
         0.016687114,
         "Frozen Foods",
         96.9726,
         "OUT045",
         2002,
         null,
         "Tier 2",
         "Supermarket Type1",
         1076.5986
        ],
        [
         "FDU28",
         19.2,
         "Regular",
         0.09444959,
         "Frozen Foods",
         187.8214,
         "OUT017",
         2007,
         null,
         "Tier 2",
         "Supermarket Type1",
         4710.535
        ],
        [
         "FDY07",
         11.8,
         "Low Fat",
         0.0,
         "Fruits and Vegetables",
         45.5402,
         "OUT049",
         1999,
         "Medium",
         "Tier 1",
         "Supermarket Type1",
         1516.0266
        ],
        [
         "FDA03",
         18.5,
         "Regular",
         0.045463773,
         "Dairy",
         144.1102,
         "OUT046",
         1997,
         "Small",
         "Tier 1",
         "Supermarket Type1",
         2187.153
        ],
        [
         "FDX32",
         15.1,
         "Regular",
         0.1000135,
         "Fruits and Vegetables",
         145.4786,
         "OUT049",
         1999,
         "Medium",
         "Tier 1",
         "Supermarket Type1",
         1589.2646
        ],
        [
         "FDS46",
         17.6,
         "Regular",
         0.047257328,
         "Snack Foods",
         119.6782,
         "OUT046",
         1997,
         "Small",
         "Tier 1",
         "Supermarket Type1",
         2145.2076
        ],
        [
         "FDF32",
         16.35,
         "Low Fat",
         0.0680243,
         "Fruits and Vegetables",
         196.4426,
         "OUT013",
         1987,
         "High",
         "Tier 3",
         "Supermarket Type1",
         1977.426
        ],
        [
         "FDP49",
         9.0,
         "Regular",
         0.069088961,
         "Breakfast",
         56.3614,
         "OUT046",
         1997,
         "Small",
         "Tier 1",
         "Supermarket Type1",
         1547.3192
        ],
        [
         "NCB42",
         11.8,
         "Low Fat",
         0.008596051,
         "Health and Hygiene",
         115.3492,
         "OUT018",
         2009,
         "Medium",
         "Tier 3",
         "Supermarket Type2",
         1621.8888
        ],
        [
         "FDP49",
         9.0,
         "Regular",
         0.069196376,
         "Breakfast",
         54.3614,
         "OUT049",
         1999,
         "Medium",
         "Tier 1",
         "Supermarket Type1",
         718.3982
        ],
        [
         "DRI11",
         null,
         "Low Fat",
         0.034237682,
         "Hard Drinks",
         113.2834,
         "OUT027",
         1985,
         "Medium",
         "Tier 3",
         "Supermarket Type3",
         2303.668
        ],
        [
         "FDU02",
         13.35,
         "Low Fat",
         0.10249212,
         "Dairy",
         230.5352,
         "OUT035",
         2004,
         "Small",
         "Tier 2",
         "Supermarket Type1",
         2748.4224
        ]
       ],
       "datasetInfos": [],
       "dbfsResultPath": null,
       "isJsonSchema": true,
       "metadata": {},
       "overflow": false,
       "plotOptions": {
        "customPlotOptions": {},
        "displayType": "table",
        "pivotAggregation": null,
        "pivotColumns": null,
        "xColumns": null,
        "yColumns": null
       },
       "removedWidgets": [],
       "schema": [
        {
         "metadata": "{}",
         "name": "Item_Identifier",
         "type": "\"string\""
        },
        {
         "metadata": "{}",
         "name": "Item_Weight",
         "type": "\"double\""
        },
        {
         "metadata": "{}",
         "name": "Item_Fat_Content",
         "type": "\"string\""
        },
        {
         "metadata": "{}",
         "name": "Item_Visibility",
         "type": "\"double\""
        },
        {
         "metadata": "{}",
         "name": "Item_Type",
         "type": "\"string\""
        },
        {
         "metadata": "{}",
         "name": "Item_MRP",
         "type": "\"double\""
        },
        {
         "metadata": "{}",
         "name": "Outlet_Identifier",
         "type": "\"string\""
        },
        {
         "metadata": "{}",
         "name": "Outlet_Establishment_Year",
         "type": "\"integer\""
        },
        {
         "metadata": "{}",
         "name": "Outlet_Size",
         "type": "\"string\""
        },
        {
         "metadata": "{}",
         "name": "Outlet_Location_Type",
         "type": "\"string\""
        },
        {
         "metadata": "{}",
         "name": "Outlet_Type",
         "type": "\"string\""
        },
        {
         "metadata": "{}",
         "name": "Item_Outlet_Sales",
         "type": "\"double\""
        }
       ],
       "type": "table"
      }
     },
     "output_type": "display_data"
    }
   ],
   "source": [
    "# StructType\n",
    "struc_schema = StructType(\n",
    "    [\n",
    "        StructField(\"Item_Identifier\", StringType(), True),\n",
    "        StructField(\"Item_Weight\", DoubleType(), True),\n",
    "        StructField(\"Item_Fat_Content\",StringType(),True),\n",
    "        StructField(\"Item_Visibility\",DoubleType(),True),\n",
    "        StructField(\"Item_Type\",StringType(),True),\n",
    "        StructField(\"Item_MRP\", DoubleType(),True),\n",
    "        StructField(\"Outlet_Identifier\",StringType(),True),\n",
    "        StructField(\"Outlet_Establishment_Year\",IntegerType(),True),\n",
    "        StructField(\"Outlet_Size\",StringType(),True),\n",
    "        StructField(\"Outlet_Location_Type\",StringType(),True),\n",
    "        StructField(\"Outlet_Type\",StringType(),True),\n",
    "        StructField(\"Item_Outlet_Sales\",DoubleType(),True)\n",
    "    ]\n",
    ")\n",
    "df = spark.read.format('csv')\\\n",
    "    .schema(struc_schema)\\\n",
    "        .option(\"header\",True)\\\n",
    "            .load(\"/FileStore/tables/BigMart_Sales.csv\")\n",
    "df.limit(20).display()"
   ]
  },
  {
   "cell_type": "markdown",
   "metadata": {
    "application/vnd.databricks.v1+cell": {
     "cellMetadata": {
      "byteLimit": 2048000,
      "rowLimit": 10000
     },
     "inputWidgets": {},
     "nuid": "47196b0f-e0fe-447e-a41a-96112d5852f6",
     "showTitle": false,
     "tableResultSettingsMap": {},
     "title": ""
    }
   },
   "source": [
    "## Transformations"
   ]
  },
  {
   "cell_type": "code",
   "execution_count": 0,
   "metadata": {
    "application/vnd.databricks.v1+cell": {
     "cellMetadata": {
      "byteLimit": 2048000,
      "rowLimit": 10000
     },
     "inputWidgets": {},
     "nuid": "b4826f5f-5750-4d84-819b-9cb4c8cd17f2",
     "showTitle": false,
     "tableResultSettingsMap": {},
     "title": ""
    }
   },
   "outputs": [
    {
     "output_type": "stream",
     "name": "stdout",
     "output_type": "stream",
     "text": [
      "+-----------------+-----------------+--------------------+\n|Item_Outlet_Sales|      Outlet_Type|Outlet_Location_Type|\n+-----------------+-----------------+--------------------+\n|         3735.138|Supermarket Type1|              Tier 1|\n|         443.4228|Supermarket Type2|              Tier 3|\n|          2097.27|Supermarket Type1|              Tier 1|\n+-----------------+-----------------+--------------------+\nonly showing top 3 rows\n\n"
     ]
    }
   ],
   "source": [
    "df.select(col(\"Item_Outlet_Sales\"),col(\"Outlet_Type\"),col(\"Outlet_Location_Type\")).show(3)"
   ]
  },
  {
   "cell_type": "code",
   "execution_count": 0,
   "metadata": {
    "application/vnd.databricks.v1+cell": {
     "cellMetadata": {
      "byteLimit": 2048000,
      "rowLimit": 10000
     },
     "inputWidgets": {},
     "nuid": "fed03982-9592-4f88-9e29-1d1d1fa27e94",
     "showTitle": false,
     "tableResultSettingsMap": {},
     "title": ""
    }
   },
   "outputs": [
    {
     "output_type": "stream",
     "name": "stdout",
     "output_type": "stream",
     "text": [
      "+--------+-----------------+\n|     IOS|      Outlet_Type|\n+--------+-----------------+\n|3735.138|Supermarket Type1|\n|443.4228|Supermarket Type2|\n+--------+-----------------+\nonly showing top 2 rows\n\n"
     ]
    }
   ],
   "source": [
    "df.select(col(\"Item_Outlet_Sales\").alias(\"IOS\"), col(\"Outlet_Type\")).show(2)"
   ]
  },
  {
   "cell_type": "code",
   "execution_count": 0,
   "metadata": {
    "application/vnd.databricks.v1+cell": {
     "cellMetadata": {
      "byteLimit": 2048000,
      "rowLimit": 10000
     },
     "inputWidgets": {},
     "nuid": "0a76e2ed-b051-47e6-b043-61a81c52f9cd",
     "showTitle": false,
     "tableResultSettingsMap": {},
     "title": ""
    }
   },
   "outputs": [
    {
     "output_type": "display_data",
     "data": {
      "text/html": [
       "<style scoped>\n",
       "  .table-result-container {\n",
       "    max-height: 300px;\n",
       "    overflow: auto;\n",
       "  }\n",
       "  table, th, td {\n",
       "    border: 1px solid black;\n",
       "    border-collapse: collapse;\n",
       "  }\n",
       "  th, td {\n",
       "    padding: 5px;\n",
       "  }\n",
       "  th {\n",
       "    text-align: left;\n",
       "  }\n",
       "</style><div class='table-result-container'><table class='table-result'><thead style='background-color: white'><tr><th>Item_Identifier</th><th>Item_Weight</th><th>Item_Fat_Content</th><th>Item_Visibility</th><th>Item_Type</th><th>Item_MRP</th><th>Outlet_Identifier</th><th>Outlet_Establishment_Year</th><th>Outlet_Size</th><th>Outlet_Location_Type</th><th>Outlet_Type</th><th>Item_Outlet_Sales</th></tr></thead><tbody><tr><td>FDA15</td><td>9.3</td><td>Low Fat</td><td>0.016047301</td><td>Dairy</td><td>249.8092</td><td>OUT049</td><td>1999</td><td>Medium</td><td>Tier 1</td><td>Supermarket Type1</td><td>3735.138</td></tr><tr><td>FDN15</td><td>17.5</td><td>Low Fat</td><td>0.016760075</td><td>Meat</td><td>141.618</td><td>OUT049</td><td>1999</td><td>Medium</td><td>Tier 1</td><td>Supermarket Type1</td><td>2097.27</td></tr><tr><td>NCD19</td><td>8.93</td><td>Low Fat</td><td>0.0</td><td>Household</td><td>53.8614</td><td>OUT013</td><td>1987</td><td>High</td><td>Tier 3</td><td>Supermarket Type1</td><td>994.7052</td></tr><tr><td>FDP10</td><td>null</td><td>Low Fat</td><td>0.127469857</td><td>Snack Foods</td><td>107.7622</td><td>OUT027</td><td>1985</td><td>Medium</td><td>Tier 3</td><td>Supermarket Type3</td><td>4022.7636</td></tr><tr><td>FDY07</td><td>11.8</td><td>Low Fat</td><td>0.0</td><td>Fruits and Vegetables</td><td>45.5402</td><td>OUT049</td><td>1999</td><td>Medium</td><td>Tier 1</td><td>Supermarket Type1</td><td>1516.0266</td></tr><tr><td>FDF32</td><td>16.35</td><td>Low Fat</td><td>0.0680243</td><td>Fruits and Vegetables</td><td>196.4426</td><td>OUT013</td><td>1987</td><td>High</td><td>Tier 3</td><td>Supermarket Type1</td><td>1977.426</td></tr><tr><td>NCB42</td><td>11.8</td><td>Low Fat</td><td>0.008596051</td><td>Health and Hygiene</td><td>115.3492</td><td>OUT018</td><td>2009</td><td>Medium</td><td>Tier 3</td><td>Supermarket Type2</td><td>1621.8888</td></tr><tr><td>DRI11</td><td>null</td><td>Low Fat</td><td>0.034237682</td><td>Hard Drinks</td><td>113.2834</td><td>OUT027</td><td>1985</td><td>Medium</td><td>Tier 3</td><td>Supermarket Type3</td><td>2303.668</td></tr><tr><td>FDU02</td><td>13.35</td><td>Low Fat</td><td>0.10249212</td><td>Dairy</td><td>230.5352</td><td>OUT035</td><td>2004</td><td>Small</td><td>Tier 2</td><td>Supermarket Type1</td><td>2748.4224</td></tr><tr><td>NCB30</td><td>14.6</td><td>Low Fat</td><td>0.025698134</td><td>Household</td><td>196.5084</td><td>OUT035</td><td>2004</td><td>Small</td><td>Tier 2</td><td>Supermarket Type1</td><td>1587.2672</td></tr><tr><td>FDC37</td><td>null</td><td>Low Fat</td><td>0.057556998</td><td>Baking Goods</td><td>107.6938</td><td>OUT019</td><td>1985</td><td>Small</td><td>Tier 1</td><td>Grocery Store</td><td>214.3876</td></tr><tr><td>NCD06</td><td>13.0</td><td>Low Fat</td><td>0.099887103</td><td>Household</td><td>45.906</td><td>OUT017</td><td>2007</td><td>null</td><td>Tier 2</td><td>Supermarket Type1</td><td>838.908</td></tr><tr><td>FDV38</td><td>19.25</td><td>Low Fat</td><td>0.170348551</td><td>Dairy</td><td>55.7956</td><td>OUT010</td><td>1998</td><td>null</td><td>Tier 3</td><td>Grocery Store</td><td>163.7868</td></tr><tr><td>NCS17</td><td>18.6</td><td>Low Fat</td><td>0.080829372</td><td>Health and Hygiene</td><td>96.4436</td><td>OUT018</td><td>2009</td><td>Medium</td><td>Tier 3</td><td>Supermarket Type2</td><td>2741.7644</td></tr><tr><td>FDP33</td><td>18.7</td><td>Low Fat</td><td>0.0</td><td>Snack Foods</td><td>256.6672</td><td>OUT018</td><td>2009</td><td>Medium</td><td>Tier 3</td><td>Supermarket Type2</td><td>3068.0064</td></tr><tr><td>FDO23</td><td>17.85</td><td>Low Fat</td><td>0.0</td><td>Breads</td><td>93.1436</td><td>OUT045</td><td>2002</td><td>null</td><td>Tier 2</td><td>Supermarket Type1</td><td>2174.5028</td></tr><tr><td>DRH01</td><td>17.5</td><td>Low Fat</td><td>0.097904029</td><td>Soft Drinks</td><td>174.8738</td><td>OUT046</td><td>1997</td><td>Small</td><td>Tier 1</td><td>Supermarket Type1</td><td>2085.2856</td></tr><tr><td>NCX29</td><td>10.0</td><td>Low Fat</td><td>0.089291137</td><td>Health and Hygiene</td><td>146.7102</td><td>OUT049</td><td>1999</td><td>Medium</td><td>Tier 1</td><td>Supermarket Type1</td><td>3791.0652</td></tr><tr><td>FDB34</td><td>null</td><td>Low Fat</td><td>0.026480954</td><td>Snack Foods</td><td>87.6198</td><td>OUT027</td><td>1985</td><td>Medium</td><td>Tier 3</td><td>Supermarket Type3</td><td>2180.495</td></tr><tr><td>FDU02</td><td>13.35</td><td>Low Fat</td><td>0.102511504</td><td>Dairy</td><td>230.6352</td><td>OUT046</td><td>1997</td><td>Small</td><td>Tier 1</td><td>Supermarket Type1</td><td>3435.528</td></tr></tbody></table></div>"
      ]
     },
     "metadata": {
      "application/vnd.databricks.v1+output": {
       "addedWidgets": {},
       "aggData": [],
       "aggError": "",
       "aggOverflow": false,
       "aggSchema": [],
       "aggSeriesLimitReached": false,
       "aggType": "",
       "arguments": {},
       "columnCustomDisplayInfos": {},
       "data": [
        [
         "FDA15",
         9.3,
         "Low Fat",
         0.016047301,
         "Dairy",
         249.8092,
         "OUT049",
         1999,
         "Medium",
         "Tier 1",
         "Supermarket Type1",
         3735.138
        ],
        [
         "FDN15",
         17.5,
         "Low Fat",
         0.016760075,
         "Meat",
         141.618,
         "OUT049",
         1999,
         "Medium",
         "Tier 1",
         "Supermarket Type1",
         2097.27
        ],
        [
         "NCD19",
         8.93,
         "Low Fat",
         0.0,
         "Household",
         53.8614,
         "OUT013",
         1987,
         "High",
         "Tier 3",
         "Supermarket Type1",
         994.7052
        ],
        [
         "FDP10",
         null,
         "Low Fat",
         0.127469857,
         "Snack Foods",
         107.7622,
         "OUT027",
         1985,
         "Medium",
         "Tier 3",
         "Supermarket Type3",
         4022.7636
        ],
        [
         "FDY07",
         11.8,
         "Low Fat",
         0.0,
         "Fruits and Vegetables",
         45.5402,
         "OUT049",
         1999,
         "Medium",
         "Tier 1",
         "Supermarket Type1",
         1516.0266
        ],
        [
         "FDF32",
         16.35,
         "Low Fat",
         0.0680243,
         "Fruits and Vegetables",
         196.4426,
         "OUT013",
         1987,
         "High",
         "Tier 3",
         "Supermarket Type1",
         1977.426
        ],
        [
         "NCB42",
         11.8,
         "Low Fat",
         0.008596051,
         "Health and Hygiene",
         115.3492,
         "OUT018",
         2009,
         "Medium",
         "Tier 3",
         "Supermarket Type2",
         1621.8888
        ],
        [
         "DRI11",
         null,
         "Low Fat",
         0.034237682,
         "Hard Drinks",
         113.2834,
         "OUT027",
         1985,
         "Medium",
         "Tier 3",
         "Supermarket Type3",
         2303.668
        ],
        [
         "FDU02",
         13.35,
         "Low Fat",
         0.10249212,
         "Dairy",
         230.5352,
         "OUT035",
         2004,
         "Small",
         "Tier 2",
         "Supermarket Type1",
         2748.4224
        ],
        [
         "NCB30",
         14.6,
         "Low Fat",
         0.025698134,
         "Household",
         196.5084,
         "OUT035",
         2004,
         "Small",
         "Tier 2",
         "Supermarket Type1",
         1587.2672
        ],
        [
         "FDC37",
         null,
         "Low Fat",
         0.057556998,
         "Baking Goods",
         107.6938,
         "OUT019",
         1985,
         "Small",
         "Tier 1",
         "Grocery Store",
         214.3876
        ],
        [
         "NCD06",
         13.0,
         "Low Fat",
         0.099887103,
         "Household",
         45.906,
         "OUT017",
         2007,
         null,
         "Tier 2",
         "Supermarket Type1",
         838.908
        ],
        [
         "FDV38",
         19.25,
         "Low Fat",
         0.170348551,
         "Dairy",
         55.7956,
         "OUT010",
         1998,
         null,
         "Tier 3",
         "Grocery Store",
         163.7868
        ],
        [
         "NCS17",
         18.6,
         "Low Fat",
         0.080829372,
         "Health and Hygiene",
         96.4436,
         "OUT018",
         2009,
         "Medium",
         "Tier 3",
         "Supermarket Type2",
         2741.7644
        ],
        [
         "FDP33",
         18.7,
         "Low Fat",
         0.0,
         "Snack Foods",
         256.6672,
         "OUT018",
         2009,
         "Medium",
         "Tier 3",
         "Supermarket Type2",
         3068.0064
        ],
        [
         "FDO23",
         17.85,
         "Low Fat",
         0.0,
         "Breads",
         93.1436,
         "OUT045",
         2002,
         null,
         "Tier 2",
         "Supermarket Type1",
         2174.5028
        ],
        [
         "DRH01",
         17.5,
         "Low Fat",
         0.097904029,
         "Soft Drinks",
         174.8738,
         "OUT046",
         1997,
         "Small",
         "Tier 1",
         "Supermarket Type1",
         2085.2856
        ],
        [
         "NCX29",
         10.0,
         "Low Fat",
         0.089291137,
         "Health and Hygiene",
         146.7102,
         "OUT049",
         1999,
         "Medium",
         "Tier 1",
         "Supermarket Type1",
         3791.0652
        ],
        [
         "FDB34",
         null,
         "Low Fat",
         0.026480954,
         "Snack Foods",
         87.6198,
         "OUT027",
         1985,
         "Medium",
         "Tier 3",
         "Supermarket Type3",
         2180.495
        ],
        [
         "FDU02",
         13.35,
         "Low Fat",
         0.102511504,
         "Dairy",
         230.6352,
         "OUT046",
         1997,
         "Small",
         "Tier 1",
         "Supermarket Type1",
         3435.528
        ]
       ],
       "datasetInfos": [],
       "dbfsResultPath": null,
       "isJsonSchema": true,
       "metadata": {},
       "overflow": false,
       "plotOptions": {
        "customPlotOptions": {},
        "displayType": "table",
        "pivotAggregation": null,
        "pivotColumns": null,
        "xColumns": null,
        "yColumns": null
       },
       "removedWidgets": [],
       "schema": [
        {
         "metadata": "{}",
         "name": "Item_Identifier",
         "type": "\"string\""
        },
        {
         "metadata": "{}",
         "name": "Item_Weight",
         "type": "\"double\""
        },
        {
         "metadata": "{}",
         "name": "Item_Fat_Content",
         "type": "\"string\""
        },
        {
         "metadata": "{}",
         "name": "Item_Visibility",
         "type": "\"double\""
        },
        {
         "metadata": "{}",
         "name": "Item_Type",
         "type": "\"string\""
        },
        {
         "metadata": "{}",
         "name": "Item_MRP",
         "type": "\"double\""
        },
        {
         "metadata": "{}",
         "name": "Outlet_Identifier",
         "type": "\"string\""
        },
        {
         "metadata": "{}",
         "name": "Outlet_Establishment_Year",
         "type": "\"integer\""
        },
        {
         "metadata": "{}",
         "name": "Outlet_Size",
         "type": "\"string\""
        },
        {
         "metadata": "{}",
         "name": "Outlet_Location_Type",
         "type": "\"string\""
        },
        {
         "metadata": "{}",
         "name": "Outlet_Type",
         "type": "\"string\""
        },
        {
         "metadata": "{}",
         "name": "Item_Outlet_Sales",
         "type": "\"double\""
        }
       ],
       "type": "table"
      }
     },
     "output_type": "display_data"
    }
   ],
   "source": [
    "df.filter(col(\"Item_Fat_Content\")==\"Low Fat\").limit(20).display()"
   ]
  },
  {
   "cell_type": "code",
   "execution_count": 0,
   "metadata": {
    "application/vnd.databricks.v1+cell": {
     "cellMetadata": {
      "byteLimit": 2048000,
      "rowLimit": 10000
     },
     "inputWidgets": {},
     "nuid": "813a476f-2e10-4de9-8e35-38f0d694823d",
     "showTitle": false,
     "tableResultSettingsMap": {},
     "title": ""
    }
   },
   "outputs": [
    {
     "output_type": "display_data",
     "data": {
      "text/html": [
       "<style scoped>\n",
       "  .table-result-container {\n",
       "    max-height: 300px;\n",
       "    overflow: auto;\n",
       "  }\n",
       "  table, th, td {\n",
       "    border: 1px solid black;\n",
       "    border-collapse: collapse;\n",
       "  }\n",
       "  th, td {\n",
       "    padding: 5px;\n",
       "  }\n",
       "  th {\n",
       "    text-align: left;\n",
       "  }\n",
       "</style><div class='table-result-container'><table class='table-result'><thead style='background-color: white'><tr><th>Item_Identifier</th><th>Item_Weight</th><th>Item_Fat_Content</th><th>Item_Visibility</th><th>Item_Type</th><th>Item_MRP</th><th>Outlet_Identifier</th><th>Outlet_Establishment_Year</th><th>Outlet_Size</th><th>Outlet_Location_Type</th><th>Outlet_Type</th><th>Item_Outlet_Sales</th></tr></thead><tbody><tr><td>FDU02</td><td>13.35</td><td>Low Fat</td><td>0.10249212</td><td>Dairy</td><td>230.5352</td><td>OUT035</td><td>2004</td><td>Small</td><td>Tier 2</td><td>Supermarket Type1</td><td>2748.4224</td></tr><tr><td>FDN22</td><td>18.85</td><td>Regular</td><td>0.138190277</td><td>Snack Foods</td><td>250.8724</td><td>OUT013</td><td>1987</td><td>High</td><td>Tier 3</td><td>Supermarket Type1</td><td>3775.086</td></tr><tr><td>FDP33</td><td>18.7</td><td>Low Fat</td><td>0.0</td><td>Snack Foods</td><td>256.6672</td><td>OUT018</td><td>2009</td><td>Medium</td><td>Tier 3</td><td>Supermarket Type2</td><td>3068.0064</td></tr><tr><td>FDU02</td><td>13.35</td><td>Low Fat</td><td>0.102511504</td><td>Dairy</td><td>230.6352</td><td>OUT046</td><td>1997</td><td>Small</td><td>Tier 1</td><td>Supermarket Type1</td><td>3435.528</td></tr><tr><td>FDC02</td><td>21.35</td><td>Low Fat</td><td>0.069102831</td><td>Canned</td><td>259.9278</td><td>OUT018</td><td>2009</td><td>Medium</td><td>Tier 3</td><td>Supermarket Type2</td><td>6768.5228</td></tr><tr><td>FDF41</td><td>12.15</td><td>Low Fat</td><td>0.131383762</td><td>Frozen Foods</td><td>246.046</td><td>OUT049</td><td>1999</td><td>Medium</td><td>Tier 1</td><td>Supermarket Type1</td><td>1231.73</td></tr><tr><td>FDP09</td><td>19.75</td><td>Low Fat</td><td>0.034027909</td><td>Snack Foods</td><td>212.0902</td><td>OUT018</td><td>2009</td><td>Medium</td><td>Tier 3</td><td>Supermarket Type2</td><td>3185.853</td></tr><tr><td>FDD03</td><td>13.3</td><td>Low Fat</td><td>0.079806266</td><td>Dairy</td><td>232.53</td><td>OUT046</td><td>1997</td><td>Small</td><td>Tier 1</td><td>Supermarket Type1</td><td>699.09</td></tr><tr><td>FDY58</td><td>11.65</td><td>Low Fat</td><td>0.040081193</td><td>Snack Foods</td><td>227.0694</td><td>OUT018</td><td>2009</td><td>Medium</td><td>Tier 3</td><td>Supermarket Type2</td><td>1141.847</td></tr><tr><td>FDP16</td><td>18.6</td><td>Low Fat</td><td>0.039355947</td><td>Frozen Foods</td><td>246.3802</td><td>OUT049</td><td>1999</td><td>Medium</td><td>Tier 1</td><td>Supermarket Type1</td><td>7370.406</td></tr><tr><td>FDB11</td><td>16.0</td><td>Low Fat</td><td>0.060836524</td><td>Starchy Foods</td><td>226.8404</td><td>OUT035</td><td>2004</td><td>Small</td><td>Tier 2</td><td>Supermarket Type1</td><td>6301.1312</td></tr><tr><td>NCI18</td><td>18.35</td><td>Low Fat</td><td>0.014081156</td><td>Household</td><td>223.5746</td><td>OUT018</td><td>2009</td><td>Medium</td><td>Tier 3</td><td>Supermarket Type2</td><td>3589.9936</td></tr><tr><td>DRL01</td><td>19.5</td><td>Regular</td><td>0.077608838</td><td>Soft Drinks</td><td>233.4958</td><td>OUT017</td><td>2007</td><td>null</td><td>Tier 2</td><td>Supermarket Type1</td><td>5375.0034</td></tr><tr><td>FDP25</td><td>15.2</td><td>Low Fat</td><td>0.021327477</td><td>Canned</td><td>216.8824</td><td>OUT017</td><td>2007</td><td>null</td><td>Tier 2</td><td>Supermarket Type1</td><td>2838.9712</td></tr><tr><td>NCN55</td><td>14.6</td><td>Low Fat</td><td>0.059582996</td><td>Others</td><td>238.8538</td><td>OUT049</td><td>1999</td><td>Medium</td><td>Tier 1</td><td>Supermarket Type1</td><td>6008.845</td></tr><tr><td>FDI19</td><td>15.1</td><td>Low Fat</td><td>0.052339069</td><td>Meat</td><td>242.7512</td><td>OUT046</td><td>1997</td><td>Small</td><td>Tier 1</td><td>Supermarket Type1</td><td>4119.9704</td></tr><tr><td>DRC27</td><td>13.8</td><td>Low Fat</td><td>0.058091482</td><td>Dairy</td><td>245.1802</td><td>OUT035</td><td>2004</td><td>Small</td><td>Tier 2</td><td>Supermarket Type1</td><td>5650.6446</td></tr><tr><td>FDP28</td><td>13.65</td><td>Regular</td><td>0.134975628</td><td>Frozen Foods</td><td>260.0936</td><td>OUT010</td><td>1998</td><td>null</td><td>Tier 3</td><td>Grocery Store</td><td>260.9936</td></tr><tr><td>NCR38</td><td>17.25</td><td>Low Fat</td><td>0.113748685</td><td>Household</td><td>251.3724</td><td>OUT045</td><td>2002</td><td>null</td><td>Tier 2</td><td>Supermarket Type1</td><td>6795.1548</td></tr><tr><td>FDY56</td><td>16.35</td><td>Regular</td><td>0.062764429</td><td>Fruits and Vegetables</td><td>227.6062</td><td>OUT017</td><td>2007</td><td>null</td><td>Tier 2</td><td>Supermarket Type1</td><td>7222.5984</td></tr></tbody></table></div>"
      ]
     },
     "metadata": {
      "application/vnd.databricks.v1+output": {
       "addedWidgets": {},
       "aggData": [],
       "aggError": "",
       "aggOverflow": false,
       "aggSchema": [],
       "aggSeriesLimitReached": false,
       "aggType": "",
       "arguments": {},
       "columnCustomDisplayInfos": {},
       "data": [
        [
         "FDU02",
         13.35,
         "Low Fat",
         0.10249212,
         "Dairy",
         230.5352,
         "OUT035",
         2004,
         "Small",
         "Tier 2",
         "Supermarket Type1",
         2748.4224
        ],
        [
         "FDN22",
         18.85,
         "Regular",
         0.138190277,
         "Snack Foods",
         250.8724,
         "OUT013",
         1987,
         "High",
         "Tier 3",
         "Supermarket Type1",
         3775.086
        ],
        [
         "FDP33",
         18.7,
         "Low Fat",
         0.0,
         "Snack Foods",
         256.6672,
         "OUT018",
         2009,
         "Medium",
         "Tier 3",
         "Supermarket Type2",
         3068.0064
        ],
        [
         "FDU02",
         13.35,
         "Low Fat",
         0.102511504,
         "Dairy",
         230.6352,
         "OUT046",
         1997,
         "Small",
         "Tier 1",
         "Supermarket Type1",
         3435.528
        ],
        [
         "FDC02",
         21.35,
         "Low Fat",
         0.069102831,
         "Canned",
         259.9278,
         "OUT018",
         2009,
         "Medium",
         "Tier 3",
         "Supermarket Type2",
         6768.5228
        ],
        [
         "FDF41",
         12.15,
         "Low Fat",
         0.131383762,
         "Frozen Foods",
         246.046,
         "OUT049",
         1999,
         "Medium",
         "Tier 1",
         "Supermarket Type1",
         1231.73
        ],
        [
         "FDP09",
         19.75,
         "Low Fat",
         0.034027909,
         "Snack Foods",
         212.0902,
         "OUT018",
         2009,
         "Medium",
         "Tier 3",
         "Supermarket Type2",
         3185.853
        ],
        [
         "FDD03",
         13.3,
         "Low Fat",
         0.079806266,
         "Dairy",
         232.53,
         "OUT046",
         1997,
         "Small",
         "Tier 1",
         "Supermarket Type1",
         699.09
        ],
        [
         "FDY58",
         11.65,
         "Low Fat",
         0.040081193,
         "Snack Foods",
         227.0694,
         "OUT018",
         2009,
         "Medium",
         "Tier 3",
         "Supermarket Type2",
         1141.847
        ],
        [
         "FDP16",
         18.6,
         "Low Fat",
         0.039355947,
         "Frozen Foods",
         246.3802,
         "OUT049",
         1999,
         "Medium",
         "Tier 1",
         "Supermarket Type1",
         7370.406
        ],
        [
         "FDB11",
         16.0,
         "Low Fat",
         0.060836524,
         "Starchy Foods",
         226.8404,
         "OUT035",
         2004,
         "Small",
         "Tier 2",
         "Supermarket Type1",
         6301.1312
        ],
        [
         "NCI18",
         18.35,
         "Low Fat",
         0.014081156,
         "Household",
         223.5746,
         "OUT018",
         2009,
         "Medium",
         "Tier 3",
         "Supermarket Type2",
         3589.9936
        ],
        [
         "DRL01",
         19.5,
         "Regular",
         0.077608838,
         "Soft Drinks",
         233.4958,
         "OUT017",
         2007,
         null,
         "Tier 2",
         "Supermarket Type1",
         5375.0034
        ],
        [
         "FDP25",
         15.2,
         "Low Fat",
         0.021327477,
         "Canned",
         216.8824,
         "OUT017",
         2007,
         null,
         "Tier 2",
         "Supermarket Type1",
         2838.9712
        ],
        [
         "NCN55",
         14.6,
         "Low Fat",
         0.059582996,
         "Others",
         238.8538,
         "OUT049",
         1999,
         "Medium",
         "Tier 1",
         "Supermarket Type1",
         6008.845
        ],
        [
         "FDI19",
         15.1,
         "Low Fat",
         0.052339069,
         "Meat",
         242.7512,
         "OUT046",
         1997,
         "Small",
         "Tier 1",
         "Supermarket Type1",
         4119.9704
        ],
        [
         "DRC27",
         13.8,
         "Low Fat",
         0.058091482,
         "Dairy",
         245.1802,
         "OUT035",
         2004,
         "Small",
         "Tier 2",
         "Supermarket Type1",
         5650.6446
        ],
        [
         "FDP28",
         13.65,
         "Regular",
         0.134975628,
         "Frozen Foods",
         260.0936,
         "OUT010",
         1998,
         null,
         "Tier 3",
         "Grocery Store",
         260.9936
        ],
        [
         "NCR38",
         17.25,
         "Low Fat",
         0.113748685,
         "Household",
         251.3724,
         "OUT045",
         2002,
         null,
         "Tier 2",
         "Supermarket Type1",
         6795.1548
        ],
        [
         "FDY56",
         16.35,
         "Regular",
         0.062764429,
         "Fruits and Vegetables",
         227.6062,
         "OUT017",
         2007,
         null,
         "Tier 2",
         "Supermarket Type1",
         7222.5984
        ]
       ],
       "datasetInfos": [],
       "dbfsResultPath": null,
       "isJsonSchema": true,
       "metadata": {},
       "overflow": false,
       "plotOptions": {
        "customPlotOptions": {},
        "displayType": "table",
        "pivotAggregation": null,
        "pivotColumns": null,
        "xColumns": null,
        "yColumns": null
       },
       "removedWidgets": [],
       "schema": [
        {
         "metadata": "{}",
         "name": "Item_Identifier",
         "type": "\"string\""
        },
        {
         "metadata": "{}",
         "name": "Item_Weight",
         "type": "\"double\""
        },
        {
         "metadata": "{}",
         "name": "Item_Fat_Content",
         "type": "\"string\""
        },
        {
         "metadata": "{}",
         "name": "Item_Visibility",
         "type": "\"double\""
        },
        {
         "metadata": "{}",
         "name": "Item_Type",
         "type": "\"string\""
        },
        {
         "metadata": "{}",
         "name": "Item_MRP",
         "type": "\"double\""
        },
        {
         "metadata": "{}",
         "name": "Outlet_Identifier",
         "type": "\"string\""
        },
        {
         "metadata": "{}",
         "name": "Outlet_Establishment_Year",
         "type": "\"integer\""
        },
        {
         "metadata": "{}",
         "name": "Outlet_Size",
         "type": "\"string\""
        },
        {
         "metadata": "{}",
         "name": "Outlet_Location_Type",
         "type": "\"string\""
        },
        {
         "metadata": "{}",
         "name": "Outlet_Type",
         "type": "\"string\""
        },
        {
         "metadata": "{}",
         "name": "Item_Outlet_Sales",
         "type": "\"double\""
        }
       ],
       "type": "table"
      }
     },
     "output_type": "display_data"
    }
   ],
   "source": [
    "df.filter((col(\"Item_Weight\")>10) & (col(\"Item_MRP\")>200)).limit(20).display()"
   ]
  },
  {
   "cell_type": "code",
   "execution_count": 0,
   "metadata": {
    "application/vnd.databricks.v1+cell": {
     "cellMetadata": {
      "byteLimit": 2048000,
      "rowLimit": 10000
     },
     "inputWidgets": {},
     "nuid": "099feacf-bb91-43b3-8175-020ef0cbe25c",
     "showTitle": false,
     "tableResultSettingsMap": {},
     "title": ""
    }
   },
   "outputs": [
    {
     "output_type": "display_data",
     "data": {
      "text/html": [
       "<style scoped>\n",
       "  .table-result-container {\n",
       "    max-height: 300px;\n",
       "    overflow: auto;\n",
       "  }\n",
       "  table, th, td {\n",
       "    border: 1px solid black;\n",
       "    border-collapse: collapse;\n",
       "  }\n",
       "  th, td {\n",
       "    padding: 5px;\n",
       "  }\n",
       "  th {\n",
       "    text-align: left;\n",
       "  }\n",
       "</style><div class='table-result-container'><table class='table-result'><thead style='background-color: white'><tr><th>Item_Identifier</th><th>Item_Weight</th><th>Item_Fat_Content</th><th>Item_Visibility</th><th>Item_Type</th><th>Item_MRP</th><th>Outlet_Identifier</th><th>Outlet_Establishment_Year</th><th>Outlet_Size</th><th>Outlet_Location_Type</th><th>Outlet_Type</th><th>Item_Outlet_Sales</th></tr></thead><tbody><tr><td>FDV49</td><td>10.0</td><td>Low Fat</td><td>0.025879577</td><td>Canned</td><td>265.2226</td><td>OUT045</td><td>2002</td><td>null</td><td>Tier 2</td><td>Supermarket Type1</td><td>5815.0972</td></tr><tr><td>FDV27</td><td>7.97</td><td>Regular</td><td>0.040071131</td><td>Meat</td><td>87.3514</td><td>OUT045</td><td>2002</td><td>null</td><td>Tier 2</td><td>Supermarket Type1</td><td>1062.6168</td></tr><tr><td>FDG02</td><td>7.855</td><td>Low Fat</td><td>0.011324862</td><td>Canned</td><td>189.6188</td><td>OUT017</td><td>2007</td><td>null</td><td>Tier 2</td><td>Supermarket Type1</td><td>2285.0256</td></tr><tr><td>FDV25</td><td>5.905</td><td>Low Fat</td><td>0.0</td><td>Canned</td><td>222.5456</td><td>OUT045</td><td>2002</td><td>null</td><td>Tier 2</td><td>Supermarket Type1</td><td>5305.0944</td></tr><tr><td>FDB14</td><td>20.25</td><td>Regular</td><td>0.171938781</td><td>Canned</td><td>92.512</td><td>OUT010</td><td>1998</td><td>null</td><td>Tier 3</td><td>Grocery Store</td><td>186.424</td></tr><tr><td>FDP25</td><td>15.2</td><td>Low Fat</td><td>0.021327477</td><td>Canned</td><td>216.8824</td><td>OUT017</td><td>2007</td><td>null</td><td>Tier 2</td><td>Supermarket Type1</td><td>2838.9712</td></tr><tr><td>FDV39</td><td>11.3</td><td>Low Fat</td><td>0.007294652</td><td>Meat</td><td>198.1426</td><td>OUT045</td><td>2002</td><td>null</td><td>Tier 2</td><td>Supermarket Type1</td><td>988.713</td></tr><tr><td>FDT25</td><td>7.5</td><td>Low Fat</td><td>0.051038045</td><td>Canned</td><td>121.7072</td><td>OUT017</td><td>2007</td><td>null</td><td>Tier 2</td><td>Supermarket Type1</td><td>3552.7088</td></tr><tr><td>FDW13</td><td>8.5</td><td>Low Fat</td><td>0.098438394</td><td>Canned</td><td>51.1324</td><td>OUT017</td><td>2007</td><td>null</td><td>Tier 2</td><td>Supermarket Type1</td><td>259.662</td></tr><tr><td>FDY03</td><td>17.6</td><td>Regular</td><td>0.076276208</td><td>Meat</td><td>110.9202</td><td>OUT045</td><td>2002</td><td>null</td><td>Tier 2</td><td>Supermarket Type1</td><td>1687.803</td></tr><tr><td>FDY03</td><td>17.6</td><td>Regular</td><td>0.076552407</td><td>Meat</td><td>110.5202</td><td>OUT017</td><td>2007</td><td>null</td><td>Tier 2</td><td>Supermarket Type1</td><td>450.0808</td></tr><tr><td>FDS15</td><td>9.195</td><td>Regular</td><td>0.078502143</td><td>Meat</td><td>108.7596</td><td>OUT017</td><td>2007</td><td>null</td><td>Tier 2</td><td>Supermarket Type1</td><td>2588.6304</td></tr><tr><td>FDA13</td><td>15.85</td><td>Low Fat</td><td>0.078999287</td><td>Canned</td><td>38.6506</td><td>OUT017</td><td>2007</td><td>null</td><td>Tier 2</td><td>Supermarket Type1</td><td>759.012</td></tr><tr><td>FDV51</td><td>16.35</td><td>Low Fat</td><td>0.054463442</td><td>Meat</td><td>163.8842</td><td>OUT010</td><td>1998</td><td>null</td><td>Tier 3</td><td>Grocery Store</td><td>165.7842</td></tr><tr><td>FDC02</td><td>21.35</td><td>Low Fat</td><td>0.115194717</td><td>Canned</td><td>258.3278</td><td>OUT010</td><td>1998</td><td>null</td><td>Tier 3</td><td>Grocery Store</td><td>520.6556</td></tr><tr><td>FDK43</td><td>9.8</td><td>Low Fat</td><td>0.0268952</td><td>Meat</td><td>128.402</td><td>OUT045</td><td>2002</td><td>null</td><td>Tier 2</td><td>Supermarket Type1</td><td>2403.538</td></tr><tr><td>FDR49</td><td>8.71</td><td>Low Fat</td><td>0.233039817</td><td>Canned</td><td>49.5376</td><td>OUT010</td><td>1998</td><td>null</td><td>Tier 3</td><td>Grocery Store</td><td>95.8752</td></tr><tr><td>FDJ14</td><td>10.3</td><td>Regular</td><td>0.050353695</td><td>Canned</td><td>78.696</td><td>OUT017</td><td>2007</td><td>null</td><td>Tier 2</td><td>Supermarket Type1</td><td>1757.712</td></tr><tr><td>FDG14</td><td>9.0</td><td>Regular</td><td>0.050786366</td><td>Canned</td><td>152.2024</td><td>OUT017</td><td>2007</td><td>null</td><td>Tier 2</td><td>Supermarket Type1</td><td>3643.2576</td></tr><tr><td>FDW49</td><td>19.5</td><td>Low Fat</td><td>0.082719632</td><td>Canned</td><td>179.3002</td><td>OUT045</td><td>2002</td><td>null</td><td>Tier 2</td><td>Supermarket Type1</td><td>2865.6032</td></tr></tbody></table></div>"
      ]
     },
     "metadata": {
      "application/vnd.databricks.v1+output": {
       "addedWidgets": {},
       "aggData": [],
       "aggError": "",
       "aggOverflow": false,
       "aggSchema": [],
       "aggSeriesLimitReached": false,
       "aggType": "",
       "arguments": {},
       "columnCustomDisplayInfos": {},
       "data": [
        [
         "FDV49",
         10.0,
         "Low Fat",
         0.025879577,
         "Canned",
         265.2226,
         "OUT045",
         2002,
         null,
         "Tier 2",
         "Supermarket Type1",
         5815.0972
        ],
        [
         "FDV27",
         7.97,
         "Regular",
         0.040071131,
         "Meat",
         87.3514,
         "OUT045",
         2002,
         null,
         "Tier 2",
         "Supermarket Type1",
         1062.6168
        ],
        [
         "FDG02",
         7.855,
         "Low Fat",
         0.011324862,
         "Canned",
         189.6188,
         "OUT017",
         2007,
         null,
         "Tier 2",
         "Supermarket Type1",
         2285.0256
        ],
        [
         "FDV25",
         5.905,
         "Low Fat",
         0.0,
         "Canned",
         222.5456,
         "OUT045",
         2002,
         null,
         "Tier 2",
         "Supermarket Type1",
         5305.0944
        ],
        [
         "FDB14",
         20.25,
         "Regular",
         0.171938781,
         "Canned",
         92.512,
         "OUT010",
         1998,
         null,
         "Tier 3",
         "Grocery Store",
         186.424
        ],
        [
         "FDP25",
         15.2,
         "Low Fat",
         0.021327477,
         "Canned",
         216.8824,
         "OUT017",
         2007,
         null,
         "Tier 2",
         "Supermarket Type1",
         2838.9712
        ],
        [
         "FDV39",
         11.3,
         "Low Fat",
         0.007294652,
         "Meat",
         198.1426,
         "OUT045",
         2002,
         null,
         "Tier 2",
         "Supermarket Type1",
         988.713
        ],
        [
         "FDT25",
         7.5,
         "Low Fat",
         0.051038045,
         "Canned",
         121.7072,
         "OUT017",
         2007,
         null,
         "Tier 2",
         "Supermarket Type1",
         3552.7088
        ],
        [
         "FDW13",
         8.5,
         "Low Fat",
         0.098438394,
         "Canned",
         51.1324,
         "OUT017",
         2007,
         null,
         "Tier 2",
         "Supermarket Type1",
         259.662
        ],
        [
         "FDY03",
         17.6,
         "Regular",
         0.076276208,
         "Meat",
         110.9202,
         "OUT045",
         2002,
         null,
         "Tier 2",
         "Supermarket Type1",
         1687.803
        ],
        [
         "FDY03",
         17.6,
         "Regular",
         0.076552407,
         "Meat",
         110.5202,
         "OUT017",
         2007,
         null,
         "Tier 2",
         "Supermarket Type1",
         450.0808
        ],
        [
         "FDS15",
         9.195,
         "Regular",
         0.078502143,
         "Meat",
         108.7596,
         "OUT017",
         2007,
         null,
         "Tier 2",
         "Supermarket Type1",
         2588.6304
        ],
        [
         "FDA13",
         15.85,
         "Low Fat",
         0.078999287,
         "Canned",
         38.6506,
         "OUT017",
         2007,
         null,
         "Tier 2",
         "Supermarket Type1",
         759.012
        ],
        [
         "FDV51",
         16.35,
         "Low Fat",
         0.054463442,
         "Meat",
         163.8842,
         "OUT010",
         1998,
         null,
         "Tier 3",
         "Grocery Store",
         165.7842
        ],
        [
         "FDC02",
         21.35,
         "Low Fat",
         0.115194717,
         "Canned",
         258.3278,
         "OUT010",
         1998,
         null,
         "Tier 3",
         "Grocery Store",
         520.6556
        ],
        [
         "FDK43",
         9.8,
         "Low Fat",
         0.0268952,
         "Meat",
         128.402,
         "OUT045",
         2002,
         null,
         "Tier 2",
         "Supermarket Type1",
         2403.538
        ],
        [
         "FDR49",
         8.71,
         "Low Fat",
         0.233039817,
         "Canned",
         49.5376,
         "OUT010",
         1998,
         null,
         "Tier 3",
         "Grocery Store",
         95.8752
        ],
        [
         "FDJ14",
         10.3,
         "Regular",
         0.050353695,
         "Canned",
         78.696,
         "OUT017",
         2007,
         null,
         "Tier 2",
         "Supermarket Type1",
         1757.712
        ],
        [
         "FDG14",
         9.0,
         "Regular",
         0.050786366,
         "Canned",
         152.2024,
         "OUT017",
         2007,
         null,
         "Tier 2",
         "Supermarket Type1",
         3643.2576
        ],
        [
         "FDW49",
         19.5,
         "Low Fat",
         0.082719632,
         "Canned",
         179.3002,
         "OUT045",
         2002,
         null,
         "Tier 2",
         "Supermarket Type1",
         2865.6032
        ]
       ],
       "datasetInfos": [],
       "dbfsResultPath": null,
       "isJsonSchema": true,
       "metadata": {},
       "overflow": false,
       "plotOptions": {
        "customPlotOptions": {},
        "displayType": "table",
        "pivotAggregation": null,
        "pivotColumns": null,
        "xColumns": null,
        "yColumns": null
       },
       "removedWidgets": [],
       "schema": [
        {
         "metadata": "{}",
         "name": "Item_Identifier",
         "type": "\"string\""
        },
        {
         "metadata": "{}",
         "name": "Item_Weight",
         "type": "\"double\""
        },
        {
         "metadata": "{}",
         "name": "Item_Fat_Content",
         "type": "\"string\""
        },
        {
         "metadata": "{}",
         "name": "Item_Visibility",
         "type": "\"double\""
        },
        {
         "metadata": "{}",
         "name": "Item_Type",
         "type": "\"string\""
        },
        {
         "metadata": "{}",
         "name": "Item_MRP",
         "type": "\"double\""
        },
        {
         "metadata": "{}",
         "name": "Outlet_Identifier",
         "type": "\"string\""
        },
        {
         "metadata": "{}",
         "name": "Outlet_Establishment_Year",
         "type": "\"integer\""
        },
        {
         "metadata": "{}",
         "name": "Outlet_Size",
         "type": "\"string\""
        },
        {
         "metadata": "{}",
         "name": "Outlet_Location_Type",
         "type": "\"string\""
        },
        {
         "metadata": "{}",
         "name": "Outlet_Type",
         "type": "\"string\""
        },
        {
         "metadata": "{}",
         "name": "Item_Outlet_Sales",
         "type": "\"double\""
        }
       ],
       "type": "table"
      }
     },
     "output_type": "display_data"
    }
   ],
   "source": [
    "df.filter((col(\"Outlet_Size\").isNull()) & (col(\"Item_Type\").isin(\"Meat\",\"Canned\"))).limit(20).display()"
   ]
  },
  {
   "cell_type": "code",
   "execution_count": 0,
   "metadata": {
    "application/vnd.databricks.v1+cell": {
     "cellMetadata": {
      "byteLimit": 2048000,
      "rowLimit": 10000
     },
     "inputWidgets": {},
     "nuid": "ecfbbe79-04e7-4950-aab7-31bda48ac051",
     "showTitle": false,
     "tableResultSettingsMap": {},
     "title": ""
    }
   },
   "outputs": [
    {
     "output_type": "display_data",
     "data": {
      "text/html": [
       "<style scoped>\n",
       "  .table-result-container {\n",
       "    max-height: 300px;\n",
       "    overflow: auto;\n",
       "  }\n",
       "  table, th, td {\n",
       "    border: 1px solid black;\n",
       "    border-collapse: collapse;\n",
       "  }\n",
       "  th, td {\n",
       "    padding: 5px;\n",
       "  }\n",
       "  th {\n",
       "    text-align: left;\n",
       "  }\n",
       "</style><div class='table-result-container'><table class='table-result'><thead style='background-color: white'><tr><th>Item_Identifier</th><th>Item_Weight</th><th>Fat_content</th><th>Item_Visibility</th><th>Item_Type</th><th>Item_MRP</th><th>Outlet_Identifier</th><th>Outlet_Establishment_Year</th><th>Outlet_Size</th><th>Outlet_Location_Type</th><th>Outlet_Type</th><th>Item_Outlet_Sales</th></tr></thead><tbody><tr><td>FDA15</td><td>9.3</td><td>Low Fat</td><td>0.016047301</td><td>Dairy</td><td>249.8092</td><td>OUT049</td><td>1999</td><td>Medium</td><td>Tier 1</td><td>Supermarket Type1</td><td>3735.138</td></tr><tr><td>DRC01</td><td>5.92</td><td>Regular</td><td>0.019278216</td><td>Soft Drinks</td><td>48.2692</td><td>OUT018</td><td>2009</td><td>Medium</td><td>Tier 3</td><td>Supermarket Type2</td><td>443.4228</td></tr><tr><td>FDN15</td><td>17.5</td><td>Low Fat</td><td>0.016760075</td><td>Meat</td><td>141.618</td><td>OUT049</td><td>1999</td><td>Medium</td><td>Tier 1</td><td>Supermarket Type1</td><td>2097.27</td></tr><tr><td>FDX07</td><td>19.2</td><td>Regular</td><td>0.0</td><td>Fruits and Vegetables</td><td>182.095</td><td>OUT010</td><td>1998</td><td>null</td><td>Tier 3</td><td>Grocery Store</td><td>732.38</td></tr><tr><td>NCD19</td><td>8.93</td><td>Low Fat</td><td>0.0</td><td>Household</td><td>53.8614</td><td>OUT013</td><td>1987</td><td>High</td><td>Tier 3</td><td>Supermarket Type1</td><td>994.7052</td></tr><tr><td>FDP36</td><td>10.395</td><td>Regular</td><td>0.0</td><td>Baking Goods</td><td>51.4008</td><td>OUT018</td><td>2009</td><td>Medium</td><td>Tier 3</td><td>Supermarket Type2</td><td>556.6088</td></tr><tr><td>FDO10</td><td>13.65</td><td>Regular</td><td>0.012741089</td><td>Snack Foods</td><td>57.6588</td><td>OUT013</td><td>1987</td><td>High</td><td>Tier 3</td><td>Supermarket Type1</td><td>343.5528</td></tr><tr><td>FDP10</td><td>null</td><td>Low Fat</td><td>0.127469857</td><td>Snack Foods</td><td>107.7622</td><td>OUT027</td><td>1985</td><td>Medium</td><td>Tier 3</td><td>Supermarket Type3</td><td>4022.7636</td></tr><tr><td>FDH17</td><td>16.2</td><td>Regular</td><td>0.016687114</td><td>Frozen Foods</td><td>96.9726</td><td>OUT045</td><td>2002</td><td>null</td><td>Tier 2</td><td>Supermarket Type1</td><td>1076.5986</td></tr><tr><td>FDU28</td><td>19.2</td><td>Regular</td><td>0.09444959</td><td>Frozen Foods</td><td>187.8214</td><td>OUT017</td><td>2007</td><td>null</td><td>Tier 2</td><td>Supermarket Type1</td><td>4710.535</td></tr><tr><td>FDY07</td><td>11.8</td><td>Low Fat</td><td>0.0</td><td>Fruits and Vegetables</td><td>45.5402</td><td>OUT049</td><td>1999</td><td>Medium</td><td>Tier 1</td><td>Supermarket Type1</td><td>1516.0266</td></tr><tr><td>FDA03</td><td>18.5</td><td>Regular</td><td>0.045463773</td><td>Dairy</td><td>144.1102</td><td>OUT046</td><td>1997</td><td>Small</td><td>Tier 1</td><td>Supermarket Type1</td><td>2187.153</td></tr><tr><td>FDX32</td><td>15.1</td><td>Regular</td><td>0.1000135</td><td>Fruits and Vegetables</td><td>145.4786</td><td>OUT049</td><td>1999</td><td>Medium</td><td>Tier 1</td><td>Supermarket Type1</td><td>1589.2646</td></tr><tr><td>FDS46</td><td>17.6</td><td>Regular</td><td>0.047257328</td><td>Snack Foods</td><td>119.6782</td><td>OUT046</td><td>1997</td><td>Small</td><td>Tier 1</td><td>Supermarket Type1</td><td>2145.2076</td></tr><tr><td>FDF32</td><td>16.35</td><td>Low Fat</td><td>0.0680243</td><td>Fruits and Vegetables</td><td>196.4426</td><td>OUT013</td><td>1987</td><td>High</td><td>Tier 3</td><td>Supermarket Type1</td><td>1977.426</td></tr><tr><td>FDP49</td><td>9.0</td><td>Regular</td><td>0.069088961</td><td>Breakfast</td><td>56.3614</td><td>OUT046</td><td>1997</td><td>Small</td><td>Tier 1</td><td>Supermarket Type1</td><td>1547.3192</td></tr><tr><td>NCB42</td><td>11.8</td><td>Low Fat</td><td>0.008596051</td><td>Health and Hygiene</td><td>115.3492</td><td>OUT018</td><td>2009</td><td>Medium</td><td>Tier 3</td><td>Supermarket Type2</td><td>1621.8888</td></tr><tr><td>FDP49</td><td>9.0</td><td>Regular</td><td>0.069196376</td><td>Breakfast</td><td>54.3614</td><td>OUT049</td><td>1999</td><td>Medium</td><td>Tier 1</td><td>Supermarket Type1</td><td>718.3982</td></tr><tr><td>DRI11</td><td>null</td><td>Low Fat</td><td>0.034237682</td><td>Hard Drinks</td><td>113.2834</td><td>OUT027</td><td>1985</td><td>Medium</td><td>Tier 3</td><td>Supermarket Type3</td><td>2303.668</td></tr><tr><td>FDU02</td><td>13.35</td><td>Low Fat</td><td>0.10249212</td><td>Dairy</td><td>230.5352</td><td>OUT035</td><td>2004</td><td>Small</td><td>Tier 2</td><td>Supermarket Type1</td><td>2748.4224</td></tr></tbody></table></div>"
      ]
     },
     "metadata": {
      "application/vnd.databricks.v1+output": {
       "addedWidgets": {},
       "aggData": [],
       "aggError": "",
       "aggOverflow": false,
       "aggSchema": [],
       "aggSeriesLimitReached": false,
       "aggType": "",
       "arguments": {},
       "columnCustomDisplayInfos": {},
       "data": [
        [
         "FDA15",
         9.3,
         "Low Fat",
         0.016047301,
         "Dairy",
         249.8092,
         "OUT049",
         1999,
         "Medium",
         "Tier 1",
         "Supermarket Type1",
         3735.138
        ],
        [
         "DRC01",
         5.92,
         "Regular",
         0.019278216,
         "Soft Drinks",
         48.2692,
         "OUT018",
         2009,
         "Medium",
         "Tier 3",
         "Supermarket Type2",
         443.4228
        ],
        [
         "FDN15",
         17.5,
         "Low Fat",
         0.016760075,
         "Meat",
         141.618,
         "OUT049",
         1999,
         "Medium",
         "Tier 1",
         "Supermarket Type1",
         2097.27
        ],
        [
         "FDX07",
         19.2,
         "Regular",
         0.0,
         "Fruits and Vegetables",
         182.095,
         "OUT010",
         1998,
         null,
         "Tier 3",
         "Grocery Store",
         732.38
        ],
        [
         "NCD19",
         8.93,
         "Low Fat",
         0.0,
         "Household",
         53.8614,
         "OUT013",
         1987,
         "High",
         "Tier 3",
         "Supermarket Type1",
         994.7052
        ],
        [
         "FDP36",
         10.395,
         "Regular",
         0.0,
         "Baking Goods",
         51.4008,
         "OUT018",
         2009,
         "Medium",
         "Tier 3",
         "Supermarket Type2",
         556.6088
        ],
        [
         "FDO10",
         13.65,
         "Regular",
         0.012741089,
         "Snack Foods",
         57.6588,
         "OUT013",
         1987,
         "High",
         "Tier 3",
         "Supermarket Type1",
         343.5528
        ],
        [
         "FDP10",
         null,
         "Low Fat",
         0.127469857,
         "Snack Foods",
         107.7622,
         "OUT027",
         1985,
         "Medium",
         "Tier 3",
         "Supermarket Type3",
         4022.7636
        ],
        [
         "FDH17",
         16.2,
         "Regular",
         0.016687114,
         "Frozen Foods",
         96.9726,
         "OUT045",
         2002,
         null,
         "Tier 2",
         "Supermarket Type1",
         1076.5986
        ],
        [
         "FDU28",
         19.2,
         "Regular",
         0.09444959,
         "Frozen Foods",
         187.8214,
         "OUT017",
         2007,
         null,
         "Tier 2",
         "Supermarket Type1",
         4710.535
        ],
        [
         "FDY07",
         11.8,
         "Low Fat",
         0.0,
         "Fruits and Vegetables",
         45.5402,
         "OUT049",
         1999,
         "Medium",
         "Tier 1",
         "Supermarket Type1",
         1516.0266
        ],
        [
         "FDA03",
         18.5,
         "Regular",
         0.045463773,
         "Dairy",
         144.1102,
         "OUT046",
         1997,
         "Small",
         "Tier 1",
         "Supermarket Type1",
         2187.153
        ],
        [
         "FDX32",
         15.1,
         "Regular",
         0.1000135,
         "Fruits and Vegetables",
         145.4786,
         "OUT049",
         1999,
         "Medium",
         "Tier 1",
         "Supermarket Type1",
         1589.2646
        ],
        [
         "FDS46",
         17.6,
         "Regular",
         0.047257328,
         "Snack Foods",
         119.6782,
         "OUT046",
         1997,
         "Small",
         "Tier 1",
         "Supermarket Type1",
         2145.2076
        ],
        [
         "FDF32",
         16.35,
         "Low Fat",
         0.0680243,
         "Fruits and Vegetables",
         196.4426,
         "OUT013",
         1987,
         "High",
         "Tier 3",
         "Supermarket Type1",
         1977.426
        ],
        [
         "FDP49",
         9.0,
         "Regular",
         0.069088961,
         "Breakfast",
         56.3614,
         "OUT046",
         1997,
         "Small",
         "Tier 1",
         "Supermarket Type1",
         1547.3192
        ],
        [
         "NCB42",
         11.8,
         "Low Fat",
         0.008596051,
         "Health and Hygiene",
         115.3492,
         "OUT018",
         2009,
         "Medium",
         "Tier 3",
         "Supermarket Type2",
         1621.8888
        ],
        [
         "FDP49",
         9.0,
         "Regular",
         0.069196376,
         "Breakfast",
         54.3614,
         "OUT049",
         1999,
         "Medium",
         "Tier 1",
         "Supermarket Type1",
         718.3982
        ],
        [
         "DRI11",
         null,
         "Low Fat",
         0.034237682,
         "Hard Drinks",
         113.2834,
         "OUT027",
         1985,
         "Medium",
         "Tier 3",
         "Supermarket Type3",
         2303.668
        ],
        [
         "FDU02",
         13.35,
         "Low Fat",
         0.10249212,
         "Dairy",
         230.5352,
         "OUT035",
         2004,
         "Small",
         "Tier 2",
         "Supermarket Type1",
         2748.4224
        ]
       ],
       "datasetInfos": [],
       "dbfsResultPath": null,
       "isJsonSchema": true,
       "metadata": {},
       "overflow": false,
       "plotOptions": {
        "customPlotOptions": {},
        "displayType": "table",
        "pivotAggregation": null,
        "pivotColumns": null,
        "xColumns": null,
        "yColumns": null
       },
       "removedWidgets": [],
       "schema": [
        {
         "metadata": "{}",
         "name": "Item_Identifier",
         "type": "\"string\""
        },
        {
         "metadata": "{}",
         "name": "Item_Weight",
         "type": "\"double\""
        },
        {
         "metadata": "{}",
         "name": "Fat_content",
         "type": "\"string\""
        },
        {
         "metadata": "{}",
         "name": "Item_Visibility",
         "type": "\"double\""
        },
        {
         "metadata": "{}",
         "name": "Item_Type",
         "type": "\"string\""
        },
        {
         "metadata": "{}",
         "name": "Item_MRP",
         "type": "\"double\""
        },
        {
         "metadata": "{}",
         "name": "Outlet_Identifier",
         "type": "\"string\""
        },
        {
         "metadata": "{}",
         "name": "Outlet_Establishment_Year",
         "type": "\"integer\""
        },
        {
         "metadata": "{}",
         "name": "Outlet_Size",
         "type": "\"string\""
        },
        {
         "metadata": "{}",
         "name": "Outlet_Location_Type",
         "type": "\"string\""
        },
        {
         "metadata": "{}",
         "name": "Outlet_Type",
         "type": "\"string\""
        },
        {
         "metadata": "{}",
         "name": "Item_Outlet_Sales",
         "type": "\"double\""
        }
       ],
       "type": "table"
      }
     },
     "output_type": "display_data"
    }
   ],
   "source": [
    "df.withColumnRenamed('Item_Fat_Content','Fat_content').limit(20).display()"
   ]
  },
  {
   "cell_type": "markdown",
   "metadata": {
    "application/vnd.databricks.v1+cell": {
     "cellMetadata": {
      "byteLimit": 2048000,
      "rowLimit": 10000
     },
     "inputWidgets": {},
     "nuid": "0cba0bda-8392-478e-b74a-18677fef5831",
     "showTitle": false,
     "tableResultSettingsMap": {},
     "title": ""
    }
   },
   "source": [
    "## WithColumn"
   ]
  },
  {
   "cell_type": "code",
   "execution_count": 0,
   "metadata": {
    "application/vnd.databricks.v1+cell": {
     "cellMetadata": {
      "byteLimit": 2048000,
      "rowLimit": 10000
     },
     "inputWidgets": {},
     "nuid": "2fc5757c-9d01-4bdd-bb0e-9efeba291ca9",
     "showTitle": false,
     "tableResultSettingsMap": {},
     "title": ""
    }
   },
   "outputs": [
    {
     "output_type": "display_data",
     "data": {
      "text/html": [
       "<style scoped>\n",
       "  .table-result-container {\n",
       "    max-height: 300px;\n",
       "    overflow: auto;\n",
       "  }\n",
       "  table, th, td {\n",
       "    border: 1px solid black;\n",
       "    border-collapse: collapse;\n",
       "  }\n",
       "  th, td {\n",
       "    padding: 5px;\n",
       "  }\n",
       "  th {\n",
       "    text-align: left;\n",
       "  }\n",
       "</style><div class='table-result-container'><table class='table-result'><thead style='background-color: white'><tr><th>Item_Identifier</th><th>Item_Weight</th><th>Item_Fat_Content</th><th>Item_Visibility</th><th>Item_Type</th><th>Item_MRP</th><th>Outlet_Identifier</th><th>Outlet_Establishment_Year</th><th>Outlet_Size</th><th>Outlet_Location_Type</th><th>Outlet_Type</th><th>Item_Outlet_Sales</th><th>Flag</th></tr></thead><tbody><tr><td>FDA15</td><td>9.3</td><td>Low Fat</td><td>0.016047301</td><td>Dairy</td><td>249.8092</td><td>OUT049</td><td>1999</td><td>Medium</td><td>Tier 1</td><td>Supermarket Type1</td><td>3735.138</td><td>random</td></tr><tr><td>DRC01</td><td>5.92</td><td>Regular</td><td>0.019278216</td><td>Soft Drinks</td><td>48.2692</td><td>OUT018</td><td>2009</td><td>Medium</td><td>Tier 3</td><td>Supermarket Type2</td><td>443.4228</td><td>random</td></tr><tr><td>FDN15</td><td>17.5</td><td>Low Fat</td><td>0.016760075</td><td>Meat</td><td>141.618</td><td>OUT049</td><td>1999</td><td>Medium</td><td>Tier 1</td><td>Supermarket Type1</td><td>2097.27</td><td>random</td></tr><tr><td>FDX07</td><td>19.2</td><td>Regular</td><td>0.0</td><td>Fruits and Vegetables</td><td>182.095</td><td>OUT010</td><td>1998</td><td>null</td><td>Tier 3</td><td>Grocery Store</td><td>732.38</td><td>random</td></tr><tr><td>NCD19</td><td>8.93</td><td>Low Fat</td><td>0.0</td><td>Household</td><td>53.8614</td><td>OUT013</td><td>1987</td><td>High</td><td>Tier 3</td><td>Supermarket Type1</td><td>994.7052</td><td>random</td></tr><tr><td>FDP36</td><td>10.395</td><td>Regular</td><td>0.0</td><td>Baking Goods</td><td>51.4008</td><td>OUT018</td><td>2009</td><td>Medium</td><td>Tier 3</td><td>Supermarket Type2</td><td>556.6088</td><td>random</td></tr><tr><td>FDO10</td><td>13.65</td><td>Regular</td><td>0.012741089</td><td>Snack Foods</td><td>57.6588</td><td>OUT013</td><td>1987</td><td>High</td><td>Tier 3</td><td>Supermarket Type1</td><td>343.5528</td><td>random</td></tr><tr><td>FDP10</td><td>null</td><td>Low Fat</td><td>0.127469857</td><td>Snack Foods</td><td>107.7622</td><td>OUT027</td><td>1985</td><td>Medium</td><td>Tier 3</td><td>Supermarket Type3</td><td>4022.7636</td><td>random</td></tr><tr><td>FDH17</td><td>16.2</td><td>Regular</td><td>0.016687114</td><td>Frozen Foods</td><td>96.9726</td><td>OUT045</td><td>2002</td><td>null</td><td>Tier 2</td><td>Supermarket Type1</td><td>1076.5986</td><td>random</td></tr><tr><td>FDU28</td><td>19.2</td><td>Regular</td><td>0.09444959</td><td>Frozen Foods</td><td>187.8214</td><td>OUT017</td><td>2007</td><td>null</td><td>Tier 2</td><td>Supermarket Type1</td><td>4710.535</td><td>random</td></tr><tr><td>FDY07</td><td>11.8</td><td>Low Fat</td><td>0.0</td><td>Fruits and Vegetables</td><td>45.5402</td><td>OUT049</td><td>1999</td><td>Medium</td><td>Tier 1</td><td>Supermarket Type1</td><td>1516.0266</td><td>random</td></tr><tr><td>FDA03</td><td>18.5</td><td>Regular</td><td>0.045463773</td><td>Dairy</td><td>144.1102</td><td>OUT046</td><td>1997</td><td>Small</td><td>Tier 1</td><td>Supermarket Type1</td><td>2187.153</td><td>random</td></tr><tr><td>FDX32</td><td>15.1</td><td>Regular</td><td>0.1000135</td><td>Fruits and Vegetables</td><td>145.4786</td><td>OUT049</td><td>1999</td><td>Medium</td><td>Tier 1</td><td>Supermarket Type1</td><td>1589.2646</td><td>random</td></tr><tr><td>FDS46</td><td>17.6</td><td>Regular</td><td>0.047257328</td><td>Snack Foods</td><td>119.6782</td><td>OUT046</td><td>1997</td><td>Small</td><td>Tier 1</td><td>Supermarket Type1</td><td>2145.2076</td><td>random</td></tr><tr><td>FDF32</td><td>16.35</td><td>Low Fat</td><td>0.0680243</td><td>Fruits and Vegetables</td><td>196.4426</td><td>OUT013</td><td>1987</td><td>High</td><td>Tier 3</td><td>Supermarket Type1</td><td>1977.426</td><td>random</td></tr><tr><td>FDP49</td><td>9.0</td><td>Regular</td><td>0.069088961</td><td>Breakfast</td><td>56.3614</td><td>OUT046</td><td>1997</td><td>Small</td><td>Tier 1</td><td>Supermarket Type1</td><td>1547.3192</td><td>random</td></tr><tr><td>NCB42</td><td>11.8</td><td>Low Fat</td><td>0.008596051</td><td>Health and Hygiene</td><td>115.3492</td><td>OUT018</td><td>2009</td><td>Medium</td><td>Tier 3</td><td>Supermarket Type2</td><td>1621.8888</td><td>random</td></tr><tr><td>FDP49</td><td>9.0</td><td>Regular</td><td>0.069196376</td><td>Breakfast</td><td>54.3614</td><td>OUT049</td><td>1999</td><td>Medium</td><td>Tier 1</td><td>Supermarket Type1</td><td>718.3982</td><td>random</td></tr><tr><td>DRI11</td><td>null</td><td>Low Fat</td><td>0.034237682</td><td>Hard Drinks</td><td>113.2834</td><td>OUT027</td><td>1985</td><td>Medium</td><td>Tier 3</td><td>Supermarket Type3</td><td>2303.668</td><td>random</td></tr><tr><td>FDU02</td><td>13.35</td><td>Low Fat</td><td>0.10249212</td><td>Dairy</td><td>230.5352</td><td>OUT035</td><td>2004</td><td>Small</td><td>Tier 2</td><td>Supermarket Type1</td><td>2748.4224</td><td>random</td></tr></tbody></table></div>"
      ]
     },
     "metadata": {
      "application/vnd.databricks.v1+output": {
       "addedWidgets": {},
       "aggData": [],
       "aggError": "",
       "aggOverflow": false,
       "aggSchema": [],
       "aggSeriesLimitReached": false,
       "aggType": "",
       "arguments": {},
       "columnCustomDisplayInfos": {},
       "data": [
        [
         "FDA15",
         9.3,
         "Low Fat",
         0.016047301,
         "Dairy",
         249.8092,
         "OUT049",
         1999,
         "Medium",
         "Tier 1",
         "Supermarket Type1",
         3735.138,
         "random"
        ],
        [
         "DRC01",
         5.92,
         "Regular",
         0.019278216,
         "Soft Drinks",
         48.2692,
         "OUT018",
         2009,
         "Medium",
         "Tier 3",
         "Supermarket Type2",
         443.4228,
         "random"
        ],
        [
         "FDN15",
         17.5,
         "Low Fat",
         0.016760075,
         "Meat",
         141.618,
         "OUT049",
         1999,
         "Medium",
         "Tier 1",
         "Supermarket Type1",
         2097.27,
         "random"
        ],
        [
         "FDX07",
         19.2,
         "Regular",
         0.0,
         "Fruits and Vegetables",
         182.095,
         "OUT010",
         1998,
         null,
         "Tier 3",
         "Grocery Store",
         732.38,
         "random"
        ],
        [
         "NCD19",
         8.93,
         "Low Fat",
         0.0,
         "Household",
         53.8614,
         "OUT013",
         1987,
         "High",
         "Tier 3",
         "Supermarket Type1",
         994.7052,
         "random"
        ],
        [
         "FDP36",
         10.395,
         "Regular",
         0.0,
         "Baking Goods",
         51.4008,
         "OUT018",
         2009,
         "Medium",
         "Tier 3",
         "Supermarket Type2",
         556.6088,
         "random"
        ],
        [
         "FDO10",
         13.65,
         "Regular",
         0.012741089,
         "Snack Foods",
         57.6588,
         "OUT013",
         1987,
         "High",
         "Tier 3",
         "Supermarket Type1",
         343.5528,
         "random"
        ],
        [
         "FDP10",
         null,
         "Low Fat",
         0.127469857,
         "Snack Foods",
         107.7622,
         "OUT027",
         1985,
         "Medium",
         "Tier 3",
         "Supermarket Type3",
         4022.7636,
         "random"
        ],
        [
         "FDH17",
         16.2,
         "Regular",
         0.016687114,
         "Frozen Foods",
         96.9726,
         "OUT045",
         2002,
         null,
         "Tier 2",
         "Supermarket Type1",
         1076.5986,
         "random"
        ],
        [
         "FDU28",
         19.2,
         "Regular",
         0.09444959,
         "Frozen Foods",
         187.8214,
         "OUT017",
         2007,
         null,
         "Tier 2",
         "Supermarket Type1",
         4710.535,
         "random"
        ],
        [
         "FDY07",
         11.8,
         "Low Fat",
         0.0,
         "Fruits and Vegetables",
         45.5402,
         "OUT049",
         1999,
         "Medium",
         "Tier 1",
         "Supermarket Type1",
         1516.0266,
         "random"
        ],
        [
         "FDA03",
         18.5,
         "Regular",
         0.045463773,
         "Dairy",
         144.1102,
         "OUT046",
         1997,
         "Small",
         "Tier 1",
         "Supermarket Type1",
         2187.153,
         "random"
        ],
        [
         "FDX32",
         15.1,
         "Regular",
         0.1000135,
         "Fruits and Vegetables",
         145.4786,
         "OUT049",
         1999,
         "Medium",
         "Tier 1",
         "Supermarket Type1",
         1589.2646,
         "random"
        ],
        [
         "FDS46",
         17.6,
         "Regular",
         0.047257328,
         "Snack Foods",
         119.6782,
         "OUT046",
         1997,
         "Small",
         "Tier 1",
         "Supermarket Type1",
         2145.2076,
         "random"
        ],
        [
         "FDF32",
         16.35,
         "Low Fat",
         0.0680243,
         "Fruits and Vegetables",
         196.4426,
         "OUT013",
         1987,
         "High",
         "Tier 3",
         "Supermarket Type1",
         1977.426,
         "random"
        ],
        [
         "FDP49",
         9.0,
         "Regular",
         0.069088961,
         "Breakfast",
         56.3614,
         "OUT046",
         1997,
         "Small",
         "Tier 1",
         "Supermarket Type1",
         1547.3192,
         "random"
        ],
        [
         "NCB42",
         11.8,
         "Low Fat",
         0.008596051,
         "Health and Hygiene",
         115.3492,
         "OUT018",
         2009,
         "Medium",
         "Tier 3",
         "Supermarket Type2",
         1621.8888,
         "random"
        ],
        [
         "FDP49",
         9.0,
         "Regular",
         0.069196376,
         "Breakfast",
         54.3614,
         "OUT049",
         1999,
         "Medium",
         "Tier 1",
         "Supermarket Type1",
         718.3982,
         "random"
        ],
        [
         "DRI11",
         null,
         "Low Fat",
         0.034237682,
         "Hard Drinks",
         113.2834,
         "OUT027",
         1985,
         "Medium",
         "Tier 3",
         "Supermarket Type3",
         2303.668,
         "random"
        ],
        [
         "FDU02",
         13.35,
         "Low Fat",
         0.10249212,
         "Dairy",
         230.5352,
         "OUT035",
         2004,
         "Small",
         "Tier 2",
         "Supermarket Type1",
         2748.4224,
         "random"
        ]
       ],
       "datasetInfos": [],
       "dbfsResultPath": null,
       "isJsonSchema": true,
       "metadata": {},
       "overflow": false,
       "plotOptions": {
        "customPlotOptions": {},
        "displayType": "table",
        "pivotAggregation": null,
        "pivotColumns": null,
        "xColumns": null,
        "yColumns": null
       },
       "removedWidgets": [],
       "schema": [
        {
         "metadata": "{}",
         "name": "Item_Identifier",
         "type": "\"string\""
        },
        {
         "metadata": "{}",
         "name": "Item_Weight",
         "type": "\"double\""
        },
        {
         "metadata": "{}",
         "name": "Item_Fat_Content",
         "type": "\"string\""
        },
        {
         "metadata": "{}",
         "name": "Item_Visibility",
         "type": "\"double\""
        },
        {
         "metadata": "{}",
         "name": "Item_Type",
         "type": "\"string\""
        },
        {
         "metadata": "{}",
         "name": "Item_MRP",
         "type": "\"double\""
        },
        {
         "metadata": "{}",
         "name": "Outlet_Identifier",
         "type": "\"string\""
        },
        {
         "metadata": "{}",
         "name": "Outlet_Establishment_Year",
         "type": "\"integer\""
        },
        {
         "metadata": "{}",
         "name": "Outlet_Size",
         "type": "\"string\""
        },
        {
         "metadata": "{}",
         "name": "Outlet_Location_Type",
         "type": "\"string\""
        },
        {
         "metadata": "{}",
         "name": "Outlet_Type",
         "type": "\"string\""
        },
        {
         "metadata": "{}",
         "name": "Item_Outlet_Sales",
         "type": "\"double\""
        },
        {
         "metadata": "{}",
         "name": "Flag",
         "type": "\"string\""
        }
       ],
       "type": "table"
      }
     },
     "output_type": "display_data"
    }
   ],
   "source": [
    "df = df.withColumn(\"Flag\", lit(\"random\"))\n",
    "df.limit(20).display()"
   ]
  },
  {
   "cell_type": "code",
   "execution_count": 0,
   "metadata": {
    "application/vnd.databricks.v1+cell": {
     "cellMetadata": {
      "byteLimit": 2048000,
      "rowLimit": 10000
     },
     "inputWidgets": {},
     "nuid": "1ca666da-eca1-4fcd-8ca7-b29c20b37591",
     "showTitle": false,
     "tableResultSettingsMap": {},
     "title": ""
    }
   },
   "outputs": [
    {
     "output_type": "display_data",
     "data": {
      "text/html": [
       "<style scoped>\n",
       "  .table-result-container {\n",
       "    max-height: 300px;\n",
       "    overflow: auto;\n",
       "  }\n",
       "  table, th, td {\n",
       "    border: 1px solid black;\n",
       "    border-collapse: collapse;\n",
       "  }\n",
       "  th, td {\n",
       "    padding: 5px;\n",
       "  }\n",
       "  th {\n",
       "    text-align: left;\n",
       "  }\n",
       "</style><div class='table-result-container'><table class='table-result'><thead style='background-color: white'><tr><th>Item_Identifier</th><th>Item_Weight</th><th>Item_Fat_Content</th><th>Item_Visibility</th><th>Item_Type</th><th>Item_MRP</th><th>Outlet_Identifier</th><th>Outlet_Establishment_Year</th><th>Outlet_Size</th><th>Outlet_Location_Type</th><th>Outlet_Type</th><th>Item_Outlet_Sales</th><th>Flag</th><th>Item_quantity</th></tr></thead><tbody><tr><td>FDA15</td><td>9.3</td><td>Low Fat</td><td>0.016047301</td><td>Dairy</td><td>249.8092</td><td>OUT049</td><td>1999</td><td>Medium</td><td>Tier 1</td><td>Supermarket Type1</td><td>3735.138</td><td>random</td><td>14.951963338419882</td></tr><tr><td>DRC01</td><td>5.92</td><td>Regular</td><td>0.019278216</td><td>Soft Drinks</td><td>48.2692</td><td>OUT018</td><td>2009</td><td>Medium</td><td>Tier 3</td><td>Supermarket Type2</td><td>443.4228</td><td>random</td><td>9.186454302122264</td></tr><tr><td>FDN15</td><td>17.5</td><td>Low Fat</td><td>0.016760075</td><td>Meat</td><td>141.618</td><td>OUT049</td><td>1999</td><td>Medium</td><td>Tier 1</td><td>Supermarket Type1</td><td>2097.27</td><td>random</td><td>14.809346269542008</td></tr><tr><td>FDX07</td><td>19.2</td><td>Regular</td><td>0.0</td><td>Fruits and Vegetables</td><td>182.095</td><td>OUT010</td><td>1998</td><td>null</td><td>Tier 3</td><td>Grocery Store</td><td>732.38</td><td>random</td><td>4.021966555918614</td></tr><tr><td>NCD19</td><td>8.93</td><td>Low Fat</td><td>0.0</td><td>Household</td><td>53.8614</td><td>OUT013</td><td>1987</td><td>High</td><td>Tier 3</td><td>Supermarket Type1</td><td>994.7052</td><td>random</td><td>18.467867526651737</td></tr><tr><td>FDP36</td><td>10.395</td><td>Regular</td><td>0.0</td><td>Baking Goods</td><td>51.4008</td><td>OUT018</td><td>2009</td><td>Medium</td><td>Tier 3</td><td>Supermarket Type2</td><td>556.6088</td><td>random</td><td>10.82879643896593</td></tr><tr><td>FDO10</td><td>13.65</td><td>Regular</td><td>0.012741089</td><td>Snack Foods</td><td>57.6588</td><td>OUT013</td><td>1987</td><td>High</td><td>Tier 3</td><td>Supermarket Type1</td><td>343.5528</td><td>random</td><td>5.958375824678973</td></tr><tr><td>FDP10</td><td>null</td><td>Low Fat</td><td>0.127469857</td><td>Snack Foods</td><td>107.7622</td><td>OUT027</td><td>1985</td><td>Medium</td><td>Tier 3</td><td>Supermarket Type3</td><td>4022.7636</td><td>random</td><td>37.33000625451225</td></tr><tr><td>FDH17</td><td>16.2</td><td>Regular</td><td>0.016687114</td><td>Frozen Foods</td><td>96.9726</td><td>OUT045</td><td>2002</td><td>null</td><td>Tier 2</td><td>Supermarket Type1</td><td>1076.5986</td><td>random</td><td>11.102090693659859</td></tr><tr><td>FDU28</td><td>19.2</td><td>Regular</td><td>0.09444959</td><td>Frozen Foods</td><td>187.8214</td><td>OUT017</td><td>2007</td><td>null</td><td>Tier 2</td><td>Supermarket Type1</td><td>4710.535</td><td>random</td><td>25.079863103991343</td></tr><tr><td>FDY07</td><td>11.8</td><td>Low Fat</td><td>0.0</td><td>Fruits and Vegetables</td><td>45.5402</td><td>OUT049</td><td>1999</td><td>Medium</td><td>Tier 1</td><td>Supermarket Type1</td><td>1516.0266</td><td>random</td><td>33.28985379950022</td></tr><tr><td>FDA03</td><td>18.5</td><td>Regular</td><td>0.045463773</td><td>Dairy</td><td>144.1102</td><td>OUT046</td><td>1997</td><td>Small</td><td>Tier 1</td><td>Supermarket Type1</td><td>2187.153</td><td>random</td><td>15.17694791902308</td></tr><tr><td>FDX32</td><td>15.1</td><td>Regular</td><td>0.1000135</td><td>Fruits and Vegetables</td><td>145.4786</td><td>OUT049</td><td>1999</td><td>Medium</td><td>Tier 1</td><td>Supermarket Type1</td><td>1589.2646</td><td>random</td><td>10.924387504416456</td></tr><tr><td>FDS46</td><td>17.6</td><td>Regular</td><td>0.047257328</td><td>Snack Foods</td><td>119.6782</td><td>OUT046</td><td>1997</td><td>Small</td><td>Tier 1</td><td>Supermarket Type1</td><td>2145.2076</td><td>random</td><td>17.924798334199547</td></tr><tr><td>FDF32</td><td>16.35</td><td>Low Fat</td><td>0.0680243</td><td>Fruits and Vegetables</td><td>196.4426</td><td>OUT013</td><td>1987</td><td>High</td><td>Tier 3</td><td>Supermarket Type1</td><td>1977.426</td><td>random</td><td>10.066177091934234</td></tr><tr><td>FDP49</td><td>9.0</td><td>Regular</td><td>0.069088961</td><td>Breakfast</td><td>56.3614</td><td>OUT046</td><td>1997</td><td>Small</td><td>Tier 1</td><td>Supermarket Type1</td><td>1547.3192</td><td>random</td><td>27.453526704446656</td></tr><tr><td>NCB42</td><td>11.8</td><td>Low Fat</td><td>0.008596051</td><td>Health and Hygiene</td><td>115.3492</td><td>OUT018</td><td>2009</td><td>Medium</td><td>Tier 3</td><td>Supermarket Type2</td><td>1621.8888</td><td>random</td><td>14.060685293005934</td></tr><tr><td>FDP49</td><td>9.0</td><td>Regular</td><td>0.069196376</td><td>Breakfast</td><td>54.3614</td><td>OUT049</td><td>1999</td><td>Medium</td><td>Tier 1</td><td>Supermarket Type1</td><td>718.3982</td><td>random</td><td>13.215226245093024</td></tr><tr><td>DRI11</td><td>null</td><td>Low Fat</td><td>0.034237682</td><td>Hard Drinks</td><td>113.2834</td><td>OUT027</td><td>1985</td><td>Medium</td><td>Tier 3</td><td>Supermarket Type3</td><td>2303.668</td><td>random</td><td>20.33544190940597</td></tr><tr><td>FDU02</td><td>13.35</td><td>Low Fat</td><td>0.10249212</td><td>Dairy</td><td>230.5352</td><td>OUT035</td><td>2004</td><td>Small</td><td>Tier 2</td><td>Supermarket Type1</td><td>2748.4224</td><td>random</td><td>11.921920817298183</td></tr></tbody></table></div>"
      ]
     },
     "metadata": {
      "application/vnd.databricks.v1+output": {
       "addedWidgets": {},
       "aggData": [],
       "aggError": "",
       "aggOverflow": false,
       "aggSchema": [],
       "aggSeriesLimitReached": false,
       "aggType": "",
       "arguments": {},
       "columnCustomDisplayInfos": {},
       "data": [
        [
         "FDA15",
         9.3,
         "Low Fat",
         0.016047301,
         "Dairy",
         249.8092,
         "OUT049",
         1999,
         "Medium",
         "Tier 1",
         "Supermarket Type1",
         3735.138,
         "random",
         14.951963338419882
        ],
        [
         "DRC01",
         5.92,
         "Regular",
         0.019278216,
         "Soft Drinks",
         48.2692,
         "OUT018",
         2009,
         "Medium",
         "Tier 3",
         "Supermarket Type2",
         443.4228,
         "random",
         9.186454302122264
        ],
        [
         "FDN15",
         17.5,
         "Low Fat",
         0.016760075,
         "Meat",
         141.618,
         "OUT049",
         1999,
         "Medium",
         "Tier 1",
         "Supermarket Type1",
         2097.27,
         "random",
         14.809346269542008
        ],
        [
         "FDX07",
         19.2,
         "Regular",
         0.0,
         "Fruits and Vegetables",
         182.095,
         "OUT010",
         1998,
         null,
         "Tier 3",
         "Grocery Store",
         732.38,
         "random",
         4.021966555918614
        ],
        [
         "NCD19",
         8.93,
         "Low Fat",
         0.0,
         "Household",
         53.8614,
         "OUT013",
         1987,
         "High",
         "Tier 3",
         "Supermarket Type1",
         994.7052,
         "random",
         18.467867526651737
        ],
        [
         "FDP36",
         10.395,
         "Regular",
         0.0,
         "Baking Goods",
         51.4008,
         "OUT018",
         2009,
         "Medium",
         "Tier 3",
         "Supermarket Type2",
         556.6088,
         "random",
         10.82879643896593
        ],
        [
         "FDO10",
         13.65,
         "Regular",
         0.012741089,
         "Snack Foods",
         57.6588,
         "OUT013",
         1987,
         "High",
         "Tier 3",
         "Supermarket Type1",
         343.5528,
         "random",
         5.958375824678973
        ],
        [
         "FDP10",
         null,
         "Low Fat",
         0.127469857,
         "Snack Foods",
         107.7622,
         "OUT027",
         1985,
         "Medium",
         "Tier 3",
         "Supermarket Type3",
         4022.7636,
         "random",
         37.33000625451225
        ],
        [
         "FDH17",
         16.2,
         "Regular",
         0.016687114,
         "Frozen Foods",
         96.9726,
         "OUT045",
         2002,
         null,
         "Tier 2",
         "Supermarket Type1",
         1076.5986,
         "random",
         11.102090693659859
        ],
        [
         "FDU28",
         19.2,
         "Regular",
         0.09444959,
         "Frozen Foods",
         187.8214,
         "OUT017",
         2007,
         null,
         "Tier 2",
         "Supermarket Type1",
         4710.535,
         "random",
         25.079863103991343
        ],
        [
         "FDY07",
         11.8,
         "Low Fat",
         0.0,
         "Fruits and Vegetables",
         45.5402,
         "OUT049",
         1999,
         "Medium",
         "Tier 1",
         "Supermarket Type1",
         1516.0266,
         "random",
         33.28985379950022
        ],
        [
         "FDA03",
         18.5,
         "Regular",
         0.045463773,
         "Dairy",
         144.1102,
         "OUT046",
         1997,
         "Small",
         "Tier 1",
         "Supermarket Type1",
         2187.153,
         "random",
         15.17694791902308
        ],
        [
         "FDX32",
         15.1,
         "Regular",
         0.1000135,
         "Fruits and Vegetables",
         145.4786,
         "OUT049",
         1999,
         "Medium",
         "Tier 1",
         "Supermarket Type1",
         1589.2646,
         "random",
         10.924387504416456
        ],
        [
         "FDS46",
         17.6,
         "Regular",
         0.047257328,
         "Snack Foods",
         119.6782,
         "OUT046",
         1997,
         "Small",
         "Tier 1",
         "Supermarket Type1",
         2145.2076,
         "random",
         17.924798334199547
        ],
        [
         "FDF32",
         16.35,
         "Low Fat",
         0.0680243,
         "Fruits and Vegetables",
         196.4426,
         "OUT013",
         1987,
         "High",
         "Tier 3",
         "Supermarket Type1",
         1977.426,
         "random",
         10.066177091934234
        ],
        [
         "FDP49",
         9.0,
         "Regular",
         0.069088961,
         "Breakfast",
         56.3614,
         "OUT046",
         1997,
         "Small",
         "Tier 1",
         "Supermarket Type1",
         1547.3192,
         "random",
         27.453526704446656
        ],
        [
         "NCB42",
         11.8,
         "Low Fat",
         0.008596051,
         "Health and Hygiene",
         115.3492,
         "OUT018",
         2009,
         "Medium",
         "Tier 3",
         "Supermarket Type2",
         1621.8888,
         "random",
         14.060685293005934
        ],
        [
         "FDP49",
         9.0,
         "Regular",
         0.069196376,
         "Breakfast",
         54.3614,
         "OUT049",
         1999,
         "Medium",
         "Tier 1",
         "Supermarket Type1",
         718.3982,
         "random",
         13.215226245093024
        ],
        [
         "DRI11",
         null,
         "Low Fat",
         0.034237682,
         "Hard Drinks",
         113.2834,
         "OUT027",
         1985,
         "Medium",
         "Tier 3",
         "Supermarket Type3",
         2303.668,
         "random",
         20.33544190940597
        ],
        [
         "FDU02",
         13.35,
         "Low Fat",
         0.10249212,
         "Dairy",
         230.5352,
         "OUT035",
         2004,
         "Small",
         "Tier 2",
         "Supermarket Type1",
         2748.4224,
         "random",
         11.921920817298183
        ]
       ],
       "datasetInfos": [],
       "dbfsResultPath": null,
       "isJsonSchema": true,
       "metadata": {},
       "overflow": false,
       "plotOptions": {
        "customPlotOptions": {},
        "displayType": "table",
        "pivotAggregation": null,
        "pivotColumns": null,
        "xColumns": null,
        "yColumns": null
       },
       "removedWidgets": [],
       "schema": [
        {
         "metadata": "{}",
         "name": "Item_Identifier",
         "type": "\"string\""
        },
        {
         "metadata": "{}",
         "name": "Item_Weight",
         "type": "\"double\""
        },
        {
         "metadata": "{}",
         "name": "Item_Fat_Content",
         "type": "\"string\""
        },
        {
         "metadata": "{}",
         "name": "Item_Visibility",
         "type": "\"double\""
        },
        {
         "metadata": "{}",
         "name": "Item_Type",
         "type": "\"string\""
        },
        {
         "metadata": "{}",
         "name": "Item_MRP",
         "type": "\"double\""
        },
        {
         "metadata": "{}",
         "name": "Outlet_Identifier",
         "type": "\"string\""
        },
        {
         "metadata": "{}",
         "name": "Outlet_Establishment_Year",
         "type": "\"integer\""
        },
        {
         "metadata": "{}",
         "name": "Outlet_Size",
         "type": "\"string\""
        },
        {
         "metadata": "{}",
         "name": "Outlet_Location_Type",
         "type": "\"string\""
        },
        {
         "metadata": "{}",
         "name": "Outlet_Type",
         "type": "\"string\""
        },
        {
         "metadata": "{}",
         "name": "Item_Outlet_Sales",
         "type": "\"double\""
        },
        {
         "metadata": "{}",
         "name": "Flag",
         "type": "\"string\""
        },
        {
         "metadata": "{}",
         "name": "Item_quantity",
         "type": "\"double\""
        }
       ],
       "type": "table"
      }
     },
     "output_type": "display_data"
    }
   ],
   "source": [
    "df.withColumn(\"Item_quantity\", col(\"Item_Outlet_Sales\")/ col(\"Item_MRP\")).limit(20).display()"
   ]
  },
  {
   "cell_type": "code",
   "execution_count": 0,
   "metadata": {
    "application/vnd.databricks.v1+cell": {
     "cellMetadata": {
      "byteLimit": 2048000,
      "rowLimit": 10000
     },
     "inputWidgets": {},
     "nuid": "074fbf9e-c424-4bc5-a65e-de58045cbf8f",
     "showTitle": false,
     "tableResultSettingsMap": {},
     "title": ""
    }
   },
   "outputs": [],
   "source": []
  },
  {
   "cell_type": "code",
   "execution_count": 0,
   "metadata": {
    "application/vnd.databricks.v1+cell": {
     "cellMetadata": {
      "byteLimit": 2048000,
      "rowLimit": 10000
     },
     "inputWidgets": {},
     "nuid": "c80f2132-ced8-4da2-9fe5-7f736189ec39",
     "showTitle": false,
     "tableResultSettingsMap": {},
     "title": ""
    }
   },
   "outputs": [
    {
     "output_type": "display_data",
     "data": {
      "text/html": [
       "<style scoped>\n",
       "  .table-result-container {\n",
       "    max-height: 300px;\n",
       "    overflow: auto;\n",
       "  }\n",
       "  table, th, td {\n",
       "    border: 1px solid black;\n",
       "    border-collapse: collapse;\n",
       "  }\n",
       "  th, td {\n",
       "    padding: 5px;\n",
       "  }\n",
       "  th {\n",
       "    text-align: left;\n",
       "  }\n",
       "</style><div class='table-result-container'><table class='table-result'><thead style='background-color: white'><tr><th>Item_Identifier</th><th>Item_Weight</th><th>Item_Fat_Content</th><th>Item_Visibility</th><th>Item_Type</th><th>Item_MRP</th><th>Outlet_Identifier</th><th>Outlet_Establishment_Year</th><th>Outlet_Size</th><th>Outlet_Location_Type</th><th>Outlet_Type</th><th>Item_Outlet_Sales</th><th>Flag</th></tr></thead><tbody><tr><td>FDA15</td><td>9.3</td><td>Low Fat</td><td>0.016047301</td><td>Dairy</td><td>249.8092</td><td>OUT049</td><td>1999</td><td>Medium</td><td>Tier 1</td><td>Supermarket Type1</td><td>3735.138</td><td>random</td></tr><tr><td>DRC01</td><td>5.92</td><td>Reg</td><td>0.019278216</td><td>Soft Drinks</td><td>48.2692</td><td>OUT018</td><td>2009</td><td>Medium</td><td>Tier 3</td><td>Supermarket Type2</td><td>443.4228</td><td>random</td></tr><tr><td>FDN15</td><td>17.5</td><td>Low Fat</td><td>0.016760075</td><td>Meat</td><td>141.618</td><td>OUT049</td><td>1999</td><td>Medium</td><td>Tier 1</td><td>Supermarket Type1</td><td>2097.27</td><td>random</td></tr><tr><td>FDX07</td><td>19.2</td><td>Reg</td><td>0.0</td><td>Fruits and Vegetables</td><td>182.095</td><td>OUT010</td><td>1998</td><td>null</td><td>Tier 3</td><td>Grocery Store</td><td>732.38</td><td>random</td></tr><tr><td>NCD19</td><td>8.93</td><td>Low Fat</td><td>0.0</td><td>Household</td><td>53.8614</td><td>OUT013</td><td>1987</td><td>High</td><td>Tier 3</td><td>Supermarket Type1</td><td>994.7052</td><td>random</td></tr><tr><td>FDP36</td><td>10.395</td><td>Reg</td><td>0.0</td><td>Baking Goods</td><td>51.4008</td><td>OUT018</td><td>2009</td><td>Medium</td><td>Tier 3</td><td>Supermarket Type2</td><td>556.6088</td><td>random</td></tr><tr><td>FDO10</td><td>13.65</td><td>Reg</td><td>0.012741089</td><td>Snack Foods</td><td>57.6588</td><td>OUT013</td><td>1987</td><td>High</td><td>Tier 3</td><td>Supermarket Type1</td><td>343.5528</td><td>random</td></tr><tr><td>FDP10</td><td>null</td><td>Low Fat</td><td>0.127469857</td><td>Snack Foods</td><td>107.7622</td><td>OUT027</td><td>1985</td><td>Medium</td><td>Tier 3</td><td>Supermarket Type3</td><td>4022.7636</td><td>random</td></tr><tr><td>FDH17</td><td>16.2</td><td>Reg</td><td>0.016687114</td><td>Frozen Foods</td><td>96.9726</td><td>OUT045</td><td>2002</td><td>null</td><td>Tier 2</td><td>Supermarket Type1</td><td>1076.5986</td><td>random</td></tr><tr><td>FDU28</td><td>19.2</td><td>Reg</td><td>0.09444959</td><td>Frozen Foods</td><td>187.8214</td><td>OUT017</td><td>2007</td><td>null</td><td>Tier 2</td><td>Supermarket Type1</td><td>4710.535</td><td>random</td></tr><tr><td>FDY07</td><td>11.8</td><td>Low Fat</td><td>0.0</td><td>Fruits and Vegetables</td><td>45.5402</td><td>OUT049</td><td>1999</td><td>Medium</td><td>Tier 1</td><td>Supermarket Type1</td><td>1516.0266</td><td>random</td></tr><tr><td>FDA03</td><td>18.5</td><td>Reg</td><td>0.045463773</td><td>Dairy</td><td>144.1102</td><td>OUT046</td><td>1997</td><td>Small</td><td>Tier 1</td><td>Supermarket Type1</td><td>2187.153</td><td>random</td></tr><tr><td>FDX32</td><td>15.1</td><td>Reg</td><td>0.1000135</td><td>Fruits and Vegetables</td><td>145.4786</td><td>OUT049</td><td>1999</td><td>Medium</td><td>Tier 1</td><td>Supermarket Type1</td><td>1589.2646</td><td>random</td></tr><tr><td>FDS46</td><td>17.6</td><td>Reg</td><td>0.047257328</td><td>Snack Foods</td><td>119.6782</td><td>OUT046</td><td>1997</td><td>Small</td><td>Tier 1</td><td>Supermarket Type1</td><td>2145.2076</td><td>random</td></tr><tr><td>FDF32</td><td>16.35</td><td>Low Fat</td><td>0.0680243</td><td>Fruits and Vegetables</td><td>196.4426</td><td>OUT013</td><td>1987</td><td>High</td><td>Tier 3</td><td>Supermarket Type1</td><td>1977.426</td><td>random</td></tr><tr><td>FDP49</td><td>9.0</td><td>Reg</td><td>0.069088961</td><td>Breakfast</td><td>56.3614</td><td>OUT046</td><td>1997</td><td>Small</td><td>Tier 1</td><td>Supermarket Type1</td><td>1547.3192</td><td>random</td></tr><tr><td>NCB42</td><td>11.8</td><td>Low Fat</td><td>0.008596051</td><td>Health and Hygiene</td><td>115.3492</td><td>OUT018</td><td>2009</td><td>Medium</td><td>Tier 3</td><td>Supermarket Type2</td><td>1621.8888</td><td>random</td></tr><tr><td>FDP49</td><td>9.0</td><td>Reg</td><td>0.069196376</td><td>Breakfast</td><td>54.3614</td><td>OUT049</td><td>1999</td><td>Medium</td><td>Tier 1</td><td>Supermarket Type1</td><td>718.3982</td><td>random</td></tr><tr><td>DRI11</td><td>null</td><td>Low Fat</td><td>0.034237682</td><td>Hard Drinks</td><td>113.2834</td><td>OUT027</td><td>1985</td><td>Medium</td><td>Tier 3</td><td>Supermarket Type3</td><td>2303.668</td><td>random</td></tr><tr><td>FDU02</td><td>13.35</td><td>Low Fat</td><td>0.10249212</td><td>Dairy</td><td>230.5352</td><td>OUT035</td><td>2004</td><td>Small</td><td>Tier 2</td><td>Supermarket Type1</td><td>2748.4224</td><td>random</td></tr></tbody></table></div>"
      ]
     },
     "metadata": {
      "application/vnd.databricks.v1+output": {
       "addedWidgets": {},
       "aggData": [],
       "aggError": "",
       "aggOverflow": false,
       "aggSchema": [],
       "aggSeriesLimitReached": false,
       "aggType": "",
       "arguments": {},
       "columnCustomDisplayInfos": {},
       "data": [
        [
         "FDA15",
         9.3,
         "Low Fat",
         0.016047301,
         "Dairy",
         249.8092,
         "OUT049",
         1999,
         "Medium",
         "Tier 1",
         "Supermarket Type1",
         3735.138,
         "random"
        ],
        [
         "DRC01",
         5.92,
         "Reg",
         0.019278216,
         "Soft Drinks",
         48.2692,
         "OUT018",
         2009,
         "Medium",
         "Tier 3",
         "Supermarket Type2",
         443.4228,
         "random"
        ],
        [
         "FDN15",
         17.5,
         "Low Fat",
         0.016760075,
         "Meat",
         141.618,
         "OUT049",
         1999,
         "Medium",
         "Tier 1",
         "Supermarket Type1",
         2097.27,
         "random"
        ],
        [
         "FDX07",
         19.2,
         "Reg",
         0.0,
         "Fruits and Vegetables",
         182.095,
         "OUT010",
         1998,
         null,
         "Tier 3",
         "Grocery Store",
         732.38,
         "random"
        ],
        [
         "NCD19",
         8.93,
         "Low Fat",
         0.0,
         "Household",
         53.8614,
         "OUT013",
         1987,
         "High",
         "Tier 3",
         "Supermarket Type1",
         994.7052,
         "random"
        ],
        [
         "FDP36",
         10.395,
         "Reg",
         0.0,
         "Baking Goods",
         51.4008,
         "OUT018",
         2009,
         "Medium",
         "Tier 3",
         "Supermarket Type2",
         556.6088,
         "random"
        ],
        [
         "FDO10",
         13.65,
         "Reg",
         0.012741089,
         "Snack Foods",
         57.6588,
         "OUT013",
         1987,
         "High",
         "Tier 3",
         "Supermarket Type1",
         343.5528,
         "random"
        ],
        [
         "FDP10",
         null,
         "Low Fat",
         0.127469857,
         "Snack Foods",
         107.7622,
         "OUT027",
         1985,
         "Medium",
         "Tier 3",
         "Supermarket Type3",
         4022.7636,
         "random"
        ],
        [
         "FDH17",
         16.2,
         "Reg",
         0.016687114,
         "Frozen Foods",
         96.9726,
         "OUT045",
         2002,
         null,
         "Tier 2",
         "Supermarket Type1",
         1076.5986,
         "random"
        ],
        [
         "FDU28",
         19.2,
         "Reg",
         0.09444959,
         "Frozen Foods",
         187.8214,
         "OUT017",
         2007,
         null,
         "Tier 2",
         "Supermarket Type1",
         4710.535,
         "random"
        ],
        [
         "FDY07",
         11.8,
         "Low Fat",
         0.0,
         "Fruits and Vegetables",
         45.5402,
         "OUT049",
         1999,
         "Medium",
         "Tier 1",
         "Supermarket Type1",
         1516.0266,
         "random"
        ],
        [
         "FDA03",
         18.5,
         "Reg",
         0.045463773,
         "Dairy",
         144.1102,
         "OUT046",
         1997,
         "Small",
         "Tier 1",
         "Supermarket Type1",
         2187.153,
         "random"
        ],
        [
         "FDX32",
         15.1,
         "Reg",
         0.1000135,
         "Fruits and Vegetables",
         145.4786,
         "OUT049",
         1999,
         "Medium",
         "Tier 1",
         "Supermarket Type1",
         1589.2646,
         "random"
        ],
        [
         "FDS46",
         17.6,
         "Reg",
         0.047257328,
         "Snack Foods",
         119.6782,
         "OUT046",
         1997,
         "Small",
         "Tier 1",
         "Supermarket Type1",
         2145.2076,
         "random"
        ],
        [
         "FDF32",
         16.35,
         "Low Fat",
         0.0680243,
         "Fruits and Vegetables",
         196.4426,
         "OUT013",
         1987,
         "High",
         "Tier 3",
         "Supermarket Type1",
         1977.426,
         "random"
        ],
        [
         "FDP49",
         9.0,
         "Reg",
         0.069088961,
         "Breakfast",
         56.3614,
         "OUT046",
         1997,
         "Small",
         "Tier 1",
         "Supermarket Type1",
         1547.3192,
         "random"
        ],
        [
         "NCB42",
         11.8,
         "Low Fat",
         0.008596051,
         "Health and Hygiene",
         115.3492,
         "OUT018",
         2009,
         "Medium",
         "Tier 3",
         "Supermarket Type2",
         1621.8888,
         "random"
        ],
        [
         "FDP49",
         9.0,
         "Reg",
         0.069196376,
         "Breakfast",
         54.3614,
         "OUT049",
         1999,
         "Medium",
         "Tier 1",
         "Supermarket Type1",
         718.3982,
         "random"
        ],
        [
         "DRI11",
         null,
         "Low Fat",
         0.034237682,
         "Hard Drinks",
         113.2834,
         "OUT027",
         1985,
         "Medium",
         "Tier 3",
         "Supermarket Type3",
         2303.668,
         "random"
        ],
        [
         "FDU02",
         13.35,
         "Low Fat",
         0.10249212,
         "Dairy",
         230.5352,
         "OUT035",
         2004,
         "Small",
         "Tier 2",
         "Supermarket Type1",
         2748.4224,
         "random"
        ]
       ],
       "datasetInfos": [],
       "dbfsResultPath": null,
       "isJsonSchema": true,
       "metadata": {},
       "overflow": false,
       "plotOptions": {
        "customPlotOptions": {},
        "displayType": "table",
        "pivotAggregation": null,
        "pivotColumns": null,
        "xColumns": null,
        "yColumns": null
       },
       "removedWidgets": [],
       "schema": [
        {
         "metadata": "{}",
         "name": "Item_Identifier",
         "type": "\"string\""
        },
        {
         "metadata": "{}",
         "name": "Item_Weight",
         "type": "\"double\""
        },
        {
         "metadata": "{}",
         "name": "Item_Fat_Content",
         "type": "\"string\""
        },
        {
         "metadata": "{}",
         "name": "Item_Visibility",
         "type": "\"double\""
        },
        {
         "metadata": "{}",
         "name": "Item_Type",
         "type": "\"string\""
        },
        {
         "metadata": "{}",
         "name": "Item_MRP",
         "type": "\"double\""
        },
        {
         "metadata": "{}",
         "name": "Outlet_Identifier",
         "type": "\"string\""
        },
        {
         "metadata": "{}",
         "name": "Outlet_Establishment_Year",
         "type": "\"integer\""
        },
        {
         "metadata": "{}",
         "name": "Outlet_Size",
         "type": "\"string\""
        },
        {
         "metadata": "{}",
         "name": "Outlet_Location_Type",
         "type": "\"string\""
        },
        {
         "metadata": "{}",
         "name": "Outlet_Type",
         "type": "\"string\""
        },
        {
         "metadata": "{}",
         "name": "Item_Outlet_Sales",
         "type": "\"double\""
        },
        {
         "metadata": "{}",
         "name": "Flag",
         "type": "\"string\""
        }
       ],
       "type": "table"
      }
     },
     "output_type": "display_data"
    }
   ],
   "source": [
    "df = df.withColumn(\"Item_Fat_Content\", regexp_replace(col(\"Item_Fat_Content\"), \"Regular\", \"Reg\"))\\\n",
    "    .withColumn(\"Item_Fat_Content\", regexp_replace(col(\"Item_Fat_Content\"), \"LF\", \"Low Fat\"))\n",
    "df.limit(20).display()"
   ]
  },
  {
   "cell_type": "markdown",
   "metadata": {
    "application/vnd.databricks.v1+cell": {
     "cellMetadata": {
      "byteLimit": 2048000,
      "rowLimit": 10000
     },
     "inputWidgets": {},
     "nuid": "6a3d0741-19e5-4c6d-9bad-1e697e636d5e",
     "showTitle": false,
     "tableResultSettingsMap": {},
     "title": ""
    }
   },
   "source": [
    "## Types of Casting"
   ]
  },
  {
   "cell_type": "code",
   "execution_count": 0,
   "metadata": {
    "application/vnd.databricks.v1+cell": {
     "cellMetadata": {
      "byteLimit": 2048000,
      "rowLimit": 10000
     },
     "inputWidgets": {},
     "nuid": "b544df14-a9ba-4353-8582-16c91fd53cea",
     "showTitle": false,
     "tableResultSettingsMap": {},
     "title": ""
    }
   },
   "outputs": [
    {
     "output_type": "execute_result",
     "data": {
      "text/plain": [
       "[('Item_Identifier', 'string'),\n",
       " ('Item_Weight', 'string'),\n",
       " ('Item_Fat_Content', 'string'),\n",
       " ('Item_Visibility', 'double'),\n",
       " ('Item_Type', 'string'),\n",
       " ('Item_MRP', 'double'),\n",
       " ('Outlet_Identifier', 'string'),\n",
       " ('Outlet_Establishment_Year', 'int'),\n",
       " ('Outlet_Size', 'string'),\n",
       " ('Outlet_Location_Type', 'string'),\n",
       " ('Outlet_Type', 'string'),\n",
       " ('Item_Outlet_Sales', 'double'),\n",
       " ('Flag', 'string')]"
      ]
     },
     "execution_count": 133,
     "metadata": {},
     "output_type": "execute_result"
    }
   ],
   "source": [
    "df.withColumn(\"Item_Weight\",col(\"Item_Weight\").cast(StringType())).dtypes"
   ]
  },
  {
   "cell_type": "markdown",
   "metadata": {
    "application/vnd.databricks.v1+cell": {
     "cellMetadata": {
      "byteLimit": 2048000,
      "rowLimit": 10000
     },
     "inputWidgets": {},
     "nuid": "82687a06-2722-4358-bf02-a2499de6306e",
     "showTitle": false,
     "tableResultSettingsMap": {},
     "title": ""
    }
   },
   "source": [
    "## Sort"
   ]
  },
  {
   "cell_type": "code",
   "execution_count": 0,
   "metadata": {
    "application/vnd.databricks.v1+cell": {
     "cellMetadata": {
      "byteLimit": 2048000,
      "rowLimit": 10000
     },
     "inputWidgets": {},
     "nuid": "a1b59acd-82e1-4831-8c76-bcbb1bfd7291",
     "showTitle": false,
     "tableResultSettingsMap": {},
     "title": ""
    }
   },
   "outputs": [
    {
     "output_type": "display_data",
     "data": {
      "text/html": [
       "<style scoped>\n",
       "  .table-result-container {\n",
       "    max-height: 300px;\n",
       "    overflow: auto;\n",
       "  }\n",
       "  table, th, td {\n",
       "    border: 1px solid black;\n",
       "    border-collapse: collapse;\n",
       "  }\n",
       "  th, td {\n",
       "    padding: 5px;\n",
       "  }\n",
       "  th {\n",
       "    text-align: left;\n",
       "  }\n",
       "</style><div class='table-result-container'><table class='table-result'><thead style='background-color: white'><tr><th>Item_Identifier</th><th>Item_Weight</th><th>Item_Fat_Content</th><th>Item_Visibility</th><th>Item_Type</th><th>Item_MRP</th><th>Outlet_Identifier</th><th>Outlet_Establishment_Year</th><th>Outlet_Size</th><th>Outlet_Location_Type</th><th>Outlet_Type</th><th>Item_Outlet_Sales</th><th>Flag</th></tr></thead><tbody><tr><td>FDN48</td><td>null</td><td>Low Fat</td><td>0.113720344</td><td>Baking Goods</td><td>89.9804</td><td>OUT019</td><td>1985</td><td>Small</td><td>Tier 1</td><td>Grocery Store</td><td>643.1628</td><td>random</td></tr><tr><td>FDW12</td><td>null</td><td>Reg</td><td>0.035399923</td><td>Baking Goods</td><td>144.5444</td><td>OUT027</td><td>1985</td><td>Medium</td><td>Tier 3</td><td>Supermarket Type3</td><td>4064.0432</td><td>random</td></tr><tr><td>NCR53</td><td>null</td><td>Low Fat</td><td>0.144338493</td><td>Health and Hygiene</td><td>224.4404</td><td>OUT027</td><td>1985</td><td>Medium</td><td>Tier 3</td><td>Supermarket Type3</td><td>6976.2524</td><td>random</td></tr><tr><td>FDX10</td><td>null</td><td>Reg</td><td>0.123111453</td><td>Snack Foods</td><td>36.9874</td><td>OUT027</td><td>1985</td><td>Medium</td><td>Tier 3</td><td>Supermarket Type3</td><td>388.1614</td><td>random</td></tr><tr><td>FDC37</td><td>null</td><td>Low Fat</td><td>0.057556998</td><td>Baking Goods</td><td>107.6938</td><td>OUT019</td><td>1985</td><td>Small</td><td>Tier 1</td><td>Grocery Store</td><td>214.3876</td><td>random</td></tr><tr><td>NCL18</td><td>null</td><td>Low Fat</td><td>0.293417759</td><td>Household</td><td>194.6136</td><td>OUT019</td><td>1985</td><td>Small</td><td>Tier 1</td><td>Grocery Store</td><td>583.2408</td><td>random</td></tr><tr><td>DRI11</td><td>null</td><td>Low Fat</td><td>0.034237682</td><td>Hard Drinks</td><td>113.2834</td><td>OUT027</td><td>1985</td><td>Medium</td><td>Tier 3</td><td>Supermarket Type3</td><td>2303.668</td><td>random</td></tr><tr><td>FDR12</td><td>null</td><td>Reg</td><td>0.031382044</td><td>Baking Goods</td><td>171.3764</td><td>OUT027</td><td>1985</td><td>Medium</td><td>Tier 3</td><td>Supermarket Type3</td><td>3091.9752</td><td>random</td></tr><tr><td>FDC14</td><td>null</td><td>Reg</td><td>0.072221801</td><td>Canned</td><td>43.6454</td><td>OUT019</td><td>1985</td><td>Small</td><td>Tier 1</td><td>Grocery Store</td><td>125.8362</td><td>random</td></tr><tr><td>FDQ49</td><td>null</td><td>Reg</td><td>0.039057677</td><td>Breakfast</td><td>155.963</td><td>OUT027</td><td>1985</td><td>Medium</td><td>Tier 3</td><td>Supermarket Type3</td><td>3285.723</td><td>random</td></tr><tr><td>FDS02</td><td>null</td><td>Reg</td><td>0.255394896</td><td>Dairy</td><td>196.8794</td><td>OUT019</td><td>1985</td><td>Small</td><td>Tier 1</td><td>Grocery Store</td><td>780.3176</td><td>random</td></tr><tr><td>FDU04</td><td>null</td><td>Low Fat</td><td>0.009714595</td><td>Frozen Foods</td><td>120.0414</td><td>OUT019</td><td>1985</td><td>Small</td><td>Tier 1</td><td>Grocery Store</td><td>487.3656</td><td>random</td></tr><tr><td>FDF09</td><td>null</td><td>Low Fat</td><td>0.012090074</td><td>Fruits and Vegetables</td><td>38.2848</td><td>OUT027</td><td>1985</td><td>Medium</td><td>Tier 3</td><td>Supermarket Type3</td><td>484.7024</td><td>random</td></tr><tr><td>NCP18</td><td>null</td><td>Low Fat</td><td>0.028459761</td><td>Household</td><td>149.9708</td><td>OUT027</td><td>1985</td><td>Medium</td><td>Tier 3</td><td>Supermarket Type3</td><td>4363.6532</td><td>random</td></tr><tr><td>FDY45</td><td>null</td><td>Low Fat</td><td>0.026015519</td><td>Snack Foods</td><td>255.8356</td><td>OUT027</td><td>1985</td><td>Medium</td><td>Tier 3</td><td>Supermarket Type3</td><td>2543.356</td><td>random</td></tr><tr><td>FDD10</td><td>null</td><td>Reg</td><td>0.045797829</td><td>Snack Foods</td><td>178.5344</td><td>OUT027</td><td>1985</td><td>Medium</td><td>Tier 3</td><td>Supermarket Type3</td><td>2854.9504</td><td>random</td></tr><tr><td>FDP10</td><td>null</td><td>Low Fat</td><td>0.127469857</td><td>Snack Foods</td><td>107.7622</td><td>OUT027</td><td>1985</td><td>Medium</td><td>Tier 3</td><td>Supermarket Type3</td><td>4022.7636</td><td>random</td></tr><tr><td>DRE60</td><td>null</td><td>low fat</td><td>0.278974075</td><td>Soft Drinks</td><td>225.372</td><td>OUT019</td><td>1985</td><td>Small</td><td>Tier 1</td><td>Grocery Store</td><td>679.116</td><td>random</td></tr><tr><td>FDV20</td><td>null</td><td>Reg</td><td>0.059511812</td><td>Fruits and Vegetables</td><td>128.0678</td><td>OUT027</td><td>1985</td><td>Medium</td><td>Tier 3</td><td>Supermarket Type3</td><td>2797.6916</td><td>random</td></tr><tr><td>FDW39</td><td>null</td><td>Reg</td><td>0.064625342</td><td>Meat</td><td>176.937</td><td>OUT019</td><td>1985</td><td>Small</td><td>Tier 1</td><td>Grocery Store</td><td>176.437</td><td>random</td></tr></tbody></table></div>"
      ]
     },
     "metadata": {
      "application/vnd.databricks.v1+output": {
       "addedWidgets": {},
       "aggData": [],
       "aggError": "",
       "aggOverflow": false,
       "aggSchema": [],
       "aggSeriesLimitReached": false,
       "aggType": "",
       "arguments": {},
       "columnCustomDisplayInfos": {},
       "data": [
        [
         "FDN48",
         null,
         "Low Fat",
         0.113720344,
         "Baking Goods",
         89.9804,
         "OUT019",
         1985,
         "Small",
         "Tier 1",
         "Grocery Store",
         643.1628,
         "random"
        ],
        [
         "FDW12",
         null,
         "Reg",
         0.035399923,
         "Baking Goods",
         144.5444,
         "OUT027",
         1985,
         "Medium",
         "Tier 3",
         "Supermarket Type3",
         4064.0432,
         "random"
        ],
        [
         "NCR53",
         null,
         "Low Fat",
         0.144338493,
         "Health and Hygiene",
         224.4404,
         "OUT027",
         1985,
         "Medium",
         "Tier 3",
         "Supermarket Type3",
         6976.2524,
         "random"
        ],
        [
         "FDX10",
         null,
         "Reg",
         0.123111453,
         "Snack Foods",
         36.9874,
         "OUT027",
         1985,
         "Medium",
         "Tier 3",
         "Supermarket Type3",
         388.1614,
         "random"
        ],
        [
         "FDC37",
         null,
         "Low Fat",
         0.057556998,
         "Baking Goods",
         107.6938,
         "OUT019",
         1985,
         "Small",
         "Tier 1",
         "Grocery Store",
         214.3876,
         "random"
        ],
        [
         "NCL18",
         null,
         "Low Fat",
         0.293417759,
         "Household",
         194.6136,
         "OUT019",
         1985,
         "Small",
         "Tier 1",
         "Grocery Store",
         583.2408,
         "random"
        ],
        [
         "DRI11",
         null,
         "Low Fat",
         0.034237682,
         "Hard Drinks",
         113.2834,
         "OUT027",
         1985,
         "Medium",
         "Tier 3",
         "Supermarket Type3",
         2303.668,
         "random"
        ],
        [
         "FDR12",
         null,
         "Reg",
         0.031382044,
         "Baking Goods",
         171.3764,
         "OUT027",
         1985,
         "Medium",
         "Tier 3",
         "Supermarket Type3",
         3091.9752,
         "random"
        ],
        [
         "FDC14",
         null,
         "Reg",
         0.072221801,
         "Canned",
         43.6454,
         "OUT019",
         1985,
         "Small",
         "Tier 1",
         "Grocery Store",
         125.8362,
         "random"
        ],
        [
         "FDQ49",
         null,
         "Reg",
         0.039057677,
         "Breakfast",
         155.963,
         "OUT027",
         1985,
         "Medium",
         "Tier 3",
         "Supermarket Type3",
         3285.723,
         "random"
        ],
        [
         "FDS02",
         null,
         "Reg",
         0.255394896,
         "Dairy",
         196.8794,
         "OUT019",
         1985,
         "Small",
         "Tier 1",
         "Grocery Store",
         780.3176,
         "random"
        ],
        [
         "FDU04",
         null,
         "Low Fat",
         0.009714595,
         "Frozen Foods",
         120.0414,
         "OUT019",
         1985,
         "Small",
         "Tier 1",
         "Grocery Store",
         487.3656,
         "random"
        ],
        [
         "FDF09",
         null,
         "Low Fat",
         0.012090074,
         "Fruits and Vegetables",
         38.2848,
         "OUT027",
         1985,
         "Medium",
         "Tier 3",
         "Supermarket Type3",
         484.7024,
         "random"
        ],
        [
         "NCP18",
         null,
         "Low Fat",
         0.028459761,
         "Household",
         149.9708,
         "OUT027",
         1985,
         "Medium",
         "Tier 3",
         "Supermarket Type3",
         4363.6532,
         "random"
        ],
        [
         "FDY45",
         null,
         "Low Fat",
         0.026015519,
         "Snack Foods",
         255.8356,
         "OUT027",
         1985,
         "Medium",
         "Tier 3",
         "Supermarket Type3",
         2543.356,
         "random"
        ],
        [
         "FDD10",
         null,
         "Reg",
         0.045797829,
         "Snack Foods",
         178.5344,
         "OUT027",
         1985,
         "Medium",
         "Tier 3",
         "Supermarket Type3",
         2854.9504,
         "random"
        ],
        [
         "FDP10",
         null,
         "Low Fat",
         0.127469857,
         "Snack Foods",
         107.7622,
         "OUT027",
         1985,
         "Medium",
         "Tier 3",
         "Supermarket Type3",
         4022.7636,
         "random"
        ],
        [
         "DRE60",
         null,
         "low fat",
         0.278974075,
         "Soft Drinks",
         225.372,
         "OUT019",
         1985,
         "Small",
         "Tier 1",
         "Grocery Store",
         679.116,
         "random"
        ],
        [
         "FDV20",
         null,
         "Reg",
         0.059511812,
         "Fruits and Vegetables",
         128.0678,
         "OUT027",
         1985,
         "Medium",
         "Tier 3",
         "Supermarket Type3",
         2797.6916,
         "random"
        ],
        [
         "FDW39",
         null,
         "Reg",
         0.064625342,
         "Meat",
         176.937,
         "OUT019",
         1985,
         "Small",
         "Tier 1",
         "Grocery Store",
         176.437,
         "random"
        ]
       ],
       "datasetInfos": [],
       "dbfsResultPath": null,
       "isJsonSchema": true,
       "metadata": {},
       "overflow": false,
       "plotOptions": {
        "customPlotOptions": {},
        "displayType": "table",
        "pivotAggregation": null,
        "pivotColumns": null,
        "xColumns": null,
        "yColumns": null
       },
       "removedWidgets": [],
       "schema": [
        {
         "metadata": "{}",
         "name": "Item_Identifier",
         "type": "\"string\""
        },
        {
         "metadata": "{}",
         "name": "Item_Weight",
         "type": "\"double\""
        },
        {
         "metadata": "{}",
         "name": "Item_Fat_Content",
         "type": "\"string\""
        },
        {
         "metadata": "{}",
         "name": "Item_Visibility",
         "type": "\"double\""
        },
        {
         "metadata": "{}",
         "name": "Item_Type",
         "type": "\"string\""
        },
        {
         "metadata": "{}",
         "name": "Item_MRP",
         "type": "\"double\""
        },
        {
         "metadata": "{}",
         "name": "Outlet_Identifier",
         "type": "\"string\""
        },
        {
         "metadata": "{}",
         "name": "Outlet_Establishment_Year",
         "type": "\"integer\""
        },
        {
         "metadata": "{}",
         "name": "Outlet_Size",
         "type": "\"string\""
        },
        {
         "metadata": "{}",
         "name": "Outlet_Location_Type",
         "type": "\"string\""
        },
        {
         "metadata": "{}",
         "name": "Outlet_Type",
         "type": "\"string\""
        },
        {
         "metadata": "{}",
         "name": "Item_Outlet_Sales",
         "type": "\"double\""
        },
        {
         "metadata": "{}",
         "name": "Flag",
         "type": "\"string\""
        }
       ],
       "type": "table"
      }
     },
     "output_type": "display_data"
    }
   ],
   "source": [
    "#df.sort(col(\"Item_weight\").desc()).display()  \n",
    "df.sort(col(\"Item_weight\").asc()).limit(20).display()  \n"
   ]
  },
  {
   "cell_type": "code",
   "execution_count": 0,
   "metadata": {
    "application/vnd.databricks.v1+cell": {
     "cellMetadata": {
      "byteLimit": 2048000,
      "rowLimit": 10000
     },
     "inputWidgets": {},
     "nuid": "132f4df2-76ed-4ffa-8f16-bca3b1bfc009",
     "showTitle": false,
     "tableResultSettingsMap": {},
     "title": ""
    }
   },
   "outputs": [
    {
     "output_type": "display_data",
     "data": {
      "text/html": [
       "<style scoped>\n",
       "  .table-result-container {\n",
       "    max-height: 300px;\n",
       "    overflow: auto;\n",
       "  }\n",
       "  table, th, td {\n",
       "    border: 1px solid black;\n",
       "    border-collapse: collapse;\n",
       "  }\n",
       "  th, td {\n",
       "    padding: 5px;\n",
       "  }\n",
       "  th {\n",
       "    text-align: left;\n",
       "  }\n",
       "</style><div class='table-result-container'><table class='table-result'><thead style='background-color: white'><tr><th>Item_Identifier</th><th>Item_Weight</th><th>Item_Fat_Content</th><th>Item_Visibility</th><th>Item_Type</th><th>Item_MRP</th><th>Outlet_Identifier</th><th>Outlet_Establishment_Year</th><th>Outlet_Size</th><th>Outlet_Location_Type</th><th>Outlet_Type</th><th>Item_Outlet_Sales</th><th>Flag</th></tr></thead><tbody><tr><td>FDR07</td><td>21.35</td><td>Low Fat</td><td>0.078060605</td><td>Fruits and Vegetables</td><td>96.0094</td><td>OUT018</td><td>2009</td><td>Medium</td><td>Tier 3</td><td>Supermarket Type2</td><td>380.8376</td><td>random</td></tr><tr><td>FDR07</td><td>21.35</td><td>Low Fat</td><td>0.130127365</td><td>Fruits and Vegetables</td><td>96.2094</td><td>OUT010</td><td>1998</td><td>null</td><td>Tier 3</td><td>Grocery Store</td><td>190.4188</td><td>random</td></tr><tr><td>FDC02</td><td>21.35</td><td>Low Fat</td><td>0.115194717</td><td>Canned</td><td>258.3278</td><td>OUT010</td><td>1998</td><td>null</td><td>Tier 3</td><td>Grocery Store</td><td>520.6556</td><td>random</td></tr><tr><td>FDC02</td><td>21.35</td><td>Low Fat</td><td>0.068822477</td><td>Canned</td><td>258.3278</td><td>OUT046</td><td>1997</td><td>Small</td><td>Tier 1</td><td>Supermarket Type1</td><td>7028.8506</td><td>random</td></tr><tr><td>FDC02</td><td>21.35</td><td>Low Fat</td><td>0.068809463</td><td>Canned</td><td>258.5278</td><td>OUT035</td><td>2004</td><td>Small</td><td>Tier 2</td><td>Supermarket Type1</td><td>5206.556</td><td>random</td></tr><tr><td>FDC02</td><td>21.35</td><td>Low Fat</td><td>0.069102831</td><td>Canned</td><td>259.9278</td><td>OUT018</td><td>2009</td><td>Medium</td><td>Tier 3</td><td>Supermarket Type2</td><td>6768.5228</td><td>random</td></tr><tr><td>FDC02</td><td>21.35</td><td>Low Fat</td><td>0.068765205</td><td>Canned</td><td>260.4278</td><td>OUT013</td><td>1987</td><td>High</td><td>Tier 3</td><td>Supermarket Type1</td><td>3644.5892</td><td>random</td></tr><tr><td>FDQ21</td><td>21.25</td><td>low fat</td><td>0.019407069</td><td>Snack Foods</td><td>119.3756</td><td>OUT013</td><td>1987</td><td>High</td><td>Tier 3</td><td>Supermarket Type1</td><td>3271.7412</td><td>random</td></tr><tr><td>FDQ21</td><td>21.25</td><td>Low Fat</td><td>0.019533098</td><td>Snack Foods</td><td>120.4756</td><td>OUT017</td><td>2007</td><td>null</td><td>Tier 2</td><td>Supermarket Type1</td><td>1938.8096</td><td>random</td></tr><tr><td>FDQ21</td><td>21.25</td><td>Low Fat</td><td>0.019502354</td><td>Snack Foods</td><td>120.8756</td><td>OUT018</td><td>2009</td><td>Medium</td><td>Tier 3</td><td>Supermarket Type2</td><td>3150.5656</td><td>random</td></tr><tr><td>FDQ21</td><td>21.25</td><td>Low Fat</td><td>0.019423232</td><td>Snack Foods</td><td>120.8756</td><td>OUT046</td><td>1997</td><td>Small</td><td>Tier 1</td><td>Supermarket Type1</td><td>3150.5656</td><td>random</td></tr><tr><td>FDQ21</td><td>21.25</td><td>Low Fat</td><td>0.019462623</td><td>Snack Foods</td><td>120.8756</td><td>OUT045</td><td>2002</td><td>null</td><td>Tier 2</td><td>Supermarket Type1</td><td>1575.2828</td><td>random</td></tr><tr><td>FDQ21</td><td>21.25</td><td>Low Fat</td><td>0.01945343</td><td>Snack Foods</td><td>120.8756</td><td>OUT049</td><td>1999</td><td>Medium</td><td>Tier 1</td><td>Supermarket Type1</td><td>1454.1072</td><td>random</td></tr><tr><td>NCO42</td><td>21.25</td><td>Low Fat</td><td>0.024693927</td><td>Household</td><td>144.1102</td><td>OUT049</td><td>1999</td><td>Medium</td><td>Tier 1</td><td>Supermarket Type1</td><td>1749.7224</td><td>random</td></tr><tr><td>NCO42</td><td>21.25</td><td>Low Fat</td><td>0.024705597</td><td>Household</td><td>145.1102</td><td>OUT045</td><td>2002</td><td>null</td><td>Tier 2</td><td>Supermarket Type1</td><td>1603.9122</td><td>random</td></tr><tr><td>NCO42</td><td>21.25</td><td>Low Fat</td><td>0.024650932</td><td>Household</td><td>146.0102</td><td>OUT035</td><td>2004</td><td>Small</td><td>Tier 2</td><td>Supermarket Type1</td><td>2916.204</td><td>random</td></tr><tr><td>NCO42</td><td>21.25</td><td>Low Fat</td><td>0.024756031</td><td>Household</td><td>146.7102</td><td>OUT018</td><td>2009</td><td>Medium</td><td>Tier 3</td><td>Supermarket Type2</td><td>1603.9122</td><td>random</td></tr><tr><td>NCO42</td><td>21.25</td><td>Low Fat</td><td>0.024795057</td><td>Household</td><td>147.4102</td><td>OUT017</td><td>2007</td><td>null</td><td>Tier 2</td><td>Supermarket Type1</td><td>3791.0652</td><td>random</td></tr><tr><td>FDA45</td><td>21.25</td><td>Low Fat</td><td>0.155250377</td><td>Snack Foods</td><td>175.737</td><td>OUT013</td><td>1987</td><td>High</td><td>Tier 3</td><td>Supermarket Type1</td><td>2117.244</td><td>random</td></tr><tr><td>FDA45</td><td>21.25</td><td>Low Fat</td><td>0.156012631</td><td>Snack Foods</td><td>177.337</td><td>OUT018</td><td>2009</td><td>Medium</td><td>Tier 3</td><td>Supermarket Type2</td><td>2822.992</td><td>random</td></tr></tbody></table></div>"
      ]
     },
     "metadata": {
      "application/vnd.databricks.v1+output": {
       "addedWidgets": {},
       "aggData": [],
       "aggError": "",
       "aggOverflow": false,
       "aggSchema": [],
       "aggSeriesLimitReached": false,
       "aggType": "",
       "arguments": {},
       "columnCustomDisplayInfos": {},
       "data": [
        [
         "FDR07",
         21.35,
         "Low Fat",
         0.078060605,
         "Fruits and Vegetables",
         96.0094,
         "OUT018",
         2009,
         "Medium",
         "Tier 3",
         "Supermarket Type2",
         380.8376,
         "random"
        ],
        [
         "FDR07",
         21.35,
         "Low Fat",
         0.130127365,
         "Fruits and Vegetables",
         96.2094,
         "OUT010",
         1998,
         null,
         "Tier 3",
         "Grocery Store",
         190.4188,
         "random"
        ],
        [
         "FDC02",
         21.35,
         "Low Fat",
         0.115194717,
         "Canned",
         258.3278,
         "OUT010",
         1998,
         null,
         "Tier 3",
         "Grocery Store",
         520.6556,
         "random"
        ],
        [
         "FDC02",
         21.35,
         "Low Fat",
         0.068822477,
         "Canned",
         258.3278,
         "OUT046",
         1997,
         "Small",
         "Tier 1",
         "Supermarket Type1",
         7028.8506,
         "random"
        ],
        [
         "FDC02",
         21.35,
         "Low Fat",
         0.068809463,
         "Canned",
         258.5278,
         "OUT035",
         2004,
         "Small",
         "Tier 2",
         "Supermarket Type1",
         5206.556,
         "random"
        ],
        [
         "FDC02",
         21.35,
         "Low Fat",
         0.069102831,
         "Canned",
         259.9278,
         "OUT018",
         2009,
         "Medium",
         "Tier 3",
         "Supermarket Type2",
         6768.5228,
         "random"
        ],
        [
         "FDC02",
         21.35,
         "Low Fat",
         0.068765205,
         "Canned",
         260.4278,
         "OUT013",
         1987,
         "High",
         "Tier 3",
         "Supermarket Type1",
         3644.5892,
         "random"
        ],
        [
         "FDQ21",
         21.25,
         "low fat",
         0.019407069,
         "Snack Foods",
         119.3756,
         "OUT013",
         1987,
         "High",
         "Tier 3",
         "Supermarket Type1",
         3271.7412,
         "random"
        ],
        [
         "FDQ21",
         21.25,
         "Low Fat",
         0.019533098,
         "Snack Foods",
         120.4756,
         "OUT017",
         2007,
         null,
         "Tier 2",
         "Supermarket Type1",
         1938.8096,
         "random"
        ],
        [
         "FDQ21",
         21.25,
         "Low Fat",
         0.019502354,
         "Snack Foods",
         120.8756,
         "OUT018",
         2009,
         "Medium",
         "Tier 3",
         "Supermarket Type2",
         3150.5656,
         "random"
        ],
        [
         "FDQ21",
         21.25,
         "Low Fat",
         0.019423232,
         "Snack Foods",
         120.8756,
         "OUT046",
         1997,
         "Small",
         "Tier 1",
         "Supermarket Type1",
         3150.5656,
         "random"
        ],
        [
         "FDQ21",
         21.25,
         "Low Fat",
         0.019462623,
         "Snack Foods",
         120.8756,
         "OUT045",
         2002,
         null,
         "Tier 2",
         "Supermarket Type1",
         1575.2828,
         "random"
        ],
        [
         "FDQ21",
         21.25,
         "Low Fat",
         0.01945343,
         "Snack Foods",
         120.8756,
         "OUT049",
         1999,
         "Medium",
         "Tier 1",
         "Supermarket Type1",
         1454.1072,
         "random"
        ],
        [
         "NCO42",
         21.25,
         "Low Fat",
         0.024693927,
         "Household",
         144.1102,
         "OUT049",
         1999,
         "Medium",
         "Tier 1",
         "Supermarket Type1",
         1749.7224,
         "random"
        ],
        [
         "NCO42",
         21.25,
         "Low Fat",
         0.024705597,
         "Household",
         145.1102,
         "OUT045",
         2002,
         null,
         "Tier 2",
         "Supermarket Type1",
         1603.9122,
         "random"
        ],
        [
         "NCO42",
         21.25,
         "Low Fat",
         0.024650932,
         "Household",
         146.0102,
         "OUT035",
         2004,
         "Small",
         "Tier 2",
         "Supermarket Type1",
         2916.204,
         "random"
        ],
        [
         "NCO42",
         21.25,
         "Low Fat",
         0.024756031,
         "Household",
         146.7102,
         "OUT018",
         2009,
         "Medium",
         "Tier 3",
         "Supermarket Type2",
         1603.9122,
         "random"
        ],
        [
         "NCO42",
         21.25,
         "Low Fat",
         0.024795057,
         "Household",
         147.4102,
         "OUT017",
         2007,
         null,
         "Tier 2",
         "Supermarket Type1",
         3791.0652,
         "random"
        ],
        [
         "FDA45",
         21.25,
         "Low Fat",
         0.155250377,
         "Snack Foods",
         175.737,
         "OUT013",
         1987,
         "High",
         "Tier 3",
         "Supermarket Type1",
         2117.244,
         "random"
        ],
        [
         "FDA45",
         21.25,
         "Low Fat",
         0.156012631,
         "Snack Foods",
         177.337,
         "OUT018",
         2009,
         "Medium",
         "Tier 3",
         "Supermarket Type2",
         2822.992,
         "random"
        ]
       ],
       "datasetInfos": [],
       "dbfsResultPath": null,
       "isJsonSchema": true,
       "metadata": {},
       "overflow": false,
       "plotOptions": {
        "customPlotOptions": {},
        "displayType": "table",
        "pivotAggregation": null,
        "pivotColumns": null,
        "xColumns": null,
        "yColumns": null
       },
       "removedWidgets": [],
       "schema": [
        {
         "metadata": "{}",
         "name": "Item_Identifier",
         "type": "\"string\""
        },
        {
         "metadata": "{}",
         "name": "Item_Weight",
         "type": "\"double\""
        },
        {
         "metadata": "{}",
         "name": "Item_Fat_Content",
         "type": "\"string\""
        },
        {
         "metadata": "{}",
         "name": "Item_Visibility",
         "type": "\"double\""
        },
        {
         "metadata": "{}",
         "name": "Item_Type",
         "type": "\"string\""
        },
        {
         "metadata": "{}",
         "name": "Item_MRP",
         "type": "\"double\""
        },
        {
         "metadata": "{}",
         "name": "Outlet_Identifier",
         "type": "\"string\""
        },
        {
         "metadata": "{}",
         "name": "Outlet_Establishment_Year",
         "type": "\"integer\""
        },
        {
         "metadata": "{}",
         "name": "Outlet_Size",
         "type": "\"string\""
        },
        {
         "metadata": "{}",
         "name": "Outlet_Location_Type",
         "type": "\"string\""
        },
        {
         "metadata": "{}",
         "name": "Outlet_Type",
         "type": "\"string\""
        },
        {
         "metadata": "{}",
         "name": "Item_Outlet_Sales",
         "type": "\"double\""
        },
        {
         "metadata": "{}",
         "name": "Flag",
         "type": "\"string\""
        }
       ],
       "type": "table"
      }
     },
     "output_type": "display_data"
    }
   ],
   "source": [
    "df.sort([\"Item_Weight\",\"Item_MRP\"], ascending=[0,1]).limit(20).display()"
   ]
  },
  {
   "cell_type": "markdown",
   "metadata": {
    "application/vnd.databricks.v1+cell": {
     "cellMetadata": {
      "byteLimit": 2048000,
      "rowLimit": 10000
     },
     "inputWidgets": {},
     "nuid": "d2712726-005a-4217-99ef-d68de36b0986",
     "showTitle": false,
     "tableResultSettingsMap": {},
     "title": ""
    }
   },
   "source": [
    "###Limit"
   ]
  },
  {
   "cell_type": "code",
   "execution_count": 0,
   "metadata": {
    "application/vnd.databricks.v1+cell": {
     "cellMetadata": {
      "byteLimit": 2048000,
      "rowLimit": 10000
     },
     "inputWidgets": {},
     "nuid": "82ce9423-8551-4045-95d6-2bc6af0b406a",
     "showTitle": false,
     "tableResultSettingsMap": {},
     "title": ""
    }
   },
   "outputs": [
    {
     "output_type": "display_data",
     "data": {
      "text/html": [
       "<style scoped>\n",
       "  .table-result-container {\n",
       "    max-height: 300px;\n",
       "    overflow: auto;\n",
       "  }\n",
       "  table, th, td {\n",
       "    border: 1px solid black;\n",
       "    border-collapse: collapse;\n",
       "  }\n",
       "  th, td {\n",
       "    padding: 5px;\n",
       "  }\n",
       "  th {\n",
       "    text-align: left;\n",
       "  }\n",
       "</style><div class='table-result-container'><table class='table-result'><thead style='background-color: white'><tr><th>Item_Identifier</th><th>Item_Weight</th><th>Item_Fat_Content</th><th>Item_Visibility</th><th>Item_Type</th><th>Item_MRP</th><th>Outlet_Identifier</th><th>Outlet_Establishment_Year</th><th>Outlet_Size</th><th>Outlet_Location_Type</th><th>Outlet_Type</th><th>Item_Outlet_Sales</th><th>Flag</th></tr></thead><tbody><tr><td>FDA15</td><td>9.3</td><td>Low Fat</td><td>0.016047301</td><td>Dairy</td><td>249.8092</td><td>OUT049</td><td>1999</td><td>Medium</td><td>Tier 1</td><td>Supermarket Type1</td><td>3735.138</td><td>random</td></tr><tr><td>DRC01</td><td>5.92</td><td>Reg</td><td>0.019278216</td><td>Soft Drinks</td><td>48.2692</td><td>OUT018</td><td>2009</td><td>Medium</td><td>Tier 3</td><td>Supermarket Type2</td><td>443.4228</td><td>random</td></tr><tr><td>FDN15</td><td>17.5</td><td>Low Fat</td><td>0.016760075</td><td>Meat</td><td>141.618</td><td>OUT049</td><td>1999</td><td>Medium</td><td>Tier 1</td><td>Supermarket Type1</td><td>2097.27</td><td>random</td></tr><tr><td>FDX07</td><td>19.2</td><td>Reg</td><td>0.0</td><td>Fruits and Vegetables</td><td>182.095</td><td>OUT010</td><td>1998</td><td>null</td><td>Tier 3</td><td>Grocery Store</td><td>732.38</td><td>random</td></tr><tr><td>NCD19</td><td>8.93</td><td>Low Fat</td><td>0.0</td><td>Household</td><td>53.8614</td><td>OUT013</td><td>1987</td><td>High</td><td>Tier 3</td><td>Supermarket Type1</td><td>994.7052</td><td>random</td></tr><tr><td>FDP36</td><td>10.395</td><td>Reg</td><td>0.0</td><td>Baking Goods</td><td>51.4008</td><td>OUT018</td><td>2009</td><td>Medium</td><td>Tier 3</td><td>Supermarket Type2</td><td>556.6088</td><td>random</td></tr><tr><td>FDO10</td><td>13.65</td><td>Reg</td><td>0.012741089</td><td>Snack Foods</td><td>57.6588</td><td>OUT013</td><td>1987</td><td>High</td><td>Tier 3</td><td>Supermarket Type1</td><td>343.5528</td><td>random</td></tr><tr><td>FDP10</td><td>null</td><td>Low Fat</td><td>0.127469857</td><td>Snack Foods</td><td>107.7622</td><td>OUT027</td><td>1985</td><td>Medium</td><td>Tier 3</td><td>Supermarket Type3</td><td>4022.7636</td><td>random</td></tr><tr><td>FDH17</td><td>16.2</td><td>Reg</td><td>0.016687114</td><td>Frozen Foods</td><td>96.9726</td><td>OUT045</td><td>2002</td><td>null</td><td>Tier 2</td><td>Supermarket Type1</td><td>1076.5986</td><td>random</td></tr><tr><td>FDU28</td><td>19.2</td><td>Reg</td><td>0.09444959</td><td>Frozen Foods</td><td>187.8214</td><td>OUT017</td><td>2007</td><td>null</td><td>Tier 2</td><td>Supermarket Type1</td><td>4710.535</td><td>random</td></tr></tbody></table></div>"
      ]
     },
     "metadata": {
      "application/vnd.databricks.v1+output": {
       "addedWidgets": {},
       "aggData": [],
       "aggError": "",
       "aggOverflow": false,
       "aggSchema": [],
       "aggSeriesLimitReached": false,
       "aggType": "",
       "arguments": {},
       "columnCustomDisplayInfos": {},
       "data": [
        [
         "FDA15",
         9.3,
         "Low Fat",
         0.016047301,
         "Dairy",
         249.8092,
         "OUT049",
         1999,
         "Medium",
         "Tier 1",
         "Supermarket Type1",
         3735.138,
         "random"
        ],
        [
         "DRC01",
         5.92,
         "Reg",
         0.019278216,
         "Soft Drinks",
         48.2692,
         "OUT018",
         2009,
         "Medium",
         "Tier 3",
         "Supermarket Type2",
         443.4228,
         "random"
        ],
        [
         "FDN15",
         17.5,
         "Low Fat",
         0.016760075,
         "Meat",
         141.618,
         "OUT049",
         1999,
         "Medium",
         "Tier 1",
         "Supermarket Type1",
         2097.27,
         "random"
        ],
        [
         "FDX07",
         19.2,
         "Reg",
         0.0,
         "Fruits and Vegetables",
         182.095,
         "OUT010",
         1998,
         null,
         "Tier 3",
         "Grocery Store",
         732.38,
         "random"
        ],
        [
         "NCD19",
         8.93,
         "Low Fat",
         0.0,
         "Household",
         53.8614,
         "OUT013",
         1987,
         "High",
         "Tier 3",
         "Supermarket Type1",
         994.7052,
         "random"
        ],
        [
         "FDP36",
         10.395,
         "Reg",
         0.0,
         "Baking Goods",
         51.4008,
         "OUT018",
         2009,
         "Medium",
         "Tier 3",
         "Supermarket Type2",
         556.6088,
         "random"
        ],
        [
         "FDO10",
         13.65,
         "Reg",
         0.012741089,
         "Snack Foods",
         57.6588,
         "OUT013",
         1987,
         "High",
         "Tier 3",
         "Supermarket Type1",
         343.5528,
         "random"
        ],
        [
         "FDP10",
         null,
         "Low Fat",
         0.127469857,
         "Snack Foods",
         107.7622,
         "OUT027",
         1985,
         "Medium",
         "Tier 3",
         "Supermarket Type3",
         4022.7636,
         "random"
        ],
        [
         "FDH17",
         16.2,
         "Reg",
         0.016687114,
         "Frozen Foods",
         96.9726,
         "OUT045",
         2002,
         null,
         "Tier 2",
         "Supermarket Type1",
         1076.5986,
         "random"
        ],
        [
         "FDU28",
         19.2,
         "Reg",
         0.09444959,
         "Frozen Foods",
         187.8214,
         "OUT017",
         2007,
         null,
         "Tier 2",
         "Supermarket Type1",
         4710.535,
         "random"
        ]
       ],
       "datasetInfos": [],
       "dbfsResultPath": null,
       "isJsonSchema": true,
       "metadata": {},
       "overflow": false,
       "plotOptions": {
        "customPlotOptions": {},
        "displayType": "table",
        "pivotAggregation": null,
        "pivotColumns": null,
        "xColumns": null,
        "yColumns": null
       },
       "removedWidgets": [],
       "schema": [
        {
         "metadata": "{}",
         "name": "Item_Identifier",
         "type": "\"string\""
        },
        {
         "metadata": "{}",
         "name": "Item_Weight",
         "type": "\"double\""
        },
        {
         "metadata": "{}",
         "name": "Item_Fat_Content",
         "type": "\"string\""
        },
        {
         "metadata": "{}",
         "name": "Item_Visibility",
         "type": "\"double\""
        },
        {
         "metadata": "{}",
         "name": "Item_Type",
         "type": "\"string\""
        },
        {
         "metadata": "{}",
         "name": "Item_MRP",
         "type": "\"double\""
        },
        {
         "metadata": "{}",
         "name": "Outlet_Identifier",
         "type": "\"string\""
        },
        {
         "metadata": "{}",
         "name": "Outlet_Establishment_Year",
         "type": "\"integer\""
        },
        {
         "metadata": "{}",
         "name": "Outlet_Size",
         "type": "\"string\""
        },
        {
         "metadata": "{}",
         "name": "Outlet_Location_Type",
         "type": "\"string\""
        },
        {
         "metadata": "{}",
         "name": "Outlet_Type",
         "type": "\"string\""
        },
        {
         "metadata": "{}",
         "name": "Item_Outlet_Sales",
         "type": "\"double\""
        },
        {
         "metadata": "{}",
         "name": "Flag",
         "type": "\"string\""
        }
       ],
       "type": "table"
      }
     },
     "output_type": "display_data"
    }
   ],
   "source": [
    "df.limit(10).display()"
   ]
  },
  {
   "cell_type": "markdown",
   "metadata": {
    "application/vnd.databricks.v1+cell": {
     "cellMetadata": {
      "byteLimit": 2048000,
      "rowLimit": 10000
     },
     "inputWidgets": {},
     "nuid": "b3ff90ce-976f-44b9-a6ce-04e88bf92582",
     "showTitle": false,
     "tableResultSettingsMap": {},
     "title": ""
    }
   },
   "source": [
    "#### Drop"
   ]
  },
  {
   "cell_type": "code",
   "execution_count": 0,
   "metadata": {
    "application/vnd.databricks.v1+cell": {
     "cellMetadata": {
      "byteLimit": 2048000,
      "rowLimit": 10000
     },
     "inputWidgets": {},
     "nuid": "d4c81fa1-a32e-48b0-88be-77e67bf58dd3",
     "showTitle": false,
     "tableResultSettingsMap": {},
     "title": ""
    }
   },
   "outputs": [
    {
     "output_type": "execute_result",
     "data": {
      "text/plain": [
       "DataFrame[Item_Identifier: string, Item_Weight: double, Item_Fat_Content: string, Item_Visibility: double, Item_Type: string, Item_MRP: double, Outlet_Identifier: string, Outlet_Establishment_Year: int, Outlet_Size: string, Outlet_Location_Type: string, Outlet_Type: string, Item_Outlet_Sales: double, Flag: string, dup_Item_weight: double]"
      ]
     },
     "execution_count": 137,
     "metadata": {},
     "output_type": "execute_result"
    }
   ],
   "source": [
    "df = df.withColumn(\"dup_Item_weight\", col(\"Item_Weight\"))\n",
    "df"
   ]
  },
  {
   "cell_type": "code",
   "execution_count": 0,
   "metadata": {
    "application/vnd.databricks.v1+cell": {
     "cellMetadata": {
      "byteLimit": 2048000,
      "rowLimit": 10000
     },
     "inputWidgets": {},
     "nuid": "dcdbc044-acf1-4f76-8544-83c59918207b",
     "showTitle": false,
     "tableResultSettingsMap": {},
     "title": ""
    }
   },
   "outputs": [
    {
     "output_type": "display_data",
     "data": {
      "text/html": [
       "<style scoped>\n",
       "  .table-result-container {\n",
       "    max-height: 300px;\n",
       "    overflow: auto;\n",
       "  }\n",
       "  table, th, td {\n",
       "    border: 1px solid black;\n",
       "    border-collapse: collapse;\n",
       "  }\n",
       "  th, td {\n",
       "    padding: 5px;\n",
       "  }\n",
       "  th {\n",
       "    text-align: left;\n",
       "  }\n",
       "</style><div class='table-result-container'><table class='table-result'><thead style='background-color: white'><tr><th>Item_Identifier</th><th>Item_Weight</th><th>Item_Fat_Content</th><th>Item_Visibility</th><th>Item_Type</th><th>Item_MRP</th><th>Outlet_Identifier</th><th>Outlet_Establishment_Year</th><th>Outlet_Size</th><th>Outlet_Location_Type</th><th>Outlet_Type</th><th>Item_Outlet_Sales</th><th>Flag</th></tr></thead><tbody><tr><td>FDA15</td><td>9.3</td><td>Low Fat</td><td>0.016047301</td><td>Dairy</td><td>249.8092</td><td>OUT049</td><td>1999</td><td>Medium</td><td>Tier 1</td><td>Supermarket Type1</td><td>3735.138</td><td>random</td></tr><tr><td>DRC01</td><td>5.92</td><td>Reg</td><td>0.019278216</td><td>Soft Drinks</td><td>48.2692</td><td>OUT018</td><td>2009</td><td>Medium</td><td>Tier 3</td><td>Supermarket Type2</td><td>443.4228</td><td>random</td></tr></tbody></table></div>"
      ]
     },
     "metadata": {
      "application/vnd.databricks.v1+output": {
       "addedWidgets": {},
       "aggData": [],
       "aggError": "",
       "aggOverflow": false,
       "aggSchema": [],
       "aggSeriesLimitReached": false,
       "aggType": "",
       "arguments": {},
       "columnCustomDisplayInfos": {},
       "data": [
        [
         "FDA15",
         9.3,
         "Low Fat",
         0.016047301,
         "Dairy",
         249.8092,
         "OUT049",
         1999,
         "Medium",
         "Tier 1",
         "Supermarket Type1",
         3735.138,
         "random"
        ],
        [
         "DRC01",
         5.92,
         "Reg",
         0.019278216,
         "Soft Drinks",
         48.2692,
         "OUT018",
         2009,
         "Medium",
         "Tier 3",
         "Supermarket Type2",
         443.4228,
         "random"
        ]
       ],
       "datasetInfos": [],
       "dbfsResultPath": null,
       "isJsonSchema": true,
       "metadata": {},
       "overflow": false,
       "plotOptions": {
        "customPlotOptions": {},
        "displayType": "table",
        "pivotAggregation": null,
        "pivotColumns": null,
        "xColumns": null,
        "yColumns": null
       },
       "removedWidgets": [],
       "schema": [
        {
         "metadata": "{}",
         "name": "Item_Identifier",
         "type": "\"string\""
        },
        {
         "metadata": "{}",
         "name": "Item_Weight",
         "type": "\"double\""
        },
        {
         "metadata": "{}",
         "name": "Item_Fat_Content",
         "type": "\"string\""
        },
        {
         "metadata": "{}",
         "name": "Item_Visibility",
         "type": "\"double\""
        },
        {
         "metadata": "{}",
         "name": "Item_Type",
         "type": "\"string\""
        },
        {
         "metadata": "{}",
         "name": "Item_MRP",
         "type": "\"double\""
        },
        {
         "metadata": "{}",
         "name": "Outlet_Identifier",
         "type": "\"string\""
        },
        {
         "metadata": "{}",
         "name": "Outlet_Establishment_Year",
         "type": "\"integer\""
        },
        {
         "metadata": "{}",
         "name": "Outlet_Size",
         "type": "\"string\""
        },
        {
         "metadata": "{}",
         "name": "Outlet_Location_Type",
         "type": "\"string\""
        },
        {
         "metadata": "{}",
         "name": "Outlet_Type",
         "type": "\"string\""
        },
        {
         "metadata": "{}",
         "name": "Item_Outlet_Sales",
         "type": "\"double\""
        },
        {
         "metadata": "{}",
         "name": "Flag",
         "type": "\"string\""
        }
       ],
       "type": "table"
      }
     },
     "output_type": "display_data"
    }
   ],
   "source": [
    "df = df.drop(\"dup_Item_weight\")\n",
    "df.limit(2).display()"
   ]
  },
  {
   "cell_type": "code",
   "execution_count": 0,
   "metadata": {
    "application/vnd.databricks.v1+cell": {
     "cellMetadata": {
      "byteLimit": 2048000,
      "rowLimit": 10000
     },
     "inputWidgets": {},
     "nuid": "594f38a7-2c6c-40e7-9ccf-9a3ad074516a",
     "showTitle": false,
     "tableResultSettingsMap": {},
     "title": ""
    }
   },
   "outputs": [
    {
     "output_type": "display_data",
     "data": {
      "text/html": [
       "<style scoped>\n",
       "  .table-result-container {\n",
       "    max-height: 300px;\n",
       "    overflow: auto;\n",
       "  }\n",
       "  table, th, td {\n",
       "    border: 1px solid black;\n",
       "    border-collapse: collapse;\n",
       "  }\n",
       "  th, td {\n",
       "    padding: 5px;\n",
       "  }\n",
       "  th {\n",
       "    text-align: left;\n",
       "  }\n",
       "</style><div class='table-result-container'><table class='table-result'><thead style='background-color: white'><tr><th>Item_Fat_Content</th><th>Item_Visibility</th><th>Item_Type</th><th>Item_MRP</th><th>Outlet_Identifier</th><th>Outlet_Establishment_Year</th><th>Outlet_Size</th><th>Outlet_Location_Type</th><th>Outlet_Type</th><th>Item_Outlet_Sales</th><th>Flag</th></tr></thead><tbody><tr><td>Low Fat</td><td>0.016047301</td><td>Dairy</td><td>249.8092</td><td>OUT049</td><td>1999</td><td>Medium</td><td>Tier 1</td><td>Supermarket Type1</td><td>3735.138</td><td>random</td></tr><tr><td>Reg</td><td>0.019278216</td><td>Soft Drinks</td><td>48.2692</td><td>OUT018</td><td>2009</td><td>Medium</td><td>Tier 3</td><td>Supermarket Type2</td><td>443.4228</td><td>random</td></tr><tr><td>Low Fat</td><td>0.016760075</td><td>Meat</td><td>141.618</td><td>OUT049</td><td>1999</td><td>Medium</td><td>Tier 1</td><td>Supermarket Type1</td><td>2097.27</td><td>random</td></tr><tr><td>Reg</td><td>0.0</td><td>Fruits and Vegetables</td><td>182.095</td><td>OUT010</td><td>1998</td><td>null</td><td>Tier 3</td><td>Grocery Store</td><td>732.38</td><td>random</td></tr><tr><td>Low Fat</td><td>0.0</td><td>Household</td><td>53.8614</td><td>OUT013</td><td>1987</td><td>High</td><td>Tier 3</td><td>Supermarket Type1</td><td>994.7052</td><td>random</td></tr></tbody></table></div>"
      ]
     },
     "metadata": {
      "application/vnd.databricks.v1+output": {
       "addedWidgets": {},
       "aggData": [],
       "aggError": "",
       "aggOverflow": false,
       "aggSchema": [],
       "aggSeriesLimitReached": false,
       "aggType": "",
       "arguments": {},
       "columnCustomDisplayInfos": {},
       "data": [
        [
         "Low Fat",
         0.016047301,
         "Dairy",
         249.8092,
         "OUT049",
         1999,
         "Medium",
         "Tier 1",
         "Supermarket Type1",
         3735.138,
         "random"
        ],
        [
         "Reg",
         0.019278216,
         "Soft Drinks",
         48.2692,
         "OUT018",
         2009,
         "Medium",
         "Tier 3",
         "Supermarket Type2",
         443.4228,
         "random"
        ],
        [
         "Low Fat",
         0.016760075,
         "Meat",
         141.618,
         "OUT049",
         1999,
         "Medium",
         "Tier 1",
         "Supermarket Type1",
         2097.27,
         "random"
        ],
        [
         "Reg",
         0.0,
         "Fruits and Vegetables",
         182.095,
         "OUT010",
         1998,
         null,
         "Tier 3",
         "Grocery Store",
         732.38,
         "random"
        ],
        [
         "Low Fat",
         0.0,
         "Household",
         53.8614,
         "OUT013",
         1987,
         "High",
         "Tier 3",
         "Supermarket Type1",
         994.7052,
         "random"
        ]
       ],
       "datasetInfos": [],
       "dbfsResultPath": null,
       "isJsonSchema": true,
       "metadata": {},
       "overflow": false,
       "plotOptions": {
        "customPlotOptions": {},
        "displayType": "table",
        "pivotAggregation": null,
        "pivotColumns": null,
        "xColumns": null,
        "yColumns": null
       },
       "removedWidgets": [],
       "schema": [
        {
         "metadata": "{}",
         "name": "Item_Fat_Content",
         "type": "\"string\""
        },
        {
         "metadata": "{}",
         "name": "Item_Visibility",
         "type": "\"double\""
        },
        {
         "metadata": "{}",
         "name": "Item_Type",
         "type": "\"string\""
        },
        {
         "metadata": "{}",
         "name": "Item_MRP",
         "type": "\"double\""
        },
        {
         "metadata": "{}",
         "name": "Outlet_Identifier",
         "type": "\"string\""
        },
        {
         "metadata": "{}",
         "name": "Outlet_Establishment_Year",
         "type": "\"integer\""
        },
        {
         "metadata": "{}",
         "name": "Outlet_Size",
         "type": "\"string\""
        },
        {
         "metadata": "{}",
         "name": "Outlet_Location_Type",
         "type": "\"string\""
        },
        {
         "metadata": "{}",
         "name": "Outlet_Type",
         "type": "\"string\""
        },
        {
         "metadata": "{}",
         "name": "Item_Outlet_Sales",
         "type": "\"double\""
        },
        {
         "metadata": "{}",
         "name": "Flag",
         "type": "\"string\""
        }
       ],
       "type": "table"
      }
     },
     "output_type": "display_data"
    }
   ],
   "source": [
    "df.drop(\"Item_weight\", \"Item_Identifier\").limit(5).display()"
   ]
  },
  {
   "cell_type": "markdown",
   "metadata": {
    "application/vnd.databricks.v1+cell": {
     "cellMetadata": {
      "byteLimit": 2048000,
      "rowLimit": 10000
     },
     "inputWidgets": {},
     "nuid": "d548cdb5-96d9-4cbf-82a0-3e38d613e886",
     "showTitle": false,
     "tableResultSettingsMap": {},
     "title": ""
    }
   },
   "source": [
    "## Dropduplicates"
   ]
  },
  {
   "cell_type": "code",
   "execution_count": 0,
   "metadata": {
    "application/vnd.databricks.v1+cell": {
     "cellMetadata": {
      "byteLimit": 2048000,
      "rowLimit": 10000
     },
     "inputWidgets": {},
     "nuid": "574b8975-3596-4385-bd89-0914b2a8742c",
     "showTitle": false,
     "tableResultSettingsMap": {},
     "title": ""
    }
   },
   "outputs": [
    {
     "output_type": "execute_result",
     "data": {
      "text/plain": [
       "8523"
      ]
     },
     "execution_count": 140,
     "metadata": {},
     "output_type": "execute_result"
    }
   ],
   "source": [
    "df.count()"
   ]
  },
  {
   "cell_type": "code",
   "execution_count": 0,
   "metadata": {
    "application/vnd.databricks.v1+cell": {
     "cellMetadata": {
      "byteLimit": 2048000,
      "rowLimit": 10000
     },
     "inputWidgets": {},
     "nuid": "94cc8412-6245-4b00-a050-39ba085ad66d",
     "showTitle": false,
     "tableResultSettingsMap": {},
     "title": ""
    }
   },
   "outputs": [
    {
     "output_type": "execute_result",
     "data": {
      "text/plain": [
       "8523"
      ]
     },
     "execution_count": 141,
     "metadata": {},
     "output_type": "execute_result"
    }
   ],
   "source": [
    "df.drop_duplicates().count()"
   ]
  },
  {
   "cell_type": "code",
   "execution_count": 0,
   "metadata": {
    "application/vnd.databricks.v1+cell": {
     "cellMetadata": {
      "byteLimit": 2048000,
      "rowLimit": 10000
     },
     "inputWidgets": {},
     "nuid": "71b9104a-b348-4782-a504-545982068b0f",
     "showTitle": false,
     "tableResultSettingsMap": {},
     "title": ""
    }
   },
   "outputs": [
    {
     "output_type": "display_data",
     "data": {
      "text/html": [
       "<style scoped>\n",
       "  .table-result-container {\n",
       "    max-height: 300px;\n",
       "    overflow: auto;\n",
       "  }\n",
       "  table, th, td {\n",
       "    border: 1px solid black;\n",
       "    border-collapse: collapse;\n",
       "  }\n",
       "  th, td {\n",
       "    padding: 5px;\n",
       "  }\n",
       "  th {\n",
       "    text-align: left;\n",
       "  }\n",
       "</style><div class='table-result-container'><table class='table-result'><thead style='background-color: white'><tr><th>Item_Identifier</th><th>Item_Weight</th><th>Item_Fat_Content</th><th>Item_Visibility</th><th>Item_Type</th><th>Item_MRP</th><th>Outlet_Identifier</th><th>Outlet_Establishment_Year</th><th>Outlet_Size</th><th>Outlet_Location_Type</th><th>Outlet_Type</th><th>Item_Outlet_Sales</th><th>Flag</th></tr></thead><tbody><tr><td>FDC37</td><td>null</td><td>Low Fat</td><td>0.057556998</td><td>Baking Goods</td><td>107.6938</td><td>OUT019</td><td>1985</td><td>Small</td><td>Tier 1</td><td>Grocery Store</td><td>214.3876</td><td>random</td></tr><tr><td>FDP36</td><td>10.395</td><td>Reg</td><td>0.0</td><td>Baking Goods</td><td>51.4008</td><td>OUT018</td><td>2009</td><td>Medium</td><td>Tier 3</td><td>Supermarket Type2</td><td>556.6088</td><td>random</td></tr><tr><td>FDK48</td><td>7.445</td><td>low fat</td><td>0.0</td><td>Baking Goods</td><td>76.8354</td><td>OUT046</td><td>1997</td><td>Small</td><td>Tier 1</td><td>Supermarket Type1</td><td>2181.8266</td><td>random</td></tr><tr><td>FDF24</td><td>15.5</td><td>reg</td><td>0.025513973</td><td>Baking Goods</td><td>83.7934</td><td>OUT017</td><td>2007</td><td>null</td><td>Tier 2</td><td>Supermarket Type1</td><td>1474.0812</td><td>random</td></tr><tr><td>FDO23</td><td>17.85</td><td>Low Fat</td><td>0.0</td><td>Breads</td><td>93.1436</td><td>OUT045</td><td>2002</td><td>null</td><td>Tier 2</td><td>Supermarket Type1</td><td>2174.5028</td><td>random</td></tr><tr><td>FDV11</td><td>9.1</td><td>Reg</td><td>0.0</td><td>Breads</td><td>173.2054</td><td>OUT045</td><td>2002</td><td>null</td><td>Tier 2</td><td>Supermarket Type1</td><td>3151.8972</td><td>random</td></tr><tr><td>FDW35</td><td>null</td><td>low fat</td><td>0.0194158</td><td>Breads</td><td>41.6454</td><td>OUT019</td><td>1985</td><td>Small</td><td>Tier 1</td><td>Grocery Store</td><td>83.8908</td><td>random</td></tr><tr><td>FDY47</td><td>8.6</td><td>reg</td><td>0.054706408</td><td>Breads</td><td>128.931</td><td>OUT018</td><td>2009</td><td>Medium</td><td>Tier 3</td><td>Supermarket Type2</td><td>1428.141</td><td>random</td></tr><tr><td>FDN13</td><td>18.6</td><td>Low Fat</td><td>0.152918384</td><td>Breakfast</td><td>99.8358</td><td>OUT017</td><td>2007</td><td>null</td><td>Tier 2</td><td>Supermarket Type1</td><td>1910.1802</td><td>random</td></tr><tr><td>FDP49</td><td>9.0</td><td>Reg</td><td>0.069088961</td><td>Breakfast</td><td>56.3614</td><td>OUT046</td><td>1997</td><td>Small</td><td>Tier 1</td><td>Supermarket Type1</td><td>1547.3192</td><td>random</td></tr><tr><td>FDM01</td><td>7.895</td><td>reg</td><td>0.095102092</td><td>Breakfast</td><td>104.4332</td><td>OUT017</td><td>2007</td><td>null</td><td>Tier 2</td><td>Supermarket Type1</td><td>2870.9296</td><td>random</td></tr><tr><td>FDC02</td><td>21.35</td><td>Low Fat</td><td>0.069102831</td><td>Canned</td><td>259.9278</td><td>OUT018</td><td>2009</td><td>Medium</td><td>Tier 3</td><td>Supermarket Type2</td><td>6768.5228</td><td>random</td></tr><tr><td>FDC14</td><td>null</td><td>Reg</td><td>0.072221801</td><td>Canned</td><td>43.6454</td><td>OUT019</td><td>1985</td><td>Small</td><td>Tier 1</td><td>Grocery Store</td><td>125.8362</td><td>random</td></tr><tr><td>FDE02</td><td>8.71</td><td>low fat</td><td>0.121149472</td><td>Canned</td><td>93.7778</td><td>OUT013</td><td>1987</td><td>High</td><td>Tier 3</td><td>Supermarket Type1</td><td>1783.6782</td><td>random</td></tr><tr><td>FDX49</td><td>null</td><td>reg</td><td>0.101338651</td><td>Canned</td><td>232.63</td><td>OUT027</td><td>1985</td><td>Medium</td><td>Tier 3</td><td>Supermarket Type3</td><td>5359.69</td><td>random</td></tr><tr><td>FDA15</td><td>9.3</td><td>Low Fat</td><td>0.016047301</td><td>Dairy</td><td>249.8092</td><td>OUT049</td><td>1999</td><td>Medium</td><td>Tier 1</td><td>Supermarket Type1</td><td>3735.138</td><td>random</td></tr><tr><td>FDA03</td><td>18.5</td><td>Reg</td><td>0.045463773</td><td>Dairy</td><td>144.1102</td><td>OUT046</td><td>1997</td><td>Small</td><td>Tier 1</td><td>Supermarket Type1</td><td>2187.153</td><td>random</td></tr><tr><td>DRF27</td><td>8.93</td><td>low fat</td><td>0.028578012</td><td>Dairy</td><td>152.234</td><td>OUT017</td><td>2007</td><td>null</td><td>Tier 2</td><td>Supermarket Type1</td><td>3828.35</td><td>random</td></tr><tr><td>FDY26</td><td>20.6</td><td>reg</td><td>0.030510526</td><td>Dairy</td><td>211.4244</td><td>OUT046</td><td>1997</td><td>Small</td><td>Tier 1</td><td>Supermarket Type1</td><td>7833.8028</td><td>random</td></tr><tr><td>FDM40</td><td>10.195</td><td>Low Fat</td><td>0.159803853</td><td>Frozen Foods</td><td>141.5154</td><td>OUT013</td><td>1987</td><td>High</td><td>Tier 3</td><td>Supermarket Type1</td><td>850.8924</td><td>random</td></tr><tr><td>FDH17</td><td>16.2</td><td>Reg</td><td>0.016687114</td><td>Frozen Foods</td><td>96.9726</td><td>OUT045</td><td>2002</td><td>null</td><td>Tier 2</td><td>Supermarket Type1</td><td>1076.5986</td><td>random</td></tr><tr><td>FDS52</td><td>8.89</td><td>low fat</td><td>0.005505481</td><td>Frozen Foods</td><td>102.4016</td><td>OUT017</td><td>2007</td><td>null</td><td>Tier 2</td><td>Supermarket Type1</td><td>2732.4432</td><td>random</td></tr><tr><td>FDN04</td><td>11.8</td><td>reg</td><td>0.014087057</td><td>Frozen Foods</td><td>180.3344</td><td>OUT046</td><td>1997</td><td>Small</td><td>Tier 1</td><td>Supermarket Type1</td><td>1427.4752</td><td>random</td></tr><tr><td>FDY07</td><td>11.8</td><td>Low Fat</td><td>0.0</td><td>Fruits and Vegetables</td><td>45.5402</td><td>OUT049</td><td>1999</td><td>Medium</td><td>Tier 1</td><td>Supermarket Type1</td><td>1516.0266</td><td>random</td></tr><tr><td>FDX07</td><td>19.2</td><td>Reg</td><td>0.0</td><td>Fruits and Vegetables</td><td>182.095</td><td>OUT010</td><td>1998</td><td>null</td><td>Tier 3</td><td>Grocery Store</td><td>732.38</td><td>random</td></tr><tr><td>FDF20</td><td>12.85</td><td>low fat</td><td>0.033287541</td><td>Fruits and Vegetables</td><td>198.4768</td><td>OUT045</td><td>2002</td><td>null</td><td>Tier 2</td><td>Supermarket Type1</td><td>1379.5376</td><td>random</td></tr><tr><td>FDH45</td><td>15.1</td><td>reg</td><td>0.105646853</td><td>Fruits and Vegetables</td><td>42.8796</td><td>OUT035</td><td>2004</td><td>Small</td><td>Tier 2</td><td>Supermarket Type1</td><td>949.4308</td><td>random</td></tr><tr><td>DRI11</td><td>null</td><td>Low Fat</td><td>0.034237682</td><td>Hard Drinks</td><td>113.2834</td><td>OUT027</td><td>1985</td><td>Medium</td><td>Tier 3</td><td>Supermarket Type3</td><td>2303.668</td><td>random</td></tr><tr><td>DRJ59</td><td>11.65</td><td>low fat</td><td>0.019356132</td><td>Hard Drinks</td><td>39.1164</td><td>OUT013</td><td>1987</td><td>High</td><td>Tier 3</td><td>Supermarket Type1</td><td>308.9312</td><td>random</td></tr><tr><td>NCB42</td><td>11.8</td><td>Low Fat</td><td>0.008596051</td><td>Health and Hygiene</td><td>115.3492</td><td>OUT018</td><td>2009</td><td>Medium</td><td>Tier 3</td><td>Supermarket Type2</td><td>1621.8888</td><td>random</td></tr><tr><td>NCJ29</td><td>10.6</td><td>low fat</td><td>0.035163639</td><td>Health and Hygiene</td><td>84.4224</td><td>OUT013</td><td>1987</td><td>High</td><td>Tier 3</td><td>Supermarket Type1</td><td>852.224</td><td>random</td></tr><tr><td>NCD19</td><td>8.93</td><td>Low Fat</td><td>0.0</td><td>Household</td><td>53.8614</td><td>OUT013</td><td>1987</td><td>High</td><td>Tier 3</td><td>Supermarket Type1</td><td>994.7052</td><td>random</td></tr><tr><td>NCZ18</td><td>7.825</td><td>low fat</td><td>0.186357148</td><td>Household</td><td>254.3698</td><td>OUT049</td><td>1999</td><td>Medium</td><td>Tier 1</td><td>Supermarket Type1</td><td>5580.7356</td><td>random</td></tr><tr><td>FDN15</td><td>17.5</td><td>Low Fat</td><td>0.016760075</td><td>Meat</td><td>141.618</td><td>OUT049</td><td>1999</td><td>Medium</td><td>Tier 1</td><td>Supermarket Type1</td><td>2097.27</td><td>random</td></tr><tr><td>FDV27</td><td>7.97</td><td>Reg</td><td>0.040071131</td><td>Meat</td><td>87.3514</td><td>OUT045</td><td>2002</td><td>null</td><td>Tier 2</td><td>Supermarket Type1</td><td>1062.6168</td><td>random</td></tr><tr><td>FDI19</td><td>15.1</td><td>low fat</td><td>0.0</td><td>Meat</td><td>244.2512</td><td>OUT045</td><td>2002</td><td>null</td><td>Tier 2</td><td>Supermarket Type1</td><td>3635.268</td><td>random</td></tr><tr><td>FDI07</td><td>12.35</td><td>reg</td><td>0.03382933</td><td>Meat</td><td>196.9426</td><td>OUT045</td><td>2002</td><td>null</td><td>Tier 2</td><td>Supermarket Type1</td><td>2768.3964</td><td>random</td></tr><tr><td>NCN07</td><td>18.5</td><td>Low Fat</td><td>0.056816465</td><td>Others</td><td>132.1284</td><td>OUT010</td><td>1998</td><td>null</td><td>Tier 3</td><td>Grocery Store</td><td>263.6568</td><td>random</td></tr><tr><td>NCI31</td><td>20.0</td><td>low fat</td><td>0.136124989</td><td>Others</td><td>38.319</td><td>OUT010</td><td>1998</td><td>null</td><td>Tier 3</td><td>Grocery Store</td><td>146.476</td><td>random</td></tr><tr><td>FDH21</td><td>10.395</td><td>Low Fat</td><td>0.031273559</td><td>Seafood</td><td>160.0604</td><td>OUT049</td><td>1999</td><td>Medium</td><td>Tier 1</td><td>Supermarket Type1</td><td>1267.6832</td><td>random</td></tr><tr><td>FDG33</td><td>null</td><td>Reg</td><td>0.13956116</td><td>Seafood</td><td>170.4764</td><td>OUT027</td><td>1985</td><td>Medium</td><td>Tier 3</td><td>Supermarket Type3</td><td>3435.528</td><td>random</td></tr><tr><td>FDJ45</td><td>17.75</td><td>low fat</td><td>0.073559521</td><td>Seafood</td><td>33.9216</td><td>OUT045</td><td>2002</td><td>null</td><td>Tier 2</td><td>Supermarket Type1</td><td>830.9184</td><td>random</td></tr><tr><td>FDP10</td><td>null</td><td>Low Fat</td><td>0.127469857</td><td>Snack Foods</td><td>107.7622</td><td>OUT027</td><td>1985</td><td>Medium</td><td>Tier 3</td><td>Supermarket Type3</td><td>4022.7636</td><td>random</td></tr><tr><td>FDO10</td><td>13.65</td><td>Reg</td><td>0.012741089</td><td>Snack Foods</td><td>57.6588</td><td>OUT013</td><td>1987</td><td>High</td><td>Tier 3</td><td>Supermarket Type1</td><td>343.5528</td><td>random</td></tr><tr><td>FDV45</td><td>16.75</td><td>low fat</td><td>0.045230944</td><td>Snack Foods</td><td>187.9556</td><td>OUT018</td><td>2009</td><td>Medium</td><td>Tier 3</td><td>Supermarket Type2</td><td>4693.89</td><td>random</td></tr><tr><td>FDN58</td><td>13.8</td><td>reg</td><td>0.056960814</td><td>Snack Foods</td><td>230.0984</td><td>OUT049</td><td>1999</td><td>Medium</td><td>Tier 1</td><td>Supermarket Type1</td><td>3707.1744</td><td>random</td></tr><tr><td>DRH01</td><td>17.5</td><td>Low Fat</td><td>0.097904029</td><td>Soft Drinks</td><td>174.8738</td><td>OUT046</td><td>1997</td><td>Small</td><td>Tier 1</td><td>Supermarket Type1</td><td>2085.2856</td><td>random</td></tr><tr><td>DRC01</td><td>5.92</td><td>Reg</td><td>0.019278216</td><td>Soft Drinks</td><td>48.2692</td><td>OUT018</td><td>2009</td><td>Medium</td><td>Tier 3</td><td>Supermarket Type2</td><td>443.4228</td><td>random</td></tr><tr><td>DRE60</td><td>null</td><td>low fat</td><td>0.278974075</td><td>Soft Drinks</td><td>225.372</td><td>OUT019</td><td>1985</td><td>Small</td><td>Tier 1</td><td>Grocery Store</td><td>679.116</td><td>random</td></tr><tr><td>DRC36</td><td>13.0</td><td>reg</td><td>0.044976367</td><td>Soft Drinks</td><td>176.2054</td><td>OUT035</td><td>2004</td><td>Small</td><td>Tier 2</td><td>Supermarket Type1</td><td>1225.7378</td><td>random</td></tr><tr><td>FDH35</td><td>18.25</td><td>Low Fat</td><td>0.0</td><td>Starchy Foods</td><td>164.7526</td><td>OUT045</td><td>2002</td><td>null</td><td>Tier 2</td><td>Supermarket Type1</td><td>4604.6728</td><td>random</td></tr><tr><td>FDB35</td><td>12.3</td><td>Reg</td><td>0.064750025</td><td>Starchy Foods</td><td>92.6804</td><td>OUT045</td><td>2002</td><td>null</td><td>Tier 2</td><td>Supermarket Type1</td><td>1010.6844</td><td>random</td></tr><tr><td>FDE47</td><td>14.15</td><td>low fat</td><td>0.037877202</td><td>Starchy Foods</td><td>124.0046</td><td>OUT013</td><td>1987</td><td>High</td><td>Tier 3</td><td>Supermarket Type1</td><td>1618.5598</td><td>random</td></tr><tr><td>FDF11</td><td>10.195</td><td>reg</td><td>0.017703044</td><td>Starchy Foods</td><td>239.4538</td><td>OUT018</td><td>2009</td><td>Medium</td><td>Tier 3</td><td>Supermarket Type2</td><td>3605.307</td><td>random</td></tr></tbody></table></div>"
      ]
     },
     "metadata": {
      "application/vnd.databricks.v1+output": {
       "addedWidgets": {},
       "aggData": [],
       "aggError": "",
       "aggOverflow": false,
       "aggSchema": [],
       "aggSeriesLimitReached": false,
       "aggType": "",
       "arguments": {},
       "columnCustomDisplayInfos": {},
       "data": [
        [
         "FDC37",
         null,
         "Low Fat",
         0.057556998,
         "Baking Goods",
         107.6938,
         "OUT019",
         1985,
         "Small",
         "Tier 1",
         "Grocery Store",
         214.3876,
         "random"
        ],
        [
         "FDP36",
         10.395,
         "Reg",
         0.0,
         "Baking Goods",
         51.4008,
         "OUT018",
         2009,
         "Medium",
         "Tier 3",
         "Supermarket Type2",
         556.6088,
         "random"
        ],
        [
         "FDK48",
         7.445,
         "low fat",
         0.0,
         "Baking Goods",
         76.8354,
         "OUT046",
         1997,
         "Small",
         "Tier 1",
         "Supermarket Type1",
         2181.8266,
         "random"
        ],
        [
         "FDF24",
         15.5,
         "reg",
         0.025513973,
         "Baking Goods",
         83.7934,
         "OUT017",
         2007,
         null,
         "Tier 2",
         "Supermarket Type1",
         1474.0812,
         "random"
        ],
        [
         "FDO23",
         17.85,
         "Low Fat",
         0.0,
         "Breads",
         93.1436,
         "OUT045",
         2002,
         null,
         "Tier 2",
         "Supermarket Type1",
         2174.5028,
         "random"
        ],
        [
         "FDV11",
         9.1,
         "Reg",
         0.0,
         "Breads",
         173.2054,
         "OUT045",
         2002,
         null,
         "Tier 2",
         "Supermarket Type1",
         3151.8972,
         "random"
        ],
        [
         "FDW35",
         null,
         "low fat",
         0.0194158,
         "Breads",
         41.6454,
         "OUT019",
         1985,
         "Small",
         "Tier 1",
         "Grocery Store",
         83.8908,
         "random"
        ],
        [
         "FDY47",
         8.6,
         "reg",
         0.054706408,
         "Breads",
         128.931,
         "OUT018",
         2009,
         "Medium",
         "Tier 3",
         "Supermarket Type2",
         1428.141,
         "random"
        ],
        [
         "FDN13",
         18.6,
         "Low Fat",
         0.152918384,
         "Breakfast",
         99.8358,
         "OUT017",
         2007,
         null,
         "Tier 2",
         "Supermarket Type1",
         1910.1802,
         "random"
        ],
        [
         "FDP49",
         9.0,
         "Reg",
         0.069088961,
         "Breakfast",
         56.3614,
         "OUT046",
         1997,
         "Small",
         "Tier 1",
         "Supermarket Type1",
         1547.3192,
         "random"
        ],
        [
         "FDM01",
         7.895,
         "reg",
         0.095102092,
         "Breakfast",
         104.4332,
         "OUT017",
         2007,
         null,
         "Tier 2",
         "Supermarket Type1",
         2870.9296,
         "random"
        ],
        [
         "FDC02",
         21.35,
         "Low Fat",
         0.069102831,
         "Canned",
         259.9278,
         "OUT018",
         2009,
         "Medium",
         "Tier 3",
         "Supermarket Type2",
         6768.5228,
         "random"
        ],
        [
         "FDC14",
         null,
         "Reg",
         0.072221801,
         "Canned",
         43.6454,
         "OUT019",
         1985,
         "Small",
         "Tier 1",
         "Grocery Store",
         125.8362,
         "random"
        ],
        [
         "FDE02",
         8.71,
         "low fat",
         0.121149472,
         "Canned",
         93.7778,
         "OUT013",
         1987,
         "High",
         "Tier 3",
         "Supermarket Type1",
         1783.6782,
         "random"
        ],
        [
         "FDX49",
         null,
         "reg",
         0.101338651,
         "Canned",
         232.63,
         "OUT027",
         1985,
         "Medium",
         "Tier 3",
         "Supermarket Type3",
         5359.69,
         "random"
        ],
        [
         "FDA15",
         9.3,
         "Low Fat",
         0.016047301,
         "Dairy",
         249.8092,
         "OUT049",
         1999,
         "Medium",
         "Tier 1",
         "Supermarket Type1",
         3735.138,
         "random"
        ],
        [
         "FDA03",
         18.5,
         "Reg",
         0.045463773,
         "Dairy",
         144.1102,
         "OUT046",
         1997,
         "Small",
         "Tier 1",
         "Supermarket Type1",
         2187.153,
         "random"
        ],
        [
         "DRF27",
         8.93,
         "low fat",
         0.028578012,
         "Dairy",
         152.234,
         "OUT017",
         2007,
         null,
         "Tier 2",
         "Supermarket Type1",
         3828.35,
         "random"
        ],
        [
         "FDY26",
         20.6,
         "reg",
         0.030510526,
         "Dairy",
         211.4244,
         "OUT046",
         1997,
         "Small",
         "Tier 1",
         "Supermarket Type1",
         7833.8028,
         "random"
        ],
        [
         "FDM40",
         10.195,
         "Low Fat",
         0.159803853,
         "Frozen Foods",
         141.5154,
         "OUT013",
         1987,
         "High",
         "Tier 3",
         "Supermarket Type1",
         850.8924,
         "random"
        ],
        [
         "FDH17",
         16.2,
         "Reg",
         0.016687114,
         "Frozen Foods",
         96.9726,
         "OUT045",
         2002,
         null,
         "Tier 2",
         "Supermarket Type1",
         1076.5986,
         "random"
        ],
        [
         "FDS52",
         8.89,
         "low fat",
         0.005505481,
         "Frozen Foods",
         102.4016,
         "OUT017",
         2007,
         null,
         "Tier 2",
         "Supermarket Type1",
         2732.4432,
         "random"
        ],
        [
         "FDN04",
         11.8,
         "reg",
         0.014087057,
         "Frozen Foods",
         180.3344,
         "OUT046",
         1997,
         "Small",
         "Tier 1",
         "Supermarket Type1",
         1427.4752,
         "random"
        ],
        [
         "FDY07",
         11.8,
         "Low Fat",
         0.0,
         "Fruits and Vegetables",
         45.5402,
         "OUT049",
         1999,
         "Medium",
         "Tier 1",
         "Supermarket Type1",
         1516.0266,
         "random"
        ],
        [
         "FDX07",
         19.2,
         "Reg",
         0.0,
         "Fruits and Vegetables",
         182.095,
         "OUT010",
         1998,
         null,
         "Tier 3",
         "Grocery Store",
         732.38,
         "random"
        ],
        [
         "FDF20",
         12.85,
         "low fat",
         0.033287541,
         "Fruits and Vegetables",
         198.4768,
         "OUT045",
         2002,
         null,
         "Tier 2",
         "Supermarket Type1",
         1379.5376,
         "random"
        ],
        [
         "FDH45",
         15.1,
         "reg",
         0.105646853,
         "Fruits and Vegetables",
         42.8796,
         "OUT035",
         2004,
         "Small",
         "Tier 2",
         "Supermarket Type1",
         949.4308,
         "random"
        ],
        [
         "DRI11",
         null,
         "Low Fat",
         0.034237682,
         "Hard Drinks",
         113.2834,
         "OUT027",
         1985,
         "Medium",
         "Tier 3",
         "Supermarket Type3",
         2303.668,
         "random"
        ],
        [
         "DRJ59",
         11.65,
         "low fat",
         0.019356132,
         "Hard Drinks",
         39.1164,
         "OUT013",
         1987,
         "High",
         "Tier 3",
         "Supermarket Type1",
         308.9312,
         "random"
        ],
        [
         "NCB42",
         11.8,
         "Low Fat",
         0.008596051,
         "Health and Hygiene",
         115.3492,
         "OUT018",
         2009,
         "Medium",
         "Tier 3",
         "Supermarket Type2",
         1621.8888,
         "random"
        ],
        [
         "NCJ29",
         10.6,
         "low fat",
         0.035163639,
         "Health and Hygiene",
         84.4224,
         "OUT013",
         1987,
         "High",
         "Tier 3",
         "Supermarket Type1",
         852.224,
         "random"
        ],
        [
         "NCD19",
         8.93,
         "Low Fat",
         0.0,
         "Household",
         53.8614,
         "OUT013",
         1987,
         "High",
         "Tier 3",
         "Supermarket Type1",
         994.7052,
         "random"
        ],
        [
         "NCZ18",
         7.825,
         "low fat",
         0.186357148,
         "Household",
         254.3698,
         "OUT049",
         1999,
         "Medium",
         "Tier 1",
         "Supermarket Type1",
         5580.7356,
         "random"
        ],
        [
         "FDN15",
         17.5,
         "Low Fat",
         0.016760075,
         "Meat",
         141.618,
         "OUT049",
         1999,
         "Medium",
         "Tier 1",
         "Supermarket Type1",
         2097.27,
         "random"
        ],
        [
         "FDV27",
         7.97,
         "Reg",
         0.040071131,
         "Meat",
         87.3514,
         "OUT045",
         2002,
         null,
         "Tier 2",
         "Supermarket Type1",
         1062.6168,
         "random"
        ],
        [
         "FDI19",
         15.1,
         "low fat",
         0.0,
         "Meat",
         244.2512,
         "OUT045",
         2002,
         null,
         "Tier 2",
         "Supermarket Type1",
         3635.268,
         "random"
        ],
        [
         "FDI07",
         12.35,
         "reg",
         0.03382933,
         "Meat",
         196.9426,
         "OUT045",
         2002,
         null,
         "Tier 2",
         "Supermarket Type1",
         2768.3964,
         "random"
        ],
        [
         "NCN07",
         18.5,
         "Low Fat",
         0.056816465,
         "Others",
         132.1284,
         "OUT010",
         1998,
         null,
         "Tier 3",
         "Grocery Store",
         263.6568,
         "random"
        ],
        [
         "NCI31",
         20.0,
         "low fat",
         0.136124989,
         "Others",
         38.319,
         "OUT010",
         1998,
         null,
         "Tier 3",
         "Grocery Store",
         146.476,
         "random"
        ],
        [
         "FDH21",
         10.395,
         "Low Fat",
         0.031273559,
         "Seafood",
         160.0604,
         "OUT049",
         1999,
         "Medium",
         "Tier 1",
         "Supermarket Type1",
         1267.6832,
         "random"
        ],
        [
         "FDG33",
         null,
         "Reg",
         0.13956116,
         "Seafood",
         170.4764,
         "OUT027",
         1985,
         "Medium",
         "Tier 3",
         "Supermarket Type3",
         3435.528,
         "random"
        ],
        [
         "FDJ45",
         17.75,
         "low fat",
         0.073559521,
         "Seafood",
         33.9216,
         "OUT045",
         2002,
         null,
         "Tier 2",
         "Supermarket Type1",
         830.9184,
         "random"
        ],
        [
         "FDP10",
         null,
         "Low Fat",
         0.127469857,
         "Snack Foods",
         107.7622,
         "OUT027",
         1985,
         "Medium",
         "Tier 3",
         "Supermarket Type3",
         4022.7636,
         "random"
        ],
        [
         "FDO10",
         13.65,
         "Reg",
         0.012741089,
         "Snack Foods",
         57.6588,
         "OUT013",
         1987,
         "High",
         "Tier 3",
         "Supermarket Type1",
         343.5528,
         "random"
        ],
        [
         "FDV45",
         16.75,
         "low fat",
         0.045230944,
         "Snack Foods",
         187.9556,
         "OUT018",
         2009,
         "Medium",
         "Tier 3",
         "Supermarket Type2",
         4693.89,
         "random"
        ],
        [
         "FDN58",
         13.8,
         "reg",
         0.056960814,
         "Snack Foods",
         230.0984,
         "OUT049",
         1999,
         "Medium",
         "Tier 1",
         "Supermarket Type1",
         3707.1744,
         "random"
        ],
        [
         "DRH01",
         17.5,
         "Low Fat",
         0.097904029,
         "Soft Drinks",
         174.8738,
         "OUT046",
         1997,
         "Small",
         "Tier 1",
         "Supermarket Type1",
         2085.2856,
         "random"
        ],
        [
         "DRC01",
         5.92,
         "Reg",
         0.019278216,
         "Soft Drinks",
         48.2692,
         "OUT018",
         2009,
         "Medium",
         "Tier 3",
         "Supermarket Type2",
         443.4228,
         "random"
        ],
        [
         "DRE60",
         null,
         "low fat",
         0.278974075,
         "Soft Drinks",
         225.372,
         "OUT019",
         1985,
         "Small",
         "Tier 1",
         "Grocery Store",
         679.116,
         "random"
        ],
        [
         "DRC36",
         13.0,
         "reg",
         0.044976367,
         "Soft Drinks",
         176.2054,
         "OUT035",
         2004,
         "Small",
         "Tier 2",
         "Supermarket Type1",
         1225.7378,
         "random"
        ],
        [
         "FDH35",
         18.25,
         "Low Fat",
         0.0,
         "Starchy Foods",
         164.7526,
         "OUT045",
         2002,
         null,
         "Tier 2",
         "Supermarket Type1",
         4604.6728,
         "random"
        ],
        [
         "FDB35",
         12.3,
         "Reg",
         0.064750025,
         "Starchy Foods",
         92.6804,
         "OUT045",
         2002,
         null,
         "Tier 2",
         "Supermarket Type1",
         1010.6844,
         "random"
        ],
        [
         "FDE47",
         14.15,
         "low fat",
         0.037877202,
         "Starchy Foods",
         124.0046,
         "OUT013",
         1987,
         "High",
         "Tier 3",
         "Supermarket Type1",
         1618.5598,
         "random"
        ],
        [
         "FDF11",
         10.195,
         "reg",
         0.017703044,
         "Starchy Foods",
         239.4538,
         "OUT018",
         2009,
         "Medium",
         "Tier 3",
         "Supermarket Type2",
         3605.307,
         "random"
        ]
       ],
       "datasetInfos": [],
       "dbfsResultPath": null,
       "isJsonSchema": true,
       "metadata": {},
       "overflow": false,
       "plotOptions": {
        "customPlotOptions": {},
        "displayType": "table",
        "pivotAggregation": null,
        "pivotColumns": null,
        "xColumns": null,
        "yColumns": null
       },
       "removedWidgets": [],
       "schema": [
        {
         "metadata": "{}",
         "name": "Item_Identifier",
         "type": "\"string\""
        },
        {
         "metadata": "{}",
         "name": "Item_Weight",
         "type": "\"double\""
        },
        {
         "metadata": "{}",
         "name": "Item_Fat_Content",
         "type": "\"string\""
        },
        {
         "metadata": "{}",
         "name": "Item_Visibility",
         "type": "\"double\""
        },
        {
         "metadata": "{}",
         "name": "Item_Type",
         "type": "\"string\""
        },
        {
         "metadata": "{}",
         "name": "Item_MRP",
         "type": "\"double\""
        },
        {
         "metadata": "{}",
         "name": "Outlet_Identifier",
         "type": "\"string\""
        },
        {
         "metadata": "{}",
         "name": "Outlet_Establishment_Year",
         "type": "\"integer\""
        },
        {
         "metadata": "{}",
         "name": "Outlet_Size",
         "type": "\"string\""
        },
        {
         "metadata": "{}",
         "name": "Outlet_Location_Type",
         "type": "\"string\""
        },
        {
         "metadata": "{}",
         "name": "Outlet_Type",
         "type": "\"string\""
        },
        {
         "metadata": "{}",
         "name": "Item_Outlet_Sales",
         "type": "\"double\""
        },
        {
         "metadata": "{}",
         "name": "Flag",
         "type": "\"string\""
        }
       ],
       "type": "table"
      }
     },
     "output_type": "display_data"
    }
   ],
   "source": [
    "df.drop_duplicates(subset=['Item_Type','Item_Fat_Content']).display()"
   ]
  },
  {
   "cell_type": "markdown",
   "metadata": {
    "application/vnd.databricks.v1+cell": {
     "cellMetadata": {
      "byteLimit": 2048000,
      "rowLimit": 10000
     },
     "inputWidgets": {},
     "nuid": "060f1687-0e79-4e63-9639-94c14fea1a8c",
     "showTitle": false,
     "tableResultSettingsMap": {},
     "title": ""
    }
   },
   "source": [
    "##### UNION and UNION by Name"
   ]
  },
  {
   "cell_type": "code",
   "execution_count": 0,
   "metadata": {
    "application/vnd.databricks.v1+cell": {
     "cellMetadata": {
      "byteLimit": 2048000,
      "rowLimit": 10000
     },
     "inputWidgets": {},
     "nuid": "6466fc32-2d7d-4ab5-8568-69f8ad0879ac",
     "showTitle": false,
     "tableResultSettingsMap": {},
     "title": ""
    }
   },
   "outputs": [],
   "source": [
    "data1 = [('1','kad'),\n",
    "        ('2','sid')]\n",
    "schema1 = 'id STRING, name STRING' \n",
    "\n",
    "df1 = spark.createDataFrame(data1,schema1)\n",
    "\n",
    "data2 = [('3','rahul'),\n",
    "        ('4','jas')]\n",
    "schema2 = 'id STRING, name STRING' \n",
    "\n",
    "df2 = spark.createDataFrame(data2,schema2)"
   ]
  },
  {
   "cell_type": "code",
   "execution_count": 0,
   "metadata": {
    "application/vnd.databricks.v1+cell": {
     "cellMetadata": {
      "byteLimit": 2048000,
      "rowLimit": 10000
     },
     "inputWidgets": {},
     "nuid": "56cbea66-d13b-4422-b0b2-714c16c8472d",
     "showTitle": false,
     "tableResultSettingsMap": {},
     "title": ""
    }
   },
   "outputs": [
    {
     "output_type": "display_data",
     "data": {
      "text/html": [
       "<style scoped>\n",
       "  .table-result-container {\n",
       "    max-height: 300px;\n",
       "    overflow: auto;\n",
       "  }\n",
       "  table, th, td {\n",
       "    border: 1px solid black;\n",
       "    border-collapse: collapse;\n",
       "  }\n",
       "  th, td {\n",
       "    padding: 5px;\n",
       "  }\n",
       "  th {\n",
       "    text-align: left;\n",
       "  }\n",
       "</style><div class='table-result-container'><table class='table-result'><thead style='background-color: white'><tr><th>id</th><th>name</th></tr></thead><tbody><tr><td>1</td><td>kad</td></tr><tr><td>2</td><td>sid</td></tr></tbody></table></div>"
      ]
     },
     "metadata": {
      "application/vnd.databricks.v1+output": {
       "addedWidgets": {},
       "aggData": [],
       "aggError": "",
       "aggOverflow": false,
       "aggSchema": [],
       "aggSeriesLimitReached": false,
       "aggType": "",
       "arguments": {},
       "columnCustomDisplayInfos": {},
       "data": [
        [
         "1",
         "kad"
        ],
        [
         "2",
         "sid"
        ]
       ],
       "datasetInfos": [],
       "dbfsResultPath": null,
       "isJsonSchema": true,
       "metadata": {},
       "overflow": false,
       "plotOptions": {
        "customPlotOptions": {},
        "displayType": "table",
        "pivotAggregation": null,
        "pivotColumns": null,
        "xColumns": null,
        "yColumns": null
       },
       "removedWidgets": [],
       "schema": [
        {
         "metadata": "{}",
         "name": "id",
         "type": "\"string\""
        },
        {
         "metadata": "{}",
         "name": "name",
         "type": "\"string\""
        }
       ],
       "type": "table"
      }
     },
     "output_type": "display_data"
    }
   ],
   "source": [
    "df1.display()"
   ]
  },
  {
   "cell_type": "code",
   "execution_count": 0,
   "metadata": {
    "application/vnd.databricks.v1+cell": {
     "cellMetadata": {
      "byteLimit": 2048000,
      "rowLimit": 10000
     },
     "inputWidgets": {},
     "nuid": "e82ff3a7-1914-40cb-aae7-b127ed969723",
     "showTitle": false,
     "tableResultSettingsMap": {},
     "title": ""
    }
   },
   "outputs": [
    {
     "output_type": "display_data",
     "data": {
      "text/html": [
       "<style scoped>\n",
       "  .table-result-container {\n",
       "    max-height: 300px;\n",
       "    overflow: auto;\n",
       "  }\n",
       "  table, th, td {\n",
       "    border: 1px solid black;\n",
       "    border-collapse: collapse;\n",
       "  }\n",
       "  th, td {\n",
       "    padding: 5px;\n",
       "  }\n",
       "  th {\n",
       "    text-align: left;\n",
       "  }\n",
       "</style><div class='table-result-container'><table class='table-result'><thead style='background-color: white'><tr><th>id</th><th>name</th></tr></thead><tbody><tr><td>3</td><td>rahul</td></tr><tr><td>4</td><td>jas</td></tr></tbody></table></div>"
      ]
     },
     "metadata": {
      "application/vnd.databricks.v1+output": {
       "addedWidgets": {},
       "aggData": [],
       "aggError": "",
       "aggOverflow": false,
       "aggSchema": [],
       "aggSeriesLimitReached": false,
       "aggType": "",
       "arguments": {},
       "columnCustomDisplayInfos": {},
       "data": [
        [
         "3",
         "rahul"
        ],
        [
         "4",
         "jas"
        ]
       ],
       "datasetInfos": [],
       "dbfsResultPath": null,
       "isJsonSchema": true,
       "metadata": {},
       "overflow": false,
       "plotOptions": {
        "customPlotOptions": {},
        "displayType": "table",
        "pivotAggregation": null,
        "pivotColumns": null,
        "xColumns": null,
        "yColumns": null
       },
       "removedWidgets": [],
       "schema": [
        {
         "metadata": "{}",
         "name": "id",
         "type": "\"string\""
        },
        {
         "metadata": "{}",
         "name": "name",
         "type": "\"string\""
        }
       ],
       "type": "table"
      }
     },
     "output_type": "display_data"
    }
   ],
   "source": [
    "df2.display()"
   ]
  },
  {
   "cell_type": "code",
   "execution_count": 0,
   "metadata": {
    "application/vnd.databricks.v1+cell": {
     "cellMetadata": {
      "byteLimit": 2048000,
      "rowLimit": 10000
     },
     "inputWidgets": {},
     "nuid": "6694b6c1-1d6a-4cd1-9295-d77a1322cc26",
     "showTitle": false,
     "tableResultSettingsMap": {},
     "title": ""
    }
   },
   "outputs": [
    {
     "output_type": "display_data",
     "data": {
      "text/html": [
       "<style scoped>\n",
       "  .table-result-container {\n",
       "    max-height: 300px;\n",
       "    overflow: auto;\n",
       "  }\n",
       "  table, th, td {\n",
       "    border: 1px solid black;\n",
       "    border-collapse: collapse;\n",
       "  }\n",
       "  th, td {\n",
       "    padding: 5px;\n",
       "  }\n",
       "  th {\n",
       "    text-align: left;\n",
       "  }\n",
       "</style><div class='table-result-container'><table class='table-result'><thead style='background-color: white'><tr><th>id</th><th>name</th></tr></thead><tbody><tr><td>1</td><td>kad</td></tr><tr><td>2</td><td>sid</td></tr><tr><td>3</td><td>rahul</td></tr><tr><td>4</td><td>jas</td></tr></tbody></table></div>"
      ]
     },
     "metadata": {
      "application/vnd.databricks.v1+output": {
       "addedWidgets": {},
       "aggData": [],
       "aggError": "",
       "aggOverflow": false,
       "aggSchema": [],
       "aggSeriesLimitReached": false,
       "aggType": "",
       "arguments": {},
       "columnCustomDisplayInfos": {},
       "data": [
        [
         "1",
         "kad"
        ],
        [
         "2",
         "sid"
        ],
        [
         "3",
         "rahul"
        ],
        [
         "4",
         "jas"
        ]
       ],
       "datasetInfos": [],
       "dbfsResultPath": null,
       "isJsonSchema": true,
       "metadata": {},
       "overflow": false,
       "plotOptions": {
        "customPlotOptions": {},
        "displayType": "table",
        "pivotAggregation": null,
        "pivotColumns": null,
        "xColumns": null,
        "yColumns": null
       },
       "removedWidgets": [],
       "schema": [
        {
         "metadata": "{}",
         "name": "id",
         "type": "\"string\""
        },
        {
         "metadata": "{}",
         "name": "name",
         "type": "\"string\""
        }
       ],
       "type": "table"
      }
     },
     "output_type": "display_data"
    }
   ],
   "source": [
    "df1.union(df2).display()"
   ]
  },
  {
   "cell_type": "code",
   "execution_count": 0,
   "metadata": {
    "application/vnd.databricks.v1+cell": {
     "cellMetadata": {
      "byteLimit": 2048000,
      "rowLimit": 10000
     },
     "inputWidgets": {},
     "nuid": "f3aa6f08-45fd-4c88-9472-8a775d0f681c",
     "showTitle": false,
     "tableResultSettingsMap": {},
     "title": ""
    }
   },
   "outputs": [
    {
     "output_type": "display_data",
     "data": {
      "text/html": [
       "<style scoped>\n",
       "  .table-result-container {\n",
       "    max-height: 300px;\n",
       "    overflow: auto;\n",
       "  }\n",
       "  table, th, td {\n",
       "    border: 1px solid black;\n",
       "    border-collapse: collapse;\n",
       "  }\n",
       "  th, td {\n",
       "    padding: 5px;\n",
       "  }\n",
       "  th {\n",
       "    text-align: left;\n",
       "  }\n",
       "</style><div class='table-result-container'><table class='table-result'><thead style='background-color: white'><tr><th>id</th><th>name</th></tr></thead><tbody><tr><td>1</td><td>kad</td></tr><tr><td>2</td><td>sid</td></tr><tr><td>3</td><td>rahul</td></tr><tr><td>4</td><td>jas</td></tr></tbody></table></div>"
      ]
     },
     "metadata": {
      "application/vnd.databricks.v1+output": {
       "addedWidgets": {},
       "aggData": [],
       "aggError": "",
       "aggOverflow": false,
       "aggSchema": [],
       "aggSeriesLimitReached": false,
       "aggType": "",
       "arguments": {},
       "columnCustomDisplayInfos": {},
       "data": [
        [
         "1",
         "kad"
        ],
        [
         "2",
         "sid"
        ],
        [
         "3",
         "rahul"
        ],
        [
         "4",
         "jas"
        ]
       ],
       "datasetInfos": [],
       "dbfsResultPath": null,
       "isJsonSchema": true,
       "metadata": {},
       "overflow": false,
       "plotOptions": {
        "customPlotOptions": {},
        "displayType": "table",
        "pivotAggregation": null,
        "pivotColumns": null,
        "xColumns": null,
        "yColumns": null
       },
       "removedWidgets": [],
       "schema": [
        {
         "metadata": "{}",
         "name": "id",
         "type": "\"string\""
        },
        {
         "metadata": "{}",
         "name": "name",
         "type": "\"string\""
        }
       ],
       "type": "table"
      }
     },
     "output_type": "display_data"
    }
   ],
   "source": [
    "df1.unionByName(df2).display()"
   ]
  },
  {
   "cell_type": "markdown",
   "metadata": {
    "application/vnd.databricks.v1+cell": {
     "cellMetadata": {
      "byteLimit": 2048000,
      "rowLimit": 10000
     },
     "inputWidgets": {},
     "nuid": "7aebdf67-c42b-4838-b116-74872af755b2",
     "showTitle": false,
     "tableResultSettingsMap": {},
     "title": ""
    }
   },
   "source": [
    "Feature&nbsp;&nbsp;&nbsp;&nbsp;&nbsp;&nbsp;&nbsp;&nbsp;union&nbsp;&nbsp;&nbsp;&nbsp;&nbsp;&nbsp;&nbsp;&nbsp;unionByName<br>\n",
    "Column Matching&nbsp;&nbsp;&nbsp;&nbsp;&nbsp;By position&nbsp;&nbsp;&nbsp;&nbsp;&nbsp;By column name<br>\n",
    "Order of Columns&nbsp;&nbsp;&nbsp;&nbsp;&nbsp;Must match&nbsp;&nbsp;&nbsp;&nbsp;&nbsp;Can differ<br>\n",
    "Missing Columns&nbsp;&nbsp;&nbsp;&nbsp;&nbsp;Not allowed&nbsp;&nbsp;&nbsp;&nbsp;&nbsp;Can be handled with null (by allowMissingColumns parameter)"
   ]
  },
  {
   "cell_type": "markdown",
   "metadata": {
    "application/vnd.databricks.v1+cell": {
     "cellMetadata": {
      "byteLimit": 2048000,
      "rowLimit": 10000
     },
     "inputWidgets": {},
     "nuid": "d0bf6edd-aafc-4af1-84a2-a612a43542d5",
     "showTitle": false,
     "tableResultSettingsMap": {},
     "title": ""
    }
   },
   "source": [
    "Inticap"
   ]
  },
  {
   "cell_type": "code",
   "execution_count": 0,
   "metadata": {
    "application/vnd.databricks.v1+cell": {
     "cellMetadata": {
      "byteLimit": 2048000,
      "rowLimit": 10000
     },
     "inputWidgets": {},
     "nuid": "c957ee51-27dc-4099-aa30-d612f405595d",
     "showTitle": false,
     "tableResultSettingsMap": {},
     "title": ""
    }
   },
   "outputs": [
    {
     "output_type": "display_data",
     "data": {
      "text/html": [
       "<style scoped>\n",
       "  .table-result-container {\n",
       "    max-height: 300px;\n",
       "    overflow: auto;\n",
       "  }\n",
       "  table, th, td {\n",
       "    border: 1px solid black;\n",
       "    border-collapse: collapse;\n",
       "  }\n",
       "  th, td {\n",
       "    padding: 5px;\n",
       "  }\n",
       "  th {\n",
       "    text-align: left;\n",
       "  }\n",
       "</style><div class='table-result-container'><table class='table-result'><thead style='background-color: white'><tr><th>id</th><th>name</th></tr></thead><tbody><tr><td>3</td><td>Rahul</td></tr><tr><td>4</td><td>Jas</td></tr></tbody></table></div>"
      ]
     },
     "metadata": {
      "application/vnd.databricks.v1+output": {
       "addedWidgets": {},
       "aggData": [],
       "aggError": "",
       "aggOverflow": false,
       "aggSchema": [],
       "aggSeriesLimitReached": false,
       "aggType": "",
       "arguments": {},
       "columnCustomDisplayInfos": {},
       "data": [
        [
         "3",
         "Rahul"
        ],
        [
         "4",
         "Jas"
        ]
       ],
       "datasetInfos": [],
       "dbfsResultPath": null,
       "isJsonSchema": true,
       "metadata": {},
       "overflow": false,
       "plotOptions": {
        "customPlotOptions": {},
        "displayType": "table",
        "pivotAggregation": null,
        "pivotColumns": null,
        "xColumns": null,
        "yColumns": null
       },
       "removedWidgets": [],
       "schema": [
        {
         "metadata": "{}",
         "name": "id",
         "type": "\"string\""
        },
        {
         "metadata": "{}",
         "name": "name",
         "type": "\"string\""
        }
       ],
       "type": "table"
      }
     },
     "output_type": "display_data"
    }
   ],
   "source": [
    "df2.withColumn(\"name\", initcap(col(\"name\"))).display()"
   ]
  },
  {
   "cell_type": "code",
   "execution_count": 0,
   "metadata": {
    "application/vnd.databricks.v1+cell": {
     "cellMetadata": {
      "byteLimit": 2048000,
      "rowLimit": 10000
     },
     "inputWidgets": {},
     "nuid": "3821b59c-2d0f-47e8-a049-0ff64b2e947f",
     "showTitle": false,
     "tableResultSettingsMap": {},
     "title": ""
    }
   },
   "outputs": [
    {
     "output_type": "display_data",
     "data": {
      "text/html": [
       "<style scoped>\n",
       "  .table-result-container {\n",
       "    max-height: 300px;\n",
       "    overflow: auto;\n",
       "  }\n",
       "  table, th, td {\n",
       "    border: 1px solid black;\n",
       "    border-collapse: collapse;\n",
       "  }\n",
       "  th, td {\n",
       "    padding: 5px;\n",
       "  }\n",
       "  th {\n",
       "    text-align: left;\n",
       "  }\n",
       "</style><div class='table-result-container'><table class='table-result'><thead style='background-color: white'><tr><th>Item_Identifier</th><th>Item_Weight</th><th>Item_Fat_Content</th><th>Item_Visibility</th><th>Item_Type</th><th>Item_MRP</th><th>Outlet_Identifier</th><th>Outlet_Establishment_Year</th><th>Outlet_Size</th><th>Outlet_Location_Type</th><th>Outlet_Type</th><th>Item_Outlet_Sales</th><th>Flag</th><th>curr_date</th></tr></thead><tbody><tr><td>FDA15</td><td>9.3</td><td>Low Fat</td><td>0.016047301</td><td>Dairy</td><td>249.8092</td><td>OUT049</td><td>1999</td><td>Medium</td><td>Tier 1</td><td>Supermarket Type1</td><td>3735.138</td><td>random</td><td>2024-12-27</td></tr><tr><td>DRC01</td><td>5.92</td><td>Reg</td><td>0.019278216</td><td>Soft Drinks</td><td>48.2692</td><td>OUT018</td><td>2009</td><td>Medium</td><td>Tier 3</td><td>Supermarket Type2</td><td>443.4228</td><td>random</td><td>2024-12-27</td></tr></tbody></table></div>"
      ]
     },
     "metadata": {
      "application/vnd.databricks.v1+output": {
       "addedWidgets": {},
       "aggData": [],
       "aggError": "",
       "aggOverflow": false,
       "aggSchema": [],
       "aggSeriesLimitReached": false,
       "aggType": "",
       "arguments": {},
       "columnCustomDisplayInfos": {},
       "data": [
        [
         "FDA15",
         9.3,
         "Low Fat",
         0.016047301,
         "Dairy",
         249.8092,
         "OUT049",
         1999,
         "Medium",
         "Tier 1",
         "Supermarket Type1",
         3735.138,
         "random",
         "2024-12-27"
        ],
        [
         "DRC01",
         5.92,
         "Reg",
         0.019278216,
         "Soft Drinks",
         48.2692,
         "OUT018",
         2009,
         "Medium",
         "Tier 3",
         "Supermarket Type2",
         443.4228,
         "random",
         "2024-12-27"
        ]
       ],
       "datasetInfos": [],
       "dbfsResultPath": null,
       "isJsonSchema": true,
       "metadata": {},
       "overflow": false,
       "plotOptions": {
        "customPlotOptions": {},
        "displayType": "table",
        "pivotAggregation": null,
        "pivotColumns": null,
        "xColumns": null,
        "yColumns": null
       },
       "removedWidgets": [],
       "schema": [
        {
         "metadata": "{}",
         "name": "Item_Identifier",
         "type": "\"string\""
        },
        {
         "metadata": "{}",
         "name": "Item_Weight",
         "type": "\"double\""
        },
        {
         "metadata": "{}",
         "name": "Item_Fat_Content",
         "type": "\"string\""
        },
        {
         "metadata": "{}",
         "name": "Item_Visibility",
         "type": "\"double\""
        },
        {
         "metadata": "{}",
         "name": "Item_Type",
         "type": "\"string\""
        },
        {
         "metadata": "{}",
         "name": "Item_MRP",
         "type": "\"double\""
        },
        {
         "metadata": "{}",
         "name": "Outlet_Identifier",
         "type": "\"string\""
        },
        {
         "metadata": "{}",
         "name": "Outlet_Establishment_Year",
         "type": "\"integer\""
        },
        {
         "metadata": "{}",
         "name": "Outlet_Size",
         "type": "\"string\""
        },
        {
         "metadata": "{}",
         "name": "Outlet_Location_Type",
         "type": "\"string\""
        },
        {
         "metadata": "{}",
         "name": "Outlet_Type",
         "type": "\"string\""
        },
        {
         "metadata": "{}",
         "name": "Item_Outlet_Sales",
         "type": "\"double\""
        },
        {
         "metadata": "{}",
         "name": "Flag",
         "type": "\"string\""
        },
        {
         "metadata": "{}",
         "name": "curr_date",
         "type": "\"date\""
        }
       ],
       "type": "table"
      }
     },
     "output_type": "display_data"
    }
   ],
   "source": [
    "df = df.withColumn(\"curr_date\", current_date())\n",
    "df.limit(2).display()"
   ]
  },
  {
   "cell_type": "code",
   "execution_count": 0,
   "metadata": {
    "application/vnd.databricks.v1+cell": {
     "cellMetadata": {
      "byteLimit": 2048000,
      "rowLimit": 10000
     },
     "inputWidgets": {},
     "nuid": "8d70586e-ab25-482e-a7d0-7547d3111189",
     "showTitle": false,
     "tableResultSettingsMap": {},
     "title": ""
    }
   },
   "outputs": [
    {
     "output_type": "display_data",
     "data": {
      "text/html": [
       "<style scoped>\n",
       "  .table-result-container {\n",
       "    max-height: 300px;\n",
       "    overflow: auto;\n",
       "  }\n",
       "  table, th, td {\n",
       "    border: 1px solid black;\n",
       "    border-collapse: collapse;\n",
       "  }\n",
       "  th, td {\n",
       "    padding: 5px;\n",
       "  }\n",
       "  th {\n",
       "    text-align: left;\n",
       "  }\n",
       "</style><div class='table-result-container'><table class='table-result'><thead style='background-color: white'><tr><th>Item_Identifier</th><th>Item_Weight</th><th>Item_Fat_Content</th><th>Item_Visibility</th><th>Item_Type</th><th>Item_MRP</th><th>Outlet_Identifier</th><th>Outlet_Establishment_Year</th><th>Outlet_Size</th><th>Outlet_Location_Type</th><th>Outlet_Type</th><th>Item_Outlet_Sales</th><th>Flag</th><th>curr_date</th><th>next_week</th></tr></thead><tbody><tr><td>FDA15</td><td>9.3</td><td>Low Fat</td><td>0.016047301</td><td>Dairy</td><td>249.8092</td><td>OUT049</td><td>1999</td><td>Medium</td><td>Tier 1</td><td>Supermarket Type1</td><td>3735.138</td><td>random</td><td>2024-12-27</td><td>2025-01-03</td></tr><tr><td>DRC01</td><td>5.92</td><td>Reg</td><td>0.019278216</td><td>Soft Drinks</td><td>48.2692</td><td>OUT018</td><td>2009</td><td>Medium</td><td>Tier 3</td><td>Supermarket Type2</td><td>443.4228</td><td>random</td><td>2024-12-27</td><td>2025-01-03</td></tr></tbody></table></div>"
      ]
     },
     "metadata": {
      "application/vnd.databricks.v1+output": {
       "addedWidgets": {},
       "aggData": [],
       "aggError": "",
       "aggOverflow": false,
       "aggSchema": [],
       "aggSeriesLimitReached": false,
       "aggType": "",
       "arguments": {},
       "columnCustomDisplayInfos": {},
       "data": [
        [
         "FDA15",
         9.3,
         "Low Fat",
         0.016047301,
         "Dairy",
         249.8092,
         "OUT049",
         1999,
         "Medium",
         "Tier 1",
         "Supermarket Type1",
         3735.138,
         "random",
         "2024-12-27",
         "2025-01-03"
        ],
        [
         "DRC01",
         5.92,
         "Reg",
         0.019278216,
         "Soft Drinks",
         48.2692,
         "OUT018",
         2009,
         "Medium",
         "Tier 3",
         "Supermarket Type2",
         443.4228,
         "random",
         "2024-12-27",
         "2025-01-03"
        ]
       ],
       "datasetInfos": [],
       "dbfsResultPath": null,
       "isJsonSchema": true,
       "metadata": {},
       "overflow": false,
       "plotOptions": {
        "customPlotOptions": {},
        "displayType": "table",
        "pivotAggregation": null,
        "pivotColumns": null,
        "xColumns": null,
        "yColumns": null
       },
       "removedWidgets": [],
       "schema": [
        {
         "metadata": "{}",
         "name": "Item_Identifier",
         "type": "\"string\""
        },
        {
         "metadata": "{}",
         "name": "Item_Weight",
         "type": "\"double\""
        },
        {
         "metadata": "{}",
         "name": "Item_Fat_Content",
         "type": "\"string\""
        },
        {
         "metadata": "{}",
         "name": "Item_Visibility",
         "type": "\"double\""
        },
        {
         "metadata": "{}",
         "name": "Item_Type",
         "type": "\"string\""
        },
        {
         "metadata": "{}",
         "name": "Item_MRP",
         "type": "\"double\""
        },
        {
         "metadata": "{}",
         "name": "Outlet_Identifier",
         "type": "\"string\""
        },
        {
         "metadata": "{}",
         "name": "Outlet_Establishment_Year",
         "type": "\"integer\""
        },
        {
         "metadata": "{}",
         "name": "Outlet_Size",
         "type": "\"string\""
        },
        {
         "metadata": "{}",
         "name": "Outlet_Location_Type",
         "type": "\"string\""
        },
        {
         "metadata": "{}",
         "name": "Outlet_Type",
         "type": "\"string\""
        },
        {
         "metadata": "{}",
         "name": "Item_Outlet_Sales",
         "type": "\"double\""
        },
        {
         "metadata": "{}",
         "name": "Flag",
         "type": "\"string\""
        },
        {
         "metadata": "{}",
         "name": "curr_date",
         "type": "\"date\""
        },
        {
         "metadata": "{}",
         "name": "next_week",
         "type": "\"date\""
        }
       ],
       "type": "table"
      }
     },
     "output_type": "display_data"
    }
   ],
   "source": [
    "df = df.withColumn(\"next_week\", date_add(current_date(),7))\n",
    "df.limit(2).display()"
   ]
  },
  {
   "cell_type": "code",
   "execution_count": 0,
   "metadata": {
    "application/vnd.databricks.v1+cell": {
     "cellMetadata": {
      "byteLimit": 2048000,
      "rowLimit": 10000
     },
     "inputWidgets": {},
     "nuid": "b9659f98-4515-48b5-8d19-1b81e9fc4baf",
     "showTitle": false,
     "tableResultSettingsMap": {},
     "title": ""
    }
   },
   "outputs": [
    {
     "output_type": "display_data",
     "data": {
      "text/html": [
       "<style scoped>\n",
       "  .table-result-container {\n",
       "    max-height: 300px;\n",
       "    overflow: auto;\n",
       "  }\n",
       "  table, th, td {\n",
       "    border: 1px solid black;\n",
       "    border-collapse: collapse;\n",
       "  }\n",
       "  th, td {\n",
       "    padding: 5px;\n",
       "  }\n",
       "  th {\n",
       "    text-align: left;\n",
       "  }\n",
       "</style><div class='table-result-container'><table class='table-result'><thead style='background-color: white'><tr><th>Item_Identifier</th><th>Item_Weight</th><th>Item_Fat_Content</th><th>Item_Visibility</th><th>Item_Type</th><th>Item_MRP</th><th>Outlet_Identifier</th><th>Outlet_Establishment_Year</th><th>Outlet_Size</th><th>Outlet_Location_Type</th><th>Outlet_Type</th><th>Item_Outlet_Sales</th><th>Flag</th><th>curr_date</th><th>next_week</th><th>diff_date</th></tr></thead><tbody><tr><td>FDA15</td><td>9.3</td><td>Low Fat</td><td>0.016047301</td><td>Dairy</td><td>249.8092</td><td>OUT049</td><td>1999</td><td>Medium</td><td>Tier 1</td><td>Supermarket Type1</td><td>3735.138</td><td>random</td><td>2024-12-27</td><td>2025-01-03</td><td>-7</td></tr><tr><td>DRC01</td><td>5.92</td><td>Reg</td><td>0.019278216</td><td>Soft Drinks</td><td>48.2692</td><td>OUT018</td><td>2009</td><td>Medium</td><td>Tier 3</td><td>Supermarket Type2</td><td>443.4228</td><td>random</td><td>2024-12-27</td><td>2025-01-03</td><td>-7</td></tr></tbody></table></div>"
      ]
     },
     "metadata": {
      "application/vnd.databricks.v1+output": {
       "addedWidgets": {},
       "aggData": [],
       "aggError": "",
       "aggOverflow": false,
       "aggSchema": [],
       "aggSeriesLimitReached": false,
       "aggType": "",
       "arguments": {},
       "columnCustomDisplayInfos": {},
       "data": [
        [
         "FDA15",
         9.3,
         "Low Fat",
         0.016047301,
         "Dairy",
         249.8092,
         "OUT049",
         1999,
         "Medium",
         "Tier 1",
         "Supermarket Type1",
         3735.138,
         "random",
         "2024-12-27",
         "2025-01-03",
         -7
        ],
        [
         "DRC01",
         5.92,
         "Reg",
         0.019278216,
         "Soft Drinks",
         48.2692,
         "OUT018",
         2009,
         "Medium",
         "Tier 3",
         "Supermarket Type2",
         443.4228,
         "random",
         "2024-12-27",
         "2025-01-03",
         -7
        ]
       ],
       "datasetInfos": [],
       "dbfsResultPath": null,
       "isJsonSchema": true,
       "metadata": {},
       "overflow": false,
       "plotOptions": {
        "customPlotOptions": {},
        "displayType": "table",
        "pivotAggregation": null,
        "pivotColumns": null,
        "xColumns": null,
        "yColumns": null
       },
       "removedWidgets": [],
       "schema": [
        {
         "metadata": "{}",
         "name": "Item_Identifier",
         "type": "\"string\""
        },
        {
         "metadata": "{}",
         "name": "Item_Weight",
         "type": "\"double\""
        },
        {
         "metadata": "{}",
         "name": "Item_Fat_Content",
         "type": "\"string\""
        },
        {
         "metadata": "{}",
         "name": "Item_Visibility",
         "type": "\"double\""
        },
        {
         "metadata": "{}",
         "name": "Item_Type",
         "type": "\"string\""
        },
        {
         "metadata": "{}",
         "name": "Item_MRP",
         "type": "\"double\""
        },
        {
         "metadata": "{}",
         "name": "Outlet_Identifier",
         "type": "\"string\""
        },
        {
         "metadata": "{}",
         "name": "Outlet_Establishment_Year",
         "type": "\"integer\""
        },
        {
         "metadata": "{}",
         "name": "Outlet_Size",
         "type": "\"string\""
        },
        {
         "metadata": "{}",
         "name": "Outlet_Location_Type",
         "type": "\"string\""
        },
        {
         "metadata": "{}",
         "name": "Outlet_Type",
         "type": "\"string\""
        },
        {
         "metadata": "{}",
         "name": "Item_Outlet_Sales",
         "type": "\"double\""
        },
        {
         "metadata": "{}",
         "name": "Flag",
         "type": "\"string\""
        },
        {
         "metadata": "{}",
         "name": "curr_date",
         "type": "\"date\""
        },
        {
         "metadata": "{}",
         "name": "next_week",
         "type": "\"date\""
        },
        {
         "metadata": "{}",
         "name": "diff_date",
         "type": "\"integer\""
        }
       ],
       "type": "table"
      }
     },
     "output_type": "display_data"
    }
   ],
   "source": [
    "df = df.withColumn(\"diff_date\", datediff(current_date(), col(\"next_week\")))\n",
    "df.limit(2).display()"
   ]
  },
  {
   "cell_type": "code",
   "execution_count": 0,
   "metadata": {
    "application/vnd.databricks.v1+cell": {
     "cellMetadata": {
      "byteLimit": 2048000,
      "rowLimit": 10000
     },
     "inputWidgets": {},
     "nuid": "3671520e-8912-4bb3-a453-e54aba333803",
     "showTitle": false,
     "tableResultSettingsMap": {},
     "title": ""
    }
   },
   "outputs": [
    {
     "output_type": "display_data",
     "data": {
      "text/html": [
       "<style scoped>\n",
       "  .table-result-container {\n",
       "    max-height: 300px;\n",
       "    overflow: auto;\n",
       "  }\n",
       "  table, th, td {\n",
       "    border: 1px solid black;\n",
       "    border-collapse: collapse;\n",
       "  }\n",
       "  th, td {\n",
       "    padding: 5px;\n",
       "  }\n",
       "  th {\n",
       "    text-align: left;\n",
       "  }\n",
       "</style><div class='table-result-container'><table class='table-result'><thead style='background-color: white'><tr><th>Item_Identifier</th><th>Item_Weight</th><th>Item_Fat_Content</th><th>Item_Visibility</th><th>Item_Type</th><th>Item_MRP</th><th>Outlet_Identifier</th><th>Outlet_Establishment_Year</th><th>Outlet_Size</th><th>Outlet_Location_Type</th><th>Outlet_Type</th><th>Item_Outlet_Sales</th><th>Flag</th><th>curr_date</th><th>next_week</th><th>diff_date</th></tr></thead><tbody><tr><td>FDA15</td><td>9.3</td><td>Low Fat</td><td>0.016047301</td><td>Dairy</td><td>249.8092</td><td>OUT049</td><td>1999</td><td>Medium</td><td>Tier 1</td><td>Supermarket Type1</td><td>3735.138</td><td>random</td><td>2024-12-27</td><td>03-01-2025</td><td>-7</td></tr><tr><td>DRC01</td><td>5.92</td><td>Reg</td><td>0.019278216</td><td>Soft Drinks</td><td>48.2692</td><td>OUT018</td><td>2009</td><td>Medium</td><td>Tier 3</td><td>Supermarket Type2</td><td>443.4228</td><td>random</td><td>2024-12-27</td><td>03-01-2025</td><td>-7</td></tr></tbody></table></div>"
      ]
     },
     "metadata": {
      "application/vnd.databricks.v1+output": {
       "addedWidgets": {},
       "aggData": [],
       "aggError": "",
       "aggOverflow": false,
       "aggSchema": [],
       "aggSeriesLimitReached": false,
       "aggType": "",
       "arguments": {},
       "columnCustomDisplayInfos": {},
       "data": [
        [
         "FDA15",
         9.3,
         "Low Fat",
         0.016047301,
         "Dairy",
         249.8092,
         "OUT049",
         1999,
         "Medium",
         "Tier 1",
         "Supermarket Type1",
         3735.138,
         "random",
         "2024-12-27",
         "03-01-2025",
         -7
        ],
        [
         "DRC01",
         5.92,
         "Reg",
         0.019278216,
         "Soft Drinks",
         48.2692,
         "OUT018",
         2009,
         "Medium",
         "Tier 3",
         "Supermarket Type2",
         443.4228,
         "random",
         "2024-12-27",
         "03-01-2025",
         -7
        ]
       ],
       "datasetInfos": [],
       "dbfsResultPath": null,
       "isJsonSchema": true,
       "metadata": {},
       "overflow": false,
       "plotOptions": {
        "customPlotOptions": {},
        "displayType": "table",
        "pivotAggregation": null,
        "pivotColumns": null,
        "xColumns": null,
        "yColumns": null
       },
       "removedWidgets": [],
       "schema": [
        {
         "metadata": "{}",
         "name": "Item_Identifier",
         "type": "\"string\""
        },
        {
         "metadata": "{}",
         "name": "Item_Weight",
         "type": "\"double\""
        },
        {
         "metadata": "{}",
         "name": "Item_Fat_Content",
         "type": "\"string\""
        },
        {
         "metadata": "{}",
         "name": "Item_Visibility",
         "type": "\"double\""
        },
        {
         "metadata": "{}",
         "name": "Item_Type",
         "type": "\"string\""
        },
        {
         "metadata": "{}",
         "name": "Item_MRP",
         "type": "\"double\""
        },
        {
         "metadata": "{}",
         "name": "Outlet_Identifier",
         "type": "\"string\""
        },
        {
         "metadata": "{}",
         "name": "Outlet_Establishment_Year",
         "type": "\"integer\""
        },
        {
         "metadata": "{}",
         "name": "Outlet_Size",
         "type": "\"string\""
        },
        {
         "metadata": "{}",
         "name": "Outlet_Location_Type",
         "type": "\"string\""
        },
        {
         "metadata": "{}",
         "name": "Outlet_Type",
         "type": "\"string\""
        },
        {
         "metadata": "{}",
         "name": "Item_Outlet_Sales",
         "type": "\"double\""
        },
        {
         "metadata": "{}",
         "name": "Flag",
         "type": "\"string\""
        },
        {
         "metadata": "{}",
         "name": "curr_date",
         "type": "\"date\""
        },
        {
         "metadata": "{}",
         "name": "next_week",
         "type": "\"string\""
        },
        {
         "metadata": "{}",
         "name": "diff_date",
         "type": "\"integer\""
        }
       ],
       "type": "table"
      }
     },
     "output_type": "display_data"
    }
   ],
   "source": [
    "df = df.withColumn(\"next_week\", date_format(\"next_week\", \"dd-MM-yyyy\"))\n",
    "df.limit(2).display()"
   ]
  },
  {
   "cell_type": "markdown",
   "metadata": {
    "application/vnd.databricks.v1+cell": {
     "cellMetadata": {
      "byteLimit": 2048000,
      "rowLimit": 10000
     },
     "inputWidgets": {},
     "nuid": "cb0aa491-6165-48db-aabf-3ad8515be065",
     "showTitle": false,
     "tableResultSettingsMap": {},
     "title": ""
    }
   },
   "source": [
    "Handling null"
   ]
  },
  {
   "cell_type": "code",
   "execution_count": 0,
   "metadata": {
    "application/vnd.databricks.v1+cell": {
     "cellMetadata": {
      "byteLimit": 2048000,
      "rowLimit": 10000
     },
     "inputWidgets": {},
     "nuid": "ad4a5d0f-ad2f-4338-90ba-703e0c940518",
     "showTitle": false,
     "tableResultSettingsMap": {},
     "title": ""
    }
   },
   "outputs": [
    {
     "output_type": "execute_result",
     "data": {
      "text/plain": [
       "8523"
      ]
     },
     "execution_count": 153,
     "metadata": {},
     "output_type": "execute_result"
    }
   ],
   "source": [
    "df.count()"
   ]
  },
  {
   "cell_type": "code",
   "execution_count": 0,
   "metadata": {
    "application/vnd.databricks.v1+cell": {
     "cellMetadata": {
      "byteLimit": 2048000,
      "rowLimit": 10000
     },
     "inputWidgets": {},
     "nuid": "472346c4-222b-4c63-837b-5fdb73f804ba",
     "showTitle": false,
     "tableResultSettingsMap": {},
     "title": ""
    }
   },
   "outputs": [
    {
     "output_type": "execute_result",
     "data": {
      "text/plain": [
       "(8523, 4650)"
      ]
     },
     "execution_count": 154,
     "metadata": {},
     "output_type": "execute_result"
    }
   ],
   "source": [
    "df.dropna(\"all\").count() , df.dropna('any').count()  # all values are null vs any of the c0lumn is null"
   ]
  },
  {
   "cell_type": "code",
   "execution_count": 0,
   "metadata": {
    "application/vnd.databricks.v1+cell": {
     "cellMetadata": {
      "byteLimit": 2048000,
      "rowLimit": 10000
     },
     "inputWidgets": {},
     "nuid": "b5556b0a-dabb-463b-9b7c-f333b3968faa",
     "showTitle": false,
     "tableResultSettingsMap": {},
     "title": ""
    }
   },
   "outputs": [
    {
     "output_type": "display_data",
     "data": {
      "text/html": [
       "<style scoped>\n",
       "  .table-result-container {\n",
       "    max-height: 300px;\n",
       "    overflow: auto;\n",
       "  }\n",
       "  table, th, td {\n",
       "    border: 1px solid black;\n",
       "    border-collapse: collapse;\n",
       "  }\n",
       "  th, td {\n",
       "    padding: 5px;\n",
       "  }\n",
       "  th {\n",
       "    text-align: left;\n",
       "  }\n",
       "</style><div class='table-result-container'><table class='table-result'><thead style='background-color: white'><tr><th>Item_Identifier</th><th>Item_Weight</th><th>Item_Fat_Content</th><th>Item_Visibility</th><th>Item_Type</th><th>Item_MRP</th><th>Outlet_Identifier</th><th>Outlet_Establishment_Year</th><th>Outlet_Size</th><th>Outlet_Location_Type</th><th>Outlet_Type</th><th>Item_Outlet_Sales</th><th>Flag</th><th>curr_date</th><th>next_week</th><th>diff_date</th></tr></thead><tbody><tr><td>FDA15</td><td>9.3</td><td>Low Fat</td><td>0.016047301</td><td>Dairy</td><td>249.8092</td><td>OUT049</td><td>1999</td><td>Medium</td><td>Tier 1</td><td>Supermarket Type1</td><td>3735.138</td><td>random</td><td>2024-12-27</td><td>03-01-2025</td><td>-7</td></tr><tr><td>DRC01</td><td>5.92</td><td>Reg</td><td>0.019278216</td><td>Soft Drinks</td><td>48.2692</td><td>OUT018</td><td>2009</td><td>Medium</td><td>Tier 3</td><td>Supermarket Type2</td><td>443.4228</td><td>random</td><td>2024-12-27</td><td>03-01-2025</td><td>-7</td></tr><tr><td>FDN15</td><td>17.5</td><td>Low Fat</td><td>0.016760075</td><td>Meat</td><td>141.618</td><td>OUT049</td><td>1999</td><td>Medium</td><td>Tier 1</td><td>Supermarket Type1</td><td>2097.27</td><td>random</td><td>2024-12-27</td><td>03-01-2025</td><td>-7</td></tr><tr><td>FDX07</td><td>19.2</td><td>Reg</td><td>0.0</td><td>Fruits and Vegetables</td><td>182.095</td><td>OUT010</td><td>1998</td><td>null</td><td>Tier 3</td><td>Grocery Store</td><td>732.38</td><td>random</td><td>2024-12-27</td><td>03-01-2025</td><td>-7</td></tr><tr><td>NCD19</td><td>8.93</td><td>Low Fat</td><td>0.0</td><td>Household</td><td>53.8614</td><td>OUT013</td><td>1987</td><td>High</td><td>Tier 3</td><td>Supermarket Type1</td><td>994.7052</td><td>random</td><td>2024-12-27</td><td>03-01-2025</td><td>-7</td></tr><tr><td>FDP36</td><td>10.395</td><td>Reg</td><td>0.0</td><td>Baking Goods</td><td>51.4008</td><td>OUT018</td><td>2009</td><td>Medium</td><td>Tier 3</td><td>Supermarket Type2</td><td>556.6088</td><td>random</td><td>2024-12-27</td><td>03-01-2025</td><td>-7</td></tr><tr><td>FDO10</td><td>13.65</td><td>Reg</td><td>0.012741089</td><td>Snack Foods</td><td>57.6588</td><td>OUT013</td><td>1987</td><td>High</td><td>Tier 3</td><td>Supermarket Type1</td><td>343.5528</td><td>random</td><td>2024-12-27</td><td>03-01-2025</td><td>-7</td></tr><tr><td>FDP10</td><td>null</td><td>Low Fat</td><td>0.127469857</td><td>Snack Foods</td><td>107.7622</td><td>OUT027</td><td>1985</td><td>Medium</td><td>Tier 3</td><td>Supermarket Type3</td><td>4022.7636</td><td>random</td><td>2024-12-27</td><td>03-01-2025</td><td>-7</td></tr><tr><td>FDH17</td><td>16.2</td><td>Reg</td><td>0.016687114</td><td>Frozen Foods</td><td>96.9726</td><td>OUT045</td><td>2002</td><td>null</td><td>Tier 2</td><td>Supermarket Type1</td><td>1076.5986</td><td>random</td><td>2024-12-27</td><td>03-01-2025</td><td>-7</td></tr><tr><td>FDU28</td><td>19.2</td><td>Reg</td><td>0.09444959</td><td>Frozen Foods</td><td>187.8214</td><td>OUT017</td><td>2007</td><td>null</td><td>Tier 2</td><td>Supermarket Type1</td><td>4710.535</td><td>random</td><td>2024-12-27</td><td>03-01-2025</td><td>-7</td></tr><tr><td>FDY07</td><td>11.8</td><td>Low Fat</td><td>0.0</td><td>Fruits and Vegetables</td><td>45.5402</td><td>OUT049</td><td>1999</td><td>Medium</td><td>Tier 1</td><td>Supermarket Type1</td><td>1516.0266</td><td>random</td><td>2024-12-27</td><td>03-01-2025</td><td>-7</td></tr><tr><td>FDA03</td><td>18.5</td><td>Reg</td><td>0.045463773</td><td>Dairy</td><td>144.1102</td><td>OUT046</td><td>1997</td><td>Small</td><td>Tier 1</td><td>Supermarket Type1</td><td>2187.153</td><td>random</td><td>2024-12-27</td><td>03-01-2025</td><td>-7</td></tr><tr><td>FDX32</td><td>15.1</td><td>Reg</td><td>0.1000135</td><td>Fruits and Vegetables</td><td>145.4786</td><td>OUT049</td><td>1999</td><td>Medium</td><td>Tier 1</td><td>Supermarket Type1</td><td>1589.2646</td><td>random</td><td>2024-12-27</td><td>03-01-2025</td><td>-7</td></tr><tr><td>FDS46</td><td>17.6</td><td>Reg</td><td>0.047257328</td><td>Snack Foods</td><td>119.6782</td><td>OUT046</td><td>1997</td><td>Small</td><td>Tier 1</td><td>Supermarket Type1</td><td>2145.2076</td><td>random</td><td>2024-12-27</td><td>03-01-2025</td><td>-7</td></tr><tr><td>FDF32</td><td>16.35</td><td>Low Fat</td><td>0.0680243</td><td>Fruits and Vegetables</td><td>196.4426</td><td>OUT013</td><td>1987</td><td>High</td><td>Tier 3</td><td>Supermarket Type1</td><td>1977.426</td><td>random</td><td>2024-12-27</td><td>03-01-2025</td><td>-7</td></tr><tr><td>FDP49</td><td>9.0</td><td>Reg</td><td>0.069088961</td><td>Breakfast</td><td>56.3614</td><td>OUT046</td><td>1997</td><td>Small</td><td>Tier 1</td><td>Supermarket Type1</td><td>1547.3192</td><td>random</td><td>2024-12-27</td><td>03-01-2025</td><td>-7</td></tr><tr><td>NCB42</td><td>11.8</td><td>Low Fat</td><td>0.008596051</td><td>Health and Hygiene</td><td>115.3492</td><td>OUT018</td><td>2009</td><td>Medium</td><td>Tier 3</td><td>Supermarket Type2</td><td>1621.8888</td><td>random</td><td>2024-12-27</td><td>03-01-2025</td><td>-7</td></tr><tr><td>FDP49</td><td>9.0</td><td>Reg</td><td>0.069196376</td><td>Breakfast</td><td>54.3614</td><td>OUT049</td><td>1999</td><td>Medium</td><td>Tier 1</td><td>Supermarket Type1</td><td>718.3982</td><td>random</td><td>2024-12-27</td><td>03-01-2025</td><td>-7</td></tr><tr><td>DRI11</td><td>null</td><td>Low Fat</td><td>0.034237682</td><td>Hard Drinks</td><td>113.2834</td><td>OUT027</td><td>1985</td><td>Medium</td><td>Tier 3</td><td>Supermarket Type3</td><td>2303.668</td><td>random</td><td>2024-12-27</td><td>03-01-2025</td><td>-7</td></tr><tr><td>FDU02</td><td>13.35</td><td>Low Fat</td><td>0.10249212</td><td>Dairy</td><td>230.5352</td><td>OUT035</td><td>2004</td><td>Small</td><td>Tier 2</td><td>Supermarket Type1</td><td>2748.4224</td><td>random</td><td>2024-12-27</td><td>03-01-2025</td><td>-7</td></tr></tbody></table></div>"
      ]
     },
     "metadata": {
      "application/vnd.databricks.v1+output": {
       "addedWidgets": {},
       "aggData": [],
       "aggError": "",
       "aggOverflow": false,
       "aggSchema": [],
       "aggSeriesLimitReached": false,
       "aggType": "",
       "arguments": {},
       "columnCustomDisplayInfos": {},
       "data": [
        [
         "FDA15",
         9.3,
         "Low Fat",
         0.016047301,
         "Dairy",
         249.8092,
         "OUT049",
         1999,
         "Medium",
         "Tier 1",
         "Supermarket Type1",
         3735.138,
         "random",
         "2024-12-27",
         "03-01-2025",
         -7
        ],
        [
         "DRC01",
         5.92,
         "Reg",
         0.019278216,
         "Soft Drinks",
         48.2692,
         "OUT018",
         2009,
         "Medium",
         "Tier 3",
         "Supermarket Type2",
         443.4228,
         "random",
         "2024-12-27",
         "03-01-2025",
         -7
        ],
        [
         "FDN15",
         17.5,
         "Low Fat",
         0.016760075,
         "Meat",
         141.618,
         "OUT049",
         1999,
         "Medium",
         "Tier 1",
         "Supermarket Type1",
         2097.27,
         "random",
         "2024-12-27",
         "03-01-2025",
         -7
        ],
        [
         "FDX07",
         19.2,
         "Reg",
         0.0,
         "Fruits and Vegetables",
         182.095,
         "OUT010",
         1998,
         null,
         "Tier 3",
         "Grocery Store",
         732.38,
         "random",
         "2024-12-27",
         "03-01-2025",
         -7
        ],
        [
         "NCD19",
         8.93,
         "Low Fat",
         0.0,
         "Household",
         53.8614,
         "OUT013",
         1987,
         "High",
         "Tier 3",
         "Supermarket Type1",
         994.7052,
         "random",
         "2024-12-27",
         "03-01-2025",
         -7
        ],
        [
         "FDP36",
         10.395,
         "Reg",
         0.0,
         "Baking Goods",
         51.4008,
         "OUT018",
         2009,
         "Medium",
         "Tier 3",
         "Supermarket Type2",
         556.6088,
         "random",
         "2024-12-27",
         "03-01-2025",
         -7
        ],
        [
         "FDO10",
         13.65,
         "Reg",
         0.012741089,
         "Snack Foods",
         57.6588,
         "OUT013",
         1987,
         "High",
         "Tier 3",
         "Supermarket Type1",
         343.5528,
         "random",
         "2024-12-27",
         "03-01-2025",
         -7
        ],
        [
         "FDP10",
         null,
         "Low Fat",
         0.127469857,
         "Snack Foods",
         107.7622,
         "OUT027",
         1985,
         "Medium",
         "Tier 3",
         "Supermarket Type3",
         4022.7636,
         "random",
         "2024-12-27",
         "03-01-2025",
         -7
        ],
        [
         "FDH17",
         16.2,
         "Reg",
         0.016687114,
         "Frozen Foods",
         96.9726,
         "OUT045",
         2002,
         null,
         "Tier 2",
         "Supermarket Type1",
         1076.5986,
         "random",
         "2024-12-27",
         "03-01-2025",
         -7
        ],
        [
         "FDU28",
         19.2,
         "Reg",
         0.09444959,
         "Frozen Foods",
         187.8214,
         "OUT017",
         2007,
         null,
         "Tier 2",
         "Supermarket Type1",
         4710.535,
         "random",
         "2024-12-27",
         "03-01-2025",
         -7
        ],
        [
         "FDY07",
         11.8,
         "Low Fat",
         0.0,
         "Fruits and Vegetables",
         45.5402,
         "OUT049",
         1999,
         "Medium",
         "Tier 1",
         "Supermarket Type1",
         1516.0266,
         "random",
         "2024-12-27",
         "03-01-2025",
         -7
        ],
        [
         "FDA03",
         18.5,
         "Reg",
         0.045463773,
         "Dairy",
         144.1102,
         "OUT046",
         1997,
         "Small",
         "Tier 1",
         "Supermarket Type1",
         2187.153,
         "random",
         "2024-12-27",
         "03-01-2025",
         -7
        ],
        [
         "FDX32",
         15.1,
         "Reg",
         0.1000135,
         "Fruits and Vegetables",
         145.4786,
         "OUT049",
         1999,
         "Medium",
         "Tier 1",
         "Supermarket Type1",
         1589.2646,
         "random",
         "2024-12-27",
         "03-01-2025",
         -7
        ],
        [
         "FDS46",
         17.6,
         "Reg",
         0.047257328,
         "Snack Foods",
         119.6782,
         "OUT046",
         1997,
         "Small",
         "Tier 1",
         "Supermarket Type1",
         2145.2076,
         "random",
         "2024-12-27",
         "03-01-2025",
         -7
        ],
        [
         "FDF32",
         16.35,
         "Low Fat",
         0.0680243,
         "Fruits and Vegetables",
         196.4426,
         "OUT013",
         1987,
         "High",
         "Tier 3",
         "Supermarket Type1",
         1977.426,
         "random",
         "2024-12-27",
         "03-01-2025",
         -7
        ],
        [
         "FDP49",
         9.0,
         "Reg",
         0.069088961,
         "Breakfast",
         56.3614,
         "OUT046",
         1997,
         "Small",
         "Tier 1",
         "Supermarket Type1",
         1547.3192,
         "random",
         "2024-12-27",
         "03-01-2025",
         -7
        ],
        [
         "NCB42",
         11.8,
         "Low Fat",
         0.008596051,
         "Health and Hygiene",
         115.3492,
         "OUT018",
         2009,
         "Medium",
         "Tier 3",
         "Supermarket Type2",
         1621.8888,
         "random",
         "2024-12-27",
         "03-01-2025",
         -7
        ],
        [
         "FDP49",
         9.0,
         "Reg",
         0.069196376,
         "Breakfast",
         54.3614,
         "OUT049",
         1999,
         "Medium",
         "Tier 1",
         "Supermarket Type1",
         718.3982,
         "random",
         "2024-12-27",
         "03-01-2025",
         -7
        ],
        [
         "DRI11",
         null,
         "Low Fat",
         0.034237682,
         "Hard Drinks",
         113.2834,
         "OUT027",
         1985,
         "Medium",
         "Tier 3",
         "Supermarket Type3",
         2303.668,
         "random",
         "2024-12-27",
         "03-01-2025",
         -7
        ],
        [
         "FDU02",
         13.35,
         "Low Fat",
         0.10249212,
         "Dairy",
         230.5352,
         "OUT035",
         2004,
         "Small",
         "Tier 2",
         "Supermarket Type1",
         2748.4224,
         "random",
         "2024-12-27",
         "03-01-2025",
         -7
        ]
       ],
       "datasetInfos": [],
       "dbfsResultPath": null,
       "isJsonSchema": true,
       "metadata": {},
       "overflow": false,
       "plotOptions": {
        "customPlotOptions": {},
        "displayType": "table",
        "pivotAggregation": null,
        "pivotColumns": null,
        "xColumns": null,
        "yColumns": null
       },
       "removedWidgets": [],
       "schema": [
        {
         "metadata": "{}",
         "name": "Item_Identifier",
         "type": "\"string\""
        },
        {
         "metadata": "{}",
         "name": "Item_Weight",
         "type": "\"double\""
        },
        {
         "metadata": "{}",
         "name": "Item_Fat_Content",
         "type": "\"string\""
        },
        {
         "metadata": "{}",
         "name": "Item_Visibility",
         "type": "\"double\""
        },
        {
         "metadata": "{}",
         "name": "Item_Type",
         "type": "\"string\""
        },
        {
         "metadata": "{}",
         "name": "Item_MRP",
         "type": "\"double\""
        },
        {
         "metadata": "{}",
         "name": "Outlet_Identifier",
         "type": "\"string\""
        },
        {
         "metadata": "{}",
         "name": "Outlet_Establishment_Year",
         "type": "\"integer\""
        },
        {
         "metadata": "{}",
         "name": "Outlet_Size",
         "type": "\"string\""
        },
        {
         "metadata": "{}",
         "name": "Outlet_Location_Type",
         "type": "\"string\""
        },
        {
         "metadata": "{}",
         "name": "Outlet_Type",
         "type": "\"string\""
        },
        {
         "metadata": "{}",
         "name": "Item_Outlet_Sales",
         "type": "\"double\""
        },
        {
         "metadata": "{}",
         "name": "Flag",
         "type": "\"string\""
        },
        {
         "metadata": "{}",
         "name": "curr_date",
         "type": "\"date\""
        },
        {
         "metadata": "{}",
         "name": "next_week",
         "type": "\"string\""
        },
        {
         "metadata": "{}",
         "name": "diff_date",
         "type": "\"integer\""
        }
       ],
       "type": "table"
      }
     },
     "output_type": "display_data"
    }
   ],
   "source": [
    "df.limit(20).display()"
   ]
  },
  {
   "cell_type": "code",
   "execution_count": 0,
   "metadata": {
    "application/vnd.databricks.v1+cell": {
     "cellMetadata": {
      "byteLimit": 2048000,
      "rowLimit": 10000
     },
     "inputWidgets": {},
     "nuid": "50d40bf6-f539-4898-a540-b5ea25f8db1d",
     "showTitle": false,
     "tableResultSettingsMap": {},
     "title": ""
    }
   },
   "outputs": [
    {
     "output_type": "display_data",
     "data": {
      "text/html": [
       "<style scoped>\n",
       "  .table-result-container {\n",
       "    max-height: 300px;\n",
       "    overflow: auto;\n",
       "  }\n",
       "  table, th, td {\n",
       "    border: 1px solid black;\n",
       "    border-collapse: collapse;\n",
       "  }\n",
       "  th, td {\n",
       "    padding: 5px;\n",
       "  }\n",
       "  th {\n",
       "    text-align: left;\n",
       "  }\n",
       "</style><div class='table-result-container'><table class='table-result'><thead style='background-color: white'><tr><th>Item_Identifier</th><th>Item_Weight</th><th>Item_Fat_Content</th><th>Item_Visibility</th><th>Item_Type</th><th>Item_MRP</th><th>Outlet_Identifier</th><th>Outlet_Establishment_Year</th><th>Outlet_Size</th><th>Outlet_Location_Type</th><th>Outlet_Type</th><th>Item_Outlet_Sales</th><th>Flag</th><th>curr_date</th><th>next_week</th><th>diff_date</th></tr></thead><tbody><tr><td>FDA15</td><td>9.3</td><td>Low Fat</td><td>0.016047301</td><td>Dairy</td><td>249.8092</td><td>OUT049</td><td>1999</td><td>Medium</td><td>Tier 1</td><td>Supermarket Type1</td><td>3735.138</td><td>random</td><td>2024-12-27</td><td>03-01-2025</td><td>-7</td></tr><tr><td>DRC01</td><td>5.92</td><td>Reg</td><td>0.019278216</td><td>Soft Drinks</td><td>48.2692</td><td>OUT018</td><td>2009</td><td>Medium</td><td>Tier 3</td><td>Supermarket Type2</td><td>443.4228</td><td>random</td><td>2024-12-27</td><td>03-01-2025</td><td>-7</td></tr><tr><td>FDN15</td><td>17.5</td><td>Low Fat</td><td>0.016760075</td><td>Meat</td><td>141.618</td><td>OUT049</td><td>1999</td><td>Medium</td><td>Tier 1</td><td>Supermarket Type1</td><td>2097.27</td><td>random</td><td>2024-12-27</td><td>03-01-2025</td><td>-7</td></tr><tr><td>FDX07</td><td>19.2</td><td>Reg</td><td>0.0</td><td>Fruits and Vegetables</td><td>182.095</td><td>OUT010</td><td>1998</td><td>null</td><td>Tier 3</td><td>Grocery Store</td><td>732.38</td><td>random</td><td>2024-12-27</td><td>03-01-2025</td><td>-7</td></tr><tr><td>NCD19</td><td>8.93</td><td>Low Fat</td><td>0.0</td><td>Household</td><td>53.8614</td><td>OUT013</td><td>1987</td><td>High</td><td>Tier 3</td><td>Supermarket Type1</td><td>994.7052</td><td>random</td><td>2024-12-27</td><td>03-01-2025</td><td>-7</td></tr><tr><td>FDP36</td><td>10.395</td><td>Reg</td><td>0.0</td><td>Baking Goods</td><td>51.4008</td><td>OUT018</td><td>2009</td><td>Medium</td><td>Tier 3</td><td>Supermarket Type2</td><td>556.6088</td><td>random</td><td>2024-12-27</td><td>03-01-2025</td><td>-7</td></tr><tr><td>FDO10</td><td>13.65</td><td>Reg</td><td>0.012741089</td><td>Snack Foods</td><td>57.6588</td><td>OUT013</td><td>1987</td><td>High</td><td>Tier 3</td><td>Supermarket Type1</td><td>343.5528</td><td>random</td><td>2024-12-27</td><td>03-01-2025</td><td>-7</td></tr><tr><td>FDH17</td><td>16.2</td><td>Reg</td><td>0.016687114</td><td>Frozen Foods</td><td>96.9726</td><td>OUT045</td><td>2002</td><td>null</td><td>Tier 2</td><td>Supermarket Type1</td><td>1076.5986</td><td>random</td><td>2024-12-27</td><td>03-01-2025</td><td>-7</td></tr><tr><td>FDU28</td><td>19.2</td><td>Reg</td><td>0.09444959</td><td>Frozen Foods</td><td>187.8214</td><td>OUT017</td><td>2007</td><td>null</td><td>Tier 2</td><td>Supermarket Type1</td><td>4710.535</td><td>random</td><td>2024-12-27</td><td>03-01-2025</td><td>-7</td></tr><tr><td>FDY07</td><td>11.8</td><td>Low Fat</td><td>0.0</td><td>Fruits and Vegetables</td><td>45.5402</td><td>OUT049</td><td>1999</td><td>Medium</td><td>Tier 1</td><td>Supermarket Type1</td><td>1516.0266</td><td>random</td><td>2024-12-27</td><td>03-01-2025</td><td>-7</td></tr><tr><td>FDA03</td><td>18.5</td><td>Reg</td><td>0.045463773</td><td>Dairy</td><td>144.1102</td><td>OUT046</td><td>1997</td><td>Small</td><td>Tier 1</td><td>Supermarket Type1</td><td>2187.153</td><td>random</td><td>2024-12-27</td><td>03-01-2025</td><td>-7</td></tr><tr><td>FDX32</td><td>15.1</td><td>Reg</td><td>0.1000135</td><td>Fruits and Vegetables</td><td>145.4786</td><td>OUT049</td><td>1999</td><td>Medium</td><td>Tier 1</td><td>Supermarket Type1</td><td>1589.2646</td><td>random</td><td>2024-12-27</td><td>03-01-2025</td><td>-7</td></tr><tr><td>FDS46</td><td>17.6</td><td>Reg</td><td>0.047257328</td><td>Snack Foods</td><td>119.6782</td><td>OUT046</td><td>1997</td><td>Small</td><td>Tier 1</td><td>Supermarket Type1</td><td>2145.2076</td><td>random</td><td>2024-12-27</td><td>03-01-2025</td><td>-7</td></tr><tr><td>FDF32</td><td>16.35</td><td>Low Fat</td><td>0.0680243</td><td>Fruits and Vegetables</td><td>196.4426</td><td>OUT013</td><td>1987</td><td>High</td><td>Tier 3</td><td>Supermarket Type1</td><td>1977.426</td><td>random</td><td>2024-12-27</td><td>03-01-2025</td><td>-7</td></tr><tr><td>FDP49</td><td>9.0</td><td>Reg</td><td>0.069088961</td><td>Breakfast</td><td>56.3614</td><td>OUT046</td><td>1997</td><td>Small</td><td>Tier 1</td><td>Supermarket Type1</td><td>1547.3192</td><td>random</td><td>2024-12-27</td><td>03-01-2025</td><td>-7</td></tr><tr><td>NCB42</td><td>11.8</td><td>Low Fat</td><td>0.008596051</td><td>Health and Hygiene</td><td>115.3492</td><td>OUT018</td><td>2009</td><td>Medium</td><td>Tier 3</td><td>Supermarket Type2</td><td>1621.8888</td><td>random</td><td>2024-12-27</td><td>03-01-2025</td><td>-7</td></tr><tr><td>FDP49</td><td>9.0</td><td>Reg</td><td>0.069196376</td><td>Breakfast</td><td>54.3614</td><td>OUT049</td><td>1999</td><td>Medium</td><td>Tier 1</td><td>Supermarket Type1</td><td>718.3982</td><td>random</td><td>2024-12-27</td><td>03-01-2025</td><td>-7</td></tr><tr><td>FDU02</td><td>13.35</td><td>Low Fat</td><td>0.10249212</td><td>Dairy</td><td>230.5352</td><td>OUT035</td><td>2004</td><td>Small</td><td>Tier 2</td><td>Supermarket Type1</td><td>2748.4224</td><td>random</td><td>2024-12-27</td><td>03-01-2025</td><td>-7</td></tr></tbody></table></div>"
      ]
     },
     "metadata": {
      "application/vnd.databricks.v1+output": {
       "addedWidgets": {},
       "aggData": [],
       "aggError": "",
       "aggOverflow": false,
       "aggSchema": [],
       "aggSeriesLimitReached": false,
       "aggType": "",
       "arguments": {},
       "columnCustomDisplayInfos": {},
       "data": [
        [
         "FDA15",
         9.3,
         "Low Fat",
         0.016047301,
         "Dairy",
         249.8092,
         "OUT049",
         1999,
         "Medium",
         "Tier 1",
         "Supermarket Type1",
         3735.138,
         "random",
         "2024-12-27",
         "03-01-2025",
         -7
        ],
        [
         "DRC01",
         5.92,
         "Reg",
         0.019278216,
         "Soft Drinks",
         48.2692,
         "OUT018",
         2009,
         "Medium",
         "Tier 3",
         "Supermarket Type2",
         443.4228,
         "random",
         "2024-12-27",
         "03-01-2025",
         -7
        ],
        [
         "FDN15",
         17.5,
         "Low Fat",
         0.016760075,
         "Meat",
         141.618,
         "OUT049",
         1999,
         "Medium",
         "Tier 1",
         "Supermarket Type1",
         2097.27,
         "random",
         "2024-12-27",
         "03-01-2025",
         -7
        ],
        [
         "FDX07",
         19.2,
         "Reg",
         0.0,
         "Fruits and Vegetables",
         182.095,
         "OUT010",
         1998,
         null,
         "Tier 3",
         "Grocery Store",
         732.38,
         "random",
         "2024-12-27",
         "03-01-2025",
         -7
        ],
        [
         "NCD19",
         8.93,
         "Low Fat",
         0.0,
         "Household",
         53.8614,
         "OUT013",
         1987,
         "High",
         "Tier 3",
         "Supermarket Type1",
         994.7052,
         "random",
         "2024-12-27",
         "03-01-2025",
         -7
        ],
        [
         "FDP36",
         10.395,
         "Reg",
         0.0,
         "Baking Goods",
         51.4008,
         "OUT018",
         2009,
         "Medium",
         "Tier 3",
         "Supermarket Type2",
         556.6088,
         "random",
         "2024-12-27",
         "03-01-2025",
         -7
        ],
        [
         "FDO10",
         13.65,
         "Reg",
         0.012741089,
         "Snack Foods",
         57.6588,
         "OUT013",
         1987,
         "High",
         "Tier 3",
         "Supermarket Type1",
         343.5528,
         "random",
         "2024-12-27",
         "03-01-2025",
         -7
        ],
        [
         "FDH17",
         16.2,
         "Reg",
         0.016687114,
         "Frozen Foods",
         96.9726,
         "OUT045",
         2002,
         null,
         "Tier 2",
         "Supermarket Type1",
         1076.5986,
         "random",
         "2024-12-27",
         "03-01-2025",
         -7
        ],
        [
         "FDU28",
         19.2,
         "Reg",
         0.09444959,
         "Frozen Foods",
         187.8214,
         "OUT017",
         2007,
         null,
         "Tier 2",
         "Supermarket Type1",
         4710.535,
         "random",
         "2024-12-27",
         "03-01-2025",
         -7
        ],
        [
         "FDY07",
         11.8,
         "Low Fat",
         0.0,
         "Fruits and Vegetables",
         45.5402,
         "OUT049",
         1999,
         "Medium",
         "Tier 1",
         "Supermarket Type1",
         1516.0266,
         "random",
         "2024-12-27",
         "03-01-2025",
         -7
        ],
        [
         "FDA03",
         18.5,
         "Reg",
         0.045463773,
         "Dairy",
         144.1102,
         "OUT046",
         1997,
         "Small",
         "Tier 1",
         "Supermarket Type1",
         2187.153,
         "random",
         "2024-12-27",
         "03-01-2025",
         -7
        ],
        [
         "FDX32",
         15.1,
         "Reg",
         0.1000135,
         "Fruits and Vegetables",
         145.4786,
         "OUT049",
         1999,
         "Medium",
         "Tier 1",
         "Supermarket Type1",
         1589.2646,
         "random",
         "2024-12-27",
         "03-01-2025",
         -7
        ],
        [
         "FDS46",
         17.6,
         "Reg",
         0.047257328,
         "Snack Foods",
         119.6782,
         "OUT046",
         1997,
         "Small",
         "Tier 1",
         "Supermarket Type1",
         2145.2076,
         "random",
         "2024-12-27",
         "03-01-2025",
         -7
        ],
        [
         "FDF32",
         16.35,
         "Low Fat",
         0.0680243,
         "Fruits and Vegetables",
         196.4426,
         "OUT013",
         1987,
         "High",
         "Tier 3",
         "Supermarket Type1",
         1977.426,
         "random",
         "2024-12-27",
         "03-01-2025",
         -7
        ],
        [
         "FDP49",
         9.0,
         "Reg",
         0.069088961,
         "Breakfast",
         56.3614,
         "OUT046",
         1997,
         "Small",
         "Tier 1",
         "Supermarket Type1",
         1547.3192,
         "random",
         "2024-12-27",
         "03-01-2025",
         -7
        ],
        [
         "NCB42",
         11.8,
         "Low Fat",
         0.008596051,
         "Health and Hygiene",
         115.3492,
         "OUT018",
         2009,
         "Medium",
         "Tier 3",
         "Supermarket Type2",
         1621.8888,
         "random",
         "2024-12-27",
         "03-01-2025",
         -7
        ],
        [
         "FDP49",
         9.0,
         "Reg",
         0.069196376,
         "Breakfast",
         54.3614,
         "OUT049",
         1999,
         "Medium",
         "Tier 1",
         "Supermarket Type1",
         718.3982,
         "random",
         "2024-12-27",
         "03-01-2025",
         -7
        ],
        [
         "FDU02",
         13.35,
         "Low Fat",
         0.10249212,
         "Dairy",
         230.5352,
         "OUT035",
         2004,
         "Small",
         "Tier 2",
         "Supermarket Type1",
         2748.4224,
         "random",
         "2024-12-27",
         "03-01-2025",
         -7
        ]
       ],
       "datasetInfos": [],
       "dbfsResultPath": null,
       "isJsonSchema": true,
       "metadata": {},
       "overflow": false,
       "plotOptions": {
        "customPlotOptions": {},
        "displayType": "table",
        "pivotAggregation": null,
        "pivotColumns": null,
        "xColumns": null,
        "yColumns": null
       },
       "removedWidgets": [],
       "schema": [
        {
         "metadata": "{}",
         "name": "Item_Identifier",
         "type": "\"string\""
        },
        {
         "metadata": "{}",
         "name": "Item_Weight",
         "type": "\"double\""
        },
        {
         "metadata": "{}",
         "name": "Item_Fat_Content",
         "type": "\"string\""
        },
        {
         "metadata": "{}",
         "name": "Item_Visibility",
         "type": "\"double\""
        },
        {
         "metadata": "{}",
         "name": "Item_Type",
         "type": "\"string\""
        },
        {
         "metadata": "{}",
         "name": "Item_MRP",
         "type": "\"double\""
        },
        {
         "metadata": "{}",
         "name": "Outlet_Identifier",
         "type": "\"string\""
        },
        {
         "metadata": "{}",
         "name": "Outlet_Establishment_Year",
         "type": "\"integer\""
        },
        {
         "metadata": "{}",
         "name": "Outlet_Size",
         "type": "\"string\""
        },
        {
         "metadata": "{}",
         "name": "Outlet_Location_Type",
         "type": "\"string\""
        },
        {
         "metadata": "{}",
         "name": "Outlet_Type",
         "type": "\"string\""
        },
        {
         "metadata": "{}",
         "name": "Item_Outlet_Sales",
         "type": "\"double\""
        },
        {
         "metadata": "{}",
         "name": "Flag",
         "type": "\"string\""
        },
        {
         "metadata": "{}",
         "name": "curr_date",
         "type": "\"date\""
        },
        {
         "metadata": "{}",
         "name": "next_week",
         "type": "\"string\""
        },
        {
         "metadata": "{}",
         "name": "diff_date",
         "type": "\"integer\""
        }
       ],
       "type": "table"
      }
     },
     "output_type": "display_data"
    }
   ],
   "source": [
    "df.limit(20).dropna(subset=[\"Item_Weight\"]).display()"
   ]
  },
  {
   "cell_type": "markdown",
   "metadata": {
    "application/vnd.databricks.v1+cell": {
     "cellMetadata": {
      "byteLimit": 2048000,
      "rowLimit": 10000
     },
     "inputWidgets": {},
     "nuid": "803e2510-ed41-48ce-be9c-3be98eb24d64",
     "showTitle": false,
     "tableResultSettingsMap": {},
     "title": ""
    }
   },
   "source": [
    "Filling Nulls"
   ]
  },
  {
   "cell_type": "code",
   "execution_count": 0,
   "metadata": {
    "application/vnd.databricks.v1+cell": {
     "cellMetadata": {
      "byteLimit": 2048000,
      "rowLimit": 10000
     },
     "inputWidgets": {},
     "nuid": "b5154c4c-5daf-4af2-83df-7b605443c607",
     "showTitle": false,
     "tableResultSettingsMap": {},
     "title": ""
    }
   },
   "outputs": [
    {
     "output_type": "display_data",
     "data": {
      "text/html": [
       "<style scoped>\n",
       "  .table-result-container {\n",
       "    max-height: 300px;\n",
       "    overflow: auto;\n",
       "  }\n",
       "  table, th, td {\n",
       "    border: 1px solid black;\n",
       "    border-collapse: collapse;\n",
       "  }\n",
       "  th, td {\n",
       "    padding: 5px;\n",
       "  }\n",
       "  th {\n",
       "    text-align: left;\n",
       "  }\n",
       "</style><div class='table-result-container'><table class='table-result'><thead style='background-color: white'><tr><th>Item_Identifier</th><th>Item_Weight</th><th>Item_Fat_Content</th><th>Item_Visibility</th><th>Item_Type</th><th>Item_MRP</th><th>Outlet_Identifier</th><th>Outlet_Establishment_Year</th><th>Outlet_Size</th><th>Outlet_Location_Type</th><th>Outlet_Type</th><th>Item_Outlet_Sales</th><th>Flag</th><th>curr_date</th><th>next_week</th><th>diff_date</th></tr></thead><tbody><tr><td>FDA15</td><td>9.3</td><td>Low Fat</td><td>0.016047301</td><td>Dairy</td><td>249.8092</td><td>OUT049</td><td>1999</td><td>Medium</td><td>Tier 1</td><td>Supermarket Type1</td><td>3735.138</td><td>random</td><td>2024-12-27</td><td>03-01-2025</td><td>-7</td></tr><tr><td>DRC01</td><td>5.92</td><td>Reg</td><td>0.019278216</td><td>Soft Drinks</td><td>48.2692</td><td>OUT018</td><td>2009</td><td>Medium</td><td>Tier 3</td><td>Supermarket Type2</td><td>443.4228</td><td>random</td><td>2024-12-27</td><td>03-01-2025</td><td>-7</td></tr><tr><td>FDN15</td><td>17.5</td><td>Low Fat</td><td>0.016760075</td><td>Meat</td><td>141.618</td><td>OUT049</td><td>1999</td><td>Medium</td><td>Tier 1</td><td>Supermarket Type1</td><td>2097.27</td><td>random</td><td>2024-12-27</td><td>03-01-2025</td><td>-7</td></tr><tr><td>FDX07</td><td>19.2</td><td>Reg</td><td>0.0</td><td>Fruits and Vegetables</td><td>182.095</td><td>OUT010</td><td>1998</td><td>NotAvailable</td><td>Tier 3</td><td>Grocery Store</td><td>732.38</td><td>random</td><td>2024-12-27</td><td>03-01-2025</td><td>-7</td></tr><tr><td>NCD19</td><td>8.93</td><td>Low Fat</td><td>0.0</td><td>Household</td><td>53.8614</td><td>OUT013</td><td>1987</td><td>High</td><td>Tier 3</td><td>Supermarket Type1</td><td>994.7052</td><td>random</td><td>2024-12-27</td><td>03-01-2025</td><td>-7</td></tr><tr><td>FDP36</td><td>10.395</td><td>Reg</td><td>0.0</td><td>Baking Goods</td><td>51.4008</td><td>OUT018</td><td>2009</td><td>Medium</td><td>Tier 3</td><td>Supermarket Type2</td><td>556.6088</td><td>random</td><td>2024-12-27</td><td>03-01-2025</td><td>-7</td></tr><tr><td>FDO10</td><td>13.65</td><td>Reg</td><td>0.012741089</td><td>Snack Foods</td><td>57.6588</td><td>OUT013</td><td>1987</td><td>High</td><td>Tier 3</td><td>Supermarket Type1</td><td>343.5528</td><td>random</td><td>2024-12-27</td><td>03-01-2025</td><td>-7</td></tr><tr><td>FDP10</td><td>null</td><td>Low Fat</td><td>0.127469857</td><td>Snack Foods</td><td>107.7622</td><td>OUT027</td><td>1985</td><td>Medium</td><td>Tier 3</td><td>Supermarket Type3</td><td>4022.7636</td><td>random</td><td>2024-12-27</td><td>03-01-2025</td><td>-7</td></tr><tr><td>FDH17</td><td>16.2</td><td>Reg</td><td>0.016687114</td><td>Frozen Foods</td><td>96.9726</td><td>OUT045</td><td>2002</td><td>NotAvailable</td><td>Tier 2</td><td>Supermarket Type1</td><td>1076.5986</td><td>random</td><td>2024-12-27</td><td>03-01-2025</td><td>-7</td></tr><tr><td>FDU28</td><td>19.2</td><td>Reg</td><td>0.09444959</td><td>Frozen Foods</td><td>187.8214</td><td>OUT017</td><td>2007</td><td>NotAvailable</td><td>Tier 2</td><td>Supermarket Type1</td><td>4710.535</td><td>random</td><td>2024-12-27</td><td>03-01-2025</td><td>-7</td></tr><tr><td>FDY07</td><td>11.8</td><td>Low Fat</td><td>0.0</td><td>Fruits and Vegetables</td><td>45.5402</td><td>OUT049</td><td>1999</td><td>Medium</td><td>Tier 1</td><td>Supermarket Type1</td><td>1516.0266</td><td>random</td><td>2024-12-27</td><td>03-01-2025</td><td>-7</td></tr><tr><td>FDA03</td><td>18.5</td><td>Reg</td><td>0.045463773</td><td>Dairy</td><td>144.1102</td><td>OUT046</td><td>1997</td><td>Small</td><td>Tier 1</td><td>Supermarket Type1</td><td>2187.153</td><td>random</td><td>2024-12-27</td><td>03-01-2025</td><td>-7</td></tr><tr><td>FDX32</td><td>15.1</td><td>Reg</td><td>0.1000135</td><td>Fruits and Vegetables</td><td>145.4786</td><td>OUT049</td><td>1999</td><td>Medium</td><td>Tier 1</td><td>Supermarket Type1</td><td>1589.2646</td><td>random</td><td>2024-12-27</td><td>03-01-2025</td><td>-7</td></tr><tr><td>FDS46</td><td>17.6</td><td>Reg</td><td>0.047257328</td><td>Snack Foods</td><td>119.6782</td><td>OUT046</td><td>1997</td><td>Small</td><td>Tier 1</td><td>Supermarket Type1</td><td>2145.2076</td><td>random</td><td>2024-12-27</td><td>03-01-2025</td><td>-7</td></tr><tr><td>FDF32</td><td>16.35</td><td>Low Fat</td><td>0.0680243</td><td>Fruits and Vegetables</td><td>196.4426</td><td>OUT013</td><td>1987</td><td>High</td><td>Tier 3</td><td>Supermarket Type1</td><td>1977.426</td><td>random</td><td>2024-12-27</td><td>03-01-2025</td><td>-7</td></tr><tr><td>FDP49</td><td>9.0</td><td>Reg</td><td>0.069088961</td><td>Breakfast</td><td>56.3614</td><td>OUT046</td><td>1997</td><td>Small</td><td>Tier 1</td><td>Supermarket Type1</td><td>1547.3192</td><td>random</td><td>2024-12-27</td><td>03-01-2025</td><td>-7</td></tr><tr><td>NCB42</td><td>11.8</td><td>Low Fat</td><td>0.008596051</td><td>Health and Hygiene</td><td>115.3492</td><td>OUT018</td><td>2009</td><td>Medium</td><td>Tier 3</td><td>Supermarket Type2</td><td>1621.8888</td><td>random</td><td>2024-12-27</td><td>03-01-2025</td><td>-7</td></tr><tr><td>FDP49</td><td>9.0</td><td>Reg</td><td>0.069196376</td><td>Breakfast</td><td>54.3614</td><td>OUT049</td><td>1999</td><td>Medium</td><td>Tier 1</td><td>Supermarket Type1</td><td>718.3982</td><td>random</td><td>2024-12-27</td><td>03-01-2025</td><td>-7</td></tr><tr><td>DRI11</td><td>null</td><td>Low Fat</td><td>0.034237682</td><td>Hard Drinks</td><td>113.2834</td><td>OUT027</td><td>1985</td><td>Medium</td><td>Tier 3</td><td>Supermarket Type3</td><td>2303.668</td><td>random</td><td>2024-12-27</td><td>03-01-2025</td><td>-7</td></tr><tr><td>FDU02</td><td>13.35</td><td>Low Fat</td><td>0.10249212</td><td>Dairy</td><td>230.5352</td><td>OUT035</td><td>2004</td><td>Small</td><td>Tier 2</td><td>Supermarket Type1</td><td>2748.4224</td><td>random</td><td>2024-12-27</td><td>03-01-2025</td><td>-7</td></tr></tbody></table></div>"
      ]
     },
     "metadata": {
      "application/vnd.databricks.v1+output": {
       "addedWidgets": {},
       "aggData": [],
       "aggError": "",
       "aggOverflow": false,
       "aggSchema": [],
       "aggSeriesLimitReached": false,
       "aggType": "",
       "arguments": {},
       "columnCustomDisplayInfos": {},
       "data": [
        [
         "FDA15",
         9.3,
         "Low Fat",
         0.016047301,
         "Dairy",
         249.8092,
         "OUT049",
         1999,
         "Medium",
         "Tier 1",
         "Supermarket Type1",
         3735.138,
         "random",
         "2024-12-27",
         "03-01-2025",
         -7
        ],
        [
         "DRC01",
         5.92,
         "Reg",
         0.019278216,
         "Soft Drinks",
         48.2692,
         "OUT018",
         2009,
         "Medium",
         "Tier 3",
         "Supermarket Type2",
         443.4228,
         "random",
         "2024-12-27",
         "03-01-2025",
         -7
        ],
        [
         "FDN15",
         17.5,
         "Low Fat",
         0.016760075,
         "Meat",
         141.618,
         "OUT049",
         1999,
         "Medium",
         "Tier 1",
         "Supermarket Type1",
         2097.27,
         "random",
         "2024-12-27",
         "03-01-2025",
         -7
        ],
        [
         "FDX07",
         19.2,
         "Reg",
         0.0,
         "Fruits and Vegetables",
         182.095,
         "OUT010",
         1998,
         "NotAvailable",
         "Tier 3",
         "Grocery Store",
         732.38,
         "random",
         "2024-12-27",
         "03-01-2025",
         -7
        ],
        [
         "NCD19",
         8.93,
         "Low Fat",
         0.0,
         "Household",
         53.8614,
         "OUT013",
         1987,
         "High",
         "Tier 3",
         "Supermarket Type1",
         994.7052,
         "random",
         "2024-12-27",
         "03-01-2025",
         -7
        ],
        [
         "FDP36",
         10.395,
         "Reg",
         0.0,
         "Baking Goods",
         51.4008,
         "OUT018",
         2009,
         "Medium",
         "Tier 3",
         "Supermarket Type2",
         556.6088,
         "random",
         "2024-12-27",
         "03-01-2025",
         -7
        ],
        [
         "FDO10",
         13.65,
         "Reg",
         0.012741089,
         "Snack Foods",
         57.6588,
         "OUT013",
         1987,
         "High",
         "Tier 3",
         "Supermarket Type1",
         343.5528,
         "random",
         "2024-12-27",
         "03-01-2025",
         -7
        ],
        [
         "FDP10",
         null,
         "Low Fat",
         0.127469857,
         "Snack Foods",
         107.7622,
         "OUT027",
         1985,
         "Medium",
         "Tier 3",
         "Supermarket Type3",
         4022.7636,
         "random",
         "2024-12-27",
         "03-01-2025",
         -7
        ],
        [
         "FDH17",
         16.2,
         "Reg",
         0.016687114,
         "Frozen Foods",
         96.9726,
         "OUT045",
         2002,
         "NotAvailable",
         "Tier 2",
         "Supermarket Type1",
         1076.5986,
         "random",
         "2024-12-27",
         "03-01-2025",
         -7
        ],
        [
         "FDU28",
         19.2,
         "Reg",
         0.09444959,
         "Frozen Foods",
         187.8214,
         "OUT017",
         2007,
         "NotAvailable",
         "Tier 2",
         "Supermarket Type1",
         4710.535,
         "random",
         "2024-12-27",
         "03-01-2025",
         -7
        ],
        [
         "FDY07",
         11.8,
         "Low Fat",
         0.0,
         "Fruits and Vegetables",
         45.5402,
         "OUT049",
         1999,
         "Medium",
         "Tier 1",
         "Supermarket Type1",
         1516.0266,
         "random",
         "2024-12-27",
         "03-01-2025",
         -7
        ],
        [
         "FDA03",
         18.5,
         "Reg",
         0.045463773,
         "Dairy",
         144.1102,
         "OUT046",
         1997,
         "Small",
         "Tier 1",
         "Supermarket Type1",
         2187.153,
         "random",
         "2024-12-27",
         "03-01-2025",
         -7
        ],
        [
         "FDX32",
         15.1,
         "Reg",
         0.1000135,
         "Fruits and Vegetables",
         145.4786,
         "OUT049",
         1999,
         "Medium",
         "Tier 1",
         "Supermarket Type1",
         1589.2646,
         "random",
         "2024-12-27",
         "03-01-2025",
         -7
        ],
        [
         "FDS46",
         17.6,
         "Reg",
         0.047257328,
         "Snack Foods",
         119.6782,
         "OUT046",
         1997,
         "Small",
         "Tier 1",
         "Supermarket Type1",
         2145.2076,
         "random",
         "2024-12-27",
         "03-01-2025",
         -7
        ],
        [
         "FDF32",
         16.35,
         "Low Fat",
         0.0680243,
         "Fruits and Vegetables",
         196.4426,
         "OUT013",
         1987,
         "High",
         "Tier 3",
         "Supermarket Type1",
         1977.426,
         "random",
         "2024-12-27",
         "03-01-2025",
         -7
        ],
        [
         "FDP49",
         9.0,
         "Reg",
         0.069088961,
         "Breakfast",
         56.3614,
         "OUT046",
         1997,
         "Small",
         "Tier 1",
         "Supermarket Type1",
         1547.3192,
         "random",
         "2024-12-27",
         "03-01-2025",
         -7
        ],
        [
         "NCB42",
         11.8,
         "Low Fat",
         0.008596051,
         "Health and Hygiene",
         115.3492,
         "OUT018",
         2009,
         "Medium",
         "Tier 3",
         "Supermarket Type2",
         1621.8888,
         "random",
         "2024-12-27",
         "03-01-2025",
         -7
        ],
        [
         "FDP49",
         9.0,
         "Reg",
         0.069196376,
         "Breakfast",
         54.3614,
         "OUT049",
         1999,
         "Medium",
         "Tier 1",
         "Supermarket Type1",
         718.3982,
         "random",
         "2024-12-27",
         "03-01-2025",
         -7
        ],
        [
         "DRI11",
         null,
         "Low Fat",
         0.034237682,
         "Hard Drinks",
         113.2834,
         "OUT027",
         1985,
         "Medium",
         "Tier 3",
         "Supermarket Type3",
         2303.668,
         "random",
         "2024-12-27",
         "03-01-2025",
         -7
        ],
        [
         "FDU02",
         13.35,
         "Low Fat",
         0.10249212,
         "Dairy",
         230.5352,
         "OUT035",
         2004,
         "Small",
         "Tier 2",
         "Supermarket Type1",
         2748.4224,
         "random",
         "2024-12-27",
         "03-01-2025",
         -7
        ]
       ],
       "datasetInfos": [],
       "dbfsResultPath": null,
       "isJsonSchema": true,
       "metadata": {},
       "overflow": false,
       "plotOptions": {
        "customPlotOptions": {},
        "displayType": "table",
        "pivotAggregation": null,
        "pivotColumns": null,
        "xColumns": null,
        "yColumns": null
       },
       "removedWidgets": [],
       "schema": [
        {
         "metadata": "{}",
         "name": "Item_Identifier",
         "type": "\"string\""
        },
        {
         "metadata": "{}",
         "name": "Item_Weight",
         "type": "\"double\""
        },
        {
         "metadata": "{}",
         "name": "Item_Fat_Content",
         "type": "\"string\""
        },
        {
         "metadata": "{}",
         "name": "Item_Visibility",
         "type": "\"double\""
        },
        {
         "metadata": "{}",
         "name": "Item_Type",
         "type": "\"string\""
        },
        {
         "metadata": "{}",
         "name": "Item_MRP",
         "type": "\"double\""
        },
        {
         "metadata": "{}",
         "name": "Outlet_Identifier",
         "type": "\"string\""
        },
        {
         "metadata": "{}",
         "name": "Outlet_Establishment_Year",
         "type": "\"integer\""
        },
        {
         "metadata": "{}",
         "name": "Outlet_Size",
         "type": "\"string\""
        },
        {
         "metadata": "{}",
         "name": "Outlet_Location_Type",
         "type": "\"string\""
        },
        {
         "metadata": "{}",
         "name": "Outlet_Type",
         "type": "\"string\""
        },
        {
         "metadata": "{}",
         "name": "Item_Outlet_Sales",
         "type": "\"double\""
        },
        {
         "metadata": "{}",
         "name": "Flag",
         "type": "\"string\""
        },
        {
         "metadata": "{}",
         "name": "curr_date",
         "type": "\"date\""
        },
        {
         "metadata": "{}",
         "name": "next_week",
         "type": "\"string\""
        },
        {
         "metadata": "{}",
         "name": "diff_date",
         "type": "\"integer\""
        }
       ],
       "type": "table"
      }
     },
     "output_type": "display_data"
    }
   ],
   "source": [
    "df.fillna(\"NotAvailable\").limit(20).display()  # columns with string values, having null have been replaces"
   ]
  },
  {
   "cell_type": "code",
   "execution_count": 0,
   "metadata": {
    "application/vnd.databricks.v1+cell": {
     "cellMetadata": {
      "byteLimit": 2048000,
      "rowLimit": 10000
     },
     "inputWidgets": {},
     "nuid": "08e4b547-0b9b-4bdc-9978-d1ef642d6d32",
     "showTitle": false,
     "tableResultSettingsMap": {},
     "title": ""
    }
   },
   "outputs": [
    {
     "output_type": "display_data",
     "data": {
      "text/html": [
       "<style scoped>\n",
       "  .table-result-container {\n",
       "    max-height: 300px;\n",
       "    overflow: auto;\n",
       "  }\n",
       "  table, th, td {\n",
       "    border: 1px solid black;\n",
       "    border-collapse: collapse;\n",
       "  }\n",
       "  th, td {\n",
       "    padding: 5px;\n",
       "  }\n",
       "  th {\n",
       "    text-align: left;\n",
       "  }\n",
       "</style><div class='table-result-container'><table class='table-result'><thead style='background-color: white'><tr><th>Item_Identifier</th><th>Item_Weight</th><th>Item_Fat_Content</th><th>Item_Visibility</th><th>Item_Type</th><th>Item_MRP</th><th>Outlet_Identifier</th><th>Outlet_Establishment_Year</th><th>Outlet_Size</th><th>Outlet_Location_Type</th><th>Outlet_Type</th><th>Item_Outlet_Sales</th><th>Flag</th><th>curr_date</th><th>next_week</th><th>diff_date</th></tr></thead><tbody><tr><td>FDA15</td><td>9.3</td><td>Low Fat</td><td>0.016047301</td><td>Dairy</td><td>249.8092</td><td>OUT049</td><td>1999</td><td>Medium</td><td>Tier 1</td><td>Supermarket Type1</td><td>3735.138</td><td>random</td><td>2024-12-27</td><td>03-01-2025</td><td>-7</td></tr><tr><td>DRC01</td><td>5.92</td><td>Reg</td><td>0.019278216</td><td>Soft Drinks</td><td>48.2692</td><td>OUT018</td><td>2009</td><td>Medium</td><td>Tier 3</td><td>Supermarket Type2</td><td>443.4228</td><td>random</td><td>2024-12-27</td><td>03-01-2025</td><td>-7</td></tr><tr><td>FDN15</td><td>17.5</td><td>Low Fat</td><td>0.016760075</td><td>Meat</td><td>141.618</td><td>OUT049</td><td>1999</td><td>Medium</td><td>Tier 1</td><td>Supermarket Type1</td><td>2097.27</td><td>random</td><td>2024-12-27</td><td>03-01-2025</td><td>-7</td></tr><tr><td>FDX07</td><td>19.2</td><td>Reg</td><td>0.0</td><td>Fruits and Vegetables</td><td>182.095</td><td>OUT010</td><td>1998</td><td>null</td><td>Tier 3</td><td>Grocery Store</td><td>732.38</td><td>random</td><td>2024-12-27</td><td>03-01-2025</td><td>-7</td></tr><tr><td>NCD19</td><td>8.93</td><td>Low Fat</td><td>0.0</td><td>Household</td><td>53.8614</td><td>OUT013</td><td>1987</td><td>High</td><td>Tier 3</td><td>Supermarket Type1</td><td>994.7052</td><td>random</td><td>2024-12-27</td><td>03-01-2025</td><td>-7</td></tr><tr><td>FDP36</td><td>10.395</td><td>Reg</td><td>0.0</td><td>Baking Goods</td><td>51.4008</td><td>OUT018</td><td>2009</td><td>Medium</td><td>Tier 3</td><td>Supermarket Type2</td><td>556.6088</td><td>random</td><td>2024-12-27</td><td>03-01-2025</td><td>-7</td></tr><tr><td>FDO10</td><td>13.65</td><td>Reg</td><td>0.012741089</td><td>Snack Foods</td><td>57.6588</td><td>OUT013</td><td>1987</td><td>High</td><td>Tier 3</td><td>Supermarket Type1</td><td>343.5528</td><td>random</td><td>2024-12-27</td><td>03-01-2025</td><td>-7</td></tr><tr><td>FDP10</td><td>null</td><td>Low Fat</td><td>0.127469857</td><td>Snack Foods</td><td>107.7622</td><td>OUT027</td><td>1985</td><td>Medium</td><td>Tier 3</td><td>Supermarket Type3</td><td>4022.7636</td><td>random</td><td>2024-12-27</td><td>03-01-2025</td><td>-7</td></tr><tr><td>FDH17</td><td>16.2</td><td>Reg</td><td>0.016687114</td><td>Frozen Foods</td><td>96.9726</td><td>OUT045</td><td>2002</td><td>null</td><td>Tier 2</td><td>Supermarket Type1</td><td>1076.5986</td><td>random</td><td>2024-12-27</td><td>03-01-2025</td><td>-7</td></tr><tr><td>FDU28</td><td>19.2</td><td>Reg</td><td>0.09444959</td><td>Frozen Foods</td><td>187.8214</td><td>OUT017</td><td>2007</td><td>null</td><td>Tier 2</td><td>Supermarket Type1</td><td>4710.535</td><td>random</td><td>2024-12-27</td><td>03-01-2025</td><td>-7</td></tr><tr><td>FDY07</td><td>11.8</td><td>Low Fat</td><td>0.0</td><td>Fruits and Vegetables</td><td>45.5402</td><td>OUT049</td><td>1999</td><td>Medium</td><td>Tier 1</td><td>Supermarket Type1</td><td>1516.0266</td><td>random</td><td>2024-12-27</td><td>03-01-2025</td><td>-7</td></tr><tr><td>FDA03</td><td>18.5</td><td>Reg</td><td>0.045463773</td><td>Dairy</td><td>144.1102</td><td>OUT046</td><td>1997</td><td>Small</td><td>Tier 1</td><td>Supermarket Type1</td><td>2187.153</td><td>random</td><td>2024-12-27</td><td>03-01-2025</td><td>-7</td></tr><tr><td>FDX32</td><td>15.1</td><td>Reg</td><td>0.1000135</td><td>Fruits and Vegetables</td><td>145.4786</td><td>OUT049</td><td>1999</td><td>Medium</td><td>Tier 1</td><td>Supermarket Type1</td><td>1589.2646</td><td>random</td><td>2024-12-27</td><td>03-01-2025</td><td>-7</td></tr><tr><td>FDS46</td><td>17.6</td><td>Reg</td><td>0.047257328</td><td>Snack Foods</td><td>119.6782</td><td>OUT046</td><td>1997</td><td>Small</td><td>Tier 1</td><td>Supermarket Type1</td><td>2145.2076</td><td>random</td><td>2024-12-27</td><td>03-01-2025</td><td>-7</td></tr><tr><td>FDF32</td><td>16.35</td><td>Low Fat</td><td>0.0680243</td><td>Fruits and Vegetables</td><td>196.4426</td><td>OUT013</td><td>1987</td><td>High</td><td>Tier 3</td><td>Supermarket Type1</td><td>1977.426</td><td>random</td><td>2024-12-27</td><td>03-01-2025</td><td>-7</td></tr><tr><td>FDP49</td><td>9.0</td><td>Reg</td><td>0.069088961</td><td>Breakfast</td><td>56.3614</td><td>OUT046</td><td>1997</td><td>Small</td><td>Tier 1</td><td>Supermarket Type1</td><td>1547.3192</td><td>random</td><td>2024-12-27</td><td>03-01-2025</td><td>-7</td></tr><tr><td>NCB42</td><td>11.8</td><td>Low Fat</td><td>0.008596051</td><td>Health and Hygiene</td><td>115.3492</td><td>OUT018</td><td>2009</td><td>Medium</td><td>Tier 3</td><td>Supermarket Type2</td><td>1621.8888</td><td>random</td><td>2024-12-27</td><td>03-01-2025</td><td>-7</td></tr><tr><td>FDP49</td><td>9.0</td><td>Reg</td><td>0.069196376</td><td>Breakfast</td><td>54.3614</td><td>OUT049</td><td>1999</td><td>Medium</td><td>Tier 1</td><td>Supermarket Type1</td><td>718.3982</td><td>random</td><td>2024-12-27</td><td>03-01-2025</td><td>-7</td></tr><tr><td>DRI11</td><td>null</td><td>Low Fat</td><td>0.034237682</td><td>Hard Drinks</td><td>113.2834</td><td>OUT027</td><td>1985</td><td>Medium</td><td>Tier 3</td><td>Supermarket Type3</td><td>2303.668</td><td>random</td><td>2024-12-27</td><td>03-01-2025</td><td>-7</td></tr><tr><td>FDU02</td><td>13.35</td><td>Low Fat</td><td>0.10249212</td><td>Dairy</td><td>230.5352</td><td>OUT035</td><td>2004</td><td>Small</td><td>Tier 2</td><td>Supermarket Type1</td><td>2748.4224</td><td>random</td><td>2024-12-27</td><td>03-01-2025</td><td>-7</td></tr></tbody></table></div>"
      ]
     },
     "metadata": {
      "application/vnd.databricks.v1+output": {
       "addedWidgets": {},
       "aggData": [],
       "aggError": "",
       "aggOverflow": false,
       "aggSchema": [],
       "aggSeriesLimitReached": false,
       "aggType": "",
       "arguments": {},
       "columnCustomDisplayInfos": {},
       "data": [
        [
         "FDA15",
         9.3,
         "Low Fat",
         0.016047301,
         "Dairy",
         249.8092,
         "OUT049",
         1999,
         "Medium",
         "Tier 1",
         "Supermarket Type1",
         3735.138,
         "random",
         "2024-12-27",
         "03-01-2025",
         -7
        ],
        [
         "DRC01",
         5.92,
         "Reg",
         0.019278216,
         "Soft Drinks",
         48.2692,
         "OUT018",
         2009,
         "Medium",
         "Tier 3",
         "Supermarket Type2",
         443.4228,
         "random",
         "2024-12-27",
         "03-01-2025",
         -7
        ],
        [
         "FDN15",
         17.5,
         "Low Fat",
         0.016760075,
         "Meat",
         141.618,
         "OUT049",
         1999,
         "Medium",
         "Tier 1",
         "Supermarket Type1",
         2097.27,
         "random",
         "2024-12-27",
         "03-01-2025",
         -7
        ],
        [
         "FDX07",
         19.2,
         "Reg",
         0.0,
         "Fruits and Vegetables",
         182.095,
         "OUT010",
         1998,
         null,
         "Tier 3",
         "Grocery Store",
         732.38,
         "random",
         "2024-12-27",
         "03-01-2025",
         -7
        ],
        [
         "NCD19",
         8.93,
         "Low Fat",
         0.0,
         "Household",
         53.8614,
         "OUT013",
         1987,
         "High",
         "Tier 3",
         "Supermarket Type1",
         994.7052,
         "random",
         "2024-12-27",
         "03-01-2025",
         -7
        ],
        [
         "FDP36",
         10.395,
         "Reg",
         0.0,
         "Baking Goods",
         51.4008,
         "OUT018",
         2009,
         "Medium",
         "Tier 3",
         "Supermarket Type2",
         556.6088,
         "random",
         "2024-12-27",
         "03-01-2025",
         -7
        ],
        [
         "FDO10",
         13.65,
         "Reg",
         0.012741089,
         "Snack Foods",
         57.6588,
         "OUT013",
         1987,
         "High",
         "Tier 3",
         "Supermarket Type1",
         343.5528,
         "random",
         "2024-12-27",
         "03-01-2025",
         -7
        ],
        [
         "FDP10",
         null,
         "Low Fat",
         0.127469857,
         "Snack Foods",
         107.7622,
         "OUT027",
         1985,
         "Medium",
         "Tier 3",
         "Supermarket Type3",
         4022.7636,
         "random",
         "2024-12-27",
         "03-01-2025",
         -7
        ],
        [
         "FDH17",
         16.2,
         "Reg",
         0.016687114,
         "Frozen Foods",
         96.9726,
         "OUT045",
         2002,
         null,
         "Tier 2",
         "Supermarket Type1",
         1076.5986,
         "random",
         "2024-12-27",
         "03-01-2025",
         -7
        ],
        [
         "FDU28",
         19.2,
         "Reg",
         0.09444959,
         "Frozen Foods",
         187.8214,
         "OUT017",
         2007,
         null,
         "Tier 2",
         "Supermarket Type1",
         4710.535,
         "random",
         "2024-12-27",
         "03-01-2025",
         -7
        ],
        [
         "FDY07",
         11.8,
         "Low Fat",
         0.0,
         "Fruits and Vegetables",
         45.5402,
         "OUT049",
         1999,
         "Medium",
         "Tier 1",
         "Supermarket Type1",
         1516.0266,
         "random",
         "2024-12-27",
         "03-01-2025",
         -7
        ],
        [
         "FDA03",
         18.5,
         "Reg",
         0.045463773,
         "Dairy",
         144.1102,
         "OUT046",
         1997,
         "Small",
         "Tier 1",
         "Supermarket Type1",
         2187.153,
         "random",
         "2024-12-27",
         "03-01-2025",
         -7
        ],
        [
         "FDX32",
         15.1,
         "Reg",
         0.1000135,
         "Fruits and Vegetables",
         145.4786,
         "OUT049",
         1999,
         "Medium",
         "Tier 1",
         "Supermarket Type1",
         1589.2646,
         "random",
         "2024-12-27",
         "03-01-2025",
         -7
        ],
        [
         "FDS46",
         17.6,
         "Reg",
         0.047257328,
         "Snack Foods",
         119.6782,
         "OUT046",
         1997,
         "Small",
         "Tier 1",
         "Supermarket Type1",
         2145.2076,
         "random",
         "2024-12-27",
         "03-01-2025",
         -7
        ],
        [
         "FDF32",
         16.35,
         "Low Fat",
         0.0680243,
         "Fruits and Vegetables",
         196.4426,
         "OUT013",
         1987,
         "High",
         "Tier 3",
         "Supermarket Type1",
         1977.426,
         "random",
         "2024-12-27",
         "03-01-2025",
         -7
        ],
        [
         "FDP49",
         9.0,
         "Reg",
         0.069088961,
         "Breakfast",
         56.3614,
         "OUT046",
         1997,
         "Small",
         "Tier 1",
         "Supermarket Type1",
         1547.3192,
         "random",
         "2024-12-27",
         "03-01-2025",
         -7
        ],
        [
         "NCB42",
         11.8,
         "Low Fat",
         0.008596051,
         "Health and Hygiene",
         115.3492,
         "OUT018",
         2009,
         "Medium",
         "Tier 3",
         "Supermarket Type2",
         1621.8888,
         "random",
         "2024-12-27",
         "03-01-2025",
         -7
        ],
        [
         "FDP49",
         9.0,
         "Reg",
         0.069196376,
         "Breakfast",
         54.3614,
         "OUT049",
         1999,
         "Medium",
         "Tier 1",
         "Supermarket Type1",
         718.3982,
         "random",
         "2024-12-27",
         "03-01-2025",
         -7
        ],
        [
         "DRI11",
         null,
         "Low Fat",
         0.034237682,
         "Hard Drinks",
         113.2834,
         "OUT027",
         1985,
         "Medium",
         "Tier 3",
         "Supermarket Type3",
         2303.668,
         "random",
         "2024-12-27",
         "03-01-2025",
         -7
        ],
        [
         "FDU02",
         13.35,
         "Low Fat",
         0.10249212,
         "Dairy",
         230.5352,
         "OUT035",
         2004,
         "Small",
         "Tier 2",
         "Supermarket Type1",
         2748.4224,
         "random",
         "2024-12-27",
         "03-01-2025",
         -7
        ]
       ],
       "datasetInfos": [],
       "dbfsResultPath": null,
       "isJsonSchema": true,
       "metadata": {},
       "overflow": false,
       "plotOptions": {
        "customPlotOptions": {},
        "displayType": "table",
        "pivotAggregation": null,
        "pivotColumns": null,
        "xColumns": null,
        "yColumns": null
       },
       "removedWidgets": [],
       "schema": [
        {
         "metadata": "{}",
         "name": "Item_Identifier",
         "type": "\"string\""
        },
        {
         "metadata": "{}",
         "name": "Item_Weight",
         "type": "\"double\""
        },
        {
         "metadata": "{}",
         "name": "Item_Fat_Content",
         "type": "\"string\""
        },
        {
         "metadata": "{}",
         "name": "Item_Visibility",
         "type": "\"double\""
        },
        {
         "metadata": "{}",
         "name": "Item_Type",
         "type": "\"string\""
        },
        {
         "metadata": "{}",
         "name": "Item_MRP",
         "type": "\"double\""
        },
        {
         "metadata": "{}",
         "name": "Outlet_Identifier",
         "type": "\"string\""
        },
        {
         "metadata": "{}",
         "name": "Outlet_Establishment_Year",
         "type": "\"integer\""
        },
        {
         "metadata": "{}",
         "name": "Outlet_Size",
         "type": "\"string\""
        },
        {
         "metadata": "{}",
         "name": "Outlet_Location_Type",
         "type": "\"string\""
        },
        {
         "metadata": "{}",
         "name": "Outlet_Type",
         "type": "\"string\""
        },
        {
         "metadata": "{}",
         "name": "Item_Outlet_Sales",
         "type": "\"double\""
        },
        {
         "metadata": "{}",
         "name": "Flag",
         "type": "\"string\""
        },
        {
         "metadata": "{}",
         "name": "curr_date",
         "type": "\"date\""
        },
        {
         "metadata": "{}",
         "name": "next_week",
         "type": "\"string\""
        },
        {
         "metadata": "{}",
         "name": "diff_date",
         "type": "\"integer\""
        }
       ],
       "type": "table"
      }
     },
     "output_type": "display_data"
    }
   ],
   "source": [
    "df.fillna(\"NotAvailable\", subset=['Item_Weight']).limit(20).display()  # won't make any change as the type is integer and we are trying to give string replacement"
   ]
  },
  {
   "cell_type": "code",
   "execution_count": 0,
   "metadata": {
    "application/vnd.databricks.v1+cell": {
     "cellMetadata": {
      "byteLimit": 2048000,
      "rowLimit": 10000
     },
     "inputWidgets": {},
     "nuid": "e106f428-aba9-4ac0-85e1-ecdb3ce404e3",
     "showTitle": false,
     "tableResultSettingsMap": {},
     "title": ""
    }
   },
   "outputs": [
    {
     "output_type": "display_data",
     "data": {
      "text/html": [
       "<style scoped>\n",
       "  .table-result-container {\n",
       "    max-height: 300px;\n",
       "    overflow: auto;\n",
       "  }\n",
       "  table, th, td {\n",
       "    border: 1px solid black;\n",
       "    border-collapse: collapse;\n",
       "  }\n",
       "  th, td {\n",
       "    padding: 5px;\n",
       "  }\n",
       "  th {\n",
       "    text-align: left;\n",
       "  }\n",
       "</style><div class='table-result-container'><table class='table-result'><thead style='background-color: white'><tr><th>Item_Identifier</th><th>Item_Weight</th><th>Item_Fat_Content</th><th>Item_Visibility</th><th>Item_Type</th><th>Item_MRP</th><th>Outlet_Identifier</th><th>Outlet_Establishment_Year</th><th>Outlet_Size</th><th>Outlet_Location_Type</th><th>Outlet_Type</th><th>Item_Outlet_Sales</th><th>Flag</th><th>curr_date</th><th>next_week</th><th>diff_date</th></tr></thead><tbody><tr><td>FDA15</td><td>9.3</td><td>Low Fat</td><td>0.016047301</td><td>Dairy</td><td>249.8092</td><td>OUT049</td><td>1999</td><td>Medium</td><td>Tier 1</td><td>Supermarket Type1</td><td>3735.138</td><td>random</td><td>2024-12-27</td><td>03-01-2025</td><td>-7</td></tr><tr><td>DRC01</td><td>5.92</td><td>Reg</td><td>0.019278216</td><td>Soft Drinks</td><td>48.2692</td><td>OUT018</td><td>2009</td><td>Medium</td><td>Tier 3</td><td>Supermarket Type2</td><td>443.4228</td><td>random</td><td>2024-12-27</td><td>03-01-2025</td><td>-7</td></tr><tr><td>FDN15</td><td>17.5</td><td>Low Fat</td><td>0.016760075</td><td>Meat</td><td>141.618</td><td>OUT049</td><td>1999</td><td>Medium</td><td>Tier 1</td><td>Supermarket Type1</td><td>2097.27</td><td>random</td><td>2024-12-27</td><td>03-01-2025</td><td>-7</td></tr><tr><td>FDX07</td><td>19.2</td><td>Reg</td><td>0.0</td><td>Fruits and Vegetables</td><td>182.095</td><td>OUT010</td><td>1998</td><td>Not avail</td><td>Tier 3</td><td>Grocery Store</td><td>732.38</td><td>random</td><td>2024-12-27</td><td>03-01-2025</td><td>-7</td></tr><tr><td>NCD19</td><td>8.93</td><td>Low Fat</td><td>0.0</td><td>Household</td><td>53.8614</td><td>OUT013</td><td>1987</td><td>High</td><td>Tier 3</td><td>Supermarket Type1</td><td>994.7052</td><td>random</td><td>2024-12-27</td><td>03-01-2025</td><td>-7</td></tr><tr><td>FDP36</td><td>10.395</td><td>Reg</td><td>0.0</td><td>Baking Goods</td><td>51.4008</td><td>OUT018</td><td>2009</td><td>Medium</td><td>Tier 3</td><td>Supermarket Type2</td><td>556.6088</td><td>random</td><td>2024-12-27</td><td>03-01-2025</td><td>-7</td></tr><tr><td>FDO10</td><td>13.65</td><td>Reg</td><td>0.012741089</td><td>Snack Foods</td><td>57.6588</td><td>OUT013</td><td>1987</td><td>High</td><td>Tier 3</td><td>Supermarket Type1</td><td>343.5528</td><td>random</td><td>2024-12-27</td><td>03-01-2025</td><td>-7</td></tr><tr><td>FDP10</td><td>0.0</td><td>Low Fat</td><td>0.127469857</td><td>Snack Foods</td><td>107.7622</td><td>OUT027</td><td>1985</td><td>Medium</td><td>Tier 3</td><td>Supermarket Type3</td><td>4022.7636</td><td>random</td><td>2024-12-27</td><td>03-01-2025</td><td>-7</td></tr><tr><td>FDH17</td><td>16.2</td><td>Reg</td><td>0.016687114</td><td>Frozen Foods</td><td>96.9726</td><td>OUT045</td><td>2002</td><td>Not avail</td><td>Tier 2</td><td>Supermarket Type1</td><td>1076.5986</td><td>random</td><td>2024-12-27</td><td>03-01-2025</td><td>-7</td></tr><tr><td>FDU28</td><td>19.2</td><td>Reg</td><td>0.09444959</td><td>Frozen Foods</td><td>187.8214</td><td>OUT017</td><td>2007</td><td>Not avail</td><td>Tier 2</td><td>Supermarket Type1</td><td>4710.535</td><td>random</td><td>2024-12-27</td><td>03-01-2025</td><td>-7</td></tr><tr><td>FDY07</td><td>11.8</td><td>Low Fat</td><td>0.0</td><td>Fruits and Vegetables</td><td>45.5402</td><td>OUT049</td><td>1999</td><td>Medium</td><td>Tier 1</td><td>Supermarket Type1</td><td>1516.0266</td><td>random</td><td>2024-12-27</td><td>03-01-2025</td><td>-7</td></tr><tr><td>FDA03</td><td>18.5</td><td>Reg</td><td>0.045463773</td><td>Dairy</td><td>144.1102</td><td>OUT046</td><td>1997</td><td>Small</td><td>Tier 1</td><td>Supermarket Type1</td><td>2187.153</td><td>random</td><td>2024-12-27</td><td>03-01-2025</td><td>-7</td></tr><tr><td>FDX32</td><td>15.1</td><td>Reg</td><td>0.1000135</td><td>Fruits and Vegetables</td><td>145.4786</td><td>OUT049</td><td>1999</td><td>Medium</td><td>Tier 1</td><td>Supermarket Type1</td><td>1589.2646</td><td>random</td><td>2024-12-27</td><td>03-01-2025</td><td>-7</td></tr><tr><td>FDS46</td><td>17.6</td><td>Reg</td><td>0.047257328</td><td>Snack Foods</td><td>119.6782</td><td>OUT046</td><td>1997</td><td>Small</td><td>Tier 1</td><td>Supermarket Type1</td><td>2145.2076</td><td>random</td><td>2024-12-27</td><td>03-01-2025</td><td>-7</td></tr><tr><td>FDF32</td><td>16.35</td><td>Low Fat</td><td>0.0680243</td><td>Fruits and Vegetables</td><td>196.4426</td><td>OUT013</td><td>1987</td><td>High</td><td>Tier 3</td><td>Supermarket Type1</td><td>1977.426</td><td>random</td><td>2024-12-27</td><td>03-01-2025</td><td>-7</td></tr><tr><td>FDP49</td><td>9.0</td><td>Reg</td><td>0.069088961</td><td>Breakfast</td><td>56.3614</td><td>OUT046</td><td>1997</td><td>Small</td><td>Tier 1</td><td>Supermarket Type1</td><td>1547.3192</td><td>random</td><td>2024-12-27</td><td>03-01-2025</td><td>-7</td></tr><tr><td>NCB42</td><td>11.8</td><td>Low Fat</td><td>0.008596051</td><td>Health and Hygiene</td><td>115.3492</td><td>OUT018</td><td>2009</td><td>Medium</td><td>Tier 3</td><td>Supermarket Type2</td><td>1621.8888</td><td>random</td><td>2024-12-27</td><td>03-01-2025</td><td>-7</td></tr><tr><td>FDP49</td><td>9.0</td><td>Reg</td><td>0.069196376</td><td>Breakfast</td><td>54.3614</td><td>OUT049</td><td>1999</td><td>Medium</td><td>Tier 1</td><td>Supermarket Type1</td><td>718.3982</td><td>random</td><td>2024-12-27</td><td>03-01-2025</td><td>-7</td></tr><tr><td>DRI11</td><td>0.0</td><td>Low Fat</td><td>0.034237682</td><td>Hard Drinks</td><td>113.2834</td><td>OUT027</td><td>1985</td><td>Medium</td><td>Tier 3</td><td>Supermarket Type3</td><td>2303.668</td><td>random</td><td>2024-12-27</td><td>03-01-2025</td><td>-7</td></tr><tr><td>FDU02</td><td>13.35</td><td>Low Fat</td><td>0.10249212</td><td>Dairy</td><td>230.5352</td><td>OUT035</td><td>2004</td><td>Small</td><td>Tier 2</td><td>Supermarket Type1</td><td>2748.4224</td><td>random</td><td>2024-12-27</td><td>03-01-2025</td><td>-7</td></tr></tbody></table></div>"
      ]
     },
     "metadata": {
      "application/vnd.databricks.v1+output": {
       "addedWidgets": {},
       "aggData": [],
       "aggError": "",
       "aggOverflow": false,
       "aggSchema": [],
       "aggSeriesLimitReached": false,
       "aggType": "",
       "arguments": {},
       "columnCustomDisplayInfos": {},
       "data": [
        [
         "FDA15",
         9.3,
         "Low Fat",
         0.016047301,
         "Dairy",
         249.8092,
         "OUT049",
         1999,
         "Medium",
         "Tier 1",
         "Supermarket Type1",
         3735.138,
         "random",
         "2024-12-27",
         "03-01-2025",
         -7
        ],
        [
         "DRC01",
         5.92,
         "Reg",
         0.019278216,
         "Soft Drinks",
         48.2692,
         "OUT018",
         2009,
         "Medium",
         "Tier 3",
         "Supermarket Type2",
         443.4228,
         "random",
         "2024-12-27",
         "03-01-2025",
         -7
        ],
        [
         "FDN15",
         17.5,
         "Low Fat",
         0.016760075,
         "Meat",
         141.618,
         "OUT049",
         1999,
         "Medium",
         "Tier 1",
         "Supermarket Type1",
         2097.27,
         "random",
         "2024-12-27",
         "03-01-2025",
         -7
        ],
        [
         "FDX07",
         19.2,
         "Reg",
         0.0,
         "Fruits and Vegetables",
         182.095,
         "OUT010",
         1998,
         "Not avail",
         "Tier 3",
         "Grocery Store",
         732.38,
         "random",
         "2024-12-27",
         "03-01-2025",
         -7
        ],
        [
         "NCD19",
         8.93,
         "Low Fat",
         0.0,
         "Household",
         53.8614,
         "OUT013",
         1987,
         "High",
         "Tier 3",
         "Supermarket Type1",
         994.7052,
         "random",
         "2024-12-27",
         "03-01-2025",
         -7
        ],
        [
         "FDP36",
         10.395,
         "Reg",
         0.0,
         "Baking Goods",
         51.4008,
         "OUT018",
         2009,
         "Medium",
         "Tier 3",
         "Supermarket Type2",
         556.6088,
         "random",
         "2024-12-27",
         "03-01-2025",
         -7
        ],
        [
         "FDO10",
         13.65,
         "Reg",
         0.012741089,
         "Snack Foods",
         57.6588,
         "OUT013",
         1987,
         "High",
         "Tier 3",
         "Supermarket Type1",
         343.5528,
         "random",
         "2024-12-27",
         "03-01-2025",
         -7
        ],
        [
         "FDP10",
         0.0,
         "Low Fat",
         0.127469857,
         "Snack Foods",
         107.7622,
         "OUT027",
         1985,
         "Medium",
         "Tier 3",
         "Supermarket Type3",
         4022.7636,
         "random",
         "2024-12-27",
         "03-01-2025",
         -7
        ],
        [
         "FDH17",
         16.2,
         "Reg",
         0.016687114,
         "Frozen Foods",
         96.9726,
         "OUT045",
         2002,
         "Not avail",
         "Tier 2",
         "Supermarket Type1",
         1076.5986,
         "random",
         "2024-12-27",
         "03-01-2025",
         -7
        ],
        [
         "FDU28",
         19.2,
         "Reg",
         0.09444959,
         "Frozen Foods",
         187.8214,
         "OUT017",
         2007,
         "Not avail",
         "Tier 2",
         "Supermarket Type1",
         4710.535,
         "random",
         "2024-12-27",
         "03-01-2025",
         -7
        ],
        [
         "FDY07",
         11.8,
         "Low Fat",
         0.0,
         "Fruits and Vegetables",
         45.5402,
         "OUT049",
         1999,
         "Medium",
         "Tier 1",
         "Supermarket Type1",
         1516.0266,
         "random",
         "2024-12-27",
         "03-01-2025",
         -7
        ],
        [
         "FDA03",
         18.5,
         "Reg",
         0.045463773,
         "Dairy",
         144.1102,
         "OUT046",
         1997,
         "Small",
         "Tier 1",
         "Supermarket Type1",
         2187.153,
         "random",
         "2024-12-27",
         "03-01-2025",
         -7
        ],
        [
         "FDX32",
         15.1,
         "Reg",
         0.1000135,
         "Fruits and Vegetables",
         145.4786,
         "OUT049",
         1999,
         "Medium",
         "Tier 1",
         "Supermarket Type1",
         1589.2646,
         "random",
         "2024-12-27",
         "03-01-2025",
         -7
        ],
        [
         "FDS46",
         17.6,
         "Reg",
         0.047257328,
         "Snack Foods",
         119.6782,
         "OUT046",
         1997,
         "Small",
         "Tier 1",
         "Supermarket Type1",
         2145.2076,
         "random",
         "2024-12-27",
         "03-01-2025",
         -7
        ],
        [
         "FDF32",
         16.35,
         "Low Fat",
         0.0680243,
         "Fruits and Vegetables",
         196.4426,
         "OUT013",
         1987,
         "High",
         "Tier 3",
         "Supermarket Type1",
         1977.426,
         "random",
         "2024-12-27",
         "03-01-2025",
         -7
        ],
        [
         "FDP49",
         9.0,
         "Reg",
         0.069088961,
         "Breakfast",
         56.3614,
         "OUT046",
         1997,
         "Small",
         "Tier 1",
         "Supermarket Type1",
         1547.3192,
         "random",
         "2024-12-27",
         "03-01-2025",
         -7
        ],
        [
         "NCB42",
         11.8,
         "Low Fat",
         0.008596051,
         "Health and Hygiene",
         115.3492,
         "OUT018",
         2009,
         "Medium",
         "Tier 3",
         "Supermarket Type2",
         1621.8888,
         "random",
         "2024-12-27",
         "03-01-2025",
         -7
        ],
        [
         "FDP49",
         9.0,
         "Reg",
         0.069196376,
         "Breakfast",
         54.3614,
         "OUT049",
         1999,
         "Medium",
         "Tier 1",
         "Supermarket Type1",
         718.3982,
         "random",
         "2024-12-27",
         "03-01-2025",
         -7
        ],
        [
         "DRI11",
         0.0,
         "Low Fat",
         0.034237682,
         "Hard Drinks",
         113.2834,
         "OUT027",
         1985,
         "Medium",
         "Tier 3",
         "Supermarket Type3",
         2303.668,
         "random",
         "2024-12-27",
         "03-01-2025",
         -7
        ],
        [
         "FDU02",
         13.35,
         "Low Fat",
         0.10249212,
         "Dairy",
         230.5352,
         "OUT035",
         2004,
         "Small",
         "Tier 2",
         "Supermarket Type1",
         2748.4224,
         "random",
         "2024-12-27",
         "03-01-2025",
         -7
        ]
       ],
       "datasetInfos": [],
       "dbfsResultPath": null,
       "isJsonSchema": true,
       "metadata": {},
       "overflow": false,
       "plotOptions": {
        "customPlotOptions": {},
        "displayType": "table",
        "pivotAggregation": null,
        "pivotColumns": null,
        "xColumns": null,
        "yColumns": null
       },
       "removedWidgets": [],
       "schema": [
        {
         "metadata": "{}",
         "name": "Item_Identifier",
         "type": "\"string\""
        },
        {
         "metadata": "{}",
         "name": "Item_Weight",
         "type": "\"double\""
        },
        {
         "metadata": "{}",
         "name": "Item_Fat_Content",
         "type": "\"string\""
        },
        {
         "metadata": "{}",
         "name": "Item_Visibility",
         "type": "\"double\""
        },
        {
         "metadata": "{}",
         "name": "Item_Type",
         "type": "\"string\""
        },
        {
         "metadata": "{}",
         "name": "Item_MRP",
         "type": "\"double\""
        },
        {
         "metadata": "{}",
         "name": "Outlet_Identifier",
         "type": "\"string\""
        },
        {
         "metadata": "{}",
         "name": "Outlet_Establishment_Year",
         "type": "\"integer\""
        },
        {
         "metadata": "{}",
         "name": "Outlet_Size",
         "type": "\"string\""
        },
        {
         "metadata": "{}",
         "name": "Outlet_Location_Type",
         "type": "\"string\""
        },
        {
         "metadata": "{}",
         "name": "Outlet_Type",
         "type": "\"string\""
        },
        {
         "metadata": "{}",
         "name": "Item_Outlet_Sales",
         "type": "\"double\""
        },
        {
         "metadata": "{}",
         "name": "Flag",
         "type": "\"string\""
        },
        {
         "metadata": "{}",
         "name": "curr_date",
         "type": "\"date\""
        },
        {
         "metadata": "{}",
         "name": "next_week",
         "type": "\"string\""
        },
        {
         "metadata": "{}",
         "name": "diff_date",
         "type": "\"integer\""
        }
       ],
       "type": "table"
      }
     },
     "output_type": "display_data"
    }
   ],
   "source": [
    "df.fillna({\n",
    "    \"Item_Weight\":0.0,\n",
    "    \"Outlet_Size\":\"Not avail\"\n",
    "}).limit(20).display()"
   ]
  },
  {
   "cell_type": "code",
   "execution_count": 0,
   "metadata": {
    "application/vnd.databricks.v1+cell": {
     "cellMetadata": {
      "byteLimit": 2048000,
      "rowLimit": 10000
     },
     "inputWidgets": {},
     "nuid": "455b6391-338c-426d-870c-c056e1071bf9",
     "showTitle": false,
     "tableResultSettingsMap": {},
     "title": ""
    }
   },
   "outputs": [
    {
     "output_type": "display_data",
     "data": {
      "text/html": [
       "<style scoped>\n",
       "  .table-result-container {\n",
       "    max-height: 300px;\n",
       "    overflow: auto;\n",
       "  }\n",
       "  table, th, td {\n",
       "    border: 1px solid black;\n",
       "    border-collapse: collapse;\n",
       "  }\n",
       "  th, td {\n",
       "    padding: 5px;\n",
       "  }\n",
       "  th {\n",
       "    text-align: left;\n",
       "  }\n",
       "</style><div class='table-result-container'><table class='table-result'><thead style='background-color: white'><tr><th>Item_Identifier</th><th>Item_Weight</th><th>Item_Fat_Content</th><th>Item_Visibility</th><th>Item_Type</th><th>Item_MRP</th><th>Outlet_Identifier</th><th>Outlet_Establishment_Year</th><th>Outlet_Size</th><th>Outlet_Location_Type</th><th>Outlet_Type</th><th>Item_Outlet_Sales</th><th>Flag</th><th>curr_date</th><th>next_week</th><th>diff_date</th></tr></thead><tbody><tr><td>FDA15</td><td>9.3</td><td>Low Fat</td><td>0.016047301</td><td>List(Dairy)</td><td>249.8092</td><td>OUT049</td><td>1999</td><td>Medium</td><td>Tier 1</td><td>Supermarket Type1</td><td>3735.138</td><td>random</td><td>2024-12-27</td><td>03-01-2025</td><td>-7</td></tr><tr><td>DRC01</td><td>5.92</td><td>Reg</td><td>0.019278216</td><td>List(Soft, Drinks)</td><td>48.2692</td><td>OUT018</td><td>2009</td><td>Medium</td><td>Tier 3</td><td>Supermarket Type2</td><td>443.4228</td><td>random</td><td>2024-12-27</td><td>03-01-2025</td><td>-7</td></tr></tbody></table></div>"
      ]
     },
     "metadata": {
      "application/vnd.databricks.v1+output": {
       "addedWidgets": {},
       "aggData": [],
       "aggError": "",
       "aggOverflow": false,
       "aggSchema": [],
       "aggSeriesLimitReached": false,
       "aggType": "",
       "arguments": {},
       "columnCustomDisplayInfos": {},
       "data": [
        [
         "FDA15",
         9.3,
         "Low Fat",
         0.016047301,
         [
          "Dairy"
         ],
         249.8092,
         "OUT049",
         1999,
         "Medium",
         "Tier 1",
         "Supermarket Type1",
         3735.138,
         "random",
         "2024-12-27",
         "03-01-2025",
         -7
        ],
        [
         "DRC01",
         5.92,
         "Reg",
         0.019278216,
         [
          "Soft",
          "Drinks"
         ],
         48.2692,
         "OUT018",
         2009,
         "Medium",
         "Tier 3",
         "Supermarket Type2",
         443.4228,
         "random",
         "2024-12-27",
         "03-01-2025",
         -7
        ]
       ],
       "datasetInfos": [],
       "dbfsResultPath": null,
       "isJsonSchema": true,
       "metadata": {},
       "overflow": false,
       "plotOptions": {
        "customPlotOptions": {},
        "displayType": "table",
        "pivotAggregation": null,
        "pivotColumns": null,
        "xColumns": null,
        "yColumns": null
       },
       "removedWidgets": [],
       "schema": [
        {
         "metadata": "{}",
         "name": "Item_Identifier",
         "type": "\"string\""
        },
        {
         "metadata": "{}",
         "name": "Item_Weight",
         "type": "\"double\""
        },
        {
         "metadata": "{}",
         "name": "Item_Fat_Content",
         "type": "\"string\""
        },
        {
         "metadata": "{}",
         "name": "Item_Visibility",
         "type": "\"double\""
        },
        {
         "metadata": "{}",
         "name": "Item_Type",
         "type": "{\"type\":\"array\",\"elementType\":\"string\",\"containsNull\":false}"
        },
        {
         "metadata": "{}",
         "name": "Item_MRP",
         "type": "\"double\""
        },
        {
         "metadata": "{}",
         "name": "Outlet_Identifier",
         "type": "\"string\""
        },
        {
         "metadata": "{}",
         "name": "Outlet_Establishment_Year",
         "type": "\"integer\""
        },
        {
         "metadata": "{}",
         "name": "Outlet_Size",
         "type": "\"string\""
        },
        {
         "metadata": "{}",
         "name": "Outlet_Location_Type",
         "type": "\"string\""
        },
        {
         "metadata": "{}",
         "name": "Outlet_Type",
         "type": "\"string\""
        },
        {
         "metadata": "{}",
         "name": "Item_Outlet_Sales",
         "type": "\"double\""
        },
        {
         "metadata": "{}",
         "name": "Flag",
         "type": "\"string\""
        },
        {
         "metadata": "{}",
         "name": "curr_date",
         "type": "\"date\""
        },
        {
         "metadata": "{}",
         "name": "next_week",
         "type": "\"string\""
        },
        {
         "metadata": "{}",
         "name": "diff_date",
         "type": "\"integer\""
        }
       ],
       "type": "table"
      }
     },
     "output_type": "display_data"
    }
   ],
   "source": [
    "df.withColumn(\"Item_Type\", split(\"Item_Type\",' ')).limit(2).display()  # it gives and array of values post split"
   ]
  },
  {
   "cell_type": "code",
   "execution_count": 0,
   "metadata": {
    "application/vnd.databricks.v1+cell": {
     "cellMetadata": {
      "byteLimit": 2048000,
      "rowLimit": 10000
     },
     "inputWidgets": {},
     "nuid": "d72ebfc5-9d4e-4001-8108-884055298e72",
     "showTitle": false,
     "tableResultSettingsMap": {},
     "title": ""
    }
   },
   "outputs": [
    {
     "output_type": "display_data",
     "data": {
      "text/html": [
       "<style scoped>\n",
       "  .table-result-container {\n",
       "    max-height: 300px;\n",
       "    overflow: auto;\n",
       "  }\n",
       "  table, th, td {\n",
       "    border: 1px solid black;\n",
       "    border-collapse: collapse;\n",
       "  }\n",
       "  th, td {\n",
       "    padding: 5px;\n",
       "  }\n",
       "  th {\n",
       "    text-align: left;\n",
       "  }\n",
       "</style><div class='table-result-container'><table class='table-result'><thead style='background-color: white'><tr><th>Item_Identifier</th><th>Item_Weight</th><th>Item_Fat_Content</th><th>Item_Visibility</th><th>Item_Type</th><th>Item_MRP</th><th>Outlet_Identifier</th><th>Outlet_Establishment_Year</th><th>Outlet_Size</th><th>Outlet_Location_Type</th><th>Outlet_Type</th><th>Item_Outlet_Sales</th><th>Flag</th><th>curr_date</th><th>next_week</th><th>diff_date</th></tr></thead><tbody><tr><td>FDA15</td><td>9.3</td><td>Low Fat</td><td>0.016047301</td><td>Dairy</td><td>249.8092</td><td>OUT049</td><td>1999</td><td>Medium</td><td>Tier 1</td><td>Supermarket Type1</td><td>3735.138</td><td>random</td><td>2024-12-27</td><td>03-01-2025</td><td>-7</td></tr><tr><td>DRC01</td><td>5.92</td><td>Reg</td><td>0.019278216</td><td>Soft</td><td>48.2692</td><td>OUT018</td><td>2009</td><td>Medium</td><td>Tier 3</td><td>Supermarket Type2</td><td>443.4228</td><td>random</td><td>2024-12-27</td><td>03-01-2025</td><td>-7</td></tr></tbody></table></div>"
      ]
     },
     "metadata": {
      "application/vnd.databricks.v1+output": {
       "addedWidgets": {},
       "aggData": [],
       "aggError": "",
       "aggOverflow": false,
       "aggSchema": [],
       "aggSeriesLimitReached": false,
       "aggType": "",
       "arguments": {},
       "columnCustomDisplayInfos": {},
       "data": [
        [
         "FDA15",
         9.3,
         "Low Fat",
         0.016047301,
         "Dairy",
         249.8092,
         "OUT049",
         1999,
         "Medium",
         "Tier 1",
         "Supermarket Type1",
         3735.138,
         "random",
         "2024-12-27",
         "03-01-2025",
         -7
        ],
        [
         "DRC01",
         5.92,
         "Reg",
         0.019278216,
         "Soft",
         48.2692,
         "OUT018",
         2009,
         "Medium",
         "Tier 3",
         "Supermarket Type2",
         443.4228,
         "random",
         "2024-12-27",
         "03-01-2025",
         -7
        ]
       ],
       "datasetInfos": [],
       "dbfsResultPath": null,
       "isJsonSchema": true,
       "metadata": {},
       "overflow": false,
       "plotOptions": {
        "customPlotOptions": {},
        "displayType": "table",
        "pivotAggregation": null,
        "pivotColumns": null,
        "xColumns": null,
        "yColumns": null
       },
       "removedWidgets": [],
       "schema": [
        {
         "metadata": "{}",
         "name": "Item_Identifier",
         "type": "\"string\""
        },
        {
         "metadata": "{}",
         "name": "Item_Weight",
         "type": "\"double\""
        },
        {
         "metadata": "{}",
         "name": "Item_Fat_Content",
         "type": "\"string\""
        },
        {
         "metadata": "{}",
         "name": "Item_Visibility",
         "type": "\"double\""
        },
        {
         "metadata": "{}",
         "name": "Item_Type",
         "type": "\"string\""
        },
        {
         "metadata": "{}",
         "name": "Item_MRP",
         "type": "\"double\""
        },
        {
         "metadata": "{}",
         "name": "Outlet_Identifier",
         "type": "\"string\""
        },
        {
         "metadata": "{}",
         "name": "Outlet_Establishment_Year",
         "type": "\"integer\""
        },
        {
         "metadata": "{}",
         "name": "Outlet_Size",
         "type": "\"string\""
        },
        {
         "metadata": "{}",
         "name": "Outlet_Location_Type",
         "type": "\"string\""
        },
        {
         "metadata": "{}",
         "name": "Outlet_Type",
         "type": "\"string\""
        },
        {
         "metadata": "{}",
         "name": "Item_Outlet_Sales",
         "type": "\"double\""
        },
        {
         "metadata": "{}",
         "name": "Flag",
         "type": "\"string\""
        },
        {
         "metadata": "{}",
         "name": "curr_date",
         "type": "\"date\""
        },
        {
         "metadata": "{}",
         "name": "next_week",
         "type": "\"string\""
        },
        {
         "metadata": "{}",
         "name": "diff_date",
         "type": "\"integer\""
        }
       ],
       "type": "table"
      }
     },
     "output_type": "display_data"
    }
   ],
   "source": [
    "df.withColumn(\"Item_Type\", split(\"Item_Type\", ' ')[0]).limit(2).display()  # can fetch any value"
   ]
  },
  {
   "cell_type": "markdown",
   "metadata": {
    "application/vnd.databricks.v1+cell": {
     "cellMetadata": {
      "byteLimit": 2048000,
      "rowLimit": 10000
     },
     "inputWidgets": {},
     "nuid": "b99a453f-36de-4ec0-9ae9-ab35b81a4448",
     "showTitle": false,
     "tableResultSettingsMap": {},
     "title": ""
    }
   },
   "source": [
    "Explode"
   ]
  },
  {
   "cell_type": "code",
   "execution_count": 0,
   "metadata": {
    "application/vnd.databricks.v1+cell": {
     "cellMetadata": {
      "byteLimit": 2048000,
      "rowLimit": 10000
     },
     "inputWidgets": {},
     "nuid": "03790744-940e-4cdd-b7f1-2d7afab1f392",
     "showTitle": false,
     "tableResultSettingsMap": {},
     "title": ""
    }
   },
   "outputs": [
    {
     "output_type": "display_data",
     "data": {
      "text/html": [
       "<style scoped>\n",
       "  .table-result-container {\n",
       "    max-height: 300px;\n",
       "    overflow: auto;\n",
       "  }\n",
       "  table, th, td {\n",
       "    border: 1px solid black;\n",
       "    border-collapse: collapse;\n",
       "  }\n",
       "  th, td {\n",
       "    padding: 5px;\n",
       "  }\n",
       "  th {\n",
       "    text-align: left;\n",
       "  }\n",
       "</style><div class='table-result-container'><table class='table-result'><thead style='background-color: white'><tr><th>Item_Identifier</th><th>Item_Weight</th><th>Item_Fat_Content</th><th>Item_Visibility</th><th>Item_Type</th><th>Item_MRP</th><th>Outlet_Identifier</th><th>Outlet_Establishment_Year</th><th>Outlet_Size</th><th>Outlet_Location_Type</th><th>Outlet_Type</th><th>Item_Outlet_Sales</th><th>Flag</th><th>curr_date</th><th>next_week</th><th>diff_date</th></tr></thead><tbody><tr><td>FDA15</td><td>9.3</td><td>Low Fat</td><td>0.016047301</td><td>List(Dairy)</td><td>249.8092</td><td>OUT049</td><td>1999</td><td>Medium</td><td>Tier 1</td><td>Supermarket Type1</td><td>3735.138</td><td>random</td><td>2024-12-27</td><td>03-01-2025</td><td>-7</td></tr><tr><td>DRC01</td><td>5.92</td><td>Reg</td><td>0.019278216</td><td>List(Soft, Drinks)</td><td>48.2692</td><td>OUT018</td><td>2009</td><td>Medium</td><td>Tier 3</td><td>Supermarket Type2</td><td>443.4228</td><td>random</td><td>2024-12-27</td><td>03-01-2025</td><td>-7</td></tr></tbody></table></div>"
      ]
     },
     "metadata": {
      "application/vnd.databricks.v1+output": {
       "addedWidgets": {},
       "aggData": [],
       "aggError": "",
       "aggOverflow": false,
       "aggSchema": [],
       "aggSeriesLimitReached": false,
       "aggType": "",
       "arguments": {},
       "columnCustomDisplayInfos": {},
       "data": [
        [
         "FDA15",
         9.3,
         "Low Fat",
         0.016047301,
         [
          "Dairy"
         ],
         249.8092,
         "OUT049",
         1999,
         "Medium",
         "Tier 1",
         "Supermarket Type1",
         3735.138,
         "random",
         "2024-12-27",
         "03-01-2025",
         -7
        ],
        [
         "DRC01",
         5.92,
         "Reg",
         0.019278216,
         [
          "Soft",
          "Drinks"
         ],
         48.2692,
         "OUT018",
         2009,
         "Medium",
         "Tier 3",
         "Supermarket Type2",
         443.4228,
         "random",
         "2024-12-27",
         "03-01-2025",
         -7
        ]
       ],
       "datasetInfos": [],
       "dbfsResultPath": null,
       "isJsonSchema": true,
       "metadata": {},
       "overflow": false,
       "plotOptions": {
        "customPlotOptions": {},
        "displayType": "table",
        "pivotAggregation": null,
        "pivotColumns": null,
        "xColumns": null,
        "yColumns": null
       },
       "removedWidgets": [],
       "schema": [
        {
         "metadata": "{}",
         "name": "Item_Identifier",
         "type": "\"string\""
        },
        {
         "metadata": "{}",
         "name": "Item_Weight",
         "type": "\"double\""
        },
        {
         "metadata": "{}",
         "name": "Item_Fat_Content",
         "type": "\"string\""
        },
        {
         "metadata": "{}",
         "name": "Item_Visibility",
         "type": "\"double\""
        },
        {
         "metadata": "{}",
         "name": "Item_Type",
         "type": "{\"type\":\"array\",\"elementType\":\"string\",\"containsNull\":false}"
        },
        {
         "metadata": "{}",
         "name": "Item_MRP",
         "type": "\"double\""
        },
        {
         "metadata": "{}",
         "name": "Outlet_Identifier",
         "type": "\"string\""
        },
        {
         "metadata": "{}",
         "name": "Outlet_Establishment_Year",
         "type": "\"integer\""
        },
        {
         "metadata": "{}",
         "name": "Outlet_Size",
         "type": "\"string\""
        },
        {
         "metadata": "{}",
         "name": "Outlet_Location_Type",
         "type": "\"string\""
        },
        {
         "metadata": "{}",
         "name": "Outlet_Type",
         "type": "\"string\""
        },
        {
         "metadata": "{}",
         "name": "Item_Outlet_Sales",
         "type": "\"double\""
        },
        {
         "metadata": "{}",
         "name": "Flag",
         "type": "\"string\""
        },
        {
         "metadata": "{}",
         "name": "curr_date",
         "type": "\"date\""
        },
        {
         "metadata": "{}",
         "name": "next_week",
         "type": "\"string\""
        },
        {
         "metadata": "{}",
         "name": "diff_date",
         "type": "\"integer\""
        }
       ],
       "type": "table"
      }
     },
     "output_type": "display_data"
    }
   ],
   "source": [
    "df_exp = df.withColumn(\"Item_Type\", split(\"Item_Type\",' '))\n",
    "df_exp.limit(2).display()"
   ]
  },
  {
   "cell_type": "code",
   "execution_count": 0,
   "metadata": {
    "application/vnd.databricks.v1+cell": {
     "cellMetadata": {
      "byteLimit": 2048000,
      "rowLimit": 10000
     },
     "inputWidgets": {},
     "nuid": "8da26703-df85-47a4-b624-efec70b23f91",
     "showTitle": false,
     "tableResultSettingsMap": {},
     "title": ""
    }
   },
   "outputs": [
    {
     "output_type": "display_data",
     "data": {
      "text/html": [
       "<style scoped>\n",
       "  .table-result-container {\n",
       "    max-height: 300px;\n",
       "    overflow: auto;\n",
       "  }\n",
       "  table, th, td {\n",
       "    border: 1px solid black;\n",
       "    border-collapse: collapse;\n",
       "  }\n",
       "  th, td {\n",
       "    padding: 5px;\n",
       "  }\n",
       "  th {\n",
       "    text-align: left;\n",
       "  }\n",
       "</style><div class='table-result-container'><table class='table-result'><thead style='background-color: white'><tr><th>Item_Identifier</th><th>Item_Weight</th><th>Item_Fat_Content</th><th>Item_Visibility</th><th>Item_Type</th><th>Item_MRP</th><th>Outlet_Identifier</th><th>Outlet_Establishment_Year</th><th>Outlet_Size</th><th>Outlet_Location_Type</th><th>Outlet_Type</th><th>Item_Outlet_Sales</th><th>Flag</th><th>curr_date</th><th>next_week</th><th>diff_date</th></tr></thead><tbody><tr><td>FDA15</td><td>9.3</td><td>Low Fat</td><td>0.016047301</td><td>Dairy</td><td>249.8092</td><td>OUT049</td><td>1999</td><td>Medium</td><td>Tier 1</td><td>Supermarket Type1</td><td>3735.138</td><td>random</td><td>2024-12-27</td><td>03-01-2025</td><td>-7</td></tr><tr><td>DRC01</td><td>5.92</td><td>Reg</td><td>0.019278216</td><td>Soft</td><td>48.2692</td><td>OUT018</td><td>2009</td><td>Medium</td><td>Tier 3</td><td>Supermarket Type2</td><td>443.4228</td><td>random</td><td>2024-12-27</td><td>03-01-2025</td><td>-7</td></tr><tr><td>DRC01</td><td>5.92</td><td>Reg</td><td>0.019278216</td><td>Drinks</td><td>48.2692</td><td>OUT018</td><td>2009</td><td>Medium</td><td>Tier 3</td><td>Supermarket Type2</td><td>443.4228</td><td>random</td><td>2024-12-27</td><td>03-01-2025</td><td>-7</td></tr><tr><td>FDN15</td><td>17.5</td><td>Low Fat</td><td>0.016760075</td><td>Meat</td><td>141.618</td><td>OUT049</td><td>1999</td><td>Medium</td><td>Tier 1</td><td>Supermarket Type1</td><td>2097.27</td><td>random</td><td>2024-12-27</td><td>03-01-2025</td><td>-7</td></tr><tr><td>FDX07</td><td>19.2</td><td>Reg</td><td>0.0</td><td>Fruits</td><td>182.095</td><td>OUT010</td><td>1998</td><td>null</td><td>Tier 3</td><td>Grocery Store</td><td>732.38</td><td>random</td><td>2024-12-27</td><td>03-01-2025</td><td>-7</td></tr><tr><td>FDX07</td><td>19.2</td><td>Reg</td><td>0.0</td><td>and</td><td>182.095</td><td>OUT010</td><td>1998</td><td>null</td><td>Tier 3</td><td>Grocery Store</td><td>732.38</td><td>random</td><td>2024-12-27</td><td>03-01-2025</td><td>-7</td></tr><tr><td>FDX07</td><td>19.2</td><td>Reg</td><td>0.0</td><td>Vegetables</td><td>182.095</td><td>OUT010</td><td>1998</td><td>null</td><td>Tier 3</td><td>Grocery Store</td><td>732.38</td><td>random</td><td>2024-12-27</td><td>03-01-2025</td><td>-7</td></tr><tr><td>NCD19</td><td>8.93</td><td>Low Fat</td><td>0.0</td><td>Household</td><td>53.8614</td><td>OUT013</td><td>1987</td><td>High</td><td>Tier 3</td><td>Supermarket Type1</td><td>994.7052</td><td>random</td><td>2024-12-27</td><td>03-01-2025</td><td>-7</td></tr><tr><td>FDP36</td><td>10.395</td><td>Reg</td><td>0.0</td><td>Baking</td><td>51.4008</td><td>OUT018</td><td>2009</td><td>Medium</td><td>Tier 3</td><td>Supermarket Type2</td><td>556.6088</td><td>random</td><td>2024-12-27</td><td>03-01-2025</td><td>-7</td></tr><tr><td>FDP36</td><td>10.395</td><td>Reg</td><td>0.0</td><td>Goods</td><td>51.4008</td><td>OUT018</td><td>2009</td><td>Medium</td><td>Tier 3</td><td>Supermarket Type2</td><td>556.6088</td><td>random</td><td>2024-12-27</td><td>03-01-2025</td><td>-7</td></tr><tr><td>FDO10</td><td>13.65</td><td>Reg</td><td>0.012741089</td><td>Snack</td><td>57.6588</td><td>OUT013</td><td>1987</td><td>High</td><td>Tier 3</td><td>Supermarket Type1</td><td>343.5528</td><td>random</td><td>2024-12-27</td><td>03-01-2025</td><td>-7</td></tr><tr><td>FDO10</td><td>13.65</td><td>Reg</td><td>0.012741089</td><td>Foods</td><td>57.6588</td><td>OUT013</td><td>1987</td><td>High</td><td>Tier 3</td><td>Supermarket Type1</td><td>343.5528</td><td>random</td><td>2024-12-27</td><td>03-01-2025</td><td>-7</td></tr><tr><td>FDP10</td><td>null</td><td>Low Fat</td><td>0.127469857</td><td>Snack</td><td>107.7622</td><td>OUT027</td><td>1985</td><td>Medium</td><td>Tier 3</td><td>Supermarket Type3</td><td>4022.7636</td><td>random</td><td>2024-12-27</td><td>03-01-2025</td><td>-7</td></tr><tr><td>FDP10</td><td>null</td><td>Low Fat</td><td>0.127469857</td><td>Foods</td><td>107.7622</td><td>OUT027</td><td>1985</td><td>Medium</td><td>Tier 3</td><td>Supermarket Type3</td><td>4022.7636</td><td>random</td><td>2024-12-27</td><td>03-01-2025</td><td>-7</td></tr><tr><td>FDH17</td><td>16.2</td><td>Reg</td><td>0.016687114</td><td>Frozen</td><td>96.9726</td><td>OUT045</td><td>2002</td><td>null</td><td>Tier 2</td><td>Supermarket Type1</td><td>1076.5986</td><td>random</td><td>2024-12-27</td><td>03-01-2025</td><td>-7</td></tr><tr><td>FDH17</td><td>16.2</td><td>Reg</td><td>0.016687114</td><td>Foods</td><td>96.9726</td><td>OUT045</td><td>2002</td><td>null</td><td>Tier 2</td><td>Supermarket Type1</td><td>1076.5986</td><td>random</td><td>2024-12-27</td><td>03-01-2025</td><td>-7</td></tr><tr><td>FDU28</td><td>19.2</td><td>Reg</td><td>0.09444959</td><td>Frozen</td><td>187.8214</td><td>OUT017</td><td>2007</td><td>null</td><td>Tier 2</td><td>Supermarket Type1</td><td>4710.535</td><td>random</td><td>2024-12-27</td><td>03-01-2025</td><td>-7</td></tr><tr><td>FDU28</td><td>19.2</td><td>Reg</td><td>0.09444959</td><td>Foods</td><td>187.8214</td><td>OUT017</td><td>2007</td><td>null</td><td>Tier 2</td><td>Supermarket Type1</td><td>4710.535</td><td>random</td><td>2024-12-27</td><td>03-01-2025</td><td>-7</td></tr><tr><td>FDY07</td><td>11.8</td><td>Low Fat</td><td>0.0</td><td>Fruits</td><td>45.5402</td><td>OUT049</td><td>1999</td><td>Medium</td><td>Tier 1</td><td>Supermarket Type1</td><td>1516.0266</td><td>random</td><td>2024-12-27</td><td>03-01-2025</td><td>-7</td></tr><tr><td>FDY07</td><td>11.8</td><td>Low Fat</td><td>0.0</td><td>and</td><td>45.5402</td><td>OUT049</td><td>1999</td><td>Medium</td><td>Tier 1</td><td>Supermarket Type1</td><td>1516.0266</td><td>random</td><td>2024-12-27</td><td>03-01-2025</td><td>-7</td></tr></tbody></table></div>"
      ]
     },
     "metadata": {
      "application/vnd.databricks.v1+output": {
       "addedWidgets": {},
       "aggData": [],
       "aggError": "",
       "aggOverflow": false,
       "aggSchema": [],
       "aggSeriesLimitReached": false,
       "aggType": "",
       "arguments": {},
       "columnCustomDisplayInfos": {},
       "data": [
        [
         "FDA15",
         9.3,
         "Low Fat",
         0.016047301,
         "Dairy",
         249.8092,
         "OUT049",
         1999,
         "Medium",
         "Tier 1",
         "Supermarket Type1",
         3735.138,
         "random",
         "2024-12-27",
         "03-01-2025",
         -7
        ],
        [
         "DRC01",
         5.92,
         "Reg",
         0.019278216,
         "Soft",
         48.2692,
         "OUT018",
         2009,
         "Medium",
         "Tier 3",
         "Supermarket Type2",
         443.4228,
         "random",
         "2024-12-27",
         "03-01-2025",
         -7
        ],
        [
         "DRC01",
         5.92,
         "Reg",
         0.019278216,
         "Drinks",
         48.2692,
         "OUT018",
         2009,
         "Medium",
         "Tier 3",
         "Supermarket Type2",
         443.4228,
         "random",
         "2024-12-27",
         "03-01-2025",
         -7
        ],
        [
         "FDN15",
         17.5,
         "Low Fat",
         0.016760075,
         "Meat",
         141.618,
         "OUT049",
         1999,
         "Medium",
         "Tier 1",
         "Supermarket Type1",
         2097.27,
         "random",
         "2024-12-27",
         "03-01-2025",
         -7
        ],
        [
         "FDX07",
         19.2,
         "Reg",
         0.0,
         "Fruits",
         182.095,
         "OUT010",
         1998,
         null,
         "Tier 3",
         "Grocery Store",
         732.38,
         "random",
         "2024-12-27",
         "03-01-2025",
         -7
        ],
        [
         "FDX07",
         19.2,
         "Reg",
         0.0,
         "and",
         182.095,
         "OUT010",
         1998,
         null,
         "Tier 3",
         "Grocery Store",
         732.38,
         "random",
         "2024-12-27",
         "03-01-2025",
         -7
        ],
        [
         "FDX07",
         19.2,
         "Reg",
         0.0,
         "Vegetables",
         182.095,
         "OUT010",
         1998,
         null,
         "Tier 3",
         "Grocery Store",
         732.38,
         "random",
         "2024-12-27",
         "03-01-2025",
         -7
        ],
        [
         "NCD19",
         8.93,
         "Low Fat",
         0.0,
         "Household",
         53.8614,
         "OUT013",
         1987,
         "High",
         "Tier 3",
         "Supermarket Type1",
         994.7052,
         "random",
         "2024-12-27",
         "03-01-2025",
         -7
        ],
        [
         "FDP36",
         10.395,
         "Reg",
         0.0,
         "Baking",
         51.4008,
         "OUT018",
         2009,
         "Medium",
         "Tier 3",
         "Supermarket Type2",
         556.6088,
         "random",
         "2024-12-27",
         "03-01-2025",
         -7
        ],
        [
         "FDP36",
         10.395,
         "Reg",
         0.0,
         "Goods",
         51.4008,
         "OUT018",
         2009,
         "Medium",
         "Tier 3",
         "Supermarket Type2",
         556.6088,
         "random",
         "2024-12-27",
         "03-01-2025",
         -7
        ],
        [
         "FDO10",
         13.65,
         "Reg",
         0.012741089,
         "Snack",
         57.6588,
         "OUT013",
         1987,
         "High",
         "Tier 3",
         "Supermarket Type1",
         343.5528,
         "random",
         "2024-12-27",
         "03-01-2025",
         -7
        ],
        [
         "FDO10",
         13.65,
         "Reg",
         0.012741089,
         "Foods",
         57.6588,
         "OUT013",
         1987,
         "High",
         "Tier 3",
         "Supermarket Type1",
         343.5528,
         "random",
         "2024-12-27",
         "03-01-2025",
         -7
        ],
        [
         "FDP10",
         null,
         "Low Fat",
         0.127469857,
         "Snack",
         107.7622,
         "OUT027",
         1985,
         "Medium",
         "Tier 3",
         "Supermarket Type3",
         4022.7636,
         "random",
         "2024-12-27",
         "03-01-2025",
         -7
        ],
        [
         "FDP10",
         null,
         "Low Fat",
         0.127469857,
         "Foods",
         107.7622,
         "OUT027",
         1985,
         "Medium",
         "Tier 3",
         "Supermarket Type3",
         4022.7636,
         "random",
         "2024-12-27",
         "03-01-2025",
         -7
        ],
        [
         "FDH17",
         16.2,
         "Reg",
         0.016687114,
         "Frozen",
         96.9726,
         "OUT045",
         2002,
         null,
         "Tier 2",
         "Supermarket Type1",
         1076.5986,
         "random",
         "2024-12-27",
         "03-01-2025",
         -7
        ],
        [
         "FDH17",
         16.2,
         "Reg",
         0.016687114,
         "Foods",
         96.9726,
         "OUT045",
         2002,
         null,
         "Tier 2",
         "Supermarket Type1",
         1076.5986,
         "random",
         "2024-12-27",
         "03-01-2025",
         -7
        ],
        [
         "FDU28",
         19.2,
         "Reg",
         0.09444959,
         "Frozen",
         187.8214,
         "OUT017",
         2007,
         null,
         "Tier 2",
         "Supermarket Type1",
         4710.535,
         "random",
         "2024-12-27",
         "03-01-2025",
         -7
        ],
        [
         "FDU28",
         19.2,
         "Reg",
         0.09444959,
         "Foods",
         187.8214,
         "OUT017",
         2007,
         null,
         "Tier 2",
         "Supermarket Type1",
         4710.535,
         "random",
         "2024-12-27",
         "03-01-2025",
         -7
        ],
        [
         "FDY07",
         11.8,
         "Low Fat",
         0.0,
         "Fruits",
         45.5402,
         "OUT049",
         1999,
         "Medium",
         "Tier 1",
         "Supermarket Type1",
         1516.0266,
         "random",
         "2024-12-27",
         "03-01-2025",
         -7
        ],
        [
         "FDY07",
         11.8,
         "Low Fat",
         0.0,
         "and",
         45.5402,
         "OUT049",
         1999,
         "Medium",
         "Tier 1",
         "Supermarket Type1",
         1516.0266,
         "random",
         "2024-12-27",
         "03-01-2025",
         -7
        ]
       ],
       "datasetInfos": [],
       "dbfsResultPath": null,
       "isJsonSchema": true,
       "metadata": {},
       "overflow": false,
       "plotOptions": {
        "customPlotOptions": {},
        "displayType": "table",
        "pivotAggregation": null,
        "pivotColumns": null,
        "xColumns": null,
        "yColumns": null
       },
       "removedWidgets": [],
       "schema": [
        {
         "metadata": "{}",
         "name": "Item_Identifier",
         "type": "\"string\""
        },
        {
         "metadata": "{}",
         "name": "Item_Weight",
         "type": "\"double\""
        },
        {
         "metadata": "{}",
         "name": "Item_Fat_Content",
         "type": "\"string\""
        },
        {
         "metadata": "{}",
         "name": "Item_Visibility",
         "type": "\"double\""
        },
        {
         "metadata": "{}",
         "name": "Item_Type",
         "type": "\"string\""
        },
        {
         "metadata": "{}",
         "name": "Item_MRP",
         "type": "\"double\""
        },
        {
         "metadata": "{}",
         "name": "Outlet_Identifier",
         "type": "\"string\""
        },
        {
         "metadata": "{}",
         "name": "Outlet_Establishment_Year",
         "type": "\"integer\""
        },
        {
         "metadata": "{}",
         "name": "Outlet_Size",
         "type": "\"string\""
        },
        {
         "metadata": "{}",
         "name": "Outlet_Location_Type",
         "type": "\"string\""
        },
        {
         "metadata": "{}",
         "name": "Outlet_Type",
         "type": "\"string\""
        },
        {
         "metadata": "{}",
         "name": "Item_Outlet_Sales",
         "type": "\"double\""
        },
        {
         "metadata": "{}",
         "name": "Flag",
         "type": "\"string\""
        },
        {
         "metadata": "{}",
         "name": "curr_date",
         "type": "\"date\""
        },
        {
         "metadata": "{}",
         "name": "next_week",
         "type": "\"string\""
        },
        {
         "metadata": "{}",
         "name": "diff_date",
         "type": "\"integer\""
        }
       ],
       "type": "table"
      }
     },
     "output_type": "display_data"
    }
   ],
   "source": [
    "df_exp.withColumn(\"Item_Type\", explode(\"Item_Type\")).limit(20).display()\n",
    "#The explode() function takes the fruits column (which is an array) and creates a new row for each element in the array."
   ]
  },
  {
   "cell_type": "code",
   "execution_count": 0,
   "metadata": {
    "application/vnd.databricks.v1+cell": {
     "cellMetadata": {
      "byteLimit": 2048000,
      "rowLimit": 10000
     },
     "inputWidgets": {},
     "nuid": "7f228302-2bf1-45cf-9d18-e0dff3838af6",
     "showTitle": false,
     "tableResultSettingsMap": {},
     "title": ""
    }
   },
   "outputs": [
    {
     "output_type": "display_data",
     "data": {
      "text/html": [
       "<style scoped>\n",
       "  .table-result-container {\n",
       "    max-height: 300px;\n",
       "    overflow: auto;\n",
       "  }\n",
       "  table, th, td {\n",
       "    border: 1px solid black;\n",
       "    border-collapse: collapse;\n",
       "  }\n",
       "  th, td {\n",
       "    padding: 5px;\n",
       "  }\n",
       "  th {\n",
       "    text-align: left;\n",
       "  }\n",
       "</style><div class='table-result-container'><table class='table-result'><thead style='background-color: white'><tr><th>Item_Type</th><th>Item_drink</th></tr></thead><tbody><tr><td>List(Dairy)</td><td>false</td></tr><tr><td>List(Soft, Drinks)</td><td>true</td></tr><tr><td>List(Meat)</td><td>false</td></tr><tr><td>List(Fruits, and, Vegetables)</td><td>false</td></tr><tr><td>List(Household)</td><td>false</td></tr><tr><td>List(Baking, Goods)</td><td>false</td></tr><tr><td>List(Snack, Foods)</td><td>false</td></tr><tr><td>List(Snack, Foods)</td><td>false</td></tr><tr><td>List(Frozen, Foods)</td><td>false</td></tr><tr><td>List(Frozen, Foods)</td><td>false</td></tr><tr><td>List(Fruits, and, Vegetables)</td><td>false</td></tr><tr><td>List(Dairy)</td><td>false</td></tr><tr><td>List(Fruits, and, Vegetables)</td><td>false</td></tr><tr><td>List(Snack, Foods)</td><td>false</td></tr><tr><td>List(Fruits, and, Vegetables)</td><td>false</td></tr><tr><td>List(Breakfast)</td><td>false</td></tr><tr><td>List(Health, and, Hygiene)</td><td>false</td></tr><tr><td>List(Breakfast)</td><td>false</td></tr><tr><td>List(Hard, Drinks)</td><td>true</td></tr><tr><td>List(Dairy)</td><td>false</td></tr></tbody></table></div>"
      ]
     },
     "metadata": {
      "application/vnd.databricks.v1+output": {
       "addedWidgets": {},
       "aggData": [],
       "aggError": "",
       "aggOverflow": false,
       "aggSchema": [],
       "aggSeriesLimitReached": false,
       "aggType": "",
       "arguments": {},
       "columnCustomDisplayInfos": {},
       "data": [
        [
         [
          "Dairy"
         ],
         false
        ],
        [
         [
          "Soft",
          "Drinks"
         ],
         true
        ],
        [
         [
          "Meat"
         ],
         false
        ],
        [
         [
          "Fruits",
          "and",
          "Vegetables"
         ],
         false
        ],
        [
         [
          "Household"
         ],
         false
        ],
        [
         [
          "Baking",
          "Goods"
         ],
         false
        ],
        [
         [
          "Snack",
          "Foods"
         ],
         false
        ],
        [
         [
          "Snack",
          "Foods"
         ],
         false
        ],
        [
         [
          "Frozen",
          "Foods"
         ],
         false
        ],
        [
         [
          "Frozen",
          "Foods"
         ],
         false
        ],
        [
         [
          "Fruits",
          "and",
          "Vegetables"
         ],
         false
        ],
        [
         [
          "Dairy"
         ],
         false
        ],
        [
         [
          "Fruits",
          "and",
          "Vegetables"
         ],
         false
        ],
        [
         [
          "Snack",
          "Foods"
         ],
         false
        ],
        [
         [
          "Fruits",
          "and",
          "Vegetables"
         ],
         false
        ],
        [
         [
          "Breakfast"
         ],
         false
        ],
        [
         [
          "Health",
          "and",
          "Hygiene"
         ],
         false
        ],
        [
         [
          "Breakfast"
         ],
         false
        ],
        [
         [
          "Hard",
          "Drinks"
         ],
         true
        ],
        [
         [
          "Dairy"
         ],
         false
        ]
       ],
       "datasetInfos": [],
       "dbfsResultPath": null,
       "isJsonSchema": true,
       "metadata": {},
       "overflow": false,
       "plotOptions": {
        "customPlotOptions": {},
        "displayType": "table",
        "pivotAggregation": null,
        "pivotColumns": null,
        "xColumns": null,
        "yColumns": null
       },
       "removedWidgets": [],
       "schema": [
        {
         "metadata": "{}",
         "name": "Item_Type",
         "type": "{\"type\":\"array\",\"elementType\":\"string\",\"containsNull\":false}"
        },
        {
         "metadata": "{}",
         "name": "Item_drink",
         "type": "\"boolean\""
        }
       ],
       "type": "table"
      }
     },
     "output_type": "display_data"
    }
   ],
   "source": [
    "df_exp.withColumn('Item_drink',array_contains('Item_Type','Drinks')).select(\"Item_Type\",\"Item_drink\").limit(20).display()"
   ]
  },
  {
   "cell_type": "markdown",
   "metadata": {
    "application/vnd.databricks.v1+cell": {
     "cellMetadata": {
      "byteLimit": 2048000,
      "rowLimit": 10000
     },
     "inputWidgets": {},
     "nuid": "13676f08-2cea-487a-a379-5d1364d173a9",
     "showTitle": false,
     "tableResultSettingsMap": {},
     "title": ""
    }
   },
   "source": [
    "groupBy"
   ]
  },
  {
   "cell_type": "code",
   "execution_count": 0,
   "metadata": {
    "application/vnd.databricks.v1+cell": {
     "cellMetadata": {
      "byteLimit": 2048000,
      "rowLimit": 10000
     },
     "inputWidgets": {},
     "nuid": "a11101a5-64bf-490e-aa5f-dca845d9acf5",
     "showTitle": false,
     "tableResultSettingsMap": {},
     "title": ""
    }
   },
   "outputs": [
    {
     "output_type": "display_data",
     "data": {
      "text/html": [
       "<style scoped>\n",
       "  .table-result-container {\n",
       "    max-height: 300px;\n",
       "    overflow: auto;\n",
       "  }\n",
       "  table, th, td {\n",
       "    border: 1px solid black;\n",
       "    border-collapse: collapse;\n",
       "  }\n",
       "  th, td {\n",
       "    padding: 5px;\n",
       "  }\n",
       "  th {\n",
       "    text-align: left;\n",
       "  }\n",
       "</style><div class='table-result-container'><table class='table-result'><thead style='background-color: white'><tr><th>Item_Identifier</th><th>Item_Weight</th><th>Item_Fat_Content</th><th>Item_Visibility</th><th>Item_Type</th><th>Item_MRP</th><th>Outlet_Identifier</th><th>Outlet_Establishment_Year</th><th>Outlet_Size</th><th>Outlet_Location_Type</th><th>Outlet_Type</th><th>Item_Outlet_Sales</th><th>Flag</th><th>curr_date</th><th>next_week</th><th>diff_date</th></tr></thead><tbody><tr><td>FDA15</td><td>9.3</td><td>Low Fat</td><td>0.016047301</td><td>Dairy</td><td>249.8092</td><td>OUT049</td><td>1999</td><td>Medium</td><td>Tier 1</td><td>Supermarket Type1</td><td>3735.138</td><td>random</td><td>2024-12-27</td><td>03-01-2025</td><td>-7</td></tr><tr><td>DRC01</td><td>5.92</td><td>Reg</td><td>0.019278216</td><td>Soft Drinks</td><td>48.2692</td><td>OUT018</td><td>2009</td><td>Medium</td><td>Tier 3</td><td>Supermarket Type2</td><td>443.4228</td><td>random</td><td>2024-12-27</td><td>03-01-2025</td><td>-7</td></tr><tr><td>FDN15</td><td>17.5</td><td>Low Fat</td><td>0.016760075</td><td>Meat</td><td>141.618</td><td>OUT049</td><td>1999</td><td>Medium</td><td>Tier 1</td><td>Supermarket Type1</td><td>2097.27</td><td>random</td><td>2024-12-27</td><td>03-01-2025</td><td>-7</td></tr><tr><td>FDX07</td><td>19.2</td><td>Reg</td><td>0.0</td><td>Fruits and Vegetables</td><td>182.095</td><td>OUT010</td><td>1998</td><td>null</td><td>Tier 3</td><td>Grocery Store</td><td>732.38</td><td>random</td><td>2024-12-27</td><td>03-01-2025</td><td>-7</td></tr><tr><td>NCD19</td><td>8.93</td><td>Low Fat</td><td>0.0</td><td>Household</td><td>53.8614</td><td>OUT013</td><td>1987</td><td>High</td><td>Tier 3</td><td>Supermarket Type1</td><td>994.7052</td><td>random</td><td>2024-12-27</td><td>03-01-2025</td><td>-7</td></tr><tr><td>FDP36</td><td>10.395</td><td>Reg</td><td>0.0</td><td>Baking Goods</td><td>51.4008</td><td>OUT018</td><td>2009</td><td>Medium</td><td>Tier 3</td><td>Supermarket Type2</td><td>556.6088</td><td>random</td><td>2024-12-27</td><td>03-01-2025</td><td>-7</td></tr><tr><td>FDO10</td><td>13.65</td><td>Reg</td><td>0.012741089</td><td>Snack Foods</td><td>57.6588</td><td>OUT013</td><td>1987</td><td>High</td><td>Tier 3</td><td>Supermarket Type1</td><td>343.5528</td><td>random</td><td>2024-12-27</td><td>03-01-2025</td><td>-7</td></tr><tr><td>FDP10</td><td>null</td><td>Low Fat</td><td>0.127469857</td><td>Snack Foods</td><td>107.7622</td><td>OUT027</td><td>1985</td><td>Medium</td><td>Tier 3</td><td>Supermarket Type3</td><td>4022.7636</td><td>random</td><td>2024-12-27</td><td>03-01-2025</td><td>-7</td></tr><tr><td>FDH17</td><td>16.2</td><td>Reg</td><td>0.016687114</td><td>Frozen Foods</td><td>96.9726</td><td>OUT045</td><td>2002</td><td>null</td><td>Tier 2</td><td>Supermarket Type1</td><td>1076.5986</td><td>random</td><td>2024-12-27</td><td>03-01-2025</td><td>-7</td></tr><tr><td>FDU28</td><td>19.2</td><td>Reg</td><td>0.09444959</td><td>Frozen Foods</td><td>187.8214</td><td>OUT017</td><td>2007</td><td>null</td><td>Tier 2</td><td>Supermarket Type1</td><td>4710.535</td><td>random</td><td>2024-12-27</td><td>03-01-2025</td><td>-7</td></tr><tr><td>FDY07</td><td>11.8</td><td>Low Fat</td><td>0.0</td><td>Fruits and Vegetables</td><td>45.5402</td><td>OUT049</td><td>1999</td><td>Medium</td><td>Tier 1</td><td>Supermarket Type1</td><td>1516.0266</td><td>random</td><td>2024-12-27</td><td>03-01-2025</td><td>-7</td></tr><tr><td>FDA03</td><td>18.5</td><td>Reg</td><td>0.045463773</td><td>Dairy</td><td>144.1102</td><td>OUT046</td><td>1997</td><td>Small</td><td>Tier 1</td><td>Supermarket Type1</td><td>2187.153</td><td>random</td><td>2024-12-27</td><td>03-01-2025</td><td>-7</td></tr><tr><td>FDX32</td><td>15.1</td><td>Reg</td><td>0.1000135</td><td>Fruits and Vegetables</td><td>145.4786</td><td>OUT049</td><td>1999</td><td>Medium</td><td>Tier 1</td><td>Supermarket Type1</td><td>1589.2646</td><td>random</td><td>2024-12-27</td><td>03-01-2025</td><td>-7</td></tr><tr><td>FDS46</td><td>17.6</td><td>Reg</td><td>0.047257328</td><td>Snack Foods</td><td>119.6782</td><td>OUT046</td><td>1997</td><td>Small</td><td>Tier 1</td><td>Supermarket Type1</td><td>2145.2076</td><td>random</td><td>2024-12-27</td><td>03-01-2025</td><td>-7</td></tr><tr><td>FDF32</td><td>16.35</td><td>Low Fat</td><td>0.0680243</td><td>Fruits and Vegetables</td><td>196.4426</td><td>OUT013</td><td>1987</td><td>High</td><td>Tier 3</td><td>Supermarket Type1</td><td>1977.426</td><td>random</td><td>2024-12-27</td><td>03-01-2025</td><td>-7</td></tr><tr><td>FDP49</td><td>9.0</td><td>Reg</td><td>0.069088961</td><td>Breakfast</td><td>56.3614</td><td>OUT046</td><td>1997</td><td>Small</td><td>Tier 1</td><td>Supermarket Type1</td><td>1547.3192</td><td>random</td><td>2024-12-27</td><td>03-01-2025</td><td>-7</td></tr><tr><td>NCB42</td><td>11.8</td><td>Low Fat</td><td>0.008596051</td><td>Health and Hygiene</td><td>115.3492</td><td>OUT018</td><td>2009</td><td>Medium</td><td>Tier 3</td><td>Supermarket Type2</td><td>1621.8888</td><td>random</td><td>2024-12-27</td><td>03-01-2025</td><td>-7</td></tr><tr><td>FDP49</td><td>9.0</td><td>Reg</td><td>0.069196376</td><td>Breakfast</td><td>54.3614</td><td>OUT049</td><td>1999</td><td>Medium</td><td>Tier 1</td><td>Supermarket Type1</td><td>718.3982</td><td>random</td><td>2024-12-27</td><td>03-01-2025</td><td>-7</td></tr><tr><td>DRI11</td><td>null</td><td>Low Fat</td><td>0.034237682</td><td>Hard Drinks</td><td>113.2834</td><td>OUT027</td><td>1985</td><td>Medium</td><td>Tier 3</td><td>Supermarket Type3</td><td>2303.668</td><td>random</td><td>2024-12-27</td><td>03-01-2025</td><td>-7</td></tr><tr><td>FDU02</td><td>13.35</td><td>Low Fat</td><td>0.10249212</td><td>Dairy</td><td>230.5352</td><td>OUT035</td><td>2004</td><td>Small</td><td>Tier 2</td><td>Supermarket Type1</td><td>2748.4224</td><td>random</td><td>2024-12-27</td><td>03-01-2025</td><td>-7</td></tr></tbody></table></div>"
      ]
     },
     "metadata": {
      "application/vnd.databricks.v1+output": {
       "addedWidgets": {},
       "aggData": [],
       "aggError": "",
       "aggOverflow": false,
       "aggSchema": [],
       "aggSeriesLimitReached": false,
       "aggType": "",
       "arguments": {},
       "columnCustomDisplayInfos": {},
       "data": [
        [
         "FDA15",
         9.3,
         "Low Fat",
         0.016047301,
         "Dairy",
         249.8092,
         "OUT049",
         1999,
         "Medium",
         "Tier 1",
         "Supermarket Type1",
         3735.138,
         "random",
         "2024-12-27",
         "03-01-2025",
         -7
        ],
        [
         "DRC01",
         5.92,
         "Reg",
         0.019278216,
         "Soft Drinks",
         48.2692,
         "OUT018",
         2009,
         "Medium",
         "Tier 3",
         "Supermarket Type2",
         443.4228,
         "random",
         "2024-12-27",
         "03-01-2025",
         -7
        ],
        [
         "FDN15",
         17.5,
         "Low Fat",
         0.016760075,
         "Meat",
         141.618,
         "OUT049",
         1999,
         "Medium",
         "Tier 1",
         "Supermarket Type1",
         2097.27,
         "random",
         "2024-12-27",
         "03-01-2025",
         -7
        ],
        [
         "FDX07",
         19.2,
         "Reg",
         0.0,
         "Fruits and Vegetables",
         182.095,
         "OUT010",
         1998,
         null,
         "Tier 3",
         "Grocery Store",
         732.38,
         "random",
         "2024-12-27",
         "03-01-2025",
         -7
        ],
        [
         "NCD19",
         8.93,
         "Low Fat",
         0.0,
         "Household",
         53.8614,
         "OUT013",
         1987,
         "High",
         "Tier 3",
         "Supermarket Type1",
         994.7052,
         "random",
         "2024-12-27",
         "03-01-2025",
         -7
        ],
        [
         "FDP36",
         10.395,
         "Reg",
         0.0,
         "Baking Goods",
         51.4008,
         "OUT018",
         2009,
         "Medium",
         "Tier 3",
         "Supermarket Type2",
         556.6088,
         "random",
         "2024-12-27",
         "03-01-2025",
         -7
        ],
        [
         "FDO10",
         13.65,
         "Reg",
         0.012741089,
         "Snack Foods",
         57.6588,
         "OUT013",
         1987,
         "High",
         "Tier 3",
         "Supermarket Type1",
         343.5528,
         "random",
         "2024-12-27",
         "03-01-2025",
         -7
        ],
        [
         "FDP10",
         null,
         "Low Fat",
         0.127469857,
         "Snack Foods",
         107.7622,
         "OUT027",
         1985,
         "Medium",
         "Tier 3",
         "Supermarket Type3",
         4022.7636,
         "random",
         "2024-12-27",
         "03-01-2025",
         -7
        ],
        [
         "FDH17",
         16.2,
         "Reg",
         0.016687114,
         "Frozen Foods",
         96.9726,
         "OUT045",
         2002,
         null,
         "Tier 2",
         "Supermarket Type1",
         1076.5986,
         "random",
         "2024-12-27",
         "03-01-2025",
         -7
        ],
        [
         "FDU28",
         19.2,
         "Reg",
         0.09444959,
         "Frozen Foods",
         187.8214,
         "OUT017",
         2007,
         null,
         "Tier 2",
         "Supermarket Type1",
         4710.535,
         "random",
         "2024-12-27",
         "03-01-2025",
         -7
        ],
        [
         "FDY07",
         11.8,
         "Low Fat",
         0.0,
         "Fruits and Vegetables",
         45.5402,
         "OUT049",
         1999,
         "Medium",
         "Tier 1",
         "Supermarket Type1",
         1516.0266,
         "random",
         "2024-12-27",
         "03-01-2025",
         -7
        ],
        [
         "FDA03",
         18.5,
         "Reg",
         0.045463773,
         "Dairy",
         144.1102,
         "OUT046",
         1997,
         "Small",
         "Tier 1",
         "Supermarket Type1",
         2187.153,
         "random",
         "2024-12-27",
         "03-01-2025",
         -7
        ],
        [
         "FDX32",
         15.1,
         "Reg",
         0.1000135,
         "Fruits and Vegetables",
         145.4786,
         "OUT049",
         1999,
         "Medium",
         "Tier 1",
         "Supermarket Type1",
         1589.2646,
         "random",
         "2024-12-27",
         "03-01-2025",
         -7
        ],
        [
         "FDS46",
         17.6,
         "Reg",
         0.047257328,
         "Snack Foods",
         119.6782,
         "OUT046",
         1997,
         "Small",
         "Tier 1",
         "Supermarket Type1",
         2145.2076,
         "random",
         "2024-12-27",
         "03-01-2025",
         -7
        ],
        [
         "FDF32",
         16.35,
         "Low Fat",
         0.0680243,
         "Fruits and Vegetables",
         196.4426,
         "OUT013",
         1987,
         "High",
         "Tier 3",
         "Supermarket Type1",
         1977.426,
         "random",
         "2024-12-27",
         "03-01-2025",
         -7
        ],
        [
         "FDP49",
         9.0,
         "Reg",
         0.069088961,
         "Breakfast",
         56.3614,
         "OUT046",
         1997,
         "Small",
         "Tier 1",
         "Supermarket Type1",
         1547.3192,
         "random",
         "2024-12-27",
         "03-01-2025",
         -7
        ],
        [
         "NCB42",
         11.8,
         "Low Fat",
         0.008596051,
         "Health and Hygiene",
         115.3492,
         "OUT018",
         2009,
         "Medium",
         "Tier 3",
         "Supermarket Type2",
         1621.8888,
         "random",
         "2024-12-27",
         "03-01-2025",
         -7
        ],
        [
         "FDP49",
         9.0,
         "Reg",
         0.069196376,
         "Breakfast",
         54.3614,
         "OUT049",
         1999,
         "Medium",
         "Tier 1",
         "Supermarket Type1",
         718.3982,
         "random",
         "2024-12-27",
         "03-01-2025",
         -7
        ],
        [
         "DRI11",
         null,
         "Low Fat",
         0.034237682,
         "Hard Drinks",
         113.2834,
         "OUT027",
         1985,
         "Medium",
         "Tier 3",
         "Supermarket Type3",
         2303.668,
         "random",
         "2024-12-27",
         "03-01-2025",
         -7
        ],
        [
         "FDU02",
         13.35,
         "Low Fat",
         0.10249212,
         "Dairy",
         230.5352,
         "OUT035",
         2004,
         "Small",
         "Tier 2",
         "Supermarket Type1",
         2748.4224,
         "random",
         "2024-12-27",
         "03-01-2025",
         -7
        ]
       ],
       "datasetInfos": [],
       "dbfsResultPath": null,
       "isJsonSchema": true,
       "metadata": {},
       "overflow": false,
       "plotOptions": {
        "customPlotOptions": {},
        "displayType": "table",
        "pivotAggregation": null,
        "pivotColumns": null,
        "xColumns": null,
        "yColumns": null
       },
       "removedWidgets": [],
       "schema": [
        {
         "metadata": "{}",
         "name": "Item_Identifier",
         "type": "\"string\""
        },
        {
         "metadata": "{}",
         "name": "Item_Weight",
         "type": "\"double\""
        },
        {
         "metadata": "{}",
         "name": "Item_Fat_Content",
         "type": "\"string\""
        },
        {
         "metadata": "{}",
         "name": "Item_Visibility",
         "type": "\"double\""
        },
        {
         "metadata": "{}",
         "name": "Item_Type",
         "type": "\"string\""
        },
        {
         "metadata": "{}",
         "name": "Item_MRP",
         "type": "\"double\""
        },
        {
         "metadata": "{}",
         "name": "Outlet_Identifier",
         "type": "\"string\""
        },
        {
         "metadata": "{}",
         "name": "Outlet_Establishment_Year",
         "type": "\"integer\""
        },
        {
         "metadata": "{}",
         "name": "Outlet_Size",
         "type": "\"string\""
        },
        {
         "metadata": "{}",
         "name": "Outlet_Location_Type",
         "type": "\"string\""
        },
        {
         "metadata": "{}",
         "name": "Outlet_Type",
         "type": "\"string\""
        },
        {
         "metadata": "{}",
         "name": "Item_Outlet_Sales",
         "type": "\"double\""
        },
        {
         "metadata": "{}",
         "name": "Flag",
         "type": "\"string\""
        },
        {
         "metadata": "{}",
         "name": "curr_date",
         "type": "\"date\""
        },
        {
         "metadata": "{}",
         "name": "next_week",
         "type": "\"string\""
        },
        {
         "metadata": "{}",
         "name": "diff_date",
         "type": "\"integer\""
        }
       ],
       "type": "table"
      }
     },
     "output_type": "display_data"
    }
   ],
   "source": [
    "df.limit(20).display()"
   ]
  },
  {
   "cell_type": "code",
   "execution_count": 0,
   "metadata": {
    "application/vnd.databricks.v1+cell": {
     "cellMetadata": {
      "byteLimit": 2048000,
      "rowLimit": 10000
     },
     "inputWidgets": {},
     "nuid": "935ddc68-5c51-40ea-9ac4-0c147cb847f7",
     "showTitle": false,
     "tableResultSettingsMap": {},
     "title": ""
    }
   },
   "outputs": [
    {
     "output_type": "display_data",
     "data": {
      "text/html": [
       "<style scoped>\n",
       "  .table-result-container {\n",
       "    max-height: 300px;\n",
       "    overflow: auto;\n",
       "  }\n",
       "  table, th, td {\n",
       "    border: 1px solid black;\n",
       "    border-collapse: collapse;\n",
       "  }\n",
       "  th, td {\n",
       "    padding: 5px;\n",
       "  }\n",
       "  th {\n",
       "    text-align: left;\n",
       "  }\n",
       "</style><div class='table-result-container'><table class='table-result'><thead style='background-color: white'><tr><th>Item_Type</th><th>sum(Item_MRP)</th></tr></thead><tbody><tr><td>Starchy Foods</td><td>21880.027399999995</td></tr><tr><td>Baking Goods</td><td>81894.73640000001</td></tr><tr><td>Breads</td><td>35379.11979999999</td></tr><tr><td>Fruits and Vegetables</td><td>178124.08099999998</td></tr><tr><td>Meat</td><td>59449.863799999956</td></tr><tr><td>Hard Drinks</td><td>29334.676599999995</td></tr><tr><td>Soft Drinks</td><td>58514.164999999964</td></tr><tr><td>Household</td><td>135976.52539999998</td></tr><tr><td>Breakfast</td><td>15596.6966</td></tr><tr><td>Dairy</td><td>101276.45959999996</td></tr><tr><td>Snack Foods</td><td>175433.92040000003</td></tr><tr><td>Others</td><td>22451.891600000006</td></tr><tr><td>Seafood</td><td>9077.870000000003</td></tr><tr><td>Canned</td><td>90706.7269999999</td></tr><tr><td>Frozen Foods</td><td>118558.88140000001</td></tr><tr><td>Health and Hygiene</td><td>68025.8388</td></tr></tbody></table></div>"
      ]
     },
     "metadata": {
      "application/vnd.databricks.v1+output": {
       "addedWidgets": {},
       "aggData": [],
       "aggError": "",
       "aggOverflow": false,
       "aggSchema": [],
       "aggSeriesLimitReached": false,
       "aggType": "",
       "arguments": {},
       "columnCustomDisplayInfos": {},
       "data": [
        [
         "Starchy Foods",
         21880.027399999995
        ],
        [
         "Baking Goods",
         81894.73640000001
        ],
        [
         "Breads",
         35379.11979999999
        ],
        [
         "Fruits and Vegetables",
         178124.08099999998
        ],
        [
         "Meat",
         59449.863799999956
        ],
        [
         "Hard Drinks",
         29334.676599999995
        ],
        [
         "Soft Drinks",
         58514.164999999964
        ],
        [
         "Household",
         135976.52539999998
        ],
        [
         "Breakfast",
         15596.6966
        ],
        [
         "Dairy",
         101276.45959999996
        ],
        [
         "Snack Foods",
         175433.92040000003
        ],
        [
         "Others",
         22451.891600000006
        ],
        [
         "Seafood",
         9077.870000000003
        ],
        [
         "Canned",
         90706.7269999999
        ],
        [
         "Frozen Foods",
         118558.88140000001
        ],
        [
         "Health and Hygiene",
         68025.8388
        ]
       ],
       "datasetInfos": [],
       "dbfsResultPath": null,
       "isJsonSchema": true,
       "metadata": {},
       "overflow": false,
       "plotOptions": {
        "customPlotOptions": {},
        "displayType": "table",
        "pivotAggregation": null,
        "pivotColumns": null,
        "xColumns": null,
        "yColumns": null
       },
       "removedWidgets": [],
       "schema": [
        {
         "metadata": "{}",
         "name": "Item_Type",
         "type": "\"string\""
        },
        {
         "metadata": "{}",
         "name": "sum(Item_MRP)",
         "type": "\"double\""
        }
       ],
       "type": "table"
      }
     },
     "output_type": "display_data"
    }
   ],
   "source": [
    "df.groupBy(\"Item_Type\").agg(sum(\"Item_MRP\")).limit(20).display()"
   ]
  },
  {
   "cell_type": "code",
   "execution_count": 0,
   "metadata": {
    "application/vnd.databricks.v1+cell": {
     "cellMetadata": {
      "byteLimit": 2048000,
      "rowLimit": 10000
     },
     "inputWidgets": {},
     "nuid": "9301795c-42c6-46c8-9ab1-58019f82dc09",
     "showTitle": false,
     "tableResultSettingsMap": {},
     "title": ""
    }
   },
   "outputs": [
    {
     "output_type": "display_data",
     "data": {
      "text/html": [
       "<style scoped>\n",
       "  .table-result-container {\n",
       "    max-height: 300px;\n",
       "    overflow: auto;\n",
       "  }\n",
       "  table, th, td {\n",
       "    border: 1px solid black;\n",
       "    border-collapse: collapse;\n",
       "  }\n",
       "  th, td {\n",
       "    padding: 5px;\n",
       "  }\n",
       "  th {\n",
       "    text-align: left;\n",
       "  }\n",
       "</style><div class='table-result-container'><table class='table-result'><thead style='background-color: white'><tr><th>Item_Type</th><th>count</th></tr></thead><tbody><tr><td>Starchy Foods</td><td>148</td></tr><tr><td>Baking Goods</td><td>648</td></tr><tr><td>Breads</td><td>251</td></tr><tr><td>Fruits and Vegetables</td><td>1232</td></tr><tr><td>Meat</td><td>425</td></tr><tr><td>Hard Drinks</td><td>214</td></tr><tr><td>Soft Drinks</td><td>445</td></tr><tr><td>Household</td><td>910</td></tr><tr><td>Breakfast</td><td>110</td></tr><tr><td>Dairy</td><td>682</td></tr><tr><td>Snack Foods</td><td>1200</td></tr><tr><td>Others</td><td>169</td></tr><tr><td>Seafood</td><td>64</td></tr><tr><td>Canned</td><td>649</td></tr><tr><td>Frozen Foods</td><td>856</td></tr><tr><td>Health and Hygiene</td><td>520</td></tr></tbody></table></div>"
      ]
     },
     "metadata": {
      "application/vnd.databricks.v1+output": {
       "addedWidgets": {},
       "aggData": [],
       "aggError": "",
       "aggOverflow": false,
       "aggSchema": [],
       "aggSeriesLimitReached": false,
       "aggType": "",
       "arguments": {},
       "columnCustomDisplayInfos": {},
       "data": [
        [
         "Starchy Foods",
         148
        ],
        [
         "Baking Goods",
         648
        ],
        [
         "Breads",
         251
        ],
        [
         "Fruits and Vegetables",
         1232
        ],
        [
         "Meat",
         425
        ],
        [
         "Hard Drinks",
         214
        ],
        [
         "Soft Drinks",
         445
        ],
        [
         "Household",
         910
        ],
        [
         "Breakfast",
         110
        ],
        [
         "Dairy",
         682
        ],
        [
         "Snack Foods",
         1200
        ],
        [
         "Others",
         169
        ],
        [
         "Seafood",
         64
        ],
        [
         "Canned",
         649
        ],
        [
         "Frozen Foods",
         856
        ],
        [
         "Health and Hygiene",
         520
        ]
       ],
       "datasetInfos": [],
       "dbfsResultPath": null,
       "isJsonSchema": true,
       "metadata": {},
       "overflow": false,
       "plotOptions": {
        "customPlotOptions": {},
        "displayType": "table",
        "pivotAggregation": null,
        "pivotColumns": null,
        "xColumns": null,
        "yColumns": null
       },
       "removedWidgets": [],
       "schema": [
        {
         "metadata": "{}",
         "name": "Item_Type",
         "type": "\"string\""
        },
        {
         "metadata": "{}",
         "name": "count",
         "type": "\"long\""
        }
       ],
       "type": "table"
      }
     },
     "output_type": "display_data"
    }
   ],
   "source": [
    "df.groupBy(\"Item_Type\").count().limit(20).display()"
   ]
  },
  {
   "cell_type": "code",
   "execution_count": 0,
   "metadata": {
    "application/vnd.databricks.v1+cell": {
     "cellMetadata": {
      "byteLimit": 2048000,
      "rowLimit": 10000
     },
     "inputWidgets": {},
     "nuid": "dcc3aaca-c3ec-4836-949c-3a290bb33072",
     "showTitle": false,
     "tableResultSettingsMap": {},
     "title": ""
    }
   },
   "outputs": [
    {
     "output_type": "display_data",
     "data": {
      "text/html": [
       "<style scoped>\n",
       "  .table-result-container {\n",
       "    max-height: 300px;\n",
       "    overflow: auto;\n",
       "  }\n",
       "  table, th, td {\n",
       "    border: 1px solid black;\n",
       "    border-collapse: collapse;\n",
       "  }\n",
       "  th, td {\n",
       "    padding: 5px;\n",
       "  }\n",
       "  th {\n",
       "    text-align: left;\n",
       "  }\n",
       "</style><div class='table-result-container'><table class='table-result'><thead style='background-color: white'><tr><th>Item_Type</th><th>sum(Item_MRP)</th><th>Avg_MRP</th></tr></thead><tbody><tr><td>Starchy Foods</td><td>21880.027399999995</td><td>147.83802297297294</td></tr><tr><td>Baking Goods</td><td>81894.73640000001</td><td>126.38076604938273</td></tr><tr><td>Breads</td><td>35379.11979999999</td><td>140.9526685258964</td></tr><tr><td>Fruits and Vegetables</td><td>178124.08099999998</td><td>144.58123457792206</td></tr><tr><td>Meat</td><td>59449.863799999956</td><td>139.88203247058814</td></tr><tr><td>Hard Drinks</td><td>29334.676599999995</td><td>137.07792803738315</td></tr><tr><td>Soft Drinks</td><td>58514.164999999964</td><td>131.49250561797746</td></tr><tr><td>Household</td><td>135976.52539999998</td><td>149.42475318681318</td></tr><tr><td>Breakfast</td><td>15596.6966</td><td>141.78815090909092</td></tr><tr><td>Dairy</td><td>101276.45959999996</td><td>148.49920762463336</td></tr><tr><td>Snack Foods</td><td>175433.92040000003</td><td>146.19493366666669</td></tr><tr><td>Others</td><td>22451.891600000006</td><td>132.85142958579885</td></tr><tr><td>Seafood</td><td>9077.870000000003</td><td>141.84171875000004</td></tr><tr><td>Canned</td><td>90706.7269999999</td><td>139.76383204930647</td></tr><tr><td>Frozen Foods</td><td>118558.88140000001</td><td>138.50336612149533</td></tr><tr><td>Health and Hygiene</td><td>68025.8388</td><td>130.81892076923077</td></tr></tbody></table></div>"
      ]
     },
     "metadata": {
      "application/vnd.databricks.v1+output": {
       "addedWidgets": {},
       "aggData": [],
       "aggError": "",
       "aggOverflow": false,
       "aggSchema": [],
       "aggSeriesLimitReached": false,
       "aggType": "",
       "arguments": {},
       "columnCustomDisplayInfos": {},
       "data": [
        [
         "Starchy Foods",
         21880.027399999995,
         147.83802297297294
        ],
        [
         "Baking Goods",
         81894.73640000001,
         126.38076604938273
        ],
        [
         "Breads",
         35379.11979999999,
         140.9526685258964
        ],
        [
         "Fruits and Vegetables",
         178124.08099999998,
         144.58123457792206
        ],
        [
         "Meat",
         59449.863799999956,
         139.88203247058814
        ],
        [
         "Hard Drinks",
         29334.676599999995,
         137.07792803738315
        ],
        [
         "Soft Drinks",
         58514.164999999964,
         131.49250561797746
        ],
        [
         "Household",
         135976.52539999998,
         149.42475318681318
        ],
        [
         "Breakfast",
         15596.6966,
         141.78815090909092
        ],
        [
         "Dairy",
         101276.45959999996,
         148.49920762463336
        ],
        [
         "Snack Foods",
         175433.92040000003,
         146.19493366666669
        ],
        [
         "Others",
         22451.891600000006,
         132.85142958579885
        ],
        [
         "Seafood",
         9077.870000000003,
         141.84171875000004
        ],
        [
         "Canned",
         90706.7269999999,
         139.76383204930647
        ],
        [
         "Frozen Foods",
         118558.88140000001,
         138.50336612149533
        ],
        [
         "Health and Hygiene",
         68025.8388,
         130.81892076923077
        ]
       ],
       "datasetInfos": [],
       "dbfsResultPath": null,
       "isJsonSchema": true,
       "metadata": {},
       "overflow": false,
       "plotOptions": {
        "customPlotOptions": {},
        "displayType": "table",
        "pivotAggregation": null,
        "pivotColumns": null,
        "xColumns": null,
        "yColumns": null
       },
       "removedWidgets": [],
       "schema": [
        {
         "metadata": "{}",
         "name": "Item_Type",
         "type": "\"string\""
        },
        {
         "metadata": "{}",
         "name": "sum(Item_MRP)",
         "type": "\"double\""
        },
        {
         "metadata": "{}",
         "name": "Avg_MRP",
         "type": "\"double\""
        }
       ],
       "type": "table"
      }
     },
     "output_type": "display_data"
    }
   ],
   "source": [
    "df.groupBy(\"Item_Type\").agg(sum(\"Item_MRP\"), avg(\"Item_MRP\").alias(\"Avg_MRP\")).display()"
   ]
  },
  {
   "cell_type": "code",
   "execution_count": 0,
   "metadata": {
    "application/vnd.databricks.v1+cell": {
     "cellMetadata": {
      "byteLimit": 2048000,
      "rowLimit": 10000
     },
     "inputWidgets": {},
     "nuid": "002b3166-af1f-4fd5-ab0b-f24eac7639cf",
     "showTitle": false,
     "tableResultSettingsMap": {},
     "title": ""
    }
   },
   "outputs": [
    {
     "output_type": "display_data",
     "data": {
      "text/html": [
       "<style scoped>\n",
       "  .table-result-container {\n",
       "    max-height: 300px;\n",
       "    overflow: auto;\n",
       "  }\n",
       "  table, th, td {\n",
       "    border: 1px solid black;\n",
       "    border-collapse: collapse;\n",
       "  }\n",
       "  th, td {\n",
       "    padding: 5px;\n",
       "  }\n",
       "  th {\n",
       "    text-align: left;\n",
       "  }\n",
       "</style><div class='table-result-container'><table class='table-result'><thead style='background-color: white'><tr><th>Item_Type</th><th>Outlet_Type</th><th>sum(Item_MRP)</th><th>Avg_MRP</th></tr></thead><tbody><tr><td>Baking Goods</td><td>Supermarket Type1</td><td>53665.46140000007</td><td>125.97526150234759</td></tr><tr><td>Baking Goods</td><td>Supermarket Type2</td><td>8594.201400000002</td><td>126.38531470588238</td></tr><tr><td>Baking Goods</td><td>Supermarket Type3</td><td>8887.8378</td><td>128.80924347826087</td></tr><tr><td>Baking Goods</td><td>Grocery Store</td><td>10747.235800000002</td><td>126.43806823529414</td></tr><tr><td>Breads</td><td>Supermarket Type1</td><td>22490.8084</td><td>140.5675525</td></tr><tr><td>Breads</td><td>Grocery Store</td><td>4832.944799999999</td><td>146.4528727272727</td></tr><tr><td>Breads</td><td>Supermarket Type3</td><td>4515.963400000001</td><td>145.67623870967745</td></tr><tr><td>Breads</td><td>Supermarket Type2</td><td>3539.4032</td><td>131.08900740740742</td></tr><tr><td>Breakfast</td><td>Grocery Store</td><td>2793.5128</td><td>147.0269894736842</td></tr><tr><td>Breakfast</td><td>Supermarket Type3</td><td>1617.9230000000002</td><td>147.08390909090912</td></tr><tr><td>Breakfast</td><td>Supermarket Type1</td><td>9632.646799999999</td><td>141.65657058823527</td></tr><tr><td>Breakfast</td><td>Supermarket Type2</td><td>1552.614</td><td>129.3845</td></tr><tr><td>Canned</td><td>Grocery Store</td><td>10079.899</td><td>138.08080821917807</td></tr><tr><td>Canned</td><td>Supermarket Type3</td><td>10125.049600000002</td><td>140.62568888888893</td></tr><tr><td>Canned</td><td>Supermarket Type1</td><td>59649.30939999999</td><td>140.02185305164318</td></tr><tr><td>Canned</td><td>Supermarket Type2</td><td>10852.469000000001</td><td>139.13421794871797</td></tr><tr><td>Dairy</td><td>Grocery Store</td><td>13539.3378</td><td>147.1667152173913</td></tr><tr><td>Dairy</td><td>Supermarket Type3</td><td>9918.483200000004</td><td>148.03706268656723</td></tr><tr><td>Dairy</td><td>Supermarket Type2</td><td>10638.9446</td><td>145.7389671232877</td></tr><tr><td>Dairy</td><td>Supermarket Type1</td><td>67179.69400000003</td><td>149.28820888888896</td></tr><tr><td>Frozen Foods</td><td>Supermarket Type3</td><td>12206.345999999994</td><td>137.14995505617972</td></tr><tr><td>Frozen Foods</td><td>Supermarket Type1</td><td>79348.37700000004</td><td>138.7209388111889</td></tr><tr><td>Frozen Foods</td><td>Grocery Store</td><td>13750.441</td><td>133.49942718446601</td></tr><tr><td>Frozen Foods</td><td>Supermarket Type2</td><td>13253.717400000007</td><td>144.062145652174</td></tr><tr><td>Fruits and Vegetables</td><td>Supermarket Type2</td><td>18967.2918</td><td>140.49845777777776</td></tr><tr><td>Fruits and Vegetables</td><td>Supermarket Type3</td><td>20301.38660000001</td><td>145.00990428571436</td></tr><tr><td>Fruits and Vegetables</td><td>Grocery Store</td><td>21423.41459999999</td><td>140.94351710526308</td></tr><tr><td>Fruits and Vegetables</td><td>Supermarket Type1</td><td>117431.9880000001</td><td>145.87824596273305</td></tr><tr><td>Hard Drinks</td><td>Supermarket Type2</td><td>3609.1174</td><td>164.05079090909092</td></tr><tr><td>Hard Drinks</td><td>Grocery Store</td><td>2812.5444000000007</td><td>117.18935000000003</td></tr><tr><td>Hard Drinks</td><td>Supermarket Type3</td><td>3302.2602</td><td>143.57653043478263</td></tr><tr><td>Hard Drinks</td><td>Supermarket Type1</td><td>19610.754599999997</td><td>135.24658344827583</td></tr><tr><td>Health and Hygiene</td><td>Grocery Store</td><td>8964.023399999996</td><td>133.7913940298507</td></tr><tr><td>Health and Hygiene</td><td>Supermarket Type1</td><td>44050.74659999997</td><td>131.49476597014916</td></tr><tr><td>Health and Hygiene</td><td>Supermarket Type3</td><td>7671.144999999999</td><td>127.85241666666664</td></tr><tr><td>Health and Hygiene</td><td>Supermarket Type2</td><td>7339.9238</td><td>126.55041034482758</td></tr><tr><td>Household</td><td>Grocery Store</td><td>18082.1094</td><td>151.95049915966388</td></tr><tr><td>Household</td><td>Supermarket Type2</td><td>14244.6486</td><td>149.94366947368422</td></tr><tr><td>Household</td><td>Supermarket Type3</td><td>14506.358199999995</td><td>146.52887070707067</td></tr><tr><td>Household</td><td>Supermarket Type1</td><td>89143.40920000007</td><td>149.3189433835847</td></tr><tr><td>Meat</td><td>Supermarket Type3</td><td>7833.1214</td><td>139.87716785714287</td></tr><tr><td>Meat</td><td>Grocery Store</td><td>9081.048800000002</td><td>137.59164848484852</td></tr><tr><td>Meat</td><td>Supermarket Type1</td><td>36169.758599999994</td><td>140.73836031128403</td></tr><tr><td>Meat</td><td>Supermarket Type2</td><td>6365.935</td><td>138.38989130434783</td></tr><tr><td>Others</td><td>Supermarket Type1</td><td>14826.673800000002</td><td>138.5670448598131</td></tr><tr><td>Others</td><td>Grocery Store</td><td>3467.2652000000003</td><td>128.41722962962965</td></tr><tr><td>Others</td><td>Supermarket Type2</td><td>2556.2668</td><td>127.81334</td></tr><tr><td>Others</td><td>Supermarket Type3</td><td>1601.6858000000002</td><td>106.77905333333335</td></tr><tr><td>Seafood</td><td>Grocery Store</td><td>1438.1622</td><td>143.81622</td></tr><tr><td>Seafood</td><td>Supermarket Type2</td><td>1089.9856</td><td>155.71222857142857</td></tr><tr><td>Seafood</td><td>Supermarket Type3</td><td>868.1980000000001</td><td>124.02828571428573</td></tr><tr><td>Seafood</td><td>Supermarket Type1</td><td>5681.524199999999</td><td>142.03810499999997</td></tr><tr><td>Snack Foods</td><td>Supermarket Type1</td><td>114296.13020000012</td><td>145.60016585987276</td></tr><tr><td>Snack Foods</td><td>Supermarket Type3</td><td>19806.707599999998</td><td>144.57450802919706</td></tr><tr><td>Snack Foods</td><td>Grocery Store</td><td>21327.840200000006</td><td>146.08109726027402</td></tr><tr><td>Snack Foods</td><td>Supermarket Type2</td><td>20003.242400000003</td><td>151.53971515151517</td></tr><tr><td>Soft Drinks</td><td>Grocery Store</td><td>7673.368800000002</td><td>142.09942222222227</td></tr><tr><td>Soft Drinks</td><td>Supermarket Type2</td><td>6289.633799999998</td><td>136.73116956521736</td></tr><tr><td>Soft Drinks</td><td>Supermarket Type1</td><td>39002.05099999999</td><td>130.00683666666663</td></tr><tr><td>Soft Drinks</td><td>Supermarket Type3</td><td>5549.1114</td><td>123.31358666666667</td></tr><tr><td>Starchy Foods</td><td>Grocery Store</td><td>1925.9988000000003</td><td>148.15375384615388</td></tr><tr><td>Starchy Foods</td><td>Supermarket Type3</td><td>2003.0974</td><td>143.07838571428573</td></tr><tr><td>Starchy Foods</td><td>Supermarket Type2</td><td>2580.3776000000003</td><td>151.78691764705883</td></tr><tr><td>Starchy Foods</td><td>Supermarket Type1</td><td>15370.553600000005</td><td>147.79378461538465</td></tr></tbody></table></div>"
      ]
     },
     "metadata": {
      "application/vnd.databricks.v1+output": {
       "addedWidgets": {},
       "aggData": [],
       "aggError": "",
       "aggOverflow": false,
       "aggSchema": [],
       "aggSeriesLimitReached": false,
       "aggType": "",
       "arguments": {},
       "columnCustomDisplayInfos": {},
       "data": [
        [
         "Baking Goods",
         "Supermarket Type1",
         53665.46140000007,
         125.97526150234759
        ],
        [
         "Baking Goods",
         "Supermarket Type2",
         8594.201400000002,
         126.38531470588238
        ],
        [
         "Baking Goods",
         "Supermarket Type3",
         8887.8378,
         128.80924347826087
        ],
        [
         "Baking Goods",
         "Grocery Store",
         10747.235800000002,
         126.43806823529414
        ],
        [
         "Breads",
         "Supermarket Type1",
         22490.8084,
         140.5675525
        ],
        [
         "Breads",
         "Grocery Store",
         4832.944799999999,
         146.4528727272727
        ],
        [
         "Breads",
         "Supermarket Type3",
         4515.963400000001,
         145.67623870967745
        ],
        [
         "Breads",
         "Supermarket Type2",
         3539.4032,
         131.08900740740742
        ],
        [
         "Breakfast",
         "Grocery Store",
         2793.5128,
         147.0269894736842
        ],
        [
         "Breakfast",
         "Supermarket Type3",
         1617.9230000000002,
         147.08390909090912
        ],
        [
         "Breakfast",
         "Supermarket Type1",
         9632.646799999999,
         141.65657058823527
        ],
        [
         "Breakfast",
         "Supermarket Type2",
         1552.614,
         129.3845
        ],
        [
         "Canned",
         "Grocery Store",
         10079.899,
         138.08080821917807
        ],
        [
         "Canned",
         "Supermarket Type3",
         10125.049600000002,
         140.62568888888893
        ],
        [
         "Canned",
         "Supermarket Type1",
         59649.30939999999,
         140.02185305164318
        ],
        [
         "Canned",
         "Supermarket Type2",
         10852.469000000001,
         139.13421794871797
        ],
        [
         "Dairy",
         "Grocery Store",
         13539.3378,
         147.1667152173913
        ],
        [
         "Dairy",
         "Supermarket Type3",
         9918.483200000004,
         148.03706268656723
        ],
        [
         "Dairy",
         "Supermarket Type2",
         10638.9446,
         145.7389671232877
        ],
        [
         "Dairy",
         "Supermarket Type1",
         67179.69400000003,
         149.28820888888896
        ],
        [
         "Frozen Foods",
         "Supermarket Type3",
         12206.345999999994,
         137.14995505617972
        ],
        [
         "Frozen Foods",
         "Supermarket Type1",
         79348.37700000004,
         138.7209388111889
        ],
        [
         "Frozen Foods",
         "Grocery Store",
         13750.441,
         133.49942718446601
        ],
        [
         "Frozen Foods",
         "Supermarket Type2",
         13253.717400000007,
         144.062145652174
        ],
        [
         "Fruits and Vegetables",
         "Supermarket Type2",
         18967.2918,
         140.49845777777776
        ],
        [
         "Fruits and Vegetables",
         "Supermarket Type3",
         20301.38660000001,
         145.00990428571436
        ],
        [
         "Fruits and Vegetables",
         "Grocery Store",
         21423.41459999999,
         140.94351710526308
        ],
        [
         "Fruits and Vegetables",
         "Supermarket Type1",
         117431.9880000001,
         145.87824596273305
        ],
        [
         "Hard Drinks",
         "Supermarket Type2",
         3609.1174,
         164.05079090909092
        ],
        [
         "Hard Drinks",
         "Grocery Store",
         2812.5444000000007,
         117.18935000000003
        ],
        [
         "Hard Drinks",
         "Supermarket Type3",
         3302.2602,
         143.57653043478263
        ],
        [
         "Hard Drinks",
         "Supermarket Type1",
         19610.754599999997,
         135.24658344827583
        ],
        [
         "Health and Hygiene",
         "Grocery Store",
         8964.023399999996,
         133.7913940298507
        ],
        [
         "Health and Hygiene",
         "Supermarket Type1",
         44050.74659999997,
         131.49476597014916
        ],
        [
         "Health and Hygiene",
         "Supermarket Type3",
         7671.144999999999,
         127.85241666666664
        ],
        [
         "Health and Hygiene",
         "Supermarket Type2",
         7339.9238,
         126.55041034482758
        ],
        [
         "Household",
         "Grocery Store",
         18082.1094,
         151.95049915966388
        ],
        [
         "Household",
         "Supermarket Type2",
         14244.6486,
         149.94366947368422
        ],
        [
         "Household",
         "Supermarket Type3",
         14506.358199999995,
         146.52887070707067
        ],
        [
         "Household",
         "Supermarket Type1",
         89143.40920000007,
         149.3189433835847
        ],
        [
         "Meat",
         "Supermarket Type3",
         7833.1214,
         139.87716785714287
        ],
        [
         "Meat",
         "Grocery Store",
         9081.048800000002,
         137.59164848484852
        ],
        [
         "Meat",
         "Supermarket Type1",
         36169.758599999994,
         140.73836031128403
        ],
        [
         "Meat",
         "Supermarket Type2",
         6365.935,
         138.38989130434783
        ],
        [
         "Others",
         "Supermarket Type1",
         14826.673800000002,
         138.5670448598131
        ],
        [
         "Others",
         "Grocery Store",
         3467.2652000000003,
         128.41722962962965
        ],
        [
         "Others",
         "Supermarket Type2",
         2556.2668,
         127.81334
        ],
        [
         "Others",
         "Supermarket Type3",
         1601.6858000000002,
         106.77905333333335
        ],
        [
         "Seafood",
         "Grocery Store",
         1438.1622,
         143.81622
        ],
        [
         "Seafood",
         "Supermarket Type2",
         1089.9856,
         155.71222857142857
        ],
        [
         "Seafood",
         "Supermarket Type3",
         868.1980000000001,
         124.02828571428573
        ],
        [
         "Seafood",
         "Supermarket Type1",
         5681.524199999999,
         142.03810499999997
        ],
        [
         "Snack Foods",
         "Supermarket Type1",
         114296.13020000012,
         145.60016585987276
        ],
        [
         "Snack Foods",
         "Supermarket Type3",
         19806.707599999998,
         144.57450802919706
        ],
        [
         "Snack Foods",
         "Grocery Store",
         21327.840200000006,
         146.08109726027402
        ],
        [
         "Snack Foods",
         "Supermarket Type2",
         20003.242400000003,
         151.53971515151517
        ],
        [
         "Soft Drinks",
         "Grocery Store",
         7673.368800000002,
         142.09942222222227
        ],
        [
         "Soft Drinks",
         "Supermarket Type2",
         6289.633799999998,
         136.73116956521736
        ],
        [
         "Soft Drinks",
         "Supermarket Type1",
         39002.05099999999,
         130.00683666666663
        ],
        [
         "Soft Drinks",
         "Supermarket Type3",
         5549.1114,
         123.31358666666667
        ],
        [
         "Starchy Foods",
         "Grocery Store",
         1925.9988000000003,
         148.15375384615388
        ],
        [
         "Starchy Foods",
         "Supermarket Type3",
         2003.0974,
         143.07838571428573
        ],
        [
         "Starchy Foods",
         "Supermarket Type2",
         2580.3776000000003,
         151.78691764705883
        ],
        [
         "Starchy Foods",
         "Supermarket Type1",
         15370.553600000005,
         147.79378461538465
        ]
       ],
       "datasetInfos": [],
       "dbfsResultPath": null,
       "isJsonSchema": true,
       "metadata": {},
       "overflow": false,
       "plotOptions": {
        "customPlotOptions": {},
        "displayType": "table",
        "pivotAggregation": null,
        "pivotColumns": null,
        "xColumns": null,
        "yColumns": null
       },
       "removedWidgets": [],
       "schema": [
        {
         "metadata": "{}",
         "name": "Item_Type",
         "type": "\"string\""
        },
        {
         "metadata": "{}",
         "name": "Outlet_Type",
         "type": "\"string\""
        },
        {
         "metadata": "{}",
         "name": "sum(Item_MRP)",
         "type": "\"double\""
        },
        {
         "metadata": "{}",
         "name": "Avg_MRP",
         "type": "\"double\""
        }
       ],
       "type": "table"
      }
     },
     "output_type": "display_data"
    }
   ],
   "source": [
    "df.groupBy(\"Item_Type\",\"Outlet_Type\").agg(sum(\"Item_MRP\"), avg(\"Item_MRP\").alias(\"Avg_MRP\")).orderBy(\"Item_Type\", asc=True).display()"
   ]
  },
  {
   "cell_type": "markdown",
   "metadata": {
    "application/vnd.databricks.v1+cell": {
     "cellMetadata": {
      "byteLimit": 2048000,
      "rowLimit": 10000
     },
     "inputWidgets": {},
     "nuid": "624e18e5-0100-4b19-827e-a77312bc561d",
     "showTitle": false,
     "tableResultSettingsMap": {},
     "title": ""
    }
   },
   "source": [
    "Collect_list"
   ]
  },
  {
   "cell_type": "code",
   "execution_count": 0,
   "metadata": {
    "application/vnd.databricks.v1+cell": {
     "cellMetadata": {
      "byteLimit": 2048000,
      "rowLimit": 10000
     },
     "inputWidgets": {},
     "nuid": "9069a164-a992-40f4-9f07-4eaf5e341f5c",
     "showTitle": false,
     "tableResultSettingsMap": {},
     "title": ""
    }
   },
   "outputs": [
    {
     "output_type": "display_data",
     "data": {
      "text/html": [
       "<style scoped>\n",
       "  .table-result-container {\n",
       "    max-height: 300px;\n",
       "    overflow: auto;\n",
       "  }\n",
       "  table, th, td {\n",
       "    border: 1px solid black;\n",
       "    border-collapse: collapse;\n",
       "  }\n",
       "  th, td {\n",
       "    padding: 5px;\n",
       "  }\n",
       "  th {\n",
       "    text-align: left;\n",
       "  }\n",
       "</style><div class='table-result-container'><table class='table-result'><thead style='background-color: white'><tr><th>user</th><th>book</th></tr></thead><tbody><tr><td>user1</td><td>book1</td></tr><tr><td>user1</td><td>book2</td></tr><tr><td>user2</td><td>book2</td></tr><tr><td>user2</td><td>book4</td></tr><tr><td>user3</td><td>book1</td></tr></tbody></table></div>"
      ]
     },
     "metadata": {
      "application/vnd.databricks.v1+output": {
       "addedWidgets": {},
       "aggData": [],
       "aggError": "",
       "aggOverflow": false,
       "aggSchema": [],
       "aggSeriesLimitReached": false,
       "aggType": "",
       "arguments": {},
       "columnCustomDisplayInfos": {},
       "data": [
        [
         "user1",
         "book1"
        ],
        [
         "user1",
         "book2"
        ],
        [
         "user2",
         "book2"
        ],
        [
         "user2",
         "book4"
        ],
        [
         "user3",
         "book1"
        ]
       ],
       "datasetInfos": [],
       "dbfsResultPath": null,
       "isJsonSchema": true,
       "metadata": {},
       "overflow": false,
       "plotOptions": {
        "customPlotOptions": {},
        "displayType": "table",
        "pivotAggregation": null,
        "pivotColumns": null,
        "xColumns": null,
        "yColumns": null
       },
       "removedWidgets": [],
       "schema": [
        {
         "metadata": "{}",
         "name": "user",
         "type": "\"string\""
        },
        {
         "metadata": "{}",
         "name": "book",
         "type": "\"string\""
        }
       ],
       "type": "table"
      }
     },
     "output_type": "display_data"
    }
   ],
   "source": [
    "data = [('user1','book1'),\n",
    "        ('user1','book2'),\n",
    "        ('user2','book2'),\n",
    "        ('user2','book4'),\n",
    "        ('user3','book1')]\n",
    "\n",
    "schema = 'user string, book string'\n",
    "\n",
    "df_book = spark.createDataFrame(data,schema)\n",
    "\n",
    "df_book.display()"
   ]
  },
  {
   "cell_type": "code",
   "execution_count": 0,
   "metadata": {
    "application/vnd.databricks.v1+cell": {
     "cellMetadata": {
      "byteLimit": 2048000,
      "rowLimit": 10000
     },
     "inputWidgets": {},
     "nuid": "64c8fde2-90d7-4927-a7b1-b0833f0988a5",
     "showTitle": false,
     "tableResultSettingsMap": {},
     "title": ""
    }
   },
   "outputs": [
    {
     "output_type": "display_data",
     "data": {
      "text/html": [
       "<style scoped>\n",
       "  .table-result-container {\n",
       "    max-height: 300px;\n",
       "    overflow: auto;\n",
       "  }\n",
       "  table, th, td {\n",
       "    border: 1px solid black;\n",
       "    border-collapse: collapse;\n",
       "  }\n",
       "  th, td {\n",
       "    padding: 5px;\n",
       "  }\n",
       "  th {\n",
       "    text-align: left;\n",
       "  }\n",
       "</style><div class='table-result-container'><table class='table-result'><thead style='background-color: white'><tr><th>user</th><th>collect_list(book)</th></tr></thead><tbody><tr><td>user1</td><td>List(book1, book2)</td></tr><tr><td>user2</td><td>List(book2, book4)</td></tr><tr><td>user3</td><td>List(book1)</td></tr></tbody></table></div>"
      ]
     },
     "metadata": {
      "application/vnd.databricks.v1+output": {
       "addedWidgets": {},
       "aggData": [],
       "aggError": "",
       "aggOverflow": false,
       "aggSchema": [],
       "aggSeriesLimitReached": false,
       "aggType": "",
       "arguments": {},
       "columnCustomDisplayInfos": {},
       "data": [
        [
         "user1",
         [
          "book1",
          "book2"
         ]
        ],
        [
         "user2",
         [
          "book2",
          "book4"
         ]
        ],
        [
         "user3",
         [
          "book1"
         ]
        ]
       ],
       "datasetInfos": [],
       "dbfsResultPath": null,
       "isJsonSchema": true,
       "metadata": {},
       "overflow": false,
       "plotOptions": {
        "customPlotOptions": {},
        "displayType": "table",
        "pivotAggregation": null,
        "pivotColumns": null,
        "xColumns": null,
        "yColumns": null
       },
       "removedWidgets": [],
       "schema": [
        {
         "metadata": "{}",
         "name": "user",
         "type": "\"string\""
        },
        {
         "metadata": "{}",
         "name": "collect_list(book)",
         "type": "{\"type\":\"array\",\"elementType\":\"string\",\"containsNull\":false}"
        }
       ],
       "type": "table"
      }
     },
     "output_type": "display_data"
    }
   ],
   "source": [
    "df_book.groupBy('user').agg(collect_list('book')).display()"
   ]
  },
  {
   "cell_type": "markdown",
   "metadata": {
    "application/vnd.databricks.v1+cell": {
     "cellMetadata": {
      "byteLimit": 2048000,
      "rowLimit": 10000
     },
     "inputWidgets": {},
     "nuid": "4166fb68-b039-4edc-8162-5167da9cead7",
     "showTitle": false,
     "tableResultSettingsMap": {},
     "title": ""
    }
   },
   "source": [
    "### PIVOT"
   ]
  },
  {
   "cell_type": "code",
   "execution_count": 0,
   "metadata": {
    "application/vnd.databricks.v1+cell": {
     "cellMetadata": {
      "byteLimit": 2048000,
      "rowLimit": 10000
     },
     "inputWidgets": {},
     "nuid": "0ea72473-8bd4-4d1b-97ac-1cbd64f9ea5a",
     "showTitle": false,
     "tableResultSettingsMap": {},
     "title": ""
    }
   },
   "outputs": [
    {
     "output_type": "display_data",
     "data": {
      "text/html": [
       "<style scoped>\n",
       "  .table-result-container {\n",
       "    max-height: 300px;\n",
       "    overflow: auto;\n",
       "  }\n",
       "  table, th, td {\n",
       "    border: 1px solid black;\n",
       "    border-collapse: collapse;\n",
       "  }\n",
       "  th, td {\n",
       "    padding: 5px;\n",
       "  }\n",
       "  th {\n",
       "    text-align: left;\n",
       "  }\n",
       "</style><div class='table-result-container'><table class='table-result'><thead style='background-color: white'><tr><th>Item_Type</th><th>null</th><th>High</th><th>Medium</th><th>Small</th></tr></thead><tbody><tr><td>Starchy Foods</td><td>140.48000465116277</td><td>158.15707368421053</td><td>148.4195041666666</td><td>150.2701736842105</td></tr><tr><td>Breads</td><td>139.04861666666667</td><td>133.75896</td><td>140.8610385542169</td><td>145.5236507042254</td></tr><tr><td>Baking Goods</td><td>126.66939891891889</td><td>129.20204383561642</td><td>126.17856847290639</td><td>125.21336363636368</td></tr><tr><td>Fruits and Vegetables</td><td>142.57516045845267</td><td>145.57287042253515</td><td>142.9714702179177</td><td>148.31336951219507</td></tr><tr><td>Meat</td><td>139.29453448275865</td><td>137.2447902439025</td><td>136.41913154362408</td><td>145.69925042016808</td></tr><tr><td>Hard Drinks</td><td>134.3875333333333</td><td>141.9275217391304</td><td>142.83769599999994</td><td>129.758784</td></tr><tr><td>Soft Drinks</td><td>133.42344360902257</td><td>131.75847346938772</td><td>128.2696817518248</td><td>132.8550428571429</td></tr><tr><td>Household</td><td>147.76930421455944</td><td>147.09752233009704</td><td>147.71133010380618</td><td>153.9654389105058</td></tr><tr><td>Breakfast</td><td>158.6750903225807</td><td>147.49058461538462</td><td>134.53751111111112</td><td>130.56802666666667</td></tr><tr><td>Dairy</td><td>149.0512677419355</td><td>153.50917249999995</td><td>148.51217431192666</td><td>145.94210101010103</td></tr><tr><td>Snack Foods</td><td>145.0097524096384</td><td>145.84708639999994</td><td>148.77919509803917</td><td>144.35189611940308</td></tr><tr><td>Others</td><td>132.59299565217393</td><td>132.5766125</td><td>127.83618076923078</td><td>137.88921090909088</td></tr><tr><td>Seafood</td><td>142.21686666666668</td><td>134.86424000000002</td><td>140.857619047619</td><td>144.28176</td></tr><tr><td>Canned</td><td>140.65181123595508</td><td>135.4427076923077</td><td>138.12485069124423</td><td>142.29542857142857</td></tr><tr><td>Frozen Foods</td><td>137.49448464730293</td><td>136.82925</td><td>140.55701532846714</td><td>137.83854377510033</td></tr><tr><td>Health and Hygiene</td><td>130.55989019607844</td><td>135.11098032786884</td><td>128.70186470588237</td><td>131.83153529411757</td></tr></tbody></table></div>"
      ]
     },
     "metadata": {
      "application/vnd.databricks.v1+output": {
       "addedWidgets": {},
       "aggData": [],
       "aggError": "",
       "aggOverflow": false,
       "aggSchema": [],
       "aggSeriesLimitReached": false,
       "aggType": "",
       "arguments": {},
       "columnCustomDisplayInfos": {},
       "data": [
        [
         "Starchy Foods",
         140.48000465116277,
         158.15707368421053,
         148.4195041666666,
         150.2701736842105
        ],
        [
         "Breads",
         139.04861666666667,
         133.75896,
         140.8610385542169,
         145.5236507042254
        ],
        [
         "Baking Goods",
         126.66939891891889,
         129.20204383561642,
         126.17856847290639,
         125.21336363636368
        ],
        [
         "Fruits and Vegetables",
         142.57516045845267,
         145.57287042253515,
         142.9714702179177,
         148.31336951219507
        ],
        [
         "Meat",
         139.29453448275865,
         137.2447902439025,
         136.41913154362408,
         145.69925042016808
        ],
        [
         "Hard Drinks",
         134.3875333333333,
         141.9275217391304,
         142.83769599999994,
         129.758784
        ],
        [
         "Soft Drinks",
         133.42344360902257,
         131.75847346938772,
         128.2696817518248,
         132.8550428571429
        ],
        [
         "Household",
         147.76930421455944,
         147.09752233009704,
         147.71133010380618,
         153.9654389105058
        ],
        [
         "Breakfast",
         158.6750903225807,
         147.49058461538462,
         134.53751111111112,
         130.56802666666667
        ],
        [
         "Dairy",
         149.0512677419355,
         153.50917249999995,
         148.51217431192666,
         145.94210101010103
        ],
        [
         "Snack Foods",
         145.0097524096384,
         145.84708639999994,
         148.77919509803917,
         144.35189611940308
        ],
        [
         "Others",
         132.59299565217393,
         132.5766125,
         127.83618076923078,
         137.88921090909088
        ],
        [
         "Seafood",
         142.21686666666668,
         134.86424000000002,
         140.857619047619,
         144.28176
        ],
        [
         "Canned",
         140.65181123595508,
         135.4427076923077,
         138.12485069124423,
         142.29542857142857
        ],
        [
         "Frozen Foods",
         137.49448464730293,
         136.82925,
         140.55701532846714,
         137.83854377510033
        ],
        [
         "Health and Hygiene",
         130.55989019607844,
         135.11098032786884,
         128.70186470588237,
         131.83153529411757
        ]
       ],
       "datasetInfos": [],
       "dbfsResultPath": null,
       "isJsonSchema": true,
       "metadata": {},
       "overflow": false,
       "plotOptions": {
        "customPlotOptions": {},
        "displayType": "table",
        "pivotAggregation": null,
        "pivotColumns": null,
        "xColumns": null,
        "yColumns": null
       },
       "removedWidgets": [],
       "schema": [
        {
         "metadata": "{}",
         "name": "Item_Type",
         "type": "\"string\""
        },
        {
         "metadata": "{}",
         "name": "null",
         "type": "\"double\""
        },
        {
         "metadata": "{}",
         "name": "High",
         "type": "\"double\""
        },
        {
         "metadata": "{}",
         "name": "Medium",
         "type": "\"double\""
        },
        {
         "metadata": "{}",
         "name": "Small",
         "type": "\"double\""
        }
       ],
       "type": "table"
      }
     },
     "output_type": "display_data"
    }
   ],
   "source": [
    "df.groupBy(\"Item_Type\").pivot(\"Outlet_Size\").agg(avg(\"Item_MRP\")).display()"
   ]
  },
  {
   "cell_type": "code",
   "execution_count": 0,
   "metadata": {
    "application/vnd.databricks.v1+cell": {
     "cellMetadata": {
      "byteLimit": 2048000,
      "rowLimit": 10000
     },
     "inputWidgets": {},
     "nuid": "771db398-e9ce-40fc-9648-fc0f4bb493c7",
     "showTitle": false,
     "tableResultSettingsMap": {},
     "title": ""
    }
   },
   "outputs": [
    {
     "output_type": "display_data",
     "data": {
      "text/html": [
       "<style scoped>\n",
       "  .table-result-container {\n",
       "    max-height: 300px;\n",
       "    overflow: auto;\n",
       "  }\n",
       "  table, th, td {\n",
       "    border: 1px solid black;\n",
       "    border-collapse: collapse;\n",
       "  }\n",
       "  th, td {\n",
       "    padding: 5px;\n",
       "  }\n",
       "  th {\n",
       "    text-align: left;\n",
       "  }\n",
       "</style><div class='table-result-container'><table class='table-result'><thead style='background-color: white'><tr><th>Item_Type</th><th>Outlet_Size</th><th>avg(Item_MRP)</th></tr></thead><tbody><tr><td>Starchy Foods</td><td>Medium</td><td>148.4195041666666</td></tr><tr><td>Fruits and Vegetables</td><td>Medium</td><td>142.9714702179177</td></tr><tr><td>Starchy Foods</td><td>null</td><td>140.48000465116277</td></tr><tr><td>Breads</td><td>null</td><td>139.04861666666667</td></tr><tr><td>Baking Goods</td><td>null</td><td>126.66939891891889</td></tr><tr><td>Fruits and Vegetables</td><td>null</td><td>142.57516045845267</td></tr><tr><td>Frozen Foods</td><td>High</td><td>136.82925</td></tr><tr><td>Soft Drinks</td><td>High</td><td>131.75847346938772</td></tr><tr><td>Breakfast</td><td>Small</td><td>130.56802666666667</td></tr><tr><td>Meat</td><td>Medium</td><td>136.41913154362408</td></tr><tr><td>Fruits and Vegetables</td><td>High</td><td>145.57287042253515</td></tr><tr><td>Meat</td><td>High</td><td>137.2447902439025</td></tr><tr><td>Baking Goods</td><td>High</td><td>129.20204383561642</td></tr><tr><td>Household</td><td>Medium</td><td>147.71133010380618</td></tr><tr><td>Meat</td><td>null</td><td>139.29453448275865</td></tr><tr><td>Hard Drinks</td><td>null</td><td>134.3875333333333</td></tr><tr><td>Hard Drinks</td><td>Small</td><td>129.758784</td></tr><tr><td>Soft Drinks</td><td>null</td><td>133.42344360902257</td></tr><tr><td>Household</td><td>null</td><td>147.76930421455944</td></tr><tr><td>Dairy</td><td>High</td><td>153.50917249999995</td></tr><tr><td>Snack Foods</td><td>Small</td><td>144.35189611940308</td></tr><tr><td>Others</td><td>Medium</td><td>127.83618076923078</td></tr><tr><td>Others</td><td>Small</td><td>137.88921090909088</td></tr><tr><td>Snack Foods</td><td>Medium</td><td>148.77919509803917</td></tr><tr><td>Household</td><td>Small</td><td>153.9654389105058</td></tr><tr><td>Breakfast</td><td>null</td><td>158.6750903225807</td></tr><tr><td>Canned</td><td>Medium</td><td>138.12485069124423</td></tr><tr><td>Breads</td><td>High</td><td>133.75896</td></tr><tr><td>Dairy</td><td>null</td><td>149.0512677419355</td></tr><tr><td>Household</td><td>High</td><td>147.09752233009704</td></tr><tr><td>Snack Foods</td><td>null</td><td>145.0097524096384</td></tr><tr><td>Canned</td><td>High</td><td>135.4427076923077</td></tr><tr><td>Breads</td><td>Small</td><td>145.5236507042254</td></tr><tr><td>Others</td><td>null</td><td>132.59299565217393</td></tr><tr><td>Baking Goods</td><td>Medium</td><td>126.17856847290639</td></tr><tr><td>Hard Drinks</td><td>High</td><td>141.9275217391304</td></tr><tr><td>Health and Hygiene</td><td>Medium</td><td>128.70186470588237</td></tr><tr><td>Soft Drinks</td><td>Medium</td><td>128.2696817518248</td></tr><tr><td>Health and Hygiene</td><td>High</td><td>135.11098032786884</td></tr><tr><td>Snack Foods</td><td>High</td><td>145.84708639999994</td></tr><tr><td>Seafood</td><td>null</td><td>142.21686666666668</td></tr><tr><td>Dairy</td><td>Medium</td><td>148.51217431192666</td></tr><tr><td>Breakfast</td><td>Medium</td><td>134.53751111111112</td></tr><tr><td>Hard Drinks</td><td>Medium</td><td>142.83769599999994</td></tr><tr><td>Starchy Foods</td><td>Small</td><td>150.2701736842105</td></tr><tr><td>Baking Goods</td><td>Small</td><td>125.21336363636368</td></tr><tr><td>Canned</td><td>Small</td><td>142.29542857142857</td></tr><tr><td>Fruits and Vegetables</td><td>Small</td><td>148.31336951219507</td></tr><tr><td>Breads</td><td>Medium</td><td>140.8610385542169</td></tr><tr><td>Seafood</td><td>High</td><td>134.86424000000002</td></tr><tr><td>Starchy Foods</td><td>High</td><td>158.15707368421053</td></tr><tr><td>Seafood</td><td>Small</td><td>144.28176</td></tr><tr><td>Canned</td><td>null</td><td>140.65181123595508</td></tr><tr><td>Seafood</td><td>Medium</td><td>140.857619047619</td></tr><tr><td>Soft Drinks</td><td>Small</td><td>132.8550428571429</td></tr><tr><td>Frozen Foods</td><td>Medium</td><td>140.55701532846714</td></tr><tr><td>Breakfast</td><td>High</td><td>147.49058461538462</td></tr><tr><td>Frozen Foods</td><td>null</td><td>137.49448464730293</td></tr><tr><td>Meat</td><td>Small</td><td>145.69925042016808</td></tr><tr><td>Dairy</td><td>Small</td><td>145.94210101010103</td></tr><tr><td>Health and Hygiene</td><td>null</td><td>130.55989019607844</td></tr><tr><td>Health and Hygiene</td><td>Small</td><td>131.83153529411757</td></tr><tr><td>Others</td><td>High</td><td>132.5766125</td></tr><tr><td>Frozen Foods</td><td>Small</td><td>137.83854377510033</td></tr></tbody></table></div>"
      ]
     },
     "metadata": {
      "application/vnd.databricks.v1+output": {
       "addedWidgets": {},
       "aggData": [],
       "aggError": "",
       "aggOverflow": false,
       "aggSchema": [],
       "aggSeriesLimitReached": false,
       "aggType": "",
       "arguments": {},
       "columnCustomDisplayInfos": {},
       "data": [
        [
         "Starchy Foods",
         "Medium",
         148.4195041666666
        ],
        [
         "Fruits and Vegetables",
         "Medium",
         142.9714702179177
        ],
        [
         "Starchy Foods",
         null,
         140.48000465116277
        ],
        [
         "Breads",
         null,
         139.04861666666667
        ],
        [
         "Baking Goods",
         null,
         126.66939891891889
        ],
        [
         "Fruits and Vegetables",
         null,
         142.57516045845267
        ],
        [
         "Frozen Foods",
         "High",
         136.82925
        ],
        [
         "Soft Drinks",
         "High",
         131.75847346938772
        ],
        [
         "Breakfast",
         "Small",
         130.56802666666667
        ],
        [
         "Meat",
         "Medium",
         136.41913154362408
        ],
        [
         "Fruits and Vegetables",
         "High",
         145.57287042253515
        ],
        [
         "Meat",
         "High",
         137.2447902439025
        ],
        [
         "Baking Goods",
         "High",
         129.20204383561642
        ],
        [
         "Household",
         "Medium",
         147.71133010380618
        ],
        [
         "Meat",
         null,
         139.29453448275865
        ],
        [
         "Hard Drinks",
         null,
         134.3875333333333
        ],
        [
         "Hard Drinks",
         "Small",
         129.758784
        ],
        [
         "Soft Drinks",
         null,
         133.42344360902257
        ],
        [
         "Household",
         null,
         147.76930421455944
        ],
        [
         "Dairy",
         "High",
         153.50917249999995
        ],
        [
         "Snack Foods",
         "Small",
         144.35189611940308
        ],
        [
         "Others",
         "Medium",
         127.83618076923078
        ],
        [
         "Others",
         "Small",
         137.88921090909088
        ],
        [
         "Snack Foods",
         "Medium",
         148.77919509803917
        ],
        [
         "Household",
         "Small",
         153.9654389105058
        ],
        [
         "Breakfast",
         null,
         158.6750903225807
        ],
        [
         "Canned",
         "Medium",
         138.12485069124423
        ],
        [
         "Breads",
         "High",
         133.75896
        ],
        [
         "Dairy",
         null,
         149.0512677419355
        ],
        [
         "Household",
         "High",
         147.09752233009704
        ],
        [
         "Snack Foods",
         null,
         145.0097524096384
        ],
        [
         "Canned",
         "High",
         135.4427076923077
        ],
        [
         "Breads",
         "Small",
         145.5236507042254
        ],
        [
         "Others",
         null,
         132.59299565217393
        ],
        [
         "Baking Goods",
         "Medium",
         126.17856847290639
        ],
        [
         "Hard Drinks",
         "High",
         141.9275217391304
        ],
        [
         "Health and Hygiene",
         "Medium",
         128.70186470588237
        ],
        [
         "Soft Drinks",
         "Medium",
         128.2696817518248
        ],
        [
         "Health and Hygiene",
         "High",
         135.11098032786884
        ],
        [
         "Snack Foods",
         "High",
         145.84708639999994
        ],
        [
         "Seafood",
         null,
         142.21686666666668
        ],
        [
         "Dairy",
         "Medium",
         148.51217431192666
        ],
        [
         "Breakfast",
         "Medium",
         134.53751111111112
        ],
        [
         "Hard Drinks",
         "Medium",
         142.83769599999994
        ],
        [
         "Starchy Foods",
         "Small",
         150.2701736842105
        ],
        [
         "Baking Goods",
         "Small",
         125.21336363636368
        ],
        [
         "Canned",
         "Small",
         142.29542857142857
        ],
        [
         "Fruits and Vegetables",
         "Small",
         148.31336951219507
        ],
        [
         "Breads",
         "Medium",
         140.8610385542169
        ],
        [
         "Seafood",
         "High",
         134.86424000000002
        ],
        [
         "Starchy Foods",
         "High",
         158.15707368421053
        ],
        [
         "Seafood",
         "Small",
         144.28176
        ],
        [
         "Canned",
         null,
         140.65181123595508
        ],
        [
         "Seafood",
         "Medium",
         140.857619047619
        ],
        [
         "Soft Drinks",
         "Small",
         132.8550428571429
        ],
        [
         "Frozen Foods",
         "Medium",
         140.55701532846714
        ],
        [
         "Breakfast",
         "High",
         147.49058461538462
        ],
        [
         "Frozen Foods",
         null,
         137.49448464730293
        ],
        [
         "Meat",
         "Small",
         145.69925042016808
        ],
        [
         "Dairy",
         "Small",
         145.94210101010103
        ],
        [
         "Health and Hygiene",
         null,
         130.55989019607844
        ],
        [
         "Health and Hygiene",
         "Small",
         131.83153529411757
        ],
        [
         "Others",
         "High",
         132.5766125
        ],
        [
         "Frozen Foods",
         "Small",
         137.83854377510033
        ]
       ],
       "datasetInfos": [],
       "dbfsResultPath": null,
       "isJsonSchema": true,
       "metadata": {},
       "overflow": false,
       "plotOptions": {
        "customPlotOptions": {},
        "displayType": "table",
        "pivotAggregation": null,
        "pivotColumns": null,
        "xColumns": null,
        "yColumns": null
       },
       "removedWidgets": [],
       "schema": [
        {
         "metadata": "{}",
         "name": "Item_Type",
         "type": "\"string\""
        },
        {
         "metadata": "{}",
         "name": "Outlet_Size",
         "type": "\"string\""
        },
        {
         "metadata": "{}",
         "name": "avg(Item_MRP)",
         "type": "\"double\""
        }
       ],
       "type": "table"
      }
     },
     "output_type": "display_data"
    }
   ],
   "source": [
    "df.groupBy(\"Item_Type\",\"Outlet_Size\").agg(avg(\"Item_MRP\")).display()"
   ]
  },
  {
   "cell_type": "markdown",
   "metadata": {
    "application/vnd.databricks.v1+cell": {
     "cellMetadata": {
      "byteLimit": 2048000,
      "rowLimit": 10000
     },
     "inputWidgets": {},
     "nuid": "f9ff36d9-e4b8-4052-9f2f-5ddd4b9e7a13",
     "showTitle": false,
     "tableResultSettingsMap": {},
     "title": ""
    }
   },
   "source": [
    "When-Otherwise"
   ]
  },
  {
   "cell_type": "code",
   "execution_count": 0,
   "metadata": {
    "application/vnd.databricks.v1+cell": {
     "cellMetadata": {
      "byteLimit": 2048000,
      "rowLimit": 10000
     },
     "inputWidgets": {},
     "nuid": "08413b11-1327-4164-928d-e31f5800225c",
     "showTitle": false,
     "tableResultSettingsMap": {},
     "title": ""
    }
   },
   "outputs": [
    {
     "output_type": "display_data",
     "data": {
      "text/html": [
       "<style scoped>\n",
       "  .table-result-container {\n",
       "    max-height: 300px;\n",
       "    overflow: auto;\n",
       "  }\n",
       "  table, th, td {\n",
       "    border: 1px solid black;\n",
       "    border-collapse: collapse;\n",
       "  }\n",
       "  th, td {\n",
       "    padding: 5px;\n",
       "  }\n",
       "  th {\n",
       "    text-align: left;\n",
       "  }\n",
       "</style><div class='table-result-container'><table class='table-result'><thead style='background-color: white'><tr><th>veg_flag</th><th>Item_Type</th></tr></thead><tbody><tr><td>Veg</td><td>Dairy</td></tr><tr><td>Veg</td><td>Soft Drinks</td></tr><tr><td>Non-veg</td><td>Meat</td></tr><tr><td>Veg</td><td>Fruits and Vegetables</td></tr><tr><td>Veg</td><td>Household</td></tr><tr><td>Veg</td><td>Baking Goods</td></tr><tr><td>Veg</td><td>Snack Foods</td></tr><tr><td>Veg</td><td>Snack Foods</td></tr><tr><td>Veg</td><td>Frozen Foods</td></tr><tr><td>Veg</td><td>Frozen Foods</td></tr></tbody></table></div>"
      ]
     },
     "metadata": {
      "application/vnd.databricks.v1+output": {
       "addedWidgets": {},
       "aggData": [],
       "aggError": "",
       "aggOverflow": false,
       "aggSchema": [],
       "aggSeriesLimitReached": false,
       "aggType": "",
       "arguments": {},
       "columnCustomDisplayInfos": {},
       "data": [
        [
         "Veg",
         "Dairy"
        ],
        [
         "Veg",
         "Soft Drinks"
        ],
        [
         "Non-veg",
         "Meat"
        ],
        [
         "Veg",
         "Fruits and Vegetables"
        ],
        [
         "Veg",
         "Household"
        ],
        [
         "Veg",
         "Baking Goods"
        ],
        [
         "Veg",
         "Snack Foods"
        ],
        [
         "Veg",
         "Snack Foods"
        ],
        [
         "Veg",
         "Frozen Foods"
        ],
        [
         "Veg",
         "Frozen Foods"
        ]
       ],
       "datasetInfos": [],
       "dbfsResultPath": null,
       "isJsonSchema": true,
       "metadata": {},
       "overflow": false,
       "plotOptions": {
        "customPlotOptions": {},
        "displayType": "table",
        "pivotAggregation": null,
        "pivotColumns": null,
        "xColumns": null,
        "yColumns": null
       },
       "removedWidgets": [],
       "schema": [
        {
         "metadata": "{}",
         "name": "veg_flag",
         "type": "\"string\""
        },
        {
         "metadata": "{}",
         "name": "Item_Type",
         "type": "\"string\""
        }
       ],
       "type": "table"
      }
     },
     "output_type": "display_data"
    }
   ],
   "source": [
    "df = df.withColumn(\"veg_flag\", \n",
    "    when(col(\"Item_Type\")=='Meat', 'Non-veg')\\\n",
    "    .otherwise('Veg')\n",
    "                   )\n",
    "df.select(\"veg_flag\",\"Item_Type\").limit(10).display()"
   ]
  },
  {
   "cell_type": "markdown",
   "metadata": {
    "application/vnd.databricks.v1+cell": {
     "cellMetadata": {
      "byteLimit": 2048000,
      "rowLimit": 10000
     },
     "inputWidgets": {},
     "nuid": "44a1f07a-1303-4d1b-9fe1-89212242b7dc",
     "showTitle": false,
     "tableResultSettingsMap": {},
     "title": ""
    }
   },
   "source": [
    "\n",
    "#Joins \n",
    "outer, inner, anti, left right"
   ]
  },
  {
   "cell_type": "code",
   "execution_count": 0,
   "metadata": {
    "application/vnd.databricks.v1+cell": {
     "cellMetadata": {
      "byteLimit": 2048000,
      "rowLimit": 10000
     },
     "inputWidgets": {},
     "nuid": "93809c60-f208-41f6-9d26-f2530ea8f14a",
     "showTitle": false,
     "tableResultSettingsMap": {},
     "title": ""
    }
   },
   "outputs": [
    {
     "output_type": "display_data",
     "data": {
      "text/html": [
       "<style scoped>\n",
       "  .table-result-container {\n",
       "    max-height: 300px;\n",
       "    overflow: auto;\n",
       "  }\n",
       "  table, th, td {\n",
       "    border: 1px solid black;\n",
       "    border-collapse: collapse;\n",
       "  }\n",
       "  th, td {\n",
       "    padding: 5px;\n",
       "  }\n",
       "  th {\n",
       "    text-align: left;\n",
       "  }\n",
       "</style><div class='table-result-container'><table class='table-result'><thead style='background-color: white'><tr><th>emp_id</th><th>emp_name</th><th>dept_id</th></tr></thead><tbody><tr><td>1</td><td>gaur</td><td>d01</td></tr><tr><td>2</td><td>kit</td><td>d02</td></tr><tr><td>3</td><td>sam</td><td>d03</td></tr><tr><td>4</td><td>tim</td><td>d03</td></tr><tr><td>5</td><td>aman</td><td>d05</td></tr><tr><td>6</td><td>nad</td><td>d06</td></tr></tbody></table></div>"
      ]
     },
     "metadata": {
      "application/vnd.databricks.v1+output": {
       "addedWidgets": {},
       "aggData": [],
       "aggError": "",
       "aggOverflow": false,
       "aggSchema": [],
       "aggSeriesLimitReached": false,
       "aggType": "",
       "arguments": {},
       "columnCustomDisplayInfos": {},
       "data": [
        [
         "1",
         "gaur",
         "d01"
        ],
        [
         "2",
         "kit",
         "d02"
        ],
        [
         "3",
         "sam",
         "d03"
        ],
        [
         "4",
         "tim",
         "d03"
        ],
        [
         "5",
         "aman",
         "d05"
        ],
        [
         "6",
         "nad",
         "d06"
        ]
       ],
       "datasetInfos": [],
       "dbfsResultPath": null,
       "isJsonSchema": true,
       "metadata": {},
       "overflow": false,
       "plotOptions": {
        "customPlotOptions": {},
        "displayType": "table",
        "pivotAggregation": null,
        "pivotColumns": null,
        "xColumns": null,
        "yColumns": null
       },
       "removedWidgets": [],
       "schema": [
        {
         "metadata": "{}",
         "name": "emp_id",
         "type": "\"string\""
        },
        {
         "metadata": "{}",
         "name": "emp_name",
         "type": "\"string\""
        },
        {
         "metadata": "{}",
         "name": "dept_id",
         "type": "\"string\""
        }
       ],
       "type": "table"
      }
     },
     "output_type": "display_data"
    }
   ],
   "source": [
    "dataj1 = [('1','gaur','d01'),\n",
    "          ('2','kit','d02'),\n",
    "          ('3','sam','d03'),\n",
    "          ('4','tim','d03'),\n",
    "          ('5','aman','d05'),\n",
    "          ('6','nad','d06')] \n",
    "\n",
    "schemaj1 = 'emp_id STRING, emp_name STRING, dept_id STRING' \n",
    "\n",
    "df1 = spark.createDataFrame(dataj1,schemaj1)\n",
    "\n",
    "dataj2 = [('d01','HR'),\n",
    "          ('d02','Marketing'),\n",
    "          ('d03','Accounts'),\n",
    "          ('d04','IT'),\n",
    "          ('d05','Finance')]\n",
    "\n",
    "schemaj2 = 'dept_id STRING, department STRING'\n",
    "\n",
    "df2 = spark.createDataFrame(dataj2,schemaj2)\n",
    "df1.display()"
   ]
  },
  {
   "cell_type": "code",
   "execution_count": 0,
   "metadata": {
    "application/vnd.databricks.v1+cell": {
     "cellMetadata": {
      "byteLimit": 2048000,
      "rowLimit": 10000
     },
     "inputWidgets": {},
     "nuid": "39896710-797a-4c1f-92ec-f5979b832688",
     "showTitle": false,
     "tableResultSettingsMap": {},
     "title": ""
    }
   },
   "outputs": [
    {
     "output_type": "display_data",
     "data": {
      "text/html": [
       "<style scoped>\n",
       "  .table-result-container {\n",
       "    max-height: 300px;\n",
       "    overflow: auto;\n",
       "  }\n",
       "  table, th, td {\n",
       "    border: 1px solid black;\n",
       "    border-collapse: collapse;\n",
       "  }\n",
       "  th, td {\n",
       "    padding: 5px;\n",
       "  }\n",
       "  th {\n",
       "    text-align: left;\n",
       "  }\n",
       "</style><div class='table-result-container'><table class='table-result'><thead style='background-color: white'><tr><th>dept_id</th><th>department</th></tr></thead><tbody><tr><td>d01</td><td>HR</td></tr><tr><td>d02</td><td>Marketing</td></tr><tr><td>d03</td><td>Accounts</td></tr><tr><td>d04</td><td>IT</td></tr><tr><td>d05</td><td>Finance</td></tr></tbody></table></div>"
      ]
     },
     "metadata": {
      "application/vnd.databricks.v1+output": {
       "addedWidgets": {},
       "aggData": [],
       "aggError": "",
       "aggOverflow": false,
       "aggSchema": [],
       "aggSeriesLimitReached": false,
       "aggType": "",
       "arguments": {},
       "columnCustomDisplayInfos": {},
       "data": [
        [
         "d01",
         "HR"
        ],
        [
         "d02",
         "Marketing"
        ],
        [
         "d03",
         "Accounts"
        ],
        [
         "d04",
         "IT"
        ],
        [
         "d05",
         "Finance"
        ]
       ],
       "datasetInfos": [],
       "dbfsResultPath": null,
       "isJsonSchema": true,
       "metadata": {},
       "overflow": false,
       "plotOptions": {
        "customPlotOptions": {},
        "displayType": "table",
        "pivotAggregation": null,
        "pivotColumns": null,
        "xColumns": null,
        "yColumns": null
       },
       "removedWidgets": [],
       "schema": [
        {
         "metadata": "{}",
         "name": "dept_id",
         "type": "\"string\""
        },
        {
         "metadata": "{}",
         "name": "department",
         "type": "\"string\""
        }
       ],
       "type": "table"
      }
     },
     "output_type": "display_data"
    }
   ],
   "source": [
    "df2.display()"
   ]
  },
  {
   "cell_type": "code",
   "execution_count": 0,
   "metadata": {
    "application/vnd.databricks.v1+cell": {
     "cellMetadata": {
      "byteLimit": 2048000,
      "rowLimit": 10000
     },
     "inputWidgets": {},
     "nuid": "c8a946cf-e6e8-4803-b1e8-adc09188ce1f",
     "showTitle": false,
     "tableResultSettingsMap": {},
     "title": ""
    }
   },
   "outputs": [
    {
     "output_type": "display_data",
     "data": {
      "text/html": [
       "<style scoped>\n",
       "  .table-result-container {\n",
       "    max-height: 300px;\n",
       "    overflow: auto;\n",
       "  }\n",
       "  table, th, td {\n",
       "    border: 1px solid black;\n",
       "    border-collapse: collapse;\n",
       "  }\n",
       "  th, td {\n",
       "    padding: 5px;\n",
       "  }\n",
       "  th {\n",
       "    text-align: left;\n",
       "  }\n",
       "</style><div class='table-result-container'><table class='table-result'><thead style='background-color: white'><tr><th>emp_id</th><th>emp_name</th><th>dept_id</th><th>dept_id</th><th>department</th></tr></thead><tbody><tr><td>1</td><td>gaur</td><td>d01</td><td>d01</td><td>HR</td></tr><tr><td>2</td><td>kit</td><td>d02</td><td>d02</td><td>Marketing</td></tr><tr><td>3</td><td>sam</td><td>d03</td><td>d03</td><td>Accounts</td></tr><tr><td>4</td><td>tim</td><td>d03</td><td>d03</td><td>Accounts</td></tr><tr><td>5</td><td>aman</td><td>d05</td><td>d05</td><td>Finance</td></tr><tr><td>6</td><td>nad</td><td>d06</td><td>null</td><td>null</td></tr></tbody></table></div>"
      ]
     },
     "metadata": {
      "application/vnd.databricks.v1+output": {
       "addedWidgets": {},
       "aggData": [],
       "aggError": "",
       "aggOverflow": false,
       "aggSchema": [],
       "aggSeriesLimitReached": false,
       "aggType": "",
       "arguments": {},
       "columnCustomDisplayInfos": {},
       "data": [
        [
         "1",
         "gaur",
         "d01",
         "d01",
         "HR"
        ],
        [
         "2",
         "kit",
         "d02",
         "d02",
         "Marketing"
        ],
        [
         "3",
         "sam",
         "d03",
         "d03",
         "Accounts"
        ],
        [
         "4",
         "tim",
         "d03",
         "d03",
         "Accounts"
        ],
        [
         "5",
         "aman",
         "d05",
         "d05",
         "Finance"
        ],
        [
         "6",
         "nad",
         "d06",
         null,
         null
        ]
       ],
       "datasetInfos": [],
       "dbfsResultPath": null,
       "isJsonSchema": true,
       "metadata": {},
       "overflow": false,
       "plotOptions": {
        "customPlotOptions": {},
        "displayType": "table",
        "pivotAggregation": null,
        "pivotColumns": null,
        "xColumns": null,
        "yColumns": null
       },
       "removedWidgets": [],
       "schema": [
        {
         "metadata": "{}",
         "name": "emp_id",
         "type": "\"string\""
        },
        {
         "metadata": "{}",
         "name": "emp_name",
         "type": "\"string\""
        },
        {
         "metadata": "{}",
         "name": "dept_id",
         "type": "\"string\""
        },
        {
         "metadata": "{}",
         "name": "dept_id",
         "type": "\"string\""
        },
        {
         "metadata": "{}",
         "name": "department",
         "type": "\"string\""
        }
       ],
       "type": "table"
      }
     },
     "output_type": "display_data"
    }
   ],
   "source": [
    "df1.join(df2, df1['dept_id']==df2['dept_id'], 'left').display()"
   ]
  },
  {
   "cell_type": "code",
   "execution_count": 0,
   "metadata": {
    "application/vnd.databricks.v1+cell": {
     "cellMetadata": {
      "byteLimit": 2048000,
      "rowLimit": 10000
     },
     "inputWidgets": {},
     "nuid": "42674609-2b08-401f-bad1-1d824cbd4a9e",
     "showTitle": false,
     "tableResultSettingsMap": {},
     "title": ""
    }
   },
   "outputs": [
    {
     "output_type": "display_data",
     "data": {
      "text/html": [
       "<style scoped>\n",
       "  .table-result-container {\n",
       "    max-height: 300px;\n",
       "    overflow: auto;\n",
       "  }\n",
       "  table, th, td {\n",
       "    border: 1px solid black;\n",
       "    border-collapse: collapse;\n",
       "  }\n",
       "  th, td {\n",
       "    padding: 5px;\n",
       "  }\n",
       "  th {\n",
       "    text-align: left;\n",
       "  }\n",
       "</style><div class='table-result-container'><table class='table-result'><thead style='background-color: white'><tr><th>emp_id</th><th>emp_name</th><th>dept_id</th></tr></thead><tbody><tr><td>6</td><td>nad</td><td>d06</td></tr></tbody></table></div>"
      ]
     },
     "metadata": {
      "application/vnd.databricks.v1+output": {
       "addedWidgets": {},
       "aggData": [],
       "aggError": "",
       "aggOverflow": false,
       "aggSchema": [],
       "aggSeriesLimitReached": false,
       "aggType": "",
       "arguments": {},
       "columnCustomDisplayInfos": {},
       "data": [
        [
         "6",
         "nad",
         "d06"
        ]
       ],
       "datasetInfos": [],
       "dbfsResultPath": null,
       "isJsonSchema": true,
       "metadata": {},
       "overflow": false,
       "plotOptions": {
        "customPlotOptions": {},
        "displayType": "table",
        "pivotAggregation": null,
        "pivotColumns": null,
        "xColumns": null,
        "yColumns": null
       },
       "removedWidgets": [],
       "schema": [
        {
         "metadata": "{}",
         "name": "emp_id",
         "type": "\"string\""
        },
        {
         "metadata": "{}",
         "name": "emp_name",
         "type": "\"string\""
        },
        {
         "metadata": "{}",
         "name": "dept_id",
         "type": "\"string\""
        }
       ],
       "type": "table"
      }
     },
     "output_type": "display_data"
    }
   ],
   "source": [
    "df1.join(df2, df1['dept_id']==df2['dept_id'], 'anti').display()  # data from left which are not in right"
   ]
  },
  {
   "cell_type": "markdown",
   "metadata": {
    "application/vnd.databricks.v1+cell": {
     "cellMetadata": {
      "byteLimit": 2048000,
      "rowLimit": 10000
     },
     "inputWidgets": {},
     "nuid": "e89acab5-5e60-4493-8130-e0177bdccd33",
     "showTitle": false,
     "tableResultSettingsMap": {},
     "title": ""
    }
   },
   "source": [
    "# Window function"
   ]
  },
  {
   "cell_type": "code",
   "execution_count": 0,
   "metadata": {
    "application/vnd.databricks.v1+cell": {
     "cellMetadata": {
      "byteLimit": 2048000,
      "rowLimit": 10000
     },
     "inputWidgets": {},
     "nuid": "24e80b4a-782c-4227-9e45-e6de90364a50",
     "showTitle": false,
     "tableResultSettingsMap": {},
     "title": ""
    }
   },
   "outputs": [
    {
     "output_type": "display_data",
     "data": {
      "text/html": [
       "<style scoped>\n",
       "  .table-result-container {\n",
       "    max-height: 300px;\n",
       "    overflow: auto;\n",
       "  }\n",
       "  table, th, td {\n",
       "    border: 1px solid black;\n",
       "    border-collapse: collapse;\n",
       "  }\n",
       "  th, td {\n",
       "    padding: 5px;\n",
       "  }\n",
       "  th {\n",
       "    text-align: left;\n",
       "  }\n",
       "</style><div class='table-result-container'><table class='table-result'><thead style='background-color: white'><tr><th>Item_Identifier</th><th>Item_Weight</th><th>Item_Fat_Content</th><th>Item_Visibility</th><th>Item_Type</th><th>Item_MRP</th><th>Outlet_Identifier</th><th>Outlet_Establishment_Year</th><th>Outlet_Size</th><th>Outlet_Location_Type</th><th>Outlet_Type</th><th>Item_Outlet_Sales</th><th>Flag</th><th>curr_date</th><th>next_week</th><th>diff_date</th><th>veg_flag</th></tr></thead><tbody><tr><td>FDA15</td><td>9.3</td><td>Low Fat</td><td>0.016047301</td><td>Dairy</td><td>249.8092</td><td>OUT049</td><td>1999</td><td>Medium</td><td>Tier 1</td><td>Supermarket Type1</td><td>3735.138</td><td>random</td><td>2024-12-27</td><td>03-01-2025</td><td>-7</td><td>Veg</td></tr><tr><td>DRC01</td><td>5.92</td><td>Reg</td><td>0.019278216</td><td>Soft Drinks</td><td>48.2692</td><td>OUT018</td><td>2009</td><td>Medium</td><td>Tier 3</td><td>Supermarket Type2</td><td>443.4228</td><td>random</td><td>2024-12-27</td><td>03-01-2025</td><td>-7</td><td>Veg</td></tr><tr><td>FDN15</td><td>17.5</td><td>Low Fat</td><td>0.016760075</td><td>Meat</td><td>141.618</td><td>OUT049</td><td>1999</td><td>Medium</td><td>Tier 1</td><td>Supermarket Type1</td><td>2097.27</td><td>random</td><td>2024-12-27</td><td>03-01-2025</td><td>-7</td><td>Non-veg</td></tr><tr><td>FDX07</td><td>19.2</td><td>Reg</td><td>0.0</td><td>Fruits and Vegetables</td><td>182.095</td><td>OUT010</td><td>1998</td><td>null</td><td>Tier 3</td><td>Grocery Store</td><td>732.38</td><td>random</td><td>2024-12-27</td><td>03-01-2025</td><td>-7</td><td>Veg</td></tr><tr><td>NCD19</td><td>8.93</td><td>Low Fat</td><td>0.0</td><td>Household</td><td>53.8614</td><td>OUT013</td><td>1987</td><td>High</td><td>Tier 3</td><td>Supermarket Type1</td><td>994.7052</td><td>random</td><td>2024-12-27</td><td>03-01-2025</td><td>-7</td><td>Veg</td></tr><tr><td>FDP36</td><td>10.395</td><td>Reg</td><td>0.0</td><td>Baking Goods</td><td>51.4008</td><td>OUT018</td><td>2009</td><td>Medium</td><td>Tier 3</td><td>Supermarket Type2</td><td>556.6088</td><td>random</td><td>2024-12-27</td><td>03-01-2025</td><td>-7</td><td>Veg</td></tr><tr><td>FDO10</td><td>13.65</td><td>Reg</td><td>0.012741089</td><td>Snack Foods</td><td>57.6588</td><td>OUT013</td><td>1987</td><td>High</td><td>Tier 3</td><td>Supermarket Type1</td><td>343.5528</td><td>random</td><td>2024-12-27</td><td>03-01-2025</td><td>-7</td><td>Veg</td></tr><tr><td>FDP10</td><td>null</td><td>Low Fat</td><td>0.127469857</td><td>Snack Foods</td><td>107.7622</td><td>OUT027</td><td>1985</td><td>Medium</td><td>Tier 3</td><td>Supermarket Type3</td><td>4022.7636</td><td>random</td><td>2024-12-27</td><td>03-01-2025</td><td>-7</td><td>Veg</td></tr><tr><td>FDH17</td><td>16.2</td><td>Reg</td><td>0.016687114</td><td>Frozen Foods</td><td>96.9726</td><td>OUT045</td><td>2002</td><td>null</td><td>Tier 2</td><td>Supermarket Type1</td><td>1076.5986</td><td>random</td><td>2024-12-27</td><td>03-01-2025</td><td>-7</td><td>Veg</td></tr><tr><td>FDU28</td><td>19.2</td><td>Reg</td><td>0.09444959</td><td>Frozen Foods</td><td>187.8214</td><td>OUT017</td><td>2007</td><td>null</td><td>Tier 2</td><td>Supermarket Type1</td><td>4710.535</td><td>random</td><td>2024-12-27</td><td>03-01-2025</td><td>-7</td><td>Veg</td></tr><tr><td>FDY07</td><td>11.8</td><td>Low Fat</td><td>0.0</td><td>Fruits and Vegetables</td><td>45.5402</td><td>OUT049</td><td>1999</td><td>Medium</td><td>Tier 1</td><td>Supermarket Type1</td><td>1516.0266</td><td>random</td><td>2024-12-27</td><td>03-01-2025</td><td>-7</td><td>Veg</td></tr><tr><td>FDA03</td><td>18.5</td><td>Reg</td><td>0.045463773</td><td>Dairy</td><td>144.1102</td><td>OUT046</td><td>1997</td><td>Small</td><td>Tier 1</td><td>Supermarket Type1</td><td>2187.153</td><td>random</td><td>2024-12-27</td><td>03-01-2025</td><td>-7</td><td>Veg</td></tr><tr><td>FDX32</td><td>15.1</td><td>Reg</td><td>0.1000135</td><td>Fruits and Vegetables</td><td>145.4786</td><td>OUT049</td><td>1999</td><td>Medium</td><td>Tier 1</td><td>Supermarket Type1</td><td>1589.2646</td><td>random</td><td>2024-12-27</td><td>03-01-2025</td><td>-7</td><td>Veg</td></tr><tr><td>FDS46</td><td>17.6</td><td>Reg</td><td>0.047257328</td><td>Snack Foods</td><td>119.6782</td><td>OUT046</td><td>1997</td><td>Small</td><td>Tier 1</td><td>Supermarket Type1</td><td>2145.2076</td><td>random</td><td>2024-12-27</td><td>03-01-2025</td><td>-7</td><td>Veg</td></tr><tr><td>FDF32</td><td>16.35</td><td>Low Fat</td><td>0.0680243</td><td>Fruits and Vegetables</td><td>196.4426</td><td>OUT013</td><td>1987</td><td>High</td><td>Tier 3</td><td>Supermarket Type1</td><td>1977.426</td><td>random</td><td>2024-12-27</td><td>03-01-2025</td><td>-7</td><td>Veg</td></tr><tr><td>FDP49</td><td>9.0</td><td>Reg</td><td>0.069088961</td><td>Breakfast</td><td>56.3614</td><td>OUT046</td><td>1997</td><td>Small</td><td>Tier 1</td><td>Supermarket Type1</td><td>1547.3192</td><td>random</td><td>2024-12-27</td><td>03-01-2025</td><td>-7</td><td>Veg</td></tr><tr><td>NCB42</td><td>11.8</td><td>Low Fat</td><td>0.008596051</td><td>Health and Hygiene</td><td>115.3492</td><td>OUT018</td><td>2009</td><td>Medium</td><td>Tier 3</td><td>Supermarket Type2</td><td>1621.8888</td><td>random</td><td>2024-12-27</td><td>03-01-2025</td><td>-7</td><td>Veg</td></tr><tr><td>FDP49</td><td>9.0</td><td>Reg</td><td>0.069196376</td><td>Breakfast</td><td>54.3614</td><td>OUT049</td><td>1999</td><td>Medium</td><td>Tier 1</td><td>Supermarket Type1</td><td>718.3982</td><td>random</td><td>2024-12-27</td><td>03-01-2025</td><td>-7</td><td>Veg</td></tr><tr><td>DRI11</td><td>null</td><td>Low Fat</td><td>0.034237682</td><td>Hard Drinks</td><td>113.2834</td><td>OUT027</td><td>1985</td><td>Medium</td><td>Tier 3</td><td>Supermarket Type3</td><td>2303.668</td><td>random</td><td>2024-12-27</td><td>03-01-2025</td><td>-7</td><td>Veg</td></tr><tr><td>FDU02</td><td>13.35</td><td>Low Fat</td><td>0.10249212</td><td>Dairy</td><td>230.5352</td><td>OUT035</td><td>2004</td><td>Small</td><td>Tier 2</td><td>Supermarket Type1</td><td>2748.4224</td><td>random</td><td>2024-12-27</td><td>03-01-2025</td><td>-7</td><td>Veg</td></tr></tbody></table></div>"
      ]
     },
     "metadata": {
      "application/vnd.databricks.v1+output": {
       "addedWidgets": {},
       "aggData": [],
       "aggError": "",
       "aggOverflow": false,
       "aggSchema": [],
       "aggSeriesLimitReached": false,
       "aggType": "",
       "arguments": {},
       "columnCustomDisplayInfos": {},
       "data": [
        [
         "FDA15",
         9.3,
         "Low Fat",
         0.016047301,
         "Dairy",
         249.8092,
         "OUT049",
         1999,
         "Medium",
         "Tier 1",
         "Supermarket Type1",
         3735.138,
         "random",
         "2024-12-27",
         "03-01-2025",
         -7,
         "Veg"
        ],
        [
         "DRC01",
         5.92,
         "Reg",
         0.019278216,
         "Soft Drinks",
         48.2692,
         "OUT018",
         2009,
         "Medium",
         "Tier 3",
         "Supermarket Type2",
         443.4228,
         "random",
         "2024-12-27",
         "03-01-2025",
         -7,
         "Veg"
        ],
        [
         "FDN15",
         17.5,
         "Low Fat",
         0.016760075,
         "Meat",
         141.618,
         "OUT049",
         1999,
         "Medium",
         "Tier 1",
         "Supermarket Type1",
         2097.27,
         "random",
         "2024-12-27",
         "03-01-2025",
         -7,
         "Non-veg"
        ],
        [
         "FDX07",
         19.2,
         "Reg",
         0.0,
         "Fruits and Vegetables",
         182.095,
         "OUT010",
         1998,
         null,
         "Tier 3",
         "Grocery Store",
         732.38,
         "random",
         "2024-12-27",
         "03-01-2025",
         -7,
         "Veg"
        ],
        [
         "NCD19",
         8.93,
         "Low Fat",
         0.0,
         "Household",
         53.8614,
         "OUT013",
         1987,
         "High",
         "Tier 3",
         "Supermarket Type1",
         994.7052,
         "random",
         "2024-12-27",
         "03-01-2025",
         -7,
         "Veg"
        ],
        [
         "FDP36",
         10.395,
         "Reg",
         0.0,
         "Baking Goods",
         51.4008,
         "OUT018",
         2009,
         "Medium",
         "Tier 3",
         "Supermarket Type2",
         556.6088,
         "random",
         "2024-12-27",
         "03-01-2025",
         -7,
         "Veg"
        ],
        [
         "FDO10",
         13.65,
         "Reg",
         0.012741089,
         "Snack Foods",
         57.6588,
         "OUT013",
         1987,
         "High",
         "Tier 3",
         "Supermarket Type1",
         343.5528,
         "random",
         "2024-12-27",
         "03-01-2025",
         -7,
         "Veg"
        ],
        [
         "FDP10",
         null,
         "Low Fat",
         0.127469857,
         "Snack Foods",
         107.7622,
         "OUT027",
         1985,
         "Medium",
         "Tier 3",
         "Supermarket Type3",
         4022.7636,
         "random",
         "2024-12-27",
         "03-01-2025",
         -7,
         "Veg"
        ],
        [
         "FDH17",
         16.2,
         "Reg",
         0.016687114,
         "Frozen Foods",
         96.9726,
         "OUT045",
         2002,
         null,
         "Tier 2",
         "Supermarket Type1",
         1076.5986,
         "random",
         "2024-12-27",
         "03-01-2025",
         -7,
         "Veg"
        ],
        [
         "FDU28",
         19.2,
         "Reg",
         0.09444959,
         "Frozen Foods",
         187.8214,
         "OUT017",
         2007,
         null,
         "Tier 2",
         "Supermarket Type1",
         4710.535,
         "random",
         "2024-12-27",
         "03-01-2025",
         -7,
         "Veg"
        ],
        [
         "FDY07",
         11.8,
         "Low Fat",
         0.0,
         "Fruits and Vegetables",
         45.5402,
         "OUT049",
         1999,
         "Medium",
         "Tier 1",
         "Supermarket Type1",
         1516.0266,
         "random",
         "2024-12-27",
         "03-01-2025",
         -7,
         "Veg"
        ],
        [
         "FDA03",
         18.5,
         "Reg",
         0.045463773,
         "Dairy",
         144.1102,
         "OUT046",
         1997,
         "Small",
         "Tier 1",
         "Supermarket Type1",
         2187.153,
         "random",
         "2024-12-27",
         "03-01-2025",
         -7,
         "Veg"
        ],
        [
         "FDX32",
         15.1,
         "Reg",
         0.1000135,
         "Fruits and Vegetables",
         145.4786,
         "OUT049",
         1999,
         "Medium",
         "Tier 1",
         "Supermarket Type1",
         1589.2646,
         "random",
         "2024-12-27",
         "03-01-2025",
         -7,
         "Veg"
        ],
        [
         "FDS46",
         17.6,
         "Reg",
         0.047257328,
         "Snack Foods",
         119.6782,
         "OUT046",
         1997,
         "Small",
         "Tier 1",
         "Supermarket Type1",
         2145.2076,
         "random",
         "2024-12-27",
         "03-01-2025",
         -7,
         "Veg"
        ],
        [
         "FDF32",
         16.35,
         "Low Fat",
         0.0680243,
         "Fruits and Vegetables",
         196.4426,
         "OUT013",
         1987,
         "High",
         "Tier 3",
         "Supermarket Type1",
         1977.426,
         "random",
         "2024-12-27",
         "03-01-2025",
         -7,
         "Veg"
        ],
        [
         "FDP49",
         9.0,
         "Reg",
         0.069088961,
         "Breakfast",
         56.3614,
         "OUT046",
         1997,
         "Small",
         "Tier 1",
         "Supermarket Type1",
         1547.3192,
         "random",
         "2024-12-27",
         "03-01-2025",
         -7,
         "Veg"
        ],
        [
         "NCB42",
         11.8,
         "Low Fat",
         0.008596051,
         "Health and Hygiene",
         115.3492,
         "OUT018",
         2009,
         "Medium",
         "Tier 3",
         "Supermarket Type2",
         1621.8888,
         "random",
         "2024-12-27",
         "03-01-2025",
         -7,
         "Veg"
        ],
        [
         "FDP49",
         9.0,
         "Reg",
         0.069196376,
         "Breakfast",
         54.3614,
         "OUT049",
         1999,
         "Medium",
         "Tier 1",
         "Supermarket Type1",
         718.3982,
         "random",
         "2024-12-27",
         "03-01-2025",
         -7,
         "Veg"
        ],
        [
         "DRI11",
         null,
         "Low Fat",
         0.034237682,
         "Hard Drinks",
         113.2834,
         "OUT027",
         1985,
         "Medium",
         "Tier 3",
         "Supermarket Type3",
         2303.668,
         "random",
         "2024-12-27",
         "03-01-2025",
         -7,
         "Veg"
        ],
        [
         "FDU02",
         13.35,
         "Low Fat",
         0.10249212,
         "Dairy",
         230.5352,
         "OUT035",
         2004,
         "Small",
         "Tier 2",
         "Supermarket Type1",
         2748.4224,
         "random",
         "2024-12-27",
         "03-01-2025",
         -7,
         "Veg"
        ]
       ],
       "datasetInfos": [],
       "dbfsResultPath": null,
       "isJsonSchema": true,
       "metadata": {},
       "overflow": false,
       "plotOptions": {
        "customPlotOptions": {},
        "displayType": "table",
        "pivotAggregation": null,
        "pivotColumns": null,
        "xColumns": null,
        "yColumns": null
       },
       "removedWidgets": [],
       "schema": [
        {
         "metadata": "{}",
         "name": "Item_Identifier",
         "type": "\"string\""
        },
        {
         "metadata": "{}",
         "name": "Item_Weight",
         "type": "\"double\""
        },
        {
         "metadata": "{}",
         "name": "Item_Fat_Content",
         "type": "\"string\""
        },
        {
         "metadata": "{}",
         "name": "Item_Visibility",
         "type": "\"double\""
        },
        {
         "metadata": "{}",
         "name": "Item_Type",
         "type": "\"string\""
        },
        {
         "metadata": "{}",
         "name": "Item_MRP",
         "type": "\"double\""
        },
        {
         "metadata": "{}",
         "name": "Outlet_Identifier",
         "type": "\"string\""
        },
        {
         "metadata": "{}",
         "name": "Outlet_Establishment_Year",
         "type": "\"integer\""
        },
        {
         "metadata": "{}",
         "name": "Outlet_Size",
         "type": "\"string\""
        },
        {
         "metadata": "{}",
         "name": "Outlet_Location_Type",
         "type": "\"string\""
        },
        {
         "metadata": "{}",
         "name": "Outlet_Type",
         "type": "\"string\""
        },
        {
         "metadata": "{}",
         "name": "Item_Outlet_Sales",
         "type": "\"double\""
        },
        {
         "metadata": "{}",
         "name": "Flag",
         "type": "\"string\""
        },
        {
         "metadata": "{}",
         "name": "curr_date",
         "type": "\"date\""
        },
        {
         "metadata": "{}",
         "name": "next_week",
         "type": "\"string\""
        },
        {
         "metadata": "{}",
         "name": "diff_date",
         "type": "\"integer\""
        },
        {
         "metadata": "{}",
         "name": "veg_flag",
         "type": "\"string\""
        }
       ],
       "type": "table"
      }
     },
     "output_type": "display_data"
    }
   ],
   "source": [
    "df.limit(20).display()"
   ]
  },
  {
   "cell_type": "code",
   "execution_count": 0,
   "metadata": {
    "application/vnd.databricks.v1+cell": {
     "cellMetadata": {
      "byteLimit": 2048000,
      "rowLimit": 10000
     },
     "inputWidgets": {},
     "nuid": "004b849f-bce6-4d63-bcf0-2fe335f20d12",
     "showTitle": false,
     "tableResultSettingsMap": {},
     "title": ""
    }
   },
   "outputs": [],
   "source": [
    "from pyspark.sql.window import Window"
   ]
  },
  {
   "cell_type": "code",
   "execution_count": 0,
   "metadata": {
    "application/vnd.databricks.v1+cell": {
     "cellMetadata": {
      "byteLimit": 2048000,
      "rowLimit": 10000
     },
     "inputWidgets": {},
     "nuid": "af98b2c1-7106-425e-8bbc-fb003afd6ea8",
     "showTitle": false,
     "tableResultSettingsMap": {},
     "title": ""
    }
   },
   "outputs": [
    {
     "output_type": "display_data",
     "data": {
      "text/html": [
       "<style scoped>\n",
       "  .table-result-container {\n",
       "    max-height: 300px;\n",
       "    overflow: auto;\n",
       "  }\n",
       "  table, th, td {\n",
       "    border: 1px solid black;\n",
       "    border-collapse: collapse;\n",
       "  }\n",
       "  th, td {\n",
       "    padding: 5px;\n",
       "  }\n",
       "  th {\n",
       "    text-align: left;\n",
       "  }\n",
       "</style><div class='table-result-container'><table class='table-result'><thead style='background-color: white'><tr><th>Item_Identifier</th><th>Item_Weight</th><th>Item_Fat_Content</th><th>Item_Visibility</th><th>Item_Type</th><th>Item_MRP</th><th>Outlet_Identifier</th><th>Outlet_Establishment_Year</th><th>Outlet_Size</th><th>Outlet_Location_Type</th><th>Outlet_Type</th><th>Item_Outlet_Sales</th><th>Flag</th><th>curr_date</th><th>next_week</th><th>diff_date</th><th>veg_flag</th><th>rowCol</th></tr></thead><tbody><tr><td>DRA12</td><td>11.6</td><td>Low Fat</td><td>0.041177505</td><td>Soft Drinks</td><td>140.3154</td><td>OUT017</td><td>2007</td><td>null</td><td>Tier 2</td><td>Supermarket Type1</td><td>2552.6772</td><td>random</td><td>2024-12-27</td><td>03-01-2025</td><td>-7</td><td>Veg</td><td>1</td></tr><tr><td>DRA12</td><td>11.6</td><td>Low Fat</td><td>0.0</td><td>Soft Drinks</td><td>141.6154</td><td>OUT045</td><td>2002</td><td>null</td><td>Tier 2</td><td>Supermarket Type1</td><td>3829.0158</td><td>random</td><td>2024-12-27</td><td>03-01-2025</td><td>-7</td><td>Veg</td><td>2</td></tr><tr><td>DRA12</td><td>11.6</td><td>Low Fat</td><td>0.040911824</td><td>Soft Drinks</td><td>142.3154</td><td>OUT013</td><td>1987</td><td>High</td><td>Tier 3</td><td>Supermarket Type1</td><td>2552.6772</td><td>random</td><td>2024-12-27</td><td>03-01-2025</td><td>-7</td><td>Veg</td><td>3</td></tr><tr><td>DRA12</td><td>11.6</td><td>Low Fat</td><td>0.0</td><td>Soft Drinks</td><td>141.9154</td><td>OUT035</td><td>2004</td><td>Small</td><td>Tier 2</td><td>Supermarket Type1</td><td>992.7078</td><td>random</td><td>2024-12-27</td><td>03-01-2025</td><td>-7</td><td>Veg</td><td>4</td></tr><tr><td>DRA12</td><td>11.6</td><td>Low Fat</td><td>0.041112694</td><td>Soft Drinks</td><td>142.0154</td><td>OUT018</td><td>2009</td><td>Medium</td><td>Tier 3</td><td>Supermarket Type2</td><td>850.8924</td><td>random</td><td>2024-12-27</td><td>03-01-2025</td><td>-7</td><td>Veg</td><td>5</td></tr><tr><td>DRA12</td><td>11.6</td><td>Low Fat</td><td>0.068535039</td><td>Soft Drinks</td><td>143.0154</td><td>OUT010</td><td>1998</td><td>null</td><td>Tier 3</td><td>Grocery Store</td><td>283.6308</td><td>random</td><td>2024-12-27</td><td>03-01-2025</td><td>-7</td><td>Veg</td><td>6</td></tr><tr><td>DRA24</td><td>19.35</td><td>Reg</td><td>0.040154087</td><td>Soft Drinks</td><td>164.6868</td><td>OUT017</td><td>2007</td><td>null</td><td>Tier 2</td><td>Supermarket Type1</td><td>1146.5076</td><td>random</td><td>2024-12-27</td><td>03-01-2025</td><td>-7</td><td>Veg</td><td>7</td></tr><tr><td>DRA24</td><td>null</td><td>Reg</td><td>0.069909188</td><td>Soft Drinks</td><td>163.2868</td><td>OUT019</td><td>1985</td><td>Small</td><td>Tier 1</td><td>Grocery Store</td><td>491.3604</td><td>random</td><td>2024-12-27</td><td>03-01-2025</td><td>-7</td><td>Veg</td><td>8</td></tr><tr><td>DRA24</td><td>19.35</td><td>Reg</td><td>0.066831682</td><td>Soft Drinks</td><td>163.8868</td><td>OUT010</td><td>1998</td><td>null</td><td>Tier 3</td><td>Grocery Store</td><td>327.5736</td><td>random</td><td>2024-12-27</td><td>03-01-2025</td><td>-7</td><td>Veg</td><td>9</td></tr><tr><td>DRA24</td><td>null</td><td>Reg</td><td>0.039734882</td><td>Soft Drinks</td><td>165.7868</td><td>OUT027</td><td>1985</td><td>Medium</td><td>Tier 3</td><td>Supermarket Type3</td><td>4913.604</td><td>random</td><td>2024-12-27</td><td>03-01-2025</td><td>-7</td><td>Veg</td><td>10</td></tr><tr><td>DRA24</td><td>19.35</td><td>Reg</td><td>0.039920687</td><td>Soft Drinks</td><td>163.3868</td><td>OUT035</td><td>2004</td><td>Small</td><td>Tier 2</td><td>Supermarket Type1</td><td>3439.5228</td><td>random</td><td>2024-12-27</td><td>03-01-2025</td><td>-7</td><td>Veg</td><td>11</td></tr><tr><td>DRA24</td><td>19.35</td><td>Reg</td><td>0.039990314</td><td>Soft Drinks</td><td>165.0868</td><td>OUT049</td><td>1999</td><td>Medium</td><td>Tier 1</td><td>Supermarket Type1</td><td>982.7208</td><td>random</td><td>2024-12-27</td><td>03-01-2025</td><td>-7</td><td>Veg</td><td>12</td></tr><tr><td>DRA24</td><td>19.35</td><td>Reg</td><td>0.039895009</td><td>Soft Drinks</td><td>162.4868</td><td>OUT013</td><td>1987</td><td>High</td><td>Tier 3</td><td>Supermarket Type1</td><td>4422.2436</td><td>random</td><td>2024-12-27</td><td>03-01-2025</td><td>-7</td><td>Veg</td><td>13</td></tr><tr><td>DRA59</td><td>8.27</td><td>Reg</td><td>0.127927931</td><td>Soft Drinks</td><td>184.8924</td><td>OUT046</td><td>1997</td><td>Small</td><td>Tier 1</td><td>Supermarket Type1</td><td>4442.2176</td><td>random</td><td>2024-12-27</td><td>03-01-2025</td><td>-7</td><td>Veg</td><td>14</td></tr><tr><td>DRA59</td><td>8.27</td><td>Reg</td><td>0.128126825</td><td>Soft Drinks</td><td>183.6924</td><td>OUT049</td><td>1999</td><td>Medium</td><td>Tier 1</td><td>Supermarket Type1</td><td>1295.6468</td><td>random</td><td>2024-12-27</td><td>03-01-2025</td><td>-7</td><td>Veg</td><td>15</td></tr><tr><td>DRA59</td><td>8.27</td><td>Reg</td><td>0.127821472</td><td>Soft Drinks</td><td>185.9924</td><td>OUT013</td><td>1987</td><td>High</td><td>Tier 3</td><td>Supermarket Type1</td><td>555.2772</td><td>random</td><td>2024-12-27</td><td>03-01-2025</td><td>-7</td><td>Veg</td><td>16</td></tr><tr><td>DRA59</td><td>8.27</td><td>Reg</td><td>0.0</td><td>Soft Drinks</td><td>183.2924</td><td>OUT017</td><td>2007</td><td>null</td><td>Tier 2</td><td>Supermarket Type1</td><td>2406.2012</td><td>random</td><td>2024-12-27</td><td>03-01-2025</td><td>-7</td><td>Veg</td><td>17</td></tr><tr><td>DRA59</td><td>null</td><td>Reg</td><td>0.127308434</td><td>Soft Drinks</td><td>186.6924</td><td>OUT027</td><td>1985</td><td>Medium</td><td>Tier 3</td><td>Supermarket Type3</td><td>7033.5112</td><td>random</td><td>2024-12-27</td><td>03-01-2025</td><td>-7</td><td>Veg</td><td>18</td></tr><tr><td>DRA59</td><td>null</td><td>Reg</td><td>0.223985293</td><td>Soft Drinks</td><td>186.2924</td><td>OUT019</td><td>1985</td><td>Small</td><td>Tier 1</td><td>Grocery Store</td><td>555.2772</td><td>random</td><td>2024-12-27</td><td>03-01-2025</td><td>-7</td><td>Veg</td><td>19</td></tr><tr><td>DRA59</td><td>8.27</td><td>Reg</td><td>0.128449055</td><td>Soft Drinks</td><td>186.5924</td><td>OUT018</td><td>2009</td><td>Medium</td><td>Tier 3</td><td>Supermarket Type2</td><td>4442.2176</td><td>random</td><td>2024-12-27</td><td>03-01-2025</td><td>-7</td><td>Veg</td><td>20</td></tr></tbody></table></div>"
      ]
     },
     "metadata": {
      "application/vnd.databricks.v1+output": {
       "addedWidgets": {},
       "aggData": [],
       "aggError": "",
       "aggOverflow": false,
       "aggSchema": [],
       "aggSeriesLimitReached": false,
       "aggType": "",
       "arguments": {},
       "columnCustomDisplayInfos": {},
       "data": [
        [
         "DRA12",
         11.6,
         "Low Fat",
         0.041177505,
         "Soft Drinks",
         140.3154,
         "OUT017",
         2007,
         null,
         "Tier 2",
         "Supermarket Type1",
         2552.6772,
         "random",
         "2024-12-27",
         "03-01-2025",
         -7,
         "Veg",
         1
        ],
        [
         "DRA12",
         11.6,
         "Low Fat",
         0.0,
         "Soft Drinks",
         141.6154,
         "OUT045",
         2002,
         null,
         "Tier 2",
         "Supermarket Type1",
         3829.0158,
         "random",
         "2024-12-27",
         "03-01-2025",
         -7,
         "Veg",
         2
        ],
        [
         "DRA12",
         11.6,
         "Low Fat",
         0.040911824,
         "Soft Drinks",
         142.3154,
         "OUT013",
         1987,
         "High",
         "Tier 3",
         "Supermarket Type1",
         2552.6772,
         "random",
         "2024-12-27",
         "03-01-2025",
         -7,
         "Veg",
         3
        ],
        [
         "DRA12",
         11.6,
         "Low Fat",
         0.0,
         "Soft Drinks",
         141.9154,
         "OUT035",
         2004,
         "Small",
         "Tier 2",
         "Supermarket Type1",
         992.7078,
         "random",
         "2024-12-27",
         "03-01-2025",
         -7,
         "Veg",
         4
        ],
        [
         "DRA12",
         11.6,
         "Low Fat",
         0.041112694,
         "Soft Drinks",
         142.0154,
         "OUT018",
         2009,
         "Medium",
         "Tier 3",
         "Supermarket Type2",
         850.8924,
         "random",
         "2024-12-27",
         "03-01-2025",
         -7,
         "Veg",
         5
        ],
        [
         "DRA12",
         11.6,
         "Low Fat",
         0.068535039,
         "Soft Drinks",
         143.0154,
         "OUT010",
         1998,
         null,
         "Tier 3",
         "Grocery Store",
         283.6308,
         "random",
         "2024-12-27",
         "03-01-2025",
         -7,
         "Veg",
         6
        ],
        [
         "DRA24",
         19.35,
         "Reg",
         0.040154087,
         "Soft Drinks",
         164.6868,
         "OUT017",
         2007,
         null,
         "Tier 2",
         "Supermarket Type1",
         1146.5076,
         "random",
         "2024-12-27",
         "03-01-2025",
         -7,
         "Veg",
         7
        ],
        [
         "DRA24",
         null,
         "Reg",
         0.069909188,
         "Soft Drinks",
         163.2868,
         "OUT019",
         1985,
         "Small",
         "Tier 1",
         "Grocery Store",
         491.3604,
         "random",
         "2024-12-27",
         "03-01-2025",
         -7,
         "Veg",
         8
        ],
        [
         "DRA24",
         19.35,
         "Reg",
         0.066831682,
         "Soft Drinks",
         163.8868,
         "OUT010",
         1998,
         null,
         "Tier 3",
         "Grocery Store",
         327.5736,
         "random",
         "2024-12-27",
         "03-01-2025",
         -7,
         "Veg",
         9
        ],
        [
         "DRA24",
         null,
         "Reg",
         0.039734882,
         "Soft Drinks",
         165.7868,
         "OUT027",
         1985,
         "Medium",
         "Tier 3",
         "Supermarket Type3",
         4913.604,
         "random",
         "2024-12-27",
         "03-01-2025",
         -7,
         "Veg",
         10
        ],
        [
         "DRA24",
         19.35,
         "Reg",
         0.039920687,
         "Soft Drinks",
         163.3868,
         "OUT035",
         2004,
         "Small",
         "Tier 2",
         "Supermarket Type1",
         3439.5228,
         "random",
         "2024-12-27",
         "03-01-2025",
         -7,
         "Veg",
         11
        ],
        [
         "DRA24",
         19.35,
         "Reg",
         0.039990314,
         "Soft Drinks",
         165.0868,
         "OUT049",
         1999,
         "Medium",
         "Tier 1",
         "Supermarket Type1",
         982.7208,
         "random",
         "2024-12-27",
         "03-01-2025",
         -7,
         "Veg",
         12
        ],
        [
         "DRA24",
         19.35,
         "Reg",
         0.039895009,
         "Soft Drinks",
         162.4868,
         "OUT013",
         1987,
         "High",
         "Tier 3",
         "Supermarket Type1",
         4422.2436,
         "random",
         "2024-12-27",
         "03-01-2025",
         -7,
         "Veg",
         13
        ],
        [
         "DRA59",
         8.27,
         "Reg",
         0.127927931,
         "Soft Drinks",
         184.8924,
         "OUT046",
         1997,
         "Small",
         "Tier 1",
         "Supermarket Type1",
         4442.2176,
         "random",
         "2024-12-27",
         "03-01-2025",
         -7,
         "Veg",
         14
        ],
        [
         "DRA59",
         8.27,
         "Reg",
         0.128126825,
         "Soft Drinks",
         183.6924,
         "OUT049",
         1999,
         "Medium",
         "Tier 1",
         "Supermarket Type1",
         1295.6468,
         "random",
         "2024-12-27",
         "03-01-2025",
         -7,
         "Veg",
         15
        ],
        [
         "DRA59",
         8.27,
         "Reg",
         0.127821472,
         "Soft Drinks",
         185.9924,
         "OUT013",
         1987,
         "High",
         "Tier 3",
         "Supermarket Type1",
         555.2772,
         "random",
         "2024-12-27",
         "03-01-2025",
         -7,
         "Veg",
         16
        ],
        [
         "DRA59",
         8.27,
         "Reg",
         0.0,
         "Soft Drinks",
         183.2924,
         "OUT017",
         2007,
         null,
         "Tier 2",
         "Supermarket Type1",
         2406.2012,
         "random",
         "2024-12-27",
         "03-01-2025",
         -7,
         "Veg",
         17
        ],
        [
         "DRA59",
         null,
         "Reg",
         0.127308434,
         "Soft Drinks",
         186.6924,
         "OUT027",
         1985,
         "Medium",
         "Tier 3",
         "Supermarket Type3",
         7033.5112,
         "random",
         "2024-12-27",
         "03-01-2025",
         -7,
         "Veg",
         18
        ],
        [
         "DRA59",
         null,
         "Reg",
         0.223985293,
         "Soft Drinks",
         186.2924,
         "OUT019",
         1985,
         "Small",
         "Tier 1",
         "Grocery Store",
         555.2772,
         "random",
         "2024-12-27",
         "03-01-2025",
         -7,
         "Veg",
         19
        ],
        [
         "DRA59",
         8.27,
         "Reg",
         0.128449055,
         "Soft Drinks",
         186.5924,
         "OUT018",
         2009,
         "Medium",
         "Tier 3",
         "Supermarket Type2",
         4442.2176,
         "random",
         "2024-12-27",
         "03-01-2025",
         -7,
         "Veg",
         20
        ]
       ],
       "datasetInfos": [],
       "dbfsResultPath": null,
       "isJsonSchema": true,
       "metadata": {},
       "overflow": false,
       "plotOptions": {
        "customPlotOptions": {},
        "displayType": "table",
        "pivotAggregation": null,
        "pivotColumns": null,
        "xColumns": null,
        "yColumns": null
       },
       "removedWidgets": [],
       "schema": [
        {
         "metadata": "{}",
         "name": "Item_Identifier",
         "type": "\"string\""
        },
        {
         "metadata": "{}",
         "name": "Item_Weight",
         "type": "\"double\""
        },
        {
         "metadata": "{}",
         "name": "Item_Fat_Content",
         "type": "\"string\""
        },
        {
         "metadata": "{}",
         "name": "Item_Visibility",
         "type": "\"double\""
        },
        {
         "metadata": "{}",
         "name": "Item_Type",
         "type": "\"string\""
        },
        {
         "metadata": "{}",
         "name": "Item_MRP",
         "type": "\"double\""
        },
        {
         "metadata": "{}",
         "name": "Outlet_Identifier",
         "type": "\"string\""
        },
        {
         "metadata": "{}",
         "name": "Outlet_Establishment_Year",
         "type": "\"integer\""
        },
        {
         "metadata": "{}",
         "name": "Outlet_Size",
         "type": "\"string\""
        },
        {
         "metadata": "{}",
         "name": "Outlet_Location_Type",
         "type": "\"string\""
        },
        {
         "metadata": "{}",
         "name": "Outlet_Type",
         "type": "\"string\""
        },
        {
         "metadata": "{}",
         "name": "Item_Outlet_Sales",
         "type": "\"double\""
        },
        {
         "metadata": "{}",
         "name": "Flag",
         "type": "\"string\""
        },
        {
         "metadata": "{}",
         "name": "curr_date",
         "type": "\"date\""
        },
        {
         "metadata": "{}",
         "name": "next_week",
         "type": "\"string\""
        },
        {
         "metadata": "{}",
         "name": "diff_date",
         "type": "\"integer\""
        },
        {
         "metadata": "{}",
         "name": "veg_flag",
         "type": "\"string\""
        },
        {
         "metadata": "{}",
         "name": "rowCol",
         "type": "\"integer\""
        }
       ],
       "type": "table"
      }
     },
     "output_type": "display_data"
    }
   ],
   "source": [
    "\n",
    "df.withColumn(\"rowCol\", row_number().over(Window.orderBy(\"Item_Identifier\"))).limit(20).display()"
   ]
  },
  {
   "cell_type": "code",
   "execution_count": 0,
   "metadata": {
    "application/vnd.databricks.v1+cell": {
     "cellMetadata": {
      "byteLimit": 2048000,
      "rowLimit": 10000
     },
     "inputWidgets": {},
     "nuid": "5c7dc5ad-c6a6-4709-905a-da6167921d58",
     "showTitle": false,
     "tableResultSettingsMap": {},
     "title": ""
    }
   },
   "outputs": [
    {
     "output_type": "display_data",
     "data": {
      "text/html": [
       "<style scoped>\n",
       "  .table-result-container {\n",
       "    max-height: 300px;\n",
       "    overflow: auto;\n",
       "  }\n",
       "  table, th, td {\n",
       "    border: 1px solid black;\n",
       "    border-collapse: collapse;\n",
       "  }\n",
       "  th, td {\n",
       "    padding: 5px;\n",
       "  }\n",
       "  th {\n",
       "    text-align: left;\n",
       "  }\n",
       "</style><div class='table-result-container'><table class='table-result'><thead style='background-color: white'><tr><th>Item_Identifier</th><th>Item_Weight</th><th>Item_Fat_Content</th><th>Item_Visibility</th><th>Item_Type</th><th>Item_MRP</th><th>Outlet_Identifier</th><th>Outlet_Establishment_Year</th><th>Outlet_Size</th><th>Outlet_Location_Type</th><th>Outlet_Type</th><th>Item_Outlet_Sales</th><th>Flag</th><th>curr_date</th><th>next_week</th><th>diff_date</th><th>veg_flag</th><th>Rank</th></tr></thead><tbody><tr><td>DRK12</td><td>null</td><td>Low Fat</td><td>0.041683481</td><td>Soft Drinks</td><td>31.29</td><td>OUT027</td><td>1985</td><td>Medium</td><td>Tier 3</td><td>Supermarket Type3</td><td>898.83</td><td>random</td><td>2024-12-27</td><td>03-01-2025</td><td>-7</td><td>Veg</td><td>1</td></tr><tr><td>DRK12</td><td>9.5</td><td>Low Fat</td><td>0.041851461</td><td>Soft Drinks</td><td>31.49</td><td>OUT013</td><td>1987</td><td>High</td><td>Tier 3</td><td>Supermarket Type1</td><td>466.06</td><td>random</td><td>2024-12-27</td><td>03-01-2025</td><td>-7</td><td>Veg</td><td>2</td></tr><tr><td>DRK12</td><td>9.5</td><td>Low Fat</td><td>0.042056944</td><td>Soft Drinks</td><td>31.89</td><td>OUT018</td><td>2009</td><td>Medium</td><td>Tier 3</td><td>Supermarket Type2</td><td>366.19</td><td>random</td><td>2024-12-27</td><td>03-01-2025</td><td>-7</td><td>Veg</td><td>3</td></tr><tr><td>FDX59</td><td>10.195</td><td>Low Fat</td><td>0.051618281</td><td>Breads</td><td>31.9558</td><td>OUT013</td><td>1987</td><td>High</td><td>Tier 3</td><td>Supermarket Type1</td><td>373.5138</td><td>random</td><td>2024-12-27</td><td>03-01-2025</td><td>-7</td><td>Veg</td><td>4</td></tr><tr><td>FDG40</td><td>null</td><td>Low Fat</td><td>0.039631495</td><td>Frozen Foods</td><td>31.9558</td><td>OUT027</td><td>1985</td><td>Medium</td><td>Tier 3</td><td>Supermarket Type3</td><td>984.7182</td><td>random</td><td>2024-12-27</td><td>03-01-2025</td><td>-7</td><td>Veg</td><td>4</td></tr><tr><td>FDV28</td><td>16.1</td><td>Reg</td><td>0.159698192</td><td>Frozen Foods</td><td>32.0558</td><td>OUT035</td><td>2004</td><td>Small</td><td>Tier 2</td><td>Supermarket Type1</td><td>1018.674</td><td>random</td><td>2024-12-27</td><td>03-01-2025</td><td>-7</td><td>Veg</td><td>6</td></tr><tr><td>DRK12</td><td>9.5</td><td>Low Fat</td><td>0.042123243</td><td>Soft Drinks</td><td>32.09</td><td>OUT017</td><td>2007</td><td>null</td><td>Tier 2</td><td>Supermarket Type1</td><td>432.77</td><td>random</td><td>2024-12-27</td><td>03-01-2025</td><td>-7</td><td>Veg</td><td>7</td></tr><tr><td>FDU21</td><td>11.8</td><td>reg</td><td>0.07665661</td><td>Snack Foods</td><td>32.3558</td><td>OUT013</td><td>1987</td><td>High</td><td>Tier 3</td><td>Supermarket Type1</td><td>169.779</td><td>random</td><td>2024-12-27</td><td>03-01-2025</td><td>-7</td><td>Veg</td><td>8</td></tr><tr><td>NCO06</td><td>19.25</td><td>Low Fat</td><td>0.108030434</td><td>Household</td><td>32.4558</td><td>OUT046</td><td>1997</td><td>Small</td><td>Tier 1</td><td>Supermarket Type1</td><td>101.8674</td><td>random</td><td>2024-12-27</td><td>03-01-2025</td><td>-7</td><td>Veg</td><td>9</td></tr><tr><td>DRK12</td><td>9.5</td><td>Low Fat</td><td>0.041951439</td><td>Soft Drinks</td><td>32.49</td><td>OUT049</td><td>1999</td><td>Medium</td><td>Tier 1</td><td>Supermarket Type1</td><td>865.54</td><td>random</td><td>2024-12-27</td><td>03-01-2025</td><td>-7</td><td>Veg</td><td>10</td></tr><tr><td>FDG40</td><td>13.65</td><td>Low Fat</td><td>0.066657791</td><td>Frozen Foods</td><td>32.6558</td><td>OUT010</td><td>1998</td><td>null</td><td>Tier 3</td><td>Grocery Store</td><td>67.9116</td><td>random</td><td>2024-12-27</td><td>03-01-2025</td><td>-7</td><td>Veg</td><td>11</td></tr><tr><td>FDV16</td><td>7.75</td><td>Reg</td><td>0.082861686</td><td>Frozen Foods</td><td>32.6558</td><td>OUT013</td><td>1987</td><td>High</td><td>Tier 3</td><td>Supermarket Type1</td><td>679.116</td><td>random</td><td>2024-12-27</td><td>03-01-2025</td><td>-7</td><td>Veg</td><td>11</td></tr><tr><td>FDU21</td><td>null</td><td>Reg</td><td>0.076348933</td><td>Snack Foods</td><td>32.8558</td><td>OUT027</td><td>1985</td><td>Medium</td><td>Tier 3</td><td>Supermarket Type3</td><td>713.0718</td><td>random</td><td>2024-12-27</td><td>03-01-2025</td><td>-7</td><td>Veg</td><td>13</td></tr><tr><td>FDV28</td><td>16.1</td><td>Reg</td><td>0.159595473</td><td>Frozen Foods</td><td>32.8558</td><td>OUT013</td><td>1987</td><td>High</td><td>Tier 3</td><td>Supermarket Type1</td><td>339.558</td><td>random</td><td>2024-12-27</td><td>03-01-2025</td><td>-7</td><td>Veg</td><td>13</td></tr><tr><td>FDG40</td><td>13.65</td><td>Low Fat</td><td>0.039824346</td><td>Frozen Foods</td><td>32.8558</td><td>OUT046</td><td>1997</td><td>Small</td><td>Tier 1</td><td>Supermarket Type1</td><td>645.1602</td><td>random</td><td>2024-12-27</td><td>03-01-2025</td><td>-7</td><td>Veg</td><td>13</td></tr><tr><td>DRK12</td><td>9.5</td><td>Low Fat</td><td>0.0</td><td>Soft Drinks</td><td>32.89</td><td>OUT010</td><td>1998</td><td>null</td><td>Tier 3</td><td>Grocery Store</td><td>33.29</td><td>random</td><td>2024-12-27</td><td>03-01-2025</td><td>-7</td><td>Veg</td><td>16</td></tr><tr><td>NCE31</td><td>7.67</td><td>Low Fat</td><td>0.185130961</td><td>Household</td><td>32.9216</td><td>OUT049</td><td>1999</td><td>Medium</td><td>Tier 1</td><td>Supermarket Type1</td><td>588.5672</td><td>random</td><td>2024-12-27</td><td>03-01-2025</td><td>-7</td><td>Veg</td><td>17</td></tr><tr><td>FDV16</td><td>7.75</td><td>reg</td><td>0.083268523</td><td>Frozen Foods</td><td>32.9558</td><td>OUT018</td><td>2009</td><td>Medium</td><td>Tier 3</td><td>Supermarket Type2</td><td>101.8674</td><td>random</td><td>2024-12-27</td><td>03-01-2025</td><td>-7</td><td>Veg</td><td>18</td></tr><tr><td>DRK12</td><td>9.5</td><td>Low Fat</td><td>0.041878397</td><td>Soft Drinks</td><td>32.99</td><td>OUT035</td><td>2004</td><td>Small</td><td>Tier 2</td><td>Supermarket Type1</td><td>133.16</td><td>random</td><td>2024-12-27</td><td>03-01-2025</td><td>-7</td><td>Veg</td><td>19</td></tr><tr><td>FDX59</td><td>null</td><td>Low Fat</td><td>0.0514111</td><td>Breads</td><td>33.0558</td><td>OUT027</td><td>1985</td><td>Medium</td><td>Tier 3</td><td>Supermarket Type3</td><td>984.7182</td><td>random</td><td>2024-12-27</td><td>03-01-2025</td><td>-7</td><td>Veg</td><td>20</td></tr></tbody></table></div>"
      ]
     },
     "metadata": {
      "application/vnd.databricks.v1+output": {
       "addedWidgets": {},
       "aggData": [],
       "aggError": "",
       "aggOverflow": false,
       "aggSchema": [],
       "aggSeriesLimitReached": false,
       "aggType": "",
       "arguments": {},
       "columnCustomDisplayInfos": {},
       "data": [
        [
         "DRK12",
         null,
         "Low Fat",
         0.041683481,
         "Soft Drinks",
         31.29,
         "OUT027",
         1985,
         "Medium",
         "Tier 3",
         "Supermarket Type3",
         898.83,
         "random",
         "2024-12-27",
         "03-01-2025",
         -7,
         "Veg",
         1
        ],
        [
         "DRK12",
         9.5,
         "Low Fat",
         0.041851461,
         "Soft Drinks",
         31.49,
         "OUT013",
         1987,
         "High",
         "Tier 3",
         "Supermarket Type1",
         466.06,
         "random",
         "2024-12-27",
         "03-01-2025",
         -7,
         "Veg",
         2
        ],
        [
         "DRK12",
         9.5,
         "Low Fat",
         0.042056944,
         "Soft Drinks",
         31.89,
         "OUT018",
         2009,
         "Medium",
         "Tier 3",
         "Supermarket Type2",
         366.19,
         "random",
         "2024-12-27",
         "03-01-2025",
         -7,
         "Veg",
         3
        ],
        [
         "FDX59",
         10.195,
         "Low Fat",
         0.051618281,
         "Breads",
         31.9558,
         "OUT013",
         1987,
         "High",
         "Tier 3",
         "Supermarket Type1",
         373.5138,
         "random",
         "2024-12-27",
         "03-01-2025",
         -7,
         "Veg",
         4
        ],
        [
         "FDG40",
         null,
         "Low Fat",
         0.039631495,
         "Frozen Foods",
         31.9558,
         "OUT027",
         1985,
         "Medium",
         "Tier 3",
         "Supermarket Type3",
         984.7182,
         "random",
         "2024-12-27",
         "03-01-2025",
         -7,
         "Veg",
         4
        ],
        [
         "FDV28",
         16.1,
         "Reg",
         0.159698192,
         "Frozen Foods",
         32.0558,
         "OUT035",
         2004,
         "Small",
         "Tier 2",
         "Supermarket Type1",
         1018.674,
         "random",
         "2024-12-27",
         "03-01-2025",
         -7,
         "Veg",
         6
        ],
        [
         "DRK12",
         9.5,
         "Low Fat",
         0.042123243,
         "Soft Drinks",
         32.09,
         "OUT017",
         2007,
         null,
         "Tier 2",
         "Supermarket Type1",
         432.77,
         "random",
         "2024-12-27",
         "03-01-2025",
         -7,
         "Veg",
         7
        ],
        [
         "FDU21",
         11.8,
         "reg",
         0.07665661,
         "Snack Foods",
         32.3558,
         "OUT013",
         1987,
         "High",
         "Tier 3",
         "Supermarket Type1",
         169.779,
         "random",
         "2024-12-27",
         "03-01-2025",
         -7,
         "Veg",
         8
        ],
        [
         "NCO06",
         19.25,
         "Low Fat",
         0.108030434,
         "Household",
         32.4558,
         "OUT046",
         1997,
         "Small",
         "Tier 1",
         "Supermarket Type1",
         101.8674,
         "random",
         "2024-12-27",
         "03-01-2025",
         -7,
         "Veg",
         9
        ],
        [
         "DRK12",
         9.5,
         "Low Fat",
         0.041951439,
         "Soft Drinks",
         32.49,
         "OUT049",
         1999,
         "Medium",
         "Tier 1",
         "Supermarket Type1",
         865.54,
         "random",
         "2024-12-27",
         "03-01-2025",
         -7,
         "Veg",
         10
        ],
        [
         "FDG40",
         13.65,
         "Low Fat",
         0.066657791,
         "Frozen Foods",
         32.6558,
         "OUT010",
         1998,
         null,
         "Tier 3",
         "Grocery Store",
         67.9116,
         "random",
         "2024-12-27",
         "03-01-2025",
         -7,
         "Veg",
         11
        ],
        [
         "FDV16",
         7.75,
         "Reg",
         0.082861686,
         "Frozen Foods",
         32.6558,
         "OUT013",
         1987,
         "High",
         "Tier 3",
         "Supermarket Type1",
         679.116,
         "random",
         "2024-12-27",
         "03-01-2025",
         -7,
         "Veg",
         11
        ],
        [
         "FDU21",
         null,
         "Reg",
         0.076348933,
         "Snack Foods",
         32.8558,
         "OUT027",
         1985,
         "Medium",
         "Tier 3",
         "Supermarket Type3",
         713.0718,
         "random",
         "2024-12-27",
         "03-01-2025",
         -7,
         "Veg",
         13
        ],
        [
         "FDV28",
         16.1,
         "Reg",
         0.159595473,
         "Frozen Foods",
         32.8558,
         "OUT013",
         1987,
         "High",
         "Tier 3",
         "Supermarket Type1",
         339.558,
         "random",
         "2024-12-27",
         "03-01-2025",
         -7,
         "Veg",
         13
        ],
        [
         "FDG40",
         13.65,
         "Low Fat",
         0.039824346,
         "Frozen Foods",
         32.8558,
         "OUT046",
         1997,
         "Small",
         "Tier 1",
         "Supermarket Type1",
         645.1602,
         "random",
         "2024-12-27",
         "03-01-2025",
         -7,
         "Veg",
         13
        ],
        [
         "DRK12",
         9.5,
         "Low Fat",
         0.0,
         "Soft Drinks",
         32.89,
         "OUT010",
         1998,
         null,
         "Tier 3",
         "Grocery Store",
         33.29,
         "random",
         "2024-12-27",
         "03-01-2025",
         -7,
         "Veg",
         16
        ],
        [
         "NCE31",
         7.67,
         "Low Fat",
         0.185130961,
         "Household",
         32.9216,
         "OUT049",
         1999,
         "Medium",
         "Tier 1",
         "Supermarket Type1",
         588.5672,
         "random",
         "2024-12-27",
         "03-01-2025",
         -7,
         "Veg",
         17
        ],
        [
         "FDV16",
         7.75,
         "reg",
         0.083268523,
         "Frozen Foods",
         32.9558,
         "OUT018",
         2009,
         "Medium",
         "Tier 3",
         "Supermarket Type2",
         101.8674,
         "random",
         "2024-12-27",
         "03-01-2025",
         -7,
         "Veg",
         18
        ],
        [
         "DRK12",
         9.5,
         "Low Fat",
         0.041878397,
         "Soft Drinks",
         32.99,
         "OUT035",
         2004,
         "Small",
         "Tier 2",
         "Supermarket Type1",
         133.16,
         "random",
         "2024-12-27",
         "03-01-2025",
         -7,
         "Veg",
         19
        ],
        [
         "FDX59",
         null,
         "Low Fat",
         0.0514111,
         "Breads",
         33.0558,
         "OUT027",
         1985,
         "Medium",
         "Tier 3",
         "Supermarket Type3",
         984.7182,
         "random",
         "2024-12-27",
         "03-01-2025",
         -7,
         "Veg",
         20
        ]
       ],
       "datasetInfos": [],
       "dbfsResultPath": null,
       "isJsonSchema": true,
       "metadata": {},
       "overflow": false,
       "plotOptions": {
        "customPlotOptions": {},
        "displayType": "table",
        "pivotAggregation": null,
        "pivotColumns": null,
        "xColumns": null,
        "yColumns": null
       },
       "removedWidgets": [],
       "schema": [
        {
         "metadata": "{}",
         "name": "Item_Identifier",
         "type": "\"string\""
        },
        {
         "metadata": "{}",
         "name": "Item_Weight",
         "type": "\"double\""
        },
        {
         "metadata": "{}",
         "name": "Item_Fat_Content",
         "type": "\"string\""
        },
        {
         "metadata": "{}",
         "name": "Item_Visibility",
         "type": "\"double\""
        },
        {
         "metadata": "{}",
         "name": "Item_Type",
         "type": "\"string\""
        },
        {
         "metadata": "{}",
         "name": "Item_MRP",
         "type": "\"double\""
        },
        {
         "metadata": "{}",
         "name": "Outlet_Identifier",
         "type": "\"string\""
        },
        {
         "metadata": "{}",
         "name": "Outlet_Establishment_Year",
         "type": "\"integer\""
        },
        {
         "metadata": "{}",
         "name": "Outlet_Size",
         "type": "\"string\""
        },
        {
         "metadata": "{}",
         "name": "Outlet_Location_Type",
         "type": "\"string\""
        },
        {
         "metadata": "{}",
         "name": "Outlet_Type",
         "type": "\"string\""
        },
        {
         "metadata": "{}",
         "name": "Item_Outlet_Sales",
         "type": "\"double\""
        },
        {
         "metadata": "{}",
         "name": "Flag",
         "type": "\"string\""
        },
        {
         "metadata": "{}",
         "name": "curr_date",
         "type": "\"date\""
        },
        {
         "metadata": "{}",
         "name": "next_week",
         "type": "\"string\""
        },
        {
         "metadata": "{}",
         "name": "diff_date",
         "type": "\"integer\""
        },
        {
         "metadata": "{}",
         "name": "veg_flag",
         "type": "\"string\""
        },
        {
         "metadata": "{}",
         "name": "Rank",
         "type": "\"integer\""
        }
       ],
       "type": "table"
      }
     },
     "output_type": "display_data"
    }
   ],
   "source": [
    "window_spec = Window.orderBy(\"Item_MRP\")\n",
    "\n",
    "df.withColumn(\"Rank\", rank().over(window_spec)).limit(20).display()"
   ]
  },
  {
   "cell_type": "code",
   "execution_count": 0,
   "metadata": {
    "application/vnd.databricks.v1+cell": {
     "cellMetadata": {
      "byteLimit": 2048000,
      "rowLimit": 10000
     },
     "inputWidgets": {},
     "nuid": "45555f50-ae77-42e5-a871-34665535f1a9",
     "showTitle": false,
     "tableResultSettingsMap": {},
     "title": ""
    }
   },
   "outputs": [
    {
     "output_type": "display_data",
     "data": {
      "text/html": [
       "<style scoped>\n",
       "  .table-result-container {\n",
       "    max-height: 300px;\n",
       "    overflow: auto;\n",
       "  }\n",
       "  table, th, td {\n",
       "    border: 1px solid black;\n",
       "    border-collapse: collapse;\n",
       "  }\n",
       "  th, td {\n",
       "    padding: 5px;\n",
       "  }\n",
       "  th {\n",
       "    text-align: left;\n",
       "  }\n",
       "</style><div class='table-result-container'><table class='table-result'><thead style='background-color: white'><tr><th>Item_Fat_Content</th><th>Item_MRP</th><th>Item_Identifier</th><th>Rank_within_Fat_content</th></tr></thead><tbody><tr><td>Low Fat</td><td>266.8884</td><td>FDS13</td><td>1</td></tr><tr><td>Low Fat</td><td>266.6884</td><td>FDK51</td><td>2</td></tr><tr><td>Low Fat</td><td>266.6884</td><td>NCS29</td><td>2</td></tr><tr><td>Low Fat</td><td>266.5884</td><td>FDS13</td><td>4</td></tr><tr><td>Low Fat</td><td>266.5884</td><td>NCS29</td><td>4</td></tr><tr><td>Low Fat</td><td>266.2884</td><td>NCS29</td><td>6</td></tr><tr><td>Low Fat</td><td>266.1884</td><td>FDK51</td><td>7</td></tr><tr><td>Low Fat</td><td>266.1884</td><td>FDS13</td><td>7</td></tr><tr><td>Low Fat</td><td>266.0226</td><td>NCM05</td><td>9</td></tr><tr><td>Low Fat</td><td>265.8884</td><td>FDK51</td><td>10</td></tr><tr><td>Low Fat</td><td>265.2884</td><td>FDK51</td><td>11</td></tr><tr><td>Low Fat</td><td>265.2884</td><td>FDS13</td><td>11</td></tr><tr><td>Low Fat</td><td>265.2568</td><td>FDB15</td><td>13</td></tr><tr><td>Low Fat</td><td>265.2226</td><td>FDV49</td><td>14</td></tr><tr><td>Low Fat</td><td>265.1884</td><td>FDK51</td><td>15</td></tr><tr><td>Low Fat</td><td>265.0884</td><td>FDI15</td><td>16</td></tr><tr><td>Low Fat</td><td>264.891</td><td>FDF05</td><td>17</td></tr><tr><td>Low Fat</td><td>264.8884</td><td>NCS29</td><td>18</td></tr><tr><td>Low Fat</td><td>264.791</td><td>NCB31</td><td>19</td></tr><tr><td>Low Fat</td><td>264.7884</td><td>FDS13</td><td>20</td></tr></tbody></table></div>"
      ]
     },
     "metadata": {
      "application/vnd.databricks.v1+output": {
       "addedWidgets": {},
       "aggData": [],
       "aggError": "",
       "aggOverflow": false,
       "aggSchema": [],
       "aggSeriesLimitReached": false,
       "aggType": "",
       "arguments": {},
       "columnCustomDisplayInfos": {},
       "data": [
        [
         "Low Fat",
         266.8884,
         "FDS13",
         1
        ],
        [
         "Low Fat",
         266.6884,
         "FDK51",
         2
        ],
        [
         "Low Fat",
         266.6884,
         "NCS29",
         2
        ],
        [
         "Low Fat",
         266.5884,
         "FDS13",
         4
        ],
        [
         "Low Fat",
         266.5884,
         "NCS29",
         4
        ],
        [
         "Low Fat",
         266.2884,
         "NCS29",
         6
        ],
        [
         "Low Fat",
         266.1884,
         "FDK51",
         7
        ],
        [
         "Low Fat",
         266.1884,
         "FDS13",
         7
        ],
        [
         "Low Fat",
         266.0226,
         "NCM05",
         9
        ],
        [
         "Low Fat",
         265.8884,
         "FDK51",
         10
        ],
        [
         "Low Fat",
         265.2884,
         "FDK51",
         11
        ],
        [
         "Low Fat",
         265.2884,
         "FDS13",
         11
        ],
        [
         "Low Fat",
         265.2568,
         "FDB15",
         13
        ],
        [
         "Low Fat",
         265.2226,
         "FDV49",
         14
        ],
        [
         "Low Fat",
         265.1884,
         "FDK51",
         15
        ],
        [
         "Low Fat",
         265.0884,
         "FDI15",
         16
        ],
        [
         "Low Fat",
         264.891,
         "FDF05",
         17
        ],
        [
         "Low Fat",
         264.8884,
         "NCS29",
         18
        ],
        [
         "Low Fat",
         264.791,
         "NCB31",
         19
        ],
        [
         "Low Fat",
         264.7884,
         "FDS13",
         20
        ]
       ],
       "datasetInfos": [],
       "dbfsResultPath": null,
       "isJsonSchema": true,
       "metadata": {},
       "overflow": false,
       "plotOptions": {
        "customPlotOptions": {},
        "displayType": "table",
        "pivotAggregation": null,
        "pivotColumns": null,
        "xColumns": null,
        "yColumns": null
       },
       "removedWidgets": [],
       "schema": [
        {
         "metadata": "{}",
         "name": "Item_Fat_Content",
         "type": "\"string\""
        },
        {
         "metadata": "{}",
         "name": "Item_MRP",
         "type": "\"double\""
        },
        {
         "metadata": "{}",
         "name": "Item_Identifier",
         "type": "\"string\""
        },
        {
         "metadata": "{}",
         "name": "Rank_within_Fat_content",
         "type": "\"integer\""
        }
       ],
       "type": "table"
      }
     },
     "output_type": "display_data"
    }
   ],
   "source": [
    "window_spec = Window.partitionBy(col(\"Item_Fat_Content\")).orderBy(col(\"Item_MRP\").desc())\n",
    "\n",
    "df.select('Item_Fat_Content','Item_MRP','Item_Identifier').withColumn(\"Rank_within_Fat_content\", rank().over(window_spec)).limit(20).display()"
   ]
  },
  {
   "cell_type": "code",
   "execution_count": 0,
   "metadata": {
    "application/vnd.databricks.v1+cell": {
     "cellMetadata": {
      "byteLimit": 2048000,
      "rowLimit": 10000
     },
     "inputWidgets": {},
     "nuid": "259efec5-6596-459c-a408-b35d58aaa929",
     "showTitle": false,
     "tableResultSettingsMap": {},
     "title": ""
    }
   },
   "outputs": [
    {
     "output_type": "display_data",
     "data": {
      "text/html": [
       "<style scoped>\n",
       "  .table-result-container {\n",
       "    max-height: 300px;\n",
       "    overflow: auto;\n",
       "  }\n",
       "  table, th, td {\n",
       "    border: 1px solid black;\n",
       "    border-collapse: collapse;\n",
       "  }\n",
       "  th, td {\n",
       "    padding: 5px;\n",
       "  }\n",
       "  th {\n",
       "    text-align: left;\n",
       "  }\n",
       "</style><div class='table-result-container'><table class='table-result'><thead style='background-color: white'><tr><th>Item_Identifier</th><th>Outlet_Identifier</th><th>count</th></tr></thead><tbody><tr><td>FDI14</td><td>OUT046</td><td>1</td></tr><tr><td>FDR27</td><td>OUT017</td><td>1</td></tr><tr><td>FDW49</td><td>OUT019</td><td>1</td></tr><tr><td>DRJ39</td><td>OUT035</td><td>1</td></tr><tr><td>FDY08</td><td>OUT017</td><td>1</td></tr><tr><td>FDS45</td><td>OUT010</td><td>1</td></tr><tr><td>FDR32</td><td>OUT013</td><td>1</td></tr><tr><td>FDG40</td><td>OUT017</td><td>1</td></tr><tr><td>FDQ26</td><td>OUT018</td><td>1</td></tr><tr><td>DRQ35</td><td>OUT013</td><td>1</td></tr><tr><td>NCK18</td><td>OUT049</td><td>1</td></tr><tr><td>FDB34</td><td>OUT049</td><td>1</td></tr><tr><td>FDA33</td><td>OUT046</td><td>1</td></tr><tr><td>FDV07</td><td>OUT049</td><td>1</td></tr><tr><td>DRA24</td><td>OUT019</td><td>1</td></tr><tr><td>FDU08</td><td>OUT027</td><td>1</td></tr><tr><td>FDS02</td><td>OUT046</td><td>1</td></tr><tr><td>FDP58</td><td>OUT019</td><td>1</td></tr><tr><td>FDO44</td><td>OUT013</td><td>1</td></tr><tr><td>FDL13</td><td>OUT013</td><td>1</td></tr></tbody></table></div>"
      ]
     },
     "metadata": {
      "application/vnd.databricks.v1+output": {
       "addedWidgets": {},
       "aggData": [],
       "aggError": "",
       "aggOverflow": false,
       "aggSchema": [],
       "aggSeriesLimitReached": false,
       "aggType": "",
       "arguments": {},
       "columnCustomDisplayInfos": {},
       "data": [
        [
         "FDI14",
         "OUT046",
         1
        ],
        [
         "FDR27",
         "OUT017",
         1
        ],
        [
         "FDW49",
         "OUT019",
         1
        ],
        [
         "DRJ39",
         "OUT035",
         1
        ],
        [
         "FDY08",
         "OUT017",
         1
        ],
        [
         "FDS45",
         "OUT010",
         1
        ],
        [
         "FDR32",
         "OUT013",
         1
        ],
        [
         "FDG40",
         "OUT017",
         1
        ],
        [
         "FDQ26",
         "OUT018",
         1
        ],
        [
         "DRQ35",
         "OUT013",
         1
        ],
        [
         "NCK18",
         "OUT049",
         1
        ],
        [
         "FDB34",
         "OUT049",
         1
        ],
        [
         "FDA33",
         "OUT046",
         1
        ],
        [
         "FDV07",
         "OUT049",
         1
        ],
        [
         "DRA24",
         "OUT019",
         1
        ],
        [
         "FDU08",
         "OUT027",
         1
        ],
        [
         "FDS02",
         "OUT046",
         1
        ],
        [
         "FDP58",
         "OUT019",
         1
        ],
        [
         "FDO44",
         "OUT013",
         1
        ],
        [
         "FDL13",
         "OUT013",
         1
        ]
       ],
       "datasetInfos": [],
       "dbfsResultPath": null,
       "isJsonSchema": true,
       "metadata": {},
       "overflow": false,
       "plotOptions": {
        "customPlotOptions": {},
        "displayType": "table",
        "pivotAggregation": null,
        "pivotColumns": null,
        "xColumns": null,
        "yColumns": null
       },
       "removedWidgets": [],
       "schema": [
        {
         "metadata": "{}",
         "name": "Item_Identifier",
         "type": "\"string\""
        },
        {
         "metadata": "{}",
         "name": "Outlet_Identifier",
         "type": "\"string\""
        },
        {
         "metadata": "{}",
         "name": "count",
         "type": "\"long\""
        }
       ],
       "type": "table"
      }
     },
     "output_type": "display_data"
    }
   ],
   "source": [
    "df.groupBy([\"Item_Identifier\",\"Outlet_Identifier\"]).count().orderBy(\"count\", asc=False).limit(20).display()"
   ]
  },
  {
   "cell_type": "code",
   "execution_count": 0,
   "metadata": {
    "application/vnd.databricks.v1+cell": {
     "cellMetadata": {
      "byteLimit": 2048000,
      "rowLimit": 10000
     },
     "inputWidgets": {},
     "nuid": "07e5058b-e65f-4a2a-83c4-527280ed2635",
     "showTitle": false,
     "tableResultSettingsMap": {},
     "title": ""
    }
   },
   "outputs": [
    {
     "output_type": "display_data",
     "data": {
      "text/html": [
       "<style scoped>\n",
       "  .table-result-container {\n",
       "    max-height: 300px;\n",
       "    overflow: auto;\n",
       "  }\n",
       "  table, th, td {\n",
       "    border: 1px solid black;\n",
       "    border-collapse: collapse;\n",
       "  }\n",
       "  th, td {\n",
       "    padding: 5px;\n",
       "  }\n",
       "  th {\n",
       "    text-align: left;\n",
       "  }\n",
       "</style><div class='table-result-container'><table class='table-result'><thead style='background-color: white'><tr><th>Item_Outlet_Sales</th><th>Outlet_Identifier</th><th>rank_by_outlet_sales</th></tr></thead><tbody><tr><td>732.38</td><td>OUT010</td><td>188340.17240000013</td></tr><tr><td>178.4344</td><td>OUT010</td><td>188340.17240000013</td></tr><tr><td>163.7868</td><td>OUT010</td><td>188340.17240000013</td></tr><tr><td>358.2004</td><td>OUT010</td><td>188340.17240000013</td></tr><tr><td>184.4266</td><td>OUT010</td><td>188340.17240000013</td></tr><tr><td>369.519</td><td>OUT010</td><td>188340.17240000013</td></tr><tr><td>186.424</td><td>OUT010</td><td>188340.17240000013</td></tr><tr><td>101.2016</td><td>OUT010</td><td>188340.17240000013</td></tr><tr><td>263.6568</td><td>OUT010</td><td>188340.17240000013</td></tr><tr><td>345.5502</td><td>OUT010</td><td>188340.17240000013</td></tr><tr><td>585.2382</td><td>OUT010</td><td>188340.17240000013</td></tr><tr><td>161.1236</td><td>OUT010</td><td>188340.17240000013</td></tr><tr><td>327.5736</td><td>OUT010</td><td>188340.17240000013</td></tr><tr><td>231.6984</td><td>OUT010</td><td>188340.17240000013</td></tr><tr><td>324.9104</td><td>OUT010</td><td>188340.17240000013</td></tr><tr><td>131.1626</td><td>OUT010</td><td>188340.17240000013</td></tr><tr><td>260.9936</td><td>OUT010</td><td>188340.17240000013</td></tr><tr><td>260.9936</td><td>OUT010</td><td>188340.17240000013</td></tr><tr><td>500.6816</td><td>OUT010</td><td>188340.17240000013</td></tr><tr><td>296.9468</td><td>OUT010</td><td>188340.17240000013</td></tr></tbody></table></div>"
      ]
     },
     "metadata": {
      "application/vnd.databricks.v1+output": {
       "addedWidgets": {},
       "aggData": [],
       "aggError": "",
       "aggOverflow": false,
       "aggSchema": [],
       "aggSeriesLimitReached": false,
       "aggType": "",
       "arguments": {},
       "columnCustomDisplayInfos": {},
       "data": [
        [
         732.38,
         "OUT010",
         188340.17240000013
        ],
        [
         178.4344,
         "OUT010",
         188340.17240000013
        ],
        [
         163.7868,
         "OUT010",
         188340.17240000013
        ],
        [
         358.2004,
         "OUT010",
         188340.17240000013
        ],
        [
         184.4266,
         "OUT010",
         188340.17240000013
        ],
        [
         369.519,
         "OUT010",
         188340.17240000013
        ],
        [
         186.424,
         "OUT010",
         188340.17240000013
        ],
        [
         101.2016,
         "OUT010",
         188340.17240000013
        ],
        [
         263.6568,
         "OUT010",
         188340.17240000013
        ],
        [
         345.5502,
         "OUT010",
         188340.17240000013
        ],
        [
         585.2382,
         "OUT010",
         188340.17240000013
        ],
        [
         161.1236,
         "OUT010",
         188340.17240000013
        ],
        [
         327.5736,
         "OUT010",
         188340.17240000013
        ],
        [
         231.6984,
         "OUT010",
         188340.17240000013
        ],
        [
         324.9104,
         "OUT010",
         188340.17240000013
        ],
        [
         131.1626,
         "OUT010",
         188340.17240000013
        ],
        [
         260.9936,
         "OUT010",
         188340.17240000013
        ],
        [
         260.9936,
         "OUT010",
         188340.17240000013
        ],
        [
         500.6816,
         "OUT010",
         188340.17240000013
        ],
        [
         296.9468,
         "OUT010",
         188340.17240000013
        ]
       ],
       "datasetInfos": [],
       "dbfsResultPath": null,
       "isJsonSchema": true,
       "metadata": {},
       "overflow": false,
       "plotOptions": {
        "customPlotOptions": {},
        "displayType": "table",
        "pivotAggregation": null,
        "pivotColumns": null,
        "xColumns": null,
        "yColumns": null
       },
       "removedWidgets": [],
       "schema": [
        {
         "metadata": "{}",
         "name": "Item_Outlet_Sales",
         "type": "\"double\""
        },
        {
         "metadata": "{}",
         "name": "Outlet_Identifier",
         "type": "\"string\""
        },
        {
         "metadata": "{}",
         "name": "rank_by_outlet_sales",
         "type": "\"double\""
        }
       ],
       "type": "table"
      }
     },
     "output_type": "display_data"
    }
   ],
   "source": [
    "window_spec = Window.partitionBy(\"Outlet_Identifier\")\n",
    "\n",
    "df.select(\"Item_Outlet_Sales\",\"Outlet_Identifier\").withColumn(\"rank_by_outlet_sales\", sum(\"Item_Outlet_Sales\").over(window_spec)).limit(20).display()"
   ]
  },
  {
   "cell_type": "code",
   "execution_count": 0,
   "metadata": {
    "application/vnd.databricks.v1+cell": {
     "cellMetadata": {
      "byteLimit": 2048000,
      "rowLimit": 10000
     },
     "inputWidgets": {},
     "nuid": "45cfe56a-17a1-4c41-8e3e-b7b6f79c6d29",
     "showTitle": false,
     "tableResultSettingsMap": {},
     "title": ""
    }
   },
   "outputs": [
    {
     "output_type": "display_data",
     "data": {
      "text/html": [
       "<style scoped>\n",
       "  .table-result-container {\n",
       "    max-height: 300px;\n",
       "    overflow: auto;\n",
       "  }\n",
       "  table, th, td {\n",
       "    border: 1px solid black;\n",
       "    border-collapse: collapse;\n",
       "  }\n",
       "  th, td {\n",
       "    padding: 5px;\n",
       "  }\n",
       "  th {\n",
       "    text-align: left;\n",
       "  }\n",
       "</style><div class='table-result-container'><table class='table-result'><thead style='background-color: white'><tr><th>Outlet_Identifier</th><th>Total_outlet_sales</th><th>Rank_byOutlet_Sales</th></tr></thead><tbody><tr><td>OUT027</td><td>3453926.0514</td><td>1</td></tr><tr><td>OUT035</td><td>2268122.935400002</td><td>2</td></tr><tr><td>OUT049</td><td>2183969.8101999997</td><td>3</td></tr><tr><td>OUT017</td><td>2167465.2939999998</td><td>4</td></tr><tr><td>OUT013</td><td>2142663.5781999985</td><td>5</td></tr><tr><td>OUT046</td><td>2118395.168199999</td><td>6</td></tr><tr><td>OUT045</td><td>2036725.4769999988</td><td>7</td></tr><tr><td>OUT018</td><td>1851822.8300000012</td><td>8</td></tr><tr><td>OUT010</td><td>188340.17240000013</td><td>9</td></tr><tr><td>OUT019</td><td>179694.09360000002</td><td>10</td></tr></tbody></table></div>"
      ]
     },
     "metadata": {
      "application/vnd.databricks.v1+output": {
       "addedWidgets": {},
       "aggData": [],
       "aggError": "",
       "aggOverflow": false,
       "aggSchema": [],
       "aggSeriesLimitReached": false,
       "aggType": "",
       "arguments": {},
       "columnCustomDisplayInfos": {},
       "data": [
        [
         "OUT027",
         3453926.0514,
         1
        ],
        [
         "OUT035",
         2268122.935400002,
         2
        ],
        [
         "OUT049",
         2183969.8101999997,
         3
        ],
        [
         "OUT017",
         2167465.2939999998,
         4
        ],
        [
         "OUT013",
         2142663.5781999985,
         5
        ],
        [
         "OUT046",
         2118395.168199999,
         6
        ],
        [
         "OUT045",
         2036725.4769999988,
         7
        ],
        [
         "OUT018",
         1851822.8300000012,
         8
        ],
        [
         "OUT010",
         188340.17240000013,
         9
        ],
        [
         "OUT019",
         179694.09360000002,
         10
        ]
       ],
       "datasetInfos": [],
       "dbfsResultPath": null,
       "isJsonSchema": true,
       "metadata": {},
       "overflow": false,
       "plotOptions": {
        "customPlotOptions": {},
        "displayType": "table",
        "pivotAggregation": null,
        "pivotColumns": null,
        "xColumns": null,
        "yColumns": null
       },
       "removedWidgets": [],
       "schema": [
        {
         "metadata": "{}",
         "name": "Outlet_Identifier",
         "type": "\"string\""
        },
        {
         "metadata": "{}",
         "name": "Total_outlet_sales",
         "type": "\"double\""
        },
        {
         "metadata": "{}",
         "name": "Rank_byOutlet_Sales",
         "type": "\"integer\""
        }
       ],
       "type": "table"
      }
     },
     "output_type": "display_data"
    }
   ],
   "source": [
    "df_outlet_Sales = df.groupBy(col(\"Outlet_Identifier\")).agg(sum(col(\"Item_Outlet_Sales\")).alias(\"Total_outlet_sales\"))\n",
    "\n",
    "window_spec = Window.orderBy(col(\"Total_outlet_sales\").desc())\n",
    "\n",
    "df_outlet_Sales.withColumn(\"Rank_byOutlet_Sales\", rank().over(window_spec)).limit(20).display()"
   ]
  },
  {
   "cell_type": "code",
   "execution_count": 0,
   "metadata": {
    "application/vnd.databricks.v1+cell": {
     "cellMetadata": {
      "byteLimit": 2048000,
      "rowLimit": 10000
     },
     "inputWidgets": {},
     "nuid": "4d0ab4b7-d448-43e6-9076-54cb1e710db5",
     "showTitle": false,
     "tableResultSettingsMap": {},
     "title": ""
    }
   },
   "outputs": [
    {
     "output_type": "display_data",
     "data": {
      "text/html": [
       "<style scoped>\n",
       "  .table-result-container {\n",
       "    max-height: 300px;\n",
       "    overflow: auto;\n",
       "  }\n",
       "  table, th, td {\n",
       "    border: 1px solid black;\n",
       "    border-collapse: collapse;\n",
       "  }\n",
       "  th, td {\n",
       "    padding: 5px;\n",
       "  }\n",
       "  th {\n",
       "    text-align: left;\n",
       "  }\n",
       "</style><div class='table-result-container'><table class='table-result'><thead style='background-color: white'><tr><th>Outlet_Identifier</th></tr></thead><tbody><tr><td>OUT027</td></tr><tr><td>OUT046</td></tr><tr><td>OUT013</td></tr><tr><td>OUT019</td></tr><tr><td>OUT018</td></tr><tr><td>OUT010</td></tr><tr><td>OUT045</td></tr><tr><td>OUT035</td></tr><tr><td>OUT017</td></tr><tr><td>OUT049</td></tr></tbody></table></div>"
      ]
     },
     "metadata": {
      "application/vnd.databricks.v1+output": {
       "addedWidgets": {},
       "aggData": [],
       "aggError": "",
       "aggOverflow": false,
       "aggSchema": [],
       "aggSeriesLimitReached": false,
       "aggType": "",
       "arguments": {},
       "columnCustomDisplayInfos": {},
       "data": [
        [
         "OUT027"
        ],
        [
         "OUT046"
        ],
        [
         "OUT013"
        ],
        [
         "OUT019"
        ],
        [
         "OUT018"
        ],
        [
         "OUT010"
        ],
        [
         "OUT045"
        ],
        [
         "OUT035"
        ],
        [
         "OUT017"
        ],
        [
         "OUT049"
        ]
       ],
       "datasetInfos": [],
       "dbfsResultPath": null,
       "isJsonSchema": true,
       "metadata": {},
       "overflow": false,
       "plotOptions": {
        "customPlotOptions": {},
        "displayType": "table",
        "pivotAggregation": null,
        "pivotColumns": null,
        "xColumns": null,
        "yColumns": null
       },
       "removedWidgets": [],
       "schema": [
        {
         "metadata": "{}",
         "name": "Outlet_Identifier",
         "type": "\"string\""
        }
       ],
       "type": "table"
      }
     },
     "output_type": "display_data"
    }
   ],
   "source": [
    "df.select(\"Outlet_Identifier\").distinct().limit(20).display()"
   ]
  },
  {
   "cell_type": "markdown",
   "metadata": {
    "application/vnd.databricks.v1+cell": {
     "cellMetadata": {
      "byteLimit": 2048000,
      "rowLimit": 10000
     },
     "inputWidgets": {},
     "nuid": "e2cecc3e-b3bf-4a82-ae22-ba50efaf589d",
     "showTitle": false,
     "tableResultSettingsMap": {},
     "title": ""
    }
   },
   "source": [
    "Rank vs Dense Rank"
   ]
  },
  {
   "cell_type": "code",
   "execution_count": 0,
   "metadata": {
    "application/vnd.databricks.v1+cell": {
     "cellMetadata": {
      "byteLimit": 2048000,
      "rowLimit": 10000
     },
     "inputWidgets": {},
     "nuid": "cd4b5a89-97cc-492f-b634-ebed649b9541",
     "showTitle": false,
     "tableResultSettingsMap": {},
     "title": ""
    }
   },
   "outputs": [
    {
     "output_type": "display_data",
     "data": {
      "text/html": [
       "<style scoped>\n",
       "  .table-result-container {\n",
       "    max-height: 300px;\n",
       "    overflow: auto;\n",
       "  }\n",
       "  table, th, td {\n",
       "    border: 1px solid black;\n",
       "    border-collapse: collapse;\n",
       "  }\n",
       "  th, td {\n",
       "    padding: 5px;\n",
       "  }\n",
       "  th {\n",
       "    text-align: left;\n",
       "  }\n",
       "</style><div class='table-result-container'><table class='table-result'><thead style='background-color: white'><tr><th>Outlet_Identifier</th><th>Item_MRP</th><th>Rank_per_itemMRP</th><th>DenseRank_per_itemMRP</th></tr></thead><tbody><tr><td>OUT010</td><td>32.6558</td><td>11</td><td>1</td></tr><tr><td>OUT010</td><td>32.89</td><td>16</td><td>2</td></tr><tr><td>OUT010</td><td>33.2216</td><td>24</td><td>3</td></tr><tr><td>OUT010</td><td>33.39</td><td>31</td><td>4</td></tr><tr><td>OUT010</td><td>33.6874</td><td>38</td><td>5</td></tr><tr><td>OUT010</td><td>33.8874</td><td>43</td><td>6</td></tr><tr><td>OUT010</td><td>34.0532</td><td>47</td><td>7</td></tr><tr><td>OUT010</td><td>34.9558</td><td>78</td><td>8</td></tr><tr><td>OUT010</td><td>35.219</td><td>93</td><td>9</td></tr><tr><td>OUT010</td><td>35.7532</td><td>113</td><td>10</td></tr><tr><td>OUT010</td><td>35.9558</td><td>119</td><td>11</td></tr><tr><td>OUT010</td><td>36.6532</td><td>142</td><td>12</td></tr><tr><td>OUT010</td><td>37.2874</td><td>177</td><td>13</td></tr><tr><td>OUT010</td><td>37.5822</td><td>199</td><td>14</td></tr><tr><td>OUT010</td><td>37.6506</td><td>204</td><td>15</td></tr><tr><td>OUT010</td><td>37.9532</td><td>220</td><td>16</td></tr><tr><td>OUT010</td><td>38.319</td><td>237</td><td>17</td></tr><tr><td>OUT010</td><td>38.319</td><td>237</td><td>17</td></tr><tr><td>OUT010</td><td>38.5822</td><td>247</td><td>19</td></tr><tr><td>OUT010</td><td>38.8164</td><td>262</td><td>20</td></tr></tbody></table></div>"
      ]
     },
     "metadata": {
      "application/vnd.databricks.v1+output": {
       "addedWidgets": {},
       "aggData": [],
       "aggError": "",
       "aggOverflow": false,
       "aggSchema": [],
       "aggSeriesLimitReached": false,
       "aggType": "",
       "arguments": {},
       "columnCustomDisplayInfos": {},
       "data": [
        [
         "OUT010",
         32.6558,
         11,
         1
        ],
        [
         "OUT010",
         32.89,
         16,
         2
        ],
        [
         "OUT010",
         33.2216,
         24,
         3
        ],
        [
         "OUT010",
         33.39,
         31,
         4
        ],
        [
         "OUT010",
         33.6874,
         38,
         5
        ],
        [
         "OUT010",
         33.8874,
         43,
         6
        ],
        [
         "OUT010",
         34.0532,
         47,
         7
        ],
        [
         "OUT010",
         34.9558,
         78,
         8
        ],
        [
         "OUT010",
         35.219,
         93,
         9
        ],
        [
         "OUT010",
         35.7532,
         113,
         10
        ],
        [
         "OUT010",
         35.9558,
         119,
         11
        ],
        [
         "OUT010",
         36.6532,
         142,
         12
        ],
        [
         "OUT010",
         37.2874,
         177,
         13
        ],
        [
         "OUT010",
         37.5822,
         199,
         14
        ],
        [
         "OUT010",
         37.6506,
         204,
         15
        ],
        [
         "OUT010",
         37.9532,
         220,
         16
        ],
        [
         "OUT010",
         38.319,
         237,
         17
        ],
        [
         "OUT010",
         38.319,
         237,
         17
        ],
        [
         "OUT010",
         38.5822,
         247,
         19
        ],
        [
         "OUT010",
         38.8164,
         262,
         20
        ]
       ],
       "datasetInfos": [],
       "dbfsResultPath": null,
       "isJsonSchema": true,
       "metadata": {},
       "overflow": false,
       "plotOptions": {
        "customPlotOptions": {},
        "displayType": "table",
        "pivotAggregation": null,
        "pivotColumns": null,
        "xColumns": null,
        "yColumns": null
       },
       "removedWidgets": [],
       "schema": [
        {
         "metadata": "{}",
         "name": "Outlet_Identifier",
         "type": "\"string\""
        },
        {
         "metadata": "{}",
         "name": "Item_MRP",
         "type": "\"double\""
        },
        {
         "metadata": "{}",
         "name": "Rank_per_itemMRP",
         "type": "\"integer\""
        },
        {
         "metadata": "{}",
         "name": "DenseRank_per_itemMRP",
         "type": "\"integer\""
        }
       ],
       "type": "table"
      }
     },
     "output_type": "display_data"
    }
   ],
   "source": [
    "\n",
    "window_dense_spec = Window.partitionBy(\"Outlet_Identifier\").orderBy(col(\"Item_MRP\")).rowsBetween(Window.unboundedPreceding, Window.currentRow)\n",
    "window_spec = Window.orderBy(col(\"Item_MRP\"))\n",
    "\n",
    "df.select(\"Outlet_Identifier\",\"Item_MRP\").withColumn(\"Rank_per_itemMRP\", rank().over(window_spec))\\\n",
    "    .withColumn(\"DenseRank_per_itemMRP\", rank().over(window_dense_spec)).limit(20).display()\n"
   ]
  },
  {
   "cell_type": "markdown",
   "metadata": {
    "application/vnd.databricks.v1+cell": {
     "cellMetadata": {
      "byteLimit": 2048000,
      "rowLimit": 10000
     },
     "inputWidgets": {},
     "nuid": "0874e86d-4f7a-4ce5-a5cf-7576475c8aca",
     "showTitle": false,
     "tableResultSettingsMap": {},
     "title": ""
    }
   },
   "source": [
    "## cummulative spec"
   ]
  },
  {
   "cell_type": "code",
   "execution_count": 0,
   "metadata": {
    "application/vnd.databricks.v1+cell": {
     "cellMetadata": {
      "byteLimit": 2048000,
      "rowLimit": 10000
     },
     "inputWidgets": {},
     "nuid": "83af7f38-e22c-4abc-896b-325961dfbd8e",
     "showTitle": false,
     "tableResultSettingsMap": {},
     "title": ""
    }
   },
   "outputs": [
    {
     "output_type": "display_data",
     "data": {
      "text/html": [
       "<style scoped>\n",
       "  .table-result-container {\n",
       "    max-height: 300px;\n",
       "    overflow: auto;\n",
       "  }\n",
       "  table, th, td {\n",
       "    border: 1px solid black;\n",
       "    border-collapse: collapse;\n",
       "  }\n",
       "  th, td {\n",
       "    padding: 5px;\n",
       "  }\n",
       "  th {\n",
       "    text-align: left;\n",
       "  }\n",
       "</style><div class='table-result-container'><table class='table-result'><thead style='background-color: white'><tr><th>Outlet_Identifier</th><th>Item_Type</th><th>sum(Item_Outlet_Sales)</th></tr></thead><tbody><tr><td>OUT019</td><td>Health and Hygiene</td><td>10945.0862</td></tr><tr><td>OUT019</td><td>Fruits and Vegetables</td><td>24054.022399999998</td></tr><tr><td>OUT013</td><td>Dairy</td><td>196254.537</td></tr><tr><td>OUT013</td><td>Breakfast</td><td>27355.7246</td></tr><tr><td>OUT019</td><td>Breakfast</td><td>3762.4358</td></tr><tr><td>OUT010</td><td>Household</td><td>25550.075000000004</td></tr><tr><td>OUT045</td><td>Health and Hygiene</td><td>104603.1722</td></tr><tr><td>OUT049</td><td>Frozen Foods</td><td>215879.65780000002</td></tr><tr><td>OUT049</td><td>Meat</td><td>105149.79400000001</td></tr><tr><td>OUT017</td><td>Others</td><td>37388.66479999999</td></tr><tr><td>OUT017</td><td>Fruits and Vegetables</td><td>319504.10399999993</td></tr><tr><td>OUT018</td><td>Breads</td><td>54604.9212</td></tr><tr><td>OUT046</td><td>Baking Goods</td><td>173376.31740000003</td></tr><tr><td>OUT010</td><td>Breads</td><td>7657.3658000000005</td></tr><tr><td>OUT049</td><td>Canned</td><td>138138.18660000002</td></tr><tr><td>OUT018</td><td>Hard Drinks</td><td>49445.636999999995</td></tr><tr><td>OUT010</td><td>Snack Foods</td><td>25942.897</td></tr><tr><td>OUT010</td><td>Frozen Foods</td><td>17942.644200000002</td></tr><tr><td>OUT035</td><td>Breads</td><td>76456.4772</td></tr><tr><td>OUT045</td><td>Seafood</td><td>25927.5836</td></tr><tr><td>OUT035</td><td>Dairy</td><td>185067.7654</td></tr><tr><td>OUT018</td><td>Baking Goods</td><td>121065.07719999997</td></tr><tr><td>OUT010</td><td>Starchy Foods</td><td>2733.7748</td></tr><tr><td>OUT013</td><td>Meat</td><td>95200.0788</td></tr><tr><td>OUT045</td><td>Canned</td><td>174307.7716</td></tr><tr><td>OUT019</td><td>Breads</td><td>4947.5598</td></tr><tr><td>OUT010</td><td>Health and Hygiene</td><td>13570.335600000002</td></tr><tr><td>OUT018</td><td>Others</td><td>37072.409799999994</td></tr><tr><td>OUT019</td><td>Baking Goods</td><td>14133.602399999996</td></tr><tr><td>OUT027</td><td>Soft Drinks</td><td>147822.2476</td></tr><tr><td>OUT013</td><td>Others</td><td>35238.13079999999</td></tr><tr><td>OUT010</td><td>Soft Drinks</td><td>9441.044</td></tr><tr><td>OUT013</td><td>Snack Foods</td><td>309246.12340000004</td></tr><tr><td>OUT017</td><td>Snack Foods</td><td>311071.0812</td></tr><tr><td>OUT027</td><td>Frozen Foods</td><td>316272.31080000004</td></tr><tr><td>OUT013</td><td>Soft Drinks</td><td>115234.66660000004</td></tr><tr><td>OUT010</td><td>Baking Goods</td><td>10693.4138</td></tr><tr><td>OUT049</td><td>Seafood</td><td>11827.2712</td></tr><tr><td>OUT045</td><td>Baking Goods</td><td>150368.9326</td></tr><tr><td>OUT035</td><td>Starchy Foods</td><td>57945.90560000001</td></tr><tr><td>OUT017</td><td>Frozen Foods</td><td>239347.11039999995</td></tr><tr><td>OUT017</td><td>Health and Hygiene</td><td>124751.6118</td></tr><tr><td>OUT017</td><td>Seafood</td><td>10032.940200000001</td></tr><tr><td>OUT019</td><td>Canned</td><td>16739.543599999997</td></tr><tr><td>OUT013</td><td>Hard Drinks</td><td>54362.56999999999</td></tr><tr><td>OUT010</td><td>Dairy</td><td>15307.407800000003</td></tr><tr><td>OUT045</td><td>Dairy</td><td>154650.02659999992</td></tr><tr><td>OUT046</td><td>Soft Drinks</td><td>86064.63699999999</td></tr><tr><td>OUT045</td><td>Breakfast</td><td>21802.9526</td></tr><tr><td>OUT049</td><td>Breads</td><td>60490.593199999996</td></tr><tr><td>OUT010</td><td>Others</td><td>3256.4278</td></tr><tr><td>OUT046</td><td>Household</td><td>219520.25220000002</td></tr><tr><td>OUT019</td><td>Seafood</td><td>1336.9263999999998</td></tr><tr><td>OUT045</td><td>Frozen Foods</td><td>177020.24080000006</td></tr><tr><td>OUT027</td><td>Starchy Foods</td><td>49170.66160000001</td></tr><tr><td>OUT013</td><td>Household</td><td>248046.45320000008</td></tr><tr><td>OUT013</td><td>Starchy Foods</td><td>43753.047</td></tr><tr><td>OUT046</td><td>Hard Drinks</td><td>44615.9238</td></tr><tr><td>OUT027</td><td>Fruits and Vegetables</td><td>576028.1886000003</td></tr><tr><td>OUT046</td><td>Others</td><td>41540.59360000001</td></tr><tr><td>OUT045</td><td>Meat</td><td>81606.4402</td></tr><tr><td>OUT035</td><td>Snack Foods</td><td>355573.8189999999</td></tr><tr><td>OUT035</td><td>Fruits and Vegetables</td><td>304647.4427999997</td></tr><tr><td>OUT017</td><td>Breakfast</td><td>24436.191600000002</td></tr><tr><td>OUT046</td><td>Breads</td><td>71870.4468</td></tr><tr><td>OUT046</td><td>Frozen Foods</td><td>243236.71399999992</td></tr><tr><td>OUT013</td><td>Seafood</td><td>8146.728799999999</td></tr><tr><td>OUT010</td><td>Seafood</td><td>947.4333999999999</td></tr><tr><td>OUT049</td><td>Dairy</td><td>179680.7776</td></tr><tr><td>OUT010</td><td>Breakfast</td><td>4081.3540000000003</td></tr><tr><td>OUT017</td><td>Dairy</td><td>185955.2768</td></tr><tr><td>OUT018</td><td>Household</td><td>196267.18719999996</td></tr><tr><td>OUT049</td><td>Starchy Foods</td><td>42019.969600000004</td></tr><tr><td>OUT027</td><td>Hard Drinks</td><td>78957.8878</td></tr><tr><td>OUT017</td><td>Breads</td><td>49008.8722</td></tr><tr><td>OUT019</td><td>Snack Foods</td><td>25653.274</td></tr><tr><td>OUT045</td><td>Soft Drinks</td><td>108679.19980000003</td></tr><tr><td>OUT046</td><td>Snack Foods</td><td>274813.6106000001</td></tr><tr><td>OUT035</td><td>Others</td><td>38047.806800000006</td></tr><tr><td>OUT035</td><td>Canned</td><td>195444.2584</td></tr><tr><td>OUT049</td><td>Snack Foods</td><td>350244.09</td></tr><tr><td>OUT027</td><td>Household</td><td>378299.5704000001</td></tr><tr><td>OUT049</td><td>Household</td><td>254817.6392</td></tr><tr><td>OUT019</td><td>Frozen Foods</td><td>15252.8122</td></tr><tr><td>OUT046</td><td>Fruits and Vegetables</td><td>304751.3075999998</td></tr><tr><td>OUT027</td><td>Health and Hygiene</td><td>199084.18699999998</td></tr><tr><td>OUT017</td><td>Hard Drinks</td><td>55432.5106</td></tr><tr><td>OUT045</td><td>Starchy Foods</td><td>38346.751</td></tr><tr><td>OUT046</td><td>Canned</td><td>173084.69699999996</td></tr><tr><td>OUT046</td><td>Breakfast</td><td>16599.725599999998</td></tr><tr><td>OUT035</td><td>Breakfast</td><td>31117.494599999998</td></tr><tr><td>OUT018</td><td>Dairy</td><td>152130.63940000004</td></tr><tr><td>OUT019</td><td>Hard Drinks</td><td>1768.3648000000003</td></tr><tr><td>OUT049</td><td>Baking Goods</td><td>139263.3886</td></tr><tr><td>OUT045</td><td>Household</td><td>222456.43019999992</td></tr><tr><td>OUT027</td><td>Breakfast</td><td>50432.3526</td></tr><tr><td>OUT017</td><td>Meat</td><td>96822.63339999998</td></tr><tr><td>OUT049</td><td>Breakfast</td><td>30214.6698</td></tr><tr><td>OUT018</td><td>Snack Foods</td><td>278714.53280000004</td></tr><tr><td>OUT035</td><td>Hard Drinks</td><td>49941.658</td></tr><tr><td>OUT010</td><td>Hard Drinks</td><td>4067.3721999999993</td></tr><tr><td>OUT019</td><td>Starchy Foods</td><td>1167.8132</td></tr><tr><td>OUT046</td><td>Health and Hygiene</td><td>133189.2952</td></tr><tr><td>OUT013</td><td>Health and Hygiene</td><td>119135.58879999997</td></tr><tr><td>OUT018</td><td>Health and Hygiene</td><td>108845.64980000003</td></tr><tr><td>OUT035</td><td>Frozen Foods</td><td>213487.4384</td></tr><tr><td>OUT046</td><td>Meat</td><td>95072.24519999998</td></tr><tr><td>OUT027</td><td>Dairy</td><td>262317.2104</td></tr><tr><td>OUT045</td><td>Snack Foods</td><td>288438.54179999995</td></tr><tr><td>OUT019</td><td>Dairy</td><td>16144.318399999995</td></tr><tr><td>OUT045</td><td>Others</td><td>40165.050800000005</td></tr><tr><td>OUT045</td><td>Fruits and Vegetables</td><td>326414.44219999993</td></tr><tr><td>OUT018</td><td>Soft Drinks</td><td>88495.47280000003</td></tr><tr><td>OUT010</td><td>Fruits and Vegetables</td><td>24548.046000000002</td></tr><tr><td>OUT017</td><td>Soft Drinks</td><td>123710.30059999999</td></tr><tr><td>OUT013</td><td>Fruits and Vegetables</td><td>341526.7705999999</td></tr><tr><td>OUT049</td><td>Soft Drinks</td><td>97585.64019999998</td></tr><tr><td>OUT027</td><td>Others</td><td>40513.92999999999</td></tr><tr><td>OUT027</td><td>Breads</td><td>110518.80519999997</td></tr><tr><td>OUT017</td><td>Canned</td><td>175853.0934</td></tr><tr><td>OUT017</td><td>Household</td><td>222526.33920000007</td></tr><tr><td>OUT018</td><td>Canned</td><td>145681.70059999995</td></tr><tr><td>OUT035</td><td>Seafood</td><td>23358.927200000002</td></tr><tr><td>OUT019</td><td>Household</td><td>18157.031800000004</td></tr><tr><td>OUT027</td><td>Snack Foods</td><td>513088.1171999999</td></tr><tr><td>OUT010</td><td>Meat</td><td>13580.988400000002</td></tr><tr><td>OUT035</td><td>Meat</td><td>107193.8</td></tr><tr><td>OUT035</td><td>Baking Goods</td><td>135005.5976</td></tr><tr><td>OUT027</td><td>Baking Goods</td><td>224172.19680000003</td></tr><tr><td>OUT019</td><td>Others</td><td>4522.113599999999</td></tr><tr><td>OUT018</td><td>Frozen Foods</td><td>183599.01059999998</td></tr><tr><td>OUT018</td><td>Breakfast</td><td>22496.0504</td></tr><tr><td>OUT049</td><td>Others</td><td>47772.4816</td></tr><tr><td>OUT018</td><td>Starchy Foods</td><td>33110.8998</td></tr><tr><td>OUT049</td><td>Hard Drinks</td><td>62927.421200000004</td></tr><tr><td>OUT019</td><td>Meat</td><td>11995.7186</td></tr><tr><td>OUT010</td><td>Canned</td><td>9019.5926</td></tr><tr><td>OUT045</td><td>Hard Drinks</td><td>56274.08179999999</td></tr><tr><td>OUT027</td><td>Canned</td><td>272150.41059999994</td></tr><tr><td>OUT013</td><td>Breads</td><td>52018.288199999995</td></tr><tr><td>OUT035</td><td>Soft Drinks</td><td>106751.04299999999</td></tr><tr><td>OUT035</td><td>Household</td><td>269852.7347999999</td></tr><tr><td>OUT027</td><td>Meat</td><td>216288.45900000003</td></tr><tr><td>OUT018</td><td>Seafood</td><td>22166.4794</td></tr><tr><td>OUT019</td><td>Soft Drinks</td><td>9113.470399999998</td></tr><tr><td>OUT046</td><td>Dairy</td><td>175086.09179999994</td></tr><tr><td>OUT045</td><td>Breads</td><td>65663.85919999999</td></tr><tr><td>OUT046</td><td>Starchy Foods</td><td>39258.89699999999</td></tr><tr><td>OUT018</td><td>Meat</td><td>94655.45439999999</td></tr><tr><td>OUT013</td><td>Canned</td><td>143732.2382</td></tr><tr><td>OUT027</td><td>Seafood</td><td>18809.515799999997</td></tr><tr><td>OUT017</td><td>Baking Goods</td><td>147731.03299999994</td></tr><tr><td>OUT013</td><td>Baking Goods</td><td>149715.78279999996</td></tr><tr><td>OUT013</td><td>Frozen Foods</td><td>203696.8494</td></tr><tr><td>OUT017</td><td>Starchy Foods</td><td>43893.53080000001</td></tr><tr><td>OUT046</td><td>Seafood</td><td>26314.413399999998</td></tr><tr><td>OUT049</td><td>Health and Hygiene</td><td>112844.4446</td></tr><tr><td>OUT049</td><td>Fruits and Vegetables</td><td>335113.7849999999</td></tr><tr><td>OUT018</td><td>Fruits and Vegetables</td><td>263471.70759999997</td></tr><tr><td>OUT035</td><td>Health and Hygiene</td><td>118230.76660000003</td></tr></tbody></table></div>"
      ]
     },
     "metadata": {
      "application/vnd.databricks.v1+output": {
       "addedWidgets": {},
       "aggData": [],
       "aggError": "",
       "aggOverflow": false,
       "aggSchema": [],
       "aggSeriesLimitReached": false,
       "aggType": "",
       "arguments": {},
       "columnCustomDisplayInfos": {},
       "data": [
        [
         "OUT019",
         "Health and Hygiene",
         10945.0862
        ],
        [
         "OUT019",
         "Fruits and Vegetables",
         24054.022399999998
        ],
        [
         "OUT013",
         "Dairy",
         196254.537
        ],
        [
         "OUT013",
         "Breakfast",
         27355.7246
        ],
        [
         "OUT019",
         "Breakfast",
         3762.4358
        ],
        [
         "OUT010",
         "Household",
         25550.075000000004
        ],
        [
         "OUT045",
         "Health and Hygiene",
         104603.1722
        ],
        [
         "OUT049",
         "Frozen Foods",
         215879.65780000002
        ],
        [
         "OUT049",
         "Meat",
         105149.79400000001
        ],
        [
         "OUT017",
         "Others",
         37388.66479999999
        ],
        [
         "OUT017",
         "Fruits and Vegetables",
         319504.10399999993
        ],
        [
         "OUT018",
         "Breads",
         54604.9212
        ],
        [
         "OUT046",
         "Baking Goods",
         173376.31740000003
        ],
        [
         "OUT010",
         "Breads",
         7657.3658000000005
        ],
        [
         "OUT049",
         "Canned",
         138138.18660000002
        ],
        [
         "OUT018",
         "Hard Drinks",
         49445.636999999995
        ],
        [
         "OUT010",
         "Snack Foods",
         25942.897
        ],
        [
         "OUT010",
         "Frozen Foods",
         17942.644200000002
        ],
        [
         "OUT035",
         "Breads",
         76456.4772
        ],
        [
         "OUT045",
         "Seafood",
         25927.5836
        ],
        [
         "OUT035",
         "Dairy",
         185067.7654
        ],
        [
         "OUT018",
         "Baking Goods",
         121065.07719999997
        ],
        [
         "OUT010",
         "Starchy Foods",
         2733.7748
        ],
        [
         "OUT013",
         "Meat",
         95200.0788
        ],
        [
         "OUT045",
         "Canned",
         174307.7716
        ],
        [
         "OUT019",
         "Breads",
         4947.5598
        ],
        [
         "OUT010",
         "Health and Hygiene",
         13570.335600000002
        ],
        [
         "OUT018",
         "Others",
         37072.409799999994
        ],
        [
         "OUT019",
         "Baking Goods",
         14133.602399999996
        ],
        [
         "OUT027",
         "Soft Drinks",
         147822.2476
        ],
        [
         "OUT013",
         "Others",
         35238.13079999999
        ],
        [
         "OUT010",
         "Soft Drinks",
         9441.044
        ],
        [
         "OUT013",
         "Snack Foods",
         309246.12340000004
        ],
        [
         "OUT017",
         "Snack Foods",
         311071.0812
        ],
        [
         "OUT027",
         "Frozen Foods",
         316272.31080000004
        ],
        [
         "OUT013",
         "Soft Drinks",
         115234.66660000004
        ],
        [
         "OUT010",
         "Baking Goods",
         10693.4138
        ],
        [
         "OUT049",
         "Seafood",
         11827.2712
        ],
        [
         "OUT045",
         "Baking Goods",
         150368.9326
        ],
        [
         "OUT035",
         "Starchy Foods",
         57945.90560000001
        ],
        [
         "OUT017",
         "Frozen Foods",
         239347.11039999995
        ],
        [
         "OUT017",
         "Health and Hygiene",
         124751.6118
        ],
        [
         "OUT017",
         "Seafood",
         10032.940200000001
        ],
        [
         "OUT019",
         "Canned",
         16739.543599999997
        ],
        [
         "OUT013",
         "Hard Drinks",
         54362.56999999999
        ],
        [
         "OUT010",
         "Dairy",
         15307.407800000003
        ],
        [
         "OUT045",
         "Dairy",
         154650.02659999992
        ],
        [
         "OUT046",
         "Soft Drinks",
         86064.63699999999
        ],
        [
         "OUT045",
         "Breakfast",
         21802.9526
        ],
        [
         "OUT049",
         "Breads",
         60490.593199999996
        ],
        [
         "OUT010",
         "Others",
         3256.4278
        ],
        [
         "OUT046",
         "Household",
         219520.25220000002
        ],
        [
         "OUT019",
         "Seafood",
         1336.9263999999998
        ],
        [
         "OUT045",
         "Frozen Foods",
         177020.24080000006
        ],
        [
         "OUT027",
         "Starchy Foods",
         49170.66160000001
        ],
        [
         "OUT013",
         "Household",
         248046.45320000008
        ],
        [
         "OUT013",
         "Starchy Foods",
         43753.047
        ],
        [
         "OUT046",
         "Hard Drinks",
         44615.9238
        ],
        [
         "OUT027",
         "Fruits and Vegetables",
         576028.1886000003
        ],
        [
         "OUT046",
         "Others",
         41540.59360000001
        ],
        [
         "OUT045",
         "Meat",
         81606.4402
        ],
        [
         "OUT035",
         "Snack Foods",
         355573.8189999999
        ],
        [
         "OUT035",
         "Fruits and Vegetables",
         304647.4427999997
        ],
        [
         "OUT017",
         "Breakfast",
         24436.191600000002
        ],
        [
         "OUT046",
         "Breads",
         71870.4468
        ],
        [
         "OUT046",
         "Frozen Foods",
         243236.71399999992
        ],
        [
         "OUT013",
         "Seafood",
         8146.728799999999
        ],
        [
         "OUT010",
         "Seafood",
         947.4333999999999
        ],
        [
         "OUT049",
         "Dairy",
         179680.7776
        ],
        [
         "OUT010",
         "Breakfast",
         4081.3540000000003
        ],
        [
         "OUT017",
         "Dairy",
         185955.2768
        ],
        [
         "OUT018",
         "Household",
         196267.18719999996
        ],
        [
         "OUT049",
         "Starchy Foods",
         42019.969600000004
        ],
        [
         "OUT027",
         "Hard Drinks",
         78957.8878
        ],
        [
         "OUT017",
         "Breads",
         49008.8722
        ],
        [
         "OUT019",
         "Snack Foods",
         25653.274
        ],
        [
         "OUT045",
         "Soft Drinks",
         108679.19980000003
        ],
        [
         "OUT046",
         "Snack Foods",
         274813.6106000001
        ],
        [
         "OUT035",
         "Others",
         38047.806800000006
        ],
        [
         "OUT035",
         "Canned",
         195444.2584
        ],
        [
         "OUT049",
         "Snack Foods",
         350244.09
        ],
        [
         "OUT027",
         "Household",
         378299.5704000001
        ],
        [
         "OUT049",
         "Household",
         254817.6392
        ],
        [
         "OUT019",
         "Frozen Foods",
         15252.8122
        ],
        [
         "OUT046",
         "Fruits and Vegetables",
         304751.3075999998
        ],
        [
         "OUT027",
         "Health and Hygiene",
         199084.18699999998
        ],
        [
         "OUT017",
         "Hard Drinks",
         55432.5106
        ],
        [
         "OUT045",
         "Starchy Foods",
         38346.751
        ],
        [
         "OUT046",
         "Canned",
         173084.69699999996
        ],
        [
         "OUT046",
         "Breakfast",
         16599.725599999998
        ],
        [
         "OUT035",
         "Breakfast",
         31117.494599999998
        ],
        [
         "OUT018",
         "Dairy",
         152130.63940000004
        ],
        [
         "OUT019",
         "Hard Drinks",
         1768.3648000000003
        ],
        [
         "OUT049",
         "Baking Goods",
         139263.3886
        ],
        [
         "OUT045",
         "Household",
         222456.43019999992
        ],
        [
         "OUT027",
         "Breakfast",
         50432.3526
        ],
        [
         "OUT017",
         "Meat",
         96822.63339999998
        ],
        [
         "OUT049",
         "Breakfast",
         30214.6698
        ],
        [
         "OUT018",
         "Snack Foods",
         278714.53280000004
        ],
        [
         "OUT035",
         "Hard Drinks",
         49941.658
        ],
        [
         "OUT010",
         "Hard Drinks",
         4067.3721999999993
        ],
        [
         "OUT019",
         "Starchy Foods",
         1167.8132
        ],
        [
         "OUT046",
         "Health and Hygiene",
         133189.2952
        ],
        [
         "OUT013",
         "Health and Hygiene",
         119135.58879999997
        ],
        [
         "OUT018",
         "Health and Hygiene",
         108845.64980000003
        ],
        [
         "OUT035",
         "Frozen Foods",
         213487.4384
        ],
        [
         "OUT046",
         "Meat",
         95072.24519999998
        ],
        [
         "OUT027",
         "Dairy",
         262317.2104
        ],
        [
         "OUT045",
         "Snack Foods",
         288438.54179999995
        ],
        [
         "OUT019",
         "Dairy",
         16144.318399999995
        ],
        [
         "OUT045",
         "Others",
         40165.050800000005
        ],
        [
         "OUT045",
         "Fruits and Vegetables",
         326414.44219999993
        ],
        [
         "OUT018",
         "Soft Drinks",
         88495.47280000003
        ],
        [
         "OUT010",
         "Fruits and Vegetables",
         24548.046000000002
        ],
        [
         "OUT017",
         "Soft Drinks",
         123710.30059999999
        ],
        [
         "OUT013",
         "Fruits and Vegetables",
         341526.7705999999
        ],
        [
         "OUT049",
         "Soft Drinks",
         97585.64019999998
        ],
        [
         "OUT027",
         "Others",
         40513.92999999999
        ],
        [
         "OUT027",
         "Breads",
         110518.80519999997
        ],
        [
         "OUT017",
         "Canned",
         175853.0934
        ],
        [
         "OUT017",
         "Household",
         222526.33920000007
        ],
        [
         "OUT018",
         "Canned",
         145681.70059999995
        ],
        [
         "OUT035",
         "Seafood",
         23358.927200000002
        ],
        [
         "OUT019",
         "Household",
         18157.031800000004
        ],
        [
         "OUT027",
         "Snack Foods",
         513088.1171999999
        ],
        [
         "OUT010",
         "Meat",
         13580.988400000002
        ],
        [
         "OUT035",
         "Meat",
         107193.8
        ],
        [
         "OUT035",
         "Baking Goods",
         135005.5976
        ],
        [
         "OUT027",
         "Baking Goods",
         224172.19680000003
        ],
        [
         "OUT019",
         "Others",
         4522.113599999999
        ],
        [
         "OUT018",
         "Frozen Foods",
         183599.01059999998
        ],
        [
         "OUT018",
         "Breakfast",
         22496.0504
        ],
        [
         "OUT049",
         "Others",
         47772.4816
        ],
        [
         "OUT018",
         "Starchy Foods",
         33110.8998
        ],
        [
         "OUT049",
         "Hard Drinks",
         62927.421200000004
        ],
        [
         "OUT019",
         "Meat",
         11995.7186
        ],
        [
         "OUT010",
         "Canned",
         9019.5926
        ],
        [
         "OUT045",
         "Hard Drinks",
         56274.08179999999
        ],
        [
         "OUT027",
         "Canned",
         272150.41059999994
        ],
        [
         "OUT013",
         "Breads",
         52018.288199999995
        ],
        [
         "OUT035",
         "Soft Drinks",
         106751.04299999999
        ],
        [
         "OUT035",
         "Household",
         269852.7347999999
        ],
        [
         "OUT027",
         "Meat",
         216288.45900000003
        ],
        [
         "OUT018",
         "Seafood",
         22166.4794
        ],
        [
         "OUT019",
         "Soft Drinks",
         9113.470399999998
        ],
        [
         "OUT046",
         "Dairy",
         175086.09179999994
        ],
        [
         "OUT045",
         "Breads",
         65663.85919999999
        ],
        [
         "OUT046",
         "Starchy Foods",
         39258.89699999999
        ],
        [
         "OUT018",
         "Meat",
         94655.45439999999
        ],
        [
         "OUT013",
         "Canned",
         143732.2382
        ],
        [
         "OUT027",
         "Seafood",
         18809.515799999997
        ],
        [
         "OUT017",
         "Baking Goods",
         147731.03299999994
        ],
        [
         "OUT013",
         "Baking Goods",
         149715.78279999996
        ],
        [
         "OUT013",
         "Frozen Foods",
         203696.8494
        ],
        [
         "OUT017",
         "Starchy Foods",
         43893.53080000001
        ],
        [
         "OUT046",
         "Seafood",
         26314.413399999998
        ],
        [
         "OUT049",
         "Health and Hygiene",
         112844.4446
        ],
        [
         "OUT049",
         "Fruits and Vegetables",
         335113.7849999999
        ],
        [
         "OUT018",
         "Fruits and Vegetables",
         263471.70759999997
        ],
        [
         "OUT035",
         "Health and Hygiene",
         118230.76660000003
        ]
       ],
       "datasetInfos": [],
       "dbfsResultPath": null,
       "isJsonSchema": true,
       "metadata": {},
       "overflow": false,
       "plotOptions": {
        "customPlotOptions": {},
        "displayType": "table",
        "pivotAggregation": null,
        "pivotColumns": null,
        "xColumns": null,
        "yColumns": null
       },
       "removedWidgets": [],
       "schema": [
        {
         "metadata": "{}",
         "name": "Outlet_Identifier",
         "type": "\"string\""
        },
        {
         "metadata": "{}",
         "name": "Item_Type",
         "type": "\"string\""
        },
        {
         "metadata": "{}",
         "name": "sum(Item_Outlet_Sales)",
         "type": "\"double\""
        }
       ],
       "type": "table"
      }
     },
     "output_type": "display_data"
    }
   ],
   "source": [
    "df.groupBy([\"Outlet_Identifier\",\"Item_Type\"]).agg(sum(\"Item_Outlet_Sales\")).display()"
   ]
  },
  {
   "cell_type": "code",
   "execution_count": 0,
   "metadata": {
    "application/vnd.databricks.v1+cell": {
     "cellMetadata": {
      "byteLimit": 2048000,
      "rowLimit": 10000
     },
     "inputWidgets": {},
     "nuid": "7ca4a62a-0131-4738-b730-70f31376e345",
     "showTitle": false,
     "tableResultSettingsMap": {},
     "title": ""
    }
   },
   "outputs": [
    {
     "output_type": "display_data",
     "data": {
      "text/html": [
       "<style scoped>\n",
       "  .table-result-container {\n",
       "    max-height: 300px;\n",
       "    overflow: auto;\n",
       "  }\n",
       "  table, th, td {\n",
       "    border: 1px solid black;\n",
       "    border-collapse: collapse;\n",
       "  }\n",
       "  th, td {\n",
       "    padding: 5px;\n",
       "  }\n",
       "  th {\n",
       "    text-align: left;\n",
       "  }\n",
       "</style><div class='table-result-container'><table class='table-result'><thead style='background-color: white'><tr><th>Outlet_Identifier</th><th>Item_Type</th><th>Sum_outlet_sale</th><th>CumSum</th></tr></thead><tbody><tr><td>OUT010</td><td>Seafood</td><td>947.4333999999999</td><td>947.4333999999999</td></tr><tr><td>OUT010</td><td>Starchy Foods</td><td>2733.7748</td><td>3681.2082</td></tr><tr><td>OUT010</td><td>Others</td><td>3256.4278</td><td>6937.636</td></tr><tr><td>OUT010</td><td>Hard Drinks</td><td>4067.3721999999993</td><td>11005.0082</td></tr><tr><td>OUT010</td><td>Breakfast</td><td>4081.3540000000003</td><td>15086.3622</td></tr><tr><td>OUT010</td><td>Breads</td><td>7657.3658000000005</td><td>22743.728</td></tr><tr><td>OUT010</td><td>Canned</td><td>9019.5926</td><td>31763.3206</td></tr><tr><td>OUT010</td><td>Soft Drinks</td><td>9441.044</td><td>41204.3646</td></tr><tr><td>OUT010</td><td>Baking Goods</td><td>10693.4138</td><td>51897.7784</td></tr><tr><td>OUT010</td><td>Health and Hygiene</td><td>13570.335600000002</td><td>65468.114</td></tr><tr><td>OUT010</td><td>Meat</td><td>13580.988400000002</td><td>79049.1024</td></tr><tr><td>OUT010</td><td>Dairy</td><td>15307.407800000003</td><td>94356.5102</td></tr><tr><td>OUT010</td><td>Frozen Foods</td><td>17942.644200000002</td><td>112299.1544</td></tr><tr><td>OUT010</td><td>Fruits and Vegetables</td><td>24548.046000000002</td><td>136847.2004</td></tr><tr><td>OUT010</td><td>Household</td><td>25550.075000000004</td><td>162397.2754</td></tr><tr><td>OUT010</td><td>Snack Foods</td><td>25942.897</td><td>188340.1724</td></tr><tr><td>OUT013</td><td>Seafood</td><td>8146.728799999999</td><td>8146.728799999999</td></tr><tr><td>OUT013</td><td>Breakfast</td><td>27355.7246</td><td>35502.4534</td></tr><tr><td>OUT013</td><td>Others</td><td>35238.13079999999</td><td>70740.58419999998</td></tr><tr><td>OUT013</td><td>Starchy Foods</td><td>43753.047</td><td>114493.63119999997</td></tr><tr><td>OUT013</td><td>Breads</td><td>52018.288199999995</td><td>166511.91939999996</td></tr><tr><td>OUT013</td><td>Hard Drinks</td><td>54362.56999999999</td><td>220874.48939999996</td></tr><tr><td>OUT013</td><td>Meat</td><td>95200.0788</td><td>316074.5682</td></tr><tr><td>OUT013</td><td>Soft Drinks</td><td>115234.66660000004</td><td>431309.23480000003</td></tr><tr><td>OUT013</td><td>Health and Hygiene</td><td>119135.58879999997</td><td>550444.8236</td></tr><tr><td>OUT013</td><td>Canned</td><td>143732.2382</td><td>694177.0618</td></tr><tr><td>OUT013</td><td>Baking Goods</td><td>149715.78279999996</td><td>843892.8446</td></tr><tr><td>OUT013</td><td>Dairy</td><td>196254.537</td><td>1040147.3816</td></tr><tr><td>OUT013</td><td>Frozen Foods</td><td>203696.8494</td><td>1243844.231</td></tr><tr><td>OUT013</td><td>Household</td><td>248046.45320000008</td><td>1491890.6842</td></tr><tr><td>OUT013</td><td>Snack Foods</td><td>309246.12340000004</td><td>1801136.8076</td></tr><tr><td>OUT013</td><td>Fruits and Vegetables</td><td>341526.7705999999</td><td>2142663.5782</td></tr><tr><td>OUT017</td><td>Seafood</td><td>10032.940200000001</td><td>10032.940200000001</td></tr><tr><td>OUT017</td><td>Breakfast</td><td>24436.191600000002</td><td>34469.1318</td></tr><tr><td>OUT017</td><td>Others</td><td>37388.66479999999</td><td>71857.7966</td></tr><tr><td>OUT017</td><td>Starchy Foods</td><td>43893.53080000001</td><td>115751.32740000001</td></tr><tr><td>OUT017</td><td>Breads</td><td>49008.8722</td><td>164760.1996</td></tr><tr><td>OUT017</td><td>Hard Drinks</td><td>55432.5106</td><td>220192.7102</td></tr><tr><td>OUT017</td><td>Meat</td><td>96822.63339999998</td><td>317015.34359999996</td></tr><tr><td>OUT017</td><td>Soft Drinks</td><td>123710.30059999999</td><td>440725.6442</td></tr><tr><td>OUT017</td><td>Health and Hygiene</td><td>124751.6118</td><td>565477.2559999999</td></tr><tr><td>OUT017</td><td>Baking Goods</td><td>147731.03299999994</td><td>713208.2889999999</td></tr><tr><td>OUT017</td><td>Canned</td><td>175853.0934</td><td>889061.3823999999</td></tr><tr><td>OUT017</td><td>Dairy</td><td>185955.2768</td><td>1075016.6591999999</td></tr><tr><td>OUT017</td><td>Household</td><td>222526.33920000007</td><td>1297542.9984</td></tr><tr><td>OUT017</td><td>Frozen Foods</td><td>239347.11039999995</td><td>1536890.1087999998</td></tr><tr><td>OUT017</td><td>Snack Foods</td><td>311071.0812</td><td>1847961.19</td></tr><tr><td>OUT017</td><td>Fruits and Vegetables</td><td>319504.10399999993</td><td>2167465.2939999998</td></tr><tr><td>OUT018</td><td>Seafood</td><td>22166.4794</td><td>22166.4794</td></tr><tr><td>OUT018</td><td>Breakfast</td><td>22496.0504</td><td>44662.529800000004</td></tr><tr><td>OUT018</td><td>Starchy Foods</td><td>33110.8998</td><td>77773.4296</td></tr><tr><td>OUT018</td><td>Others</td><td>37072.409799999994</td><td>114845.8394</td></tr><tr><td>OUT018</td><td>Hard Drinks</td><td>49445.636999999995</td><td>164291.47639999999</td></tr><tr><td>OUT018</td><td>Breads</td><td>54604.9212</td><td>218896.39759999997</td></tr><tr><td>OUT018</td><td>Soft Drinks</td><td>88495.47280000003</td><td>307391.8704</td></tr><tr><td>OUT018</td><td>Meat</td><td>94655.45439999999</td><td>402047.3248</td></tr><tr><td>OUT018</td><td>Health and Hygiene</td><td>108845.64980000003</td><td>510892.9746</td></tr><tr><td>OUT018</td><td>Baking Goods</td><td>121065.07719999997</td><td>631958.0518</td></tr><tr><td>OUT018</td><td>Canned</td><td>145681.70059999995</td><td>777639.7524</td></tr><tr><td>OUT018</td><td>Dairy</td><td>152130.63940000004</td><td>929770.3918000001</td></tr><tr><td>OUT018</td><td>Frozen Foods</td><td>183599.01059999998</td><td>1113369.4024</td></tr><tr><td>OUT018</td><td>Household</td><td>196267.18719999996</td><td>1309636.5896</td></tr><tr><td>OUT018</td><td>Fruits and Vegetables</td><td>263471.70759999997</td><td>1573108.2972</td></tr><tr><td>OUT018</td><td>Snack Foods</td><td>278714.53280000004</td><td>1851822.83</td></tr><tr><td>OUT019</td><td>Starchy Foods</td><td>1167.8132</td><td>1167.8132</td></tr><tr><td>OUT019</td><td>Seafood</td><td>1336.9263999999998</td><td>2504.7396</td></tr><tr><td>OUT019</td><td>Hard Drinks</td><td>1768.3648000000003</td><td>4273.1044</td></tr><tr><td>OUT019</td><td>Breakfast</td><td>3762.4358</td><td>8035.5402</td></tr><tr><td>OUT019</td><td>Others</td><td>4522.113599999999</td><td>12557.6538</td></tr><tr><td>OUT019</td><td>Breads</td><td>4947.5598</td><td>17505.2136</td></tr><tr><td>OUT019</td><td>Soft Drinks</td><td>9113.470399999998</td><td>26618.683999999997</td></tr><tr><td>OUT019</td><td>Health and Hygiene</td><td>10945.0862</td><td>37563.7702</td></tr><tr><td>OUT019</td><td>Meat</td><td>11995.7186</td><td>49559.4888</td></tr><tr><td>OUT019</td><td>Baking Goods</td><td>14133.602399999996</td><td>63693.091199999995</td></tr><tr><td>OUT019</td><td>Frozen Foods</td><td>15252.8122</td><td>78945.9034</td></tr><tr><td>OUT019</td><td>Dairy</td><td>16144.318399999995</td><td>95090.22179999998</td></tr><tr><td>OUT019</td><td>Canned</td><td>16739.543599999997</td><td>111829.76539999997</td></tr><tr><td>OUT019</td><td>Household</td><td>18157.031800000004</td><td>129986.79719999997</td></tr><tr><td>OUT019</td><td>Fruits and Vegetables</td><td>24054.022399999998</td><td>154040.81959999996</td></tr><tr><td>OUT019</td><td>Snack Foods</td><td>25653.274</td><td>179694.09359999996</td></tr><tr><td>OUT027</td><td>Seafood</td><td>18809.515799999997</td><td>18809.515799999997</td></tr><tr><td>OUT027</td><td>Others</td><td>40513.92999999999</td><td>59323.44579999999</td></tr><tr><td>OUT027</td><td>Starchy Foods</td><td>49170.66160000001</td><td>108494.1074</td></tr><tr><td>OUT027</td><td>Breakfast</td><td>50432.3526</td><td>158926.46</td></tr><tr><td>OUT027</td><td>Hard Drinks</td><td>78957.8878</td><td>237884.3478</td></tr><tr><td>OUT027</td><td>Breads</td><td>110518.80519999997</td><td>348403.15299999993</td></tr><tr><td>OUT027</td><td>Soft Drinks</td><td>147822.2476</td><td>496225.40059999994</td></tr><tr><td>OUT027</td><td>Health and Hygiene</td><td>199084.18699999998</td><td>695309.5876</td></tr><tr><td>OUT027</td><td>Meat</td><td>216288.45900000003</td><td>911598.0466</td></tr><tr><td>OUT027</td><td>Baking Goods</td><td>224172.19680000003</td><td>1135770.2434</td></tr><tr><td>OUT027</td><td>Dairy</td><td>262317.2104</td><td>1398087.4538</td></tr><tr><td>OUT027</td><td>Canned</td><td>272150.41059999994</td><td>1670237.8643999998</td></tr><tr><td>OUT027</td><td>Frozen Foods</td><td>316272.31080000004</td><td>1986510.1752</td></tr><tr><td>OUT027</td><td>Household</td><td>378299.5704000001</td><td>2364809.7456</td></tr><tr><td>OUT027</td><td>Snack Foods</td><td>513088.1171999999</td><td>2877897.8628</td></tr><tr><td>OUT027</td><td>Fruits and Vegetables</td><td>576028.1886000003</td><td>3453926.0514</td></tr><tr><td>OUT035</td><td>Seafood</td><td>23358.927200000002</td><td>23358.927200000002</td></tr><tr><td>OUT035</td><td>Breakfast</td><td>31117.494599999998</td><td>54476.4218</td></tr><tr><td>OUT035</td><td>Others</td><td>38047.806800000006</td><td>92524.2286</td></tr><tr><td>OUT035</td><td>Hard Drinks</td><td>49941.658</td><td>142465.8866</td></tr><tr><td>OUT035</td><td>Starchy Foods</td><td>57945.90560000001</td><td>200411.79220000003</td></tr><tr><td>OUT035</td><td>Breads</td><td>76456.4772</td><td>276868.2694</td></tr><tr><td>OUT035</td><td>Soft Drinks</td><td>106751.04299999999</td><td>383619.3124</td></tr><tr><td>OUT035</td><td>Meat</td><td>107193.8</td><td>490813.1124</td></tr><tr><td>OUT035</td><td>Health and Hygiene</td><td>118230.76660000003</td><td>609043.879</td></tr><tr><td>OUT035</td><td>Baking Goods</td><td>135005.5976</td><td>744049.4765999999</td></tr><tr><td>OUT035</td><td>Dairy</td><td>185067.7654</td><td>929117.242</td></tr><tr><td>OUT035</td><td>Canned</td><td>195444.2584</td><td>1124561.5004</td></tr><tr><td>OUT035</td><td>Frozen Foods</td><td>213487.4384</td><td>1338048.9388000001</td></tr><tr><td>OUT035</td><td>Household</td><td>269852.7347999999</td><td>1607901.6736</td></tr><tr><td>OUT035</td><td>Fruits and Vegetables</td><td>304647.4427999997</td><td>1912549.1163999997</td></tr><tr><td>OUT035</td><td>Snack Foods</td><td>355573.8189999999</td><td>2268122.9354</td></tr><tr><td>OUT045</td><td>Breakfast</td><td>21802.9526</td><td>21802.9526</td></tr><tr><td>OUT045</td><td>Seafood</td><td>25927.5836</td><td>47730.5362</td></tr><tr><td>OUT045</td><td>Starchy Foods</td><td>38346.751</td><td>86077.28719999999</td></tr><tr><td>OUT045</td><td>Others</td><td>40165.050800000005</td><td>126242.33799999999</td></tr><tr><td>OUT045</td><td>Hard Drinks</td><td>56274.08179999999</td><td>182516.41979999997</td></tr><tr><td>OUT045</td><td>Breads</td><td>65663.85919999999</td><td>248180.27899999998</td></tr><tr><td>OUT045</td><td>Meat</td><td>81606.4402</td><td>329786.7192</td></tr><tr><td>OUT045</td><td>Health and Hygiene</td><td>104603.1722</td><td>434389.89139999996</td></tr><tr><td>OUT045</td><td>Soft Drinks</td><td>108679.19980000003</td><td>543069.0912</td></tr><tr><td>OUT045</td><td>Baking Goods</td><td>150368.9326</td><td>693438.0238000001</td></tr><tr><td>OUT045</td><td>Dairy</td><td>154650.02659999992</td><td>848088.0504000001</td></tr><tr><td>OUT045</td><td>Canned</td><td>174307.7716</td><td>1022395.822</td></tr><tr><td>OUT045</td><td>Frozen Foods</td><td>177020.24080000006</td><td>1199416.0628000002</td></tr><tr><td>OUT045</td><td>Household</td><td>222456.43019999992</td><td>1421872.493</td></tr><tr><td>OUT045</td><td>Snack Foods</td><td>288438.54179999995</td><td>1710311.0348</td></tr><tr><td>OUT045</td><td>Fruits and Vegetables</td><td>326414.44219999993</td><td>2036725.477</td></tr><tr><td>OUT046</td><td>Breakfast</td><td>16599.725599999998</td><td>16599.725599999998</td></tr><tr><td>OUT046</td><td>Seafood</td><td>26314.413399999998</td><td>42914.138999999996</td></tr><tr><td>OUT046</td><td>Starchy Foods</td><td>39258.89699999999</td><td>82173.036</td></tr><tr><td>OUT046</td><td>Others</td><td>41540.59360000001</td><td>123713.6296</td></tr><tr><td>OUT046</td><td>Hard Drinks</td><td>44615.9238</td><td>168329.5534</td></tr><tr><td>OUT046</td><td>Breads</td><td>71870.4468</td><td>240200.0002</td></tr><tr><td>OUT046</td><td>Soft Drinks</td><td>86064.63699999999</td><td>326264.6372</td></tr><tr><td>OUT046</td><td>Meat</td><td>95072.24519999998</td><td>421336.8824</td></tr><tr><td>OUT046</td><td>Health and Hygiene</td><td>133189.2952</td><td>554526.1776</td></tr><tr><td>OUT046</td><td>Canned</td><td>173084.69699999996</td><td>727610.8746</td></tr><tr><td>OUT046</td><td>Baking Goods</td><td>173376.31740000003</td><td>900987.192</td></tr><tr><td>OUT046</td><td>Dairy</td><td>175086.09179999994</td><td>1076073.2837999999</td></tr><tr><td>OUT046</td><td>Household</td><td>219520.25220000002</td><td>1295593.5359999998</td></tr><tr><td>OUT046</td><td>Frozen Foods</td><td>243236.71399999992</td><td>1538830.2499999998</td></tr><tr><td>OUT046</td><td>Snack Foods</td><td>274813.6106000001</td><td>1813643.8605999998</td></tr><tr><td>OUT046</td><td>Fruits and Vegetables</td><td>304751.3075999998</td><td>2118395.1681999997</td></tr><tr><td>OUT049</td><td>Seafood</td><td>11827.2712</td><td>11827.2712</td></tr><tr><td>OUT049</td><td>Breakfast</td><td>30214.6698</td><td>42041.941</td></tr><tr><td>OUT049</td><td>Starchy Foods</td><td>42019.969600000004</td><td>84061.9106</td></tr><tr><td>OUT049</td><td>Others</td><td>47772.4816</td><td>131834.3922</td></tr><tr><td>OUT049</td><td>Breads</td><td>60490.593199999996</td><td>192324.9854</td></tr><tr><td>OUT049</td><td>Hard Drinks</td><td>62927.421200000004</td><td>255252.40660000002</td></tr><tr><td>OUT049</td><td>Soft Drinks</td><td>97585.64019999998</td><td>352838.0468</td></tr><tr><td>OUT049</td><td>Meat</td><td>105149.79400000001</td><td>457987.8408</td></tr><tr><td>OUT049</td><td>Health and Hygiene</td><td>112844.4446</td><td>570832.2854</td></tr><tr><td>OUT049</td><td>Canned</td><td>138138.18660000002</td><td>708970.4720000001</td></tr><tr><td>OUT049</td><td>Baking Goods</td><td>139263.3886</td><td>848233.8606</td></tr><tr><td>OUT049</td><td>Dairy</td><td>179680.7776</td><td>1027914.6382</td></tr><tr><td>OUT049</td><td>Frozen Foods</td><td>215879.65780000002</td><td>1243794.296</td></tr><tr><td>OUT049</td><td>Household</td><td>254817.6392</td><td>1498611.9352000002</td></tr><tr><td>OUT049</td><td>Fruits and Vegetables</td><td>335113.7849999999</td><td>1833725.7202</td></tr><tr><td>OUT049</td><td>Snack Foods</td><td>350244.09</td><td>2183969.8102</td></tr></tbody></table></div>"
      ]
     },
     "metadata": {
      "application/vnd.databricks.v1+output": {
       "addedWidgets": {},
       "aggData": [],
       "aggError": "",
       "aggOverflow": false,
       "aggSchema": [],
       "aggSeriesLimitReached": false,
       "aggType": "",
       "arguments": {},
       "columnCustomDisplayInfos": {},
       "data": [
        [
         "OUT010",
         "Seafood",
         947.4333999999999,
         947.4333999999999
        ],
        [
         "OUT010",
         "Starchy Foods",
         2733.7748,
         3681.2082
        ],
        [
         "OUT010",
         "Others",
         3256.4278,
         6937.636
        ],
        [
         "OUT010",
         "Hard Drinks",
         4067.3721999999993,
         11005.0082
        ],
        [
         "OUT010",
         "Breakfast",
         4081.3540000000003,
         15086.3622
        ],
        [
         "OUT010",
         "Breads",
         7657.3658000000005,
         22743.728
        ],
        [
         "OUT010",
         "Canned",
         9019.5926,
         31763.3206
        ],
        [
         "OUT010",
         "Soft Drinks",
         9441.044,
         41204.3646
        ],
        [
         "OUT010",
         "Baking Goods",
         10693.4138,
         51897.7784
        ],
        [
         "OUT010",
         "Health and Hygiene",
         13570.335600000002,
         65468.114
        ],
        [
         "OUT010",
         "Meat",
         13580.988400000002,
         79049.1024
        ],
        [
         "OUT010",
         "Dairy",
         15307.407800000003,
         94356.5102
        ],
        [
         "OUT010",
         "Frozen Foods",
         17942.644200000002,
         112299.1544
        ],
        [
         "OUT010",
         "Fruits and Vegetables",
         24548.046000000002,
         136847.2004
        ],
        [
         "OUT010",
         "Household",
         25550.075000000004,
         162397.2754
        ],
        [
         "OUT010",
         "Snack Foods",
         25942.897,
         188340.1724
        ],
        [
         "OUT013",
         "Seafood",
         8146.728799999999,
         8146.728799999999
        ],
        [
         "OUT013",
         "Breakfast",
         27355.7246,
         35502.4534
        ],
        [
         "OUT013",
         "Others",
         35238.13079999999,
         70740.58419999998
        ],
        [
         "OUT013",
         "Starchy Foods",
         43753.047,
         114493.63119999997
        ],
        [
         "OUT013",
         "Breads",
         52018.288199999995,
         166511.91939999996
        ],
        [
         "OUT013",
         "Hard Drinks",
         54362.56999999999,
         220874.48939999996
        ],
        [
         "OUT013",
         "Meat",
         95200.0788,
         316074.5682
        ],
        [
         "OUT013",
         "Soft Drinks",
         115234.66660000004,
         431309.23480000003
        ],
        [
         "OUT013",
         "Health and Hygiene",
         119135.58879999997,
         550444.8236
        ],
        [
         "OUT013",
         "Canned",
         143732.2382,
         694177.0618
        ],
        [
         "OUT013",
         "Baking Goods",
         149715.78279999996,
         843892.8446
        ],
        [
         "OUT013",
         "Dairy",
         196254.537,
         1040147.3816
        ],
        [
         "OUT013",
         "Frozen Foods",
         203696.8494,
         1243844.231
        ],
        [
         "OUT013",
         "Household",
         248046.45320000008,
         1491890.6842
        ],
        [
         "OUT013",
         "Snack Foods",
         309246.12340000004,
         1801136.8076
        ],
        [
         "OUT013",
         "Fruits and Vegetables",
         341526.7705999999,
         2142663.5782
        ],
        [
         "OUT017",
         "Seafood",
         10032.940200000001,
         10032.940200000001
        ],
        [
         "OUT017",
         "Breakfast",
         24436.191600000002,
         34469.1318
        ],
        [
         "OUT017",
         "Others",
         37388.66479999999,
         71857.7966
        ],
        [
         "OUT017",
         "Starchy Foods",
         43893.53080000001,
         115751.32740000001
        ],
        [
         "OUT017",
         "Breads",
         49008.8722,
         164760.1996
        ],
        [
         "OUT017",
         "Hard Drinks",
         55432.5106,
         220192.7102
        ],
        [
         "OUT017",
         "Meat",
         96822.63339999998,
         317015.34359999996
        ],
        [
         "OUT017",
         "Soft Drinks",
         123710.30059999999,
         440725.6442
        ],
        [
         "OUT017",
         "Health and Hygiene",
         124751.6118,
         565477.2559999999
        ],
        [
         "OUT017",
         "Baking Goods",
         147731.03299999994,
         713208.2889999999
        ],
        [
         "OUT017",
         "Canned",
         175853.0934,
         889061.3823999999
        ],
        [
         "OUT017",
         "Dairy",
         185955.2768,
         1075016.6591999999
        ],
        [
         "OUT017",
         "Household",
         222526.33920000007,
         1297542.9984
        ],
        [
         "OUT017",
         "Frozen Foods",
         239347.11039999995,
         1536890.1087999998
        ],
        [
         "OUT017",
         "Snack Foods",
         311071.0812,
         1847961.19
        ],
        [
         "OUT017",
         "Fruits and Vegetables",
         319504.10399999993,
         2167465.2939999998
        ],
        [
         "OUT018",
         "Seafood",
         22166.4794,
         22166.4794
        ],
        [
         "OUT018",
         "Breakfast",
         22496.0504,
         44662.529800000004
        ],
        [
         "OUT018",
         "Starchy Foods",
         33110.8998,
         77773.4296
        ],
        [
         "OUT018",
         "Others",
         37072.409799999994,
         114845.8394
        ],
        [
         "OUT018",
         "Hard Drinks",
         49445.636999999995,
         164291.47639999999
        ],
        [
         "OUT018",
         "Breads",
         54604.9212,
         218896.39759999997
        ],
        [
         "OUT018",
         "Soft Drinks",
         88495.47280000003,
         307391.8704
        ],
        [
         "OUT018",
         "Meat",
         94655.45439999999,
         402047.3248
        ],
        [
         "OUT018",
         "Health and Hygiene",
         108845.64980000003,
         510892.9746
        ],
        [
         "OUT018",
         "Baking Goods",
         121065.07719999997,
         631958.0518
        ],
        [
         "OUT018",
         "Canned",
         145681.70059999995,
         777639.7524
        ],
        [
         "OUT018",
         "Dairy",
         152130.63940000004,
         929770.3918000001
        ],
        [
         "OUT018",
         "Frozen Foods",
         183599.01059999998,
         1113369.4024
        ],
        [
         "OUT018",
         "Household",
         196267.18719999996,
         1309636.5896
        ],
        [
         "OUT018",
         "Fruits and Vegetables",
         263471.70759999997,
         1573108.2972
        ],
        [
         "OUT018",
         "Snack Foods",
         278714.53280000004,
         1851822.83
        ],
        [
         "OUT019",
         "Starchy Foods",
         1167.8132,
         1167.8132
        ],
        [
         "OUT019",
         "Seafood",
         1336.9263999999998,
         2504.7396
        ],
        [
         "OUT019",
         "Hard Drinks",
         1768.3648000000003,
         4273.1044
        ],
        [
         "OUT019",
         "Breakfast",
         3762.4358,
         8035.5402
        ],
        [
         "OUT019",
         "Others",
         4522.113599999999,
         12557.6538
        ],
        [
         "OUT019",
         "Breads",
         4947.5598,
         17505.2136
        ],
        [
         "OUT019",
         "Soft Drinks",
         9113.470399999998,
         26618.683999999997
        ],
        [
         "OUT019",
         "Health and Hygiene",
         10945.0862,
         37563.7702
        ],
        [
         "OUT019",
         "Meat",
         11995.7186,
         49559.4888
        ],
        [
         "OUT019",
         "Baking Goods",
         14133.602399999996,
         63693.091199999995
        ],
        [
         "OUT019",
         "Frozen Foods",
         15252.8122,
         78945.9034
        ],
        [
         "OUT019",
         "Dairy",
         16144.318399999995,
         95090.22179999998
        ],
        [
         "OUT019",
         "Canned",
         16739.543599999997,
         111829.76539999997
        ],
        [
         "OUT019",
         "Household",
         18157.031800000004,
         129986.79719999997
        ],
        [
         "OUT019",
         "Fruits and Vegetables",
         24054.022399999998,
         154040.81959999996
        ],
        [
         "OUT019",
         "Snack Foods",
         25653.274,
         179694.09359999996
        ],
        [
         "OUT027",
         "Seafood",
         18809.515799999997,
         18809.515799999997
        ],
        [
         "OUT027",
         "Others",
         40513.92999999999,
         59323.44579999999
        ],
        [
         "OUT027",
         "Starchy Foods",
         49170.66160000001,
         108494.1074
        ],
        [
         "OUT027",
         "Breakfast",
         50432.3526,
         158926.46
        ],
        [
         "OUT027",
         "Hard Drinks",
         78957.8878,
         237884.3478
        ],
        [
         "OUT027",
         "Breads",
         110518.80519999997,
         348403.15299999993
        ],
        [
         "OUT027",
         "Soft Drinks",
         147822.2476,
         496225.40059999994
        ],
        [
         "OUT027",
         "Health and Hygiene",
         199084.18699999998,
         695309.5876
        ],
        [
         "OUT027",
         "Meat",
         216288.45900000003,
         911598.0466
        ],
        [
         "OUT027",
         "Baking Goods",
         224172.19680000003,
         1135770.2434
        ],
        [
         "OUT027",
         "Dairy",
         262317.2104,
         1398087.4538
        ],
        [
         "OUT027",
         "Canned",
         272150.41059999994,
         1670237.8643999998
        ],
        [
         "OUT027",
         "Frozen Foods",
         316272.31080000004,
         1986510.1752
        ],
        [
         "OUT027",
         "Household",
         378299.5704000001,
         2364809.7456
        ],
        [
         "OUT027",
         "Snack Foods",
         513088.1171999999,
         2877897.8628
        ],
        [
         "OUT027",
         "Fruits and Vegetables",
         576028.1886000003,
         3453926.0514
        ],
        [
         "OUT035",
         "Seafood",
         23358.927200000002,
         23358.927200000002
        ],
        [
         "OUT035",
         "Breakfast",
         31117.494599999998,
         54476.4218
        ],
        [
         "OUT035",
         "Others",
         38047.806800000006,
         92524.2286
        ],
        [
         "OUT035",
         "Hard Drinks",
         49941.658,
         142465.8866
        ],
        [
         "OUT035",
         "Starchy Foods",
         57945.90560000001,
         200411.79220000003
        ],
        [
         "OUT035",
         "Breads",
         76456.4772,
         276868.2694
        ],
        [
         "OUT035",
         "Soft Drinks",
         106751.04299999999,
         383619.3124
        ],
        [
         "OUT035",
         "Meat",
         107193.8,
         490813.1124
        ],
        [
         "OUT035",
         "Health and Hygiene",
         118230.76660000003,
         609043.879
        ],
        [
         "OUT035",
         "Baking Goods",
         135005.5976,
         744049.4765999999
        ],
        [
         "OUT035",
         "Dairy",
         185067.7654,
         929117.242
        ],
        [
         "OUT035",
         "Canned",
         195444.2584,
         1124561.5004
        ],
        [
         "OUT035",
         "Frozen Foods",
         213487.4384,
         1338048.9388000001
        ],
        [
         "OUT035",
         "Household",
         269852.7347999999,
         1607901.6736
        ],
        [
         "OUT035",
         "Fruits and Vegetables",
         304647.4427999997,
         1912549.1163999997
        ],
        [
         "OUT035",
         "Snack Foods",
         355573.8189999999,
         2268122.9354
        ],
        [
         "OUT045",
         "Breakfast",
         21802.9526,
         21802.9526
        ],
        [
         "OUT045",
         "Seafood",
         25927.5836,
         47730.5362
        ],
        [
         "OUT045",
         "Starchy Foods",
         38346.751,
         86077.28719999999
        ],
        [
         "OUT045",
         "Others",
         40165.050800000005,
         126242.33799999999
        ],
        [
         "OUT045",
         "Hard Drinks",
         56274.08179999999,
         182516.41979999997
        ],
        [
         "OUT045",
         "Breads",
         65663.85919999999,
         248180.27899999998
        ],
        [
         "OUT045",
         "Meat",
         81606.4402,
         329786.7192
        ],
        [
         "OUT045",
         "Health and Hygiene",
         104603.1722,
         434389.89139999996
        ],
        [
         "OUT045",
         "Soft Drinks",
         108679.19980000003,
         543069.0912
        ],
        [
         "OUT045",
         "Baking Goods",
         150368.9326,
         693438.0238000001
        ],
        [
         "OUT045",
         "Dairy",
         154650.02659999992,
         848088.0504000001
        ],
        [
         "OUT045",
         "Canned",
         174307.7716,
         1022395.822
        ],
        [
         "OUT045",
         "Frozen Foods",
         177020.24080000006,
         1199416.0628000002
        ],
        [
         "OUT045",
         "Household",
         222456.43019999992,
         1421872.493
        ],
        [
         "OUT045",
         "Snack Foods",
         288438.54179999995,
         1710311.0348
        ],
        [
         "OUT045",
         "Fruits and Vegetables",
         326414.44219999993,
         2036725.477
        ],
        [
         "OUT046",
         "Breakfast",
         16599.725599999998,
         16599.725599999998
        ],
        [
         "OUT046",
         "Seafood",
         26314.413399999998,
         42914.138999999996
        ],
        [
         "OUT046",
         "Starchy Foods",
         39258.89699999999,
         82173.036
        ],
        [
         "OUT046",
         "Others",
         41540.59360000001,
         123713.6296
        ],
        [
         "OUT046",
         "Hard Drinks",
         44615.9238,
         168329.5534
        ],
        [
         "OUT046",
         "Breads",
         71870.4468,
         240200.0002
        ],
        [
         "OUT046",
         "Soft Drinks",
         86064.63699999999,
         326264.6372
        ],
        [
         "OUT046",
         "Meat",
         95072.24519999998,
         421336.8824
        ],
        [
         "OUT046",
         "Health and Hygiene",
         133189.2952,
         554526.1776
        ],
        [
         "OUT046",
         "Canned",
         173084.69699999996,
         727610.8746
        ],
        [
         "OUT046",
         "Baking Goods",
         173376.31740000003,
         900987.192
        ],
        [
         "OUT046",
         "Dairy",
         175086.09179999994,
         1076073.2837999999
        ],
        [
         "OUT046",
         "Household",
         219520.25220000002,
         1295593.5359999998
        ],
        [
         "OUT046",
         "Frozen Foods",
         243236.71399999992,
         1538830.2499999998
        ],
        [
         "OUT046",
         "Snack Foods",
         274813.6106000001,
         1813643.8605999998
        ],
        [
         "OUT046",
         "Fruits and Vegetables",
         304751.3075999998,
         2118395.1681999997
        ],
        [
         "OUT049",
         "Seafood",
         11827.2712,
         11827.2712
        ],
        [
         "OUT049",
         "Breakfast",
         30214.6698,
         42041.941
        ],
        [
         "OUT049",
         "Starchy Foods",
         42019.969600000004,
         84061.9106
        ],
        [
         "OUT049",
         "Others",
         47772.4816,
         131834.3922
        ],
        [
         "OUT049",
         "Breads",
         60490.593199999996,
         192324.9854
        ],
        [
         "OUT049",
         "Hard Drinks",
         62927.421200000004,
         255252.40660000002
        ],
        [
         "OUT049",
         "Soft Drinks",
         97585.64019999998,
         352838.0468
        ],
        [
         "OUT049",
         "Meat",
         105149.79400000001,
         457987.8408
        ],
        [
         "OUT049",
         "Health and Hygiene",
         112844.4446,
         570832.2854
        ],
        [
         "OUT049",
         "Canned",
         138138.18660000002,
         708970.4720000001
        ],
        [
         "OUT049",
         "Baking Goods",
         139263.3886,
         848233.8606
        ],
        [
         "OUT049",
         "Dairy",
         179680.7776,
         1027914.6382
        ],
        [
         "OUT049",
         "Frozen Foods",
         215879.65780000002,
         1243794.296
        ],
        [
         "OUT049",
         "Household",
         254817.6392,
         1498611.9352000002
        ],
        [
         "OUT049",
         "Fruits and Vegetables",
         335113.7849999999,
         1833725.7202
        ],
        [
         "OUT049",
         "Snack Foods",
         350244.09,
         2183969.8102
        ]
       ],
       "datasetInfos": [],
       "dbfsResultPath": null,
       "isJsonSchema": true,
       "metadata": {},
       "overflow": false,
       "plotOptions": {
        "customPlotOptions": {},
        "displayType": "table",
        "pivotAggregation": null,
        "pivotColumns": null,
        "xColumns": null,
        "yColumns": null
       },
       "removedWidgets": [],
       "schema": [
        {
         "metadata": "{}",
         "name": "Outlet_Identifier",
         "type": "\"string\""
        },
        {
         "metadata": "{}",
         "name": "Item_Type",
         "type": "\"string\""
        },
        {
         "metadata": "{}",
         "name": "Sum_outlet_sale",
         "type": "\"double\""
        },
        {
         "metadata": "{}",
         "name": "CumSum",
         "type": "\"double\""
        }
       ],
       "type": "table"
      }
     },
     "output_type": "display_data"
    }
   ],
   "source": [
    "df_outletSale_ItemType = df.groupBy([\"Outlet_Identifier\",\"Item_Type\"]).agg(sum(\"Item_Outlet_Sales\").alias(\"Sum_outlet_sale\"))\n",
    "\n",
    "window_spec = Window.partitionBy(col(\"Outlet_Identifier\")).orderBy([\"Outlet_Identifier\",\"Sum_outlet_sale\"]).rowsBetween(Window.unboundedPreceding,Window.currentRow)\n",
    "# creates window between first and current row\n",
    "df_outletSale_ItemType.withColumn(\"CumSum\", sum(\"Sum_outlet_sale\").over(window_spec)).display()"
   ]
  },
  {
   "cell_type": "markdown",
   "metadata": {
    "application/vnd.databricks.v1+cell": {
     "cellMetadata": {
      "byteLimit": 2048000,
      "rowLimit": 10000
     },
     "inputWidgets": {},
     "nuid": "a4701bb3-19a1-47b4-8844-a18f3410fc34",
     "showTitle": false,
     "tableResultSettingsMap": {},
     "title": ""
    }
   },
   "source": [
    "UDF user defined functions"
   ]
  },
  {
   "cell_type": "code",
   "execution_count": 0,
   "metadata": {
    "application/vnd.databricks.v1+cell": {
     "cellMetadata": {
      "byteLimit": 2048000,
      "rowLimit": 10000
     },
     "inputWidgets": {},
     "nuid": "541a99eb-833a-4aca-b2d5-9116f4b41b7f",
     "showTitle": false,
     "tableResultSettingsMap": {},
     "title": ""
    }
   },
   "outputs": [
    {
     "output_type": "display_data",
     "data": {
      "text/html": [
       "<style scoped>\n",
       "  .table-result-container {\n",
       "    max-height: 300px;\n",
       "    overflow: auto;\n",
       "  }\n",
       "  table, th, td {\n",
       "    border: 1px solid black;\n",
       "    border-collapse: collapse;\n",
       "  }\n",
       "  th, td {\n",
       "    padding: 5px;\n",
       "  }\n",
       "  th {\n",
       "    text-align: left;\n",
       "  }\n",
       "</style><div class='table-result-container'><table class='table-result'><thead style='background-color: white'><tr><th>Item_MRP</th><th>newcol</th></tr></thead><tbody><tr><td>249.8092</td><td>62404.636404640005</td></tr><tr><td>48.2692</td><td>2329.9156686399997</td></tr><tr><td>141.618</td><td>20055.657924</td></tr><tr><td>182.095</td><td>33158.589025</td></tr><tr><td>53.8614</td><td>2901.0504099600003</td></tr></tbody></table></div>"
      ]
     },
     "metadata": {
      "application/vnd.databricks.v1+output": {
       "addedWidgets": {},
       "aggData": [],
       "aggError": "",
       "aggOverflow": false,
       "aggSchema": [],
       "aggSeriesLimitReached": false,
       "aggType": "",
       "arguments": {},
       "columnCustomDisplayInfos": {},
       "data": [
        [
         249.8092,
         "62404.636404640005"
        ],
        [
         48.2692,
         "2329.9156686399997"
        ],
        [
         141.618,
         "20055.657924"
        ],
        [
         182.095,
         "33158.589025"
        ],
        [
         53.8614,
         "2901.0504099600003"
        ]
       ],
       "datasetInfos": [],
       "dbfsResultPath": null,
       "isJsonSchema": true,
       "metadata": {},
       "overflow": false,
       "plotOptions": {
        "customPlotOptions": {},
        "displayType": "table",
        "pivotAggregation": null,
        "pivotColumns": null,
        "xColumns": null,
        "yColumns": null
       },
       "removedWidgets": [],
       "schema": [
        {
         "metadata": "{}",
         "name": "Item_MRP",
         "type": "\"double\""
        },
        {
         "metadata": "{}",
         "name": "newcol",
         "type": "\"string\""
        }
       ],
       "type": "table"
      }
     },
     "output_type": "display_data"
    }
   ],
   "source": [
    "def my_func(x):\n",
    "    return x*x\n",
    "\n",
    "my_udf = udf(my_func)\n",
    "\n",
    "df.select(\"Item_MRP\").withColumn(\"newcol\", my_udf(col(\"Item_MRP\"))).limit(5).display()"
   ]
  },
  {
   "cell_type": "markdown",
   "metadata": {
    "application/vnd.databricks.v1+cell": {
     "cellMetadata": {
      "byteLimit": 2048000,
      "rowLimit": 10000
     },
     "inputWidgets": {},
     "nuid": "19ea1a81-1dc7-489b-9d1b-6371ae220e83",
     "showTitle": false,
     "tableResultSettingsMap": {},
     "title": ""
    }
   },
   "source": [
    "Spark SQL"
   ]
  },
  {
   "cell_type": "code",
   "execution_count": 0,
   "metadata": {
    "application/vnd.databricks.v1+cell": {
     "cellMetadata": {
      "byteLimit": 2048000,
      "rowLimit": 10000
     },
     "inputWidgets": {},
     "nuid": "fca9dad9-2bb6-437b-8278-6f4a9cb3d96b",
     "showTitle": false,
     "tableResultSettingsMap": {},
     "title": ""
    }
   },
   "outputs": [
    {
     "output_type": "display_data",
     "data": {
      "text/plain": [
       "\u001B[0;31m---------------------------------------------------------------------------\u001B[0m\n",
       "\u001B[0;31mAnalysisException\u001B[0m                         Traceback (most recent call last)\n",
       "File \u001B[0;32m<command-2011299768916966>, line 1\u001B[0m\n",
       "\u001B[0;32m----> 1\u001B[0m df\u001B[38;5;241m.\u001B[39mcreateTempView(\u001B[38;5;124m\"\u001B[39m\u001B[38;5;124mMyView\u001B[39m\u001B[38;5;124m\"\u001B[39m)\n",
       "\n",
       "File \u001B[0;32m/databricks/spark/python/pyspark/instrumentation_utils.py:47\u001B[0m, in \u001B[0;36m_wrap_function.<locals>.wrapper\u001B[0;34m(*args, **kwargs)\u001B[0m\n",
       "\u001B[1;32m     45\u001B[0m start \u001B[38;5;241m=\u001B[39m time\u001B[38;5;241m.\u001B[39mperf_counter()\n",
       "\u001B[1;32m     46\u001B[0m \u001B[38;5;28;01mtry\u001B[39;00m:\n",
       "\u001B[0;32m---> 47\u001B[0m     res \u001B[38;5;241m=\u001B[39m func(\u001B[38;5;241m*\u001B[39margs, \u001B[38;5;241m*\u001B[39m\u001B[38;5;241m*\u001B[39mkwargs)\n",
       "\u001B[1;32m     48\u001B[0m     logger\u001B[38;5;241m.\u001B[39mlog_success(\n",
       "\u001B[1;32m     49\u001B[0m         module_name, class_name, function_name, time\u001B[38;5;241m.\u001B[39mperf_counter() \u001B[38;5;241m-\u001B[39m start, signature\n",
       "\u001B[1;32m     50\u001B[0m     )\n",
       "\u001B[1;32m     51\u001B[0m     \u001B[38;5;28;01mreturn\u001B[39;00m res\n",
       "\n",
       "File \u001B[0;32m/databricks/spark/python/pyspark/sql/dataframe.py:419\u001B[0m, in \u001B[0;36mDataFrame.createTempView\u001B[0;34m(self, name)\u001B[0m\n",
       "\u001B[1;32m    356\u001B[0m \u001B[38;5;28;01mdef\u001B[39;00m \u001B[38;5;21mcreateTempView\u001B[39m(\u001B[38;5;28mself\u001B[39m, name: \u001B[38;5;28mstr\u001B[39m) \u001B[38;5;241m-\u001B[39m\u001B[38;5;241m>\u001B[39m \u001B[38;5;28;01mNone\u001B[39;00m:\n",
       "\u001B[1;32m    357\u001B[0m \u001B[38;5;250m    \u001B[39m\u001B[38;5;124;03m\"\"\"Creates a local temporary view with this :class:`DataFrame`.\u001B[39;00m\n",
       "\u001B[1;32m    358\u001B[0m \n",
       "\u001B[1;32m    359\u001B[0m \u001B[38;5;124;03m    The lifetime of this temporary table is tied to the :class:`SparkSession`\u001B[39;00m\n",
       "\u001B[0;32m   (...)\u001B[0m\n",
       "\u001B[1;32m    417\u001B[0m \u001B[38;5;124;03m    +---+----+\u001B[39;00m\n",
       "\u001B[1;32m    418\u001B[0m \u001B[38;5;124;03m    \"\"\"\u001B[39;00m\n",
       "\u001B[0;32m--> 419\u001B[0m     \u001B[38;5;28mself\u001B[39m\u001B[38;5;241m.\u001B[39m_jdf\u001B[38;5;241m.\u001B[39mcreateTempView(name)\n",
       "\n",
       "File \u001B[0;32m/databricks/spark/python/lib/py4j-0.10.9.7-src.zip/py4j/java_gateway.py:1355\u001B[0m, in \u001B[0;36mJavaMember.__call__\u001B[0;34m(self, *args)\u001B[0m\n",
       "\u001B[1;32m   1349\u001B[0m command \u001B[38;5;241m=\u001B[39m proto\u001B[38;5;241m.\u001B[39mCALL_COMMAND_NAME \u001B[38;5;241m+\u001B[39m\\\n",
       "\u001B[1;32m   1350\u001B[0m     \u001B[38;5;28mself\u001B[39m\u001B[38;5;241m.\u001B[39mcommand_header \u001B[38;5;241m+\u001B[39m\\\n",
       "\u001B[1;32m   1351\u001B[0m     args_command \u001B[38;5;241m+\u001B[39m\\\n",
       "\u001B[1;32m   1352\u001B[0m     proto\u001B[38;5;241m.\u001B[39mEND_COMMAND_PART\n",
       "\u001B[1;32m   1354\u001B[0m answer \u001B[38;5;241m=\u001B[39m \u001B[38;5;28mself\u001B[39m\u001B[38;5;241m.\u001B[39mgateway_client\u001B[38;5;241m.\u001B[39msend_command(command)\n",
       "\u001B[0;32m-> 1355\u001B[0m return_value \u001B[38;5;241m=\u001B[39m get_return_value(\n",
       "\u001B[1;32m   1356\u001B[0m     answer, \u001B[38;5;28mself\u001B[39m\u001B[38;5;241m.\u001B[39mgateway_client, \u001B[38;5;28mself\u001B[39m\u001B[38;5;241m.\u001B[39mtarget_id, \u001B[38;5;28mself\u001B[39m\u001B[38;5;241m.\u001B[39mname)\n",
       "\u001B[1;32m   1358\u001B[0m \u001B[38;5;28;01mfor\u001B[39;00m temp_arg \u001B[38;5;129;01min\u001B[39;00m temp_args:\n",
       "\u001B[1;32m   1359\u001B[0m     \u001B[38;5;28;01mif\u001B[39;00m \u001B[38;5;28mhasattr\u001B[39m(temp_arg, \u001B[38;5;124m\"\u001B[39m\u001B[38;5;124m_detach\u001B[39m\u001B[38;5;124m\"\u001B[39m):\n",
       "\n",
       "File \u001B[0;32m/databricks/spark/python/pyspark/errors/exceptions/captured.py:261\u001B[0m, in \u001B[0;36mcapture_sql_exception.<locals>.deco\u001B[0;34m(*a, **kw)\u001B[0m\n",
       "\u001B[1;32m    257\u001B[0m converted \u001B[38;5;241m=\u001B[39m convert_exception(e\u001B[38;5;241m.\u001B[39mjava_exception)\n",
       "\u001B[1;32m    258\u001B[0m \u001B[38;5;28;01mif\u001B[39;00m \u001B[38;5;129;01mnot\u001B[39;00m \u001B[38;5;28misinstance\u001B[39m(converted, UnknownException):\n",
       "\u001B[1;32m    259\u001B[0m     \u001B[38;5;66;03m# Hide where the exception came from that shows a non-Pythonic\u001B[39;00m\n",
       "\u001B[1;32m    260\u001B[0m     \u001B[38;5;66;03m# JVM exception message.\u001B[39;00m\n",
       "\u001B[0;32m--> 261\u001B[0m     \u001B[38;5;28;01mraise\u001B[39;00m converted \u001B[38;5;28;01mfrom\u001B[39;00m \u001B[38;5;28;01mNone\u001B[39;00m\n",
       "\u001B[1;32m    262\u001B[0m \u001B[38;5;28;01melse\u001B[39;00m:\n",
       "\u001B[1;32m    263\u001B[0m     \u001B[38;5;28;01mraise\u001B[39;00m\n",
       "\n",
       "\u001B[0;31mAnalysisException\u001B[0m: [TEMP_TABLE_OR_VIEW_ALREADY_EXISTS] Cannot create the temporary view `MyView` because it already exists.\n",
       "Choose a different name, drop or replace the existing view,  or add the IF NOT EXISTS clause to tolerate pre-existing views. SQLSTATE: 42P07"
      ]
     },
     "metadata": {
      "application/vnd.databricks.v1+output": {
       "addedWidgets": {},
       "arguments": {},
       "datasetInfos": [],
       "jupyterProps": {
        "ename": "AnalysisException",
        "evalue": "[TEMP_TABLE_OR_VIEW_ALREADY_EXISTS] Cannot create the temporary view `MyView` because it already exists.\nChoose a different name, drop or replace the existing view,  or add the IF NOT EXISTS clause to tolerate pre-existing views. SQLSTATE: 42P07"
       },
       "metadata": {
        "errorSummary": "[TEMP_TABLE_OR_VIEW_ALREADY_EXISTS] Cannot create the temporary view `MyView` because it already exists.\nChoose a different name, drop or replace the existing view,  or add the IF NOT EXISTS clause to tolerate pre-existing views. SQLSTATE: 42P07"
       },
       "removedWidgets": [],
       "sqlProps": {
        "errorClass": "TEMP_TABLE_OR_VIEW_ALREADY_EXISTS",
        "pysparkCallSite": null,
        "pysparkFragment": null,
        "sqlState": "42P07",
        "stackTrace": null,
        "startIndex": null,
        "stopIndex": null
       },
       "stackFrames": [
        "\u001B[0;31m---------------------------------------------------------------------------\u001B[0m",
        "\u001B[0;31mAnalysisException\u001B[0m                         Traceback (most recent call last)",
        "File \u001B[0;32m<command-2011299768916966>, line 1\u001B[0m\n\u001B[0;32m----> 1\u001B[0m df\u001B[38;5;241m.\u001B[39mcreateTempView(\u001B[38;5;124m\"\u001B[39m\u001B[38;5;124mMyView\u001B[39m\u001B[38;5;124m\"\u001B[39m)\n",
        "File \u001B[0;32m/databricks/spark/python/pyspark/instrumentation_utils.py:47\u001B[0m, in \u001B[0;36m_wrap_function.<locals>.wrapper\u001B[0;34m(*args, **kwargs)\u001B[0m\n\u001B[1;32m     45\u001B[0m start \u001B[38;5;241m=\u001B[39m time\u001B[38;5;241m.\u001B[39mperf_counter()\n\u001B[1;32m     46\u001B[0m \u001B[38;5;28;01mtry\u001B[39;00m:\n\u001B[0;32m---> 47\u001B[0m     res \u001B[38;5;241m=\u001B[39m func(\u001B[38;5;241m*\u001B[39margs, \u001B[38;5;241m*\u001B[39m\u001B[38;5;241m*\u001B[39mkwargs)\n\u001B[1;32m     48\u001B[0m     logger\u001B[38;5;241m.\u001B[39mlog_success(\n\u001B[1;32m     49\u001B[0m         module_name, class_name, function_name, time\u001B[38;5;241m.\u001B[39mperf_counter() \u001B[38;5;241m-\u001B[39m start, signature\n\u001B[1;32m     50\u001B[0m     )\n\u001B[1;32m     51\u001B[0m     \u001B[38;5;28;01mreturn\u001B[39;00m res\n",
        "File \u001B[0;32m/databricks/spark/python/pyspark/sql/dataframe.py:419\u001B[0m, in \u001B[0;36mDataFrame.createTempView\u001B[0;34m(self, name)\u001B[0m\n\u001B[1;32m    356\u001B[0m \u001B[38;5;28;01mdef\u001B[39;00m \u001B[38;5;21mcreateTempView\u001B[39m(\u001B[38;5;28mself\u001B[39m, name: \u001B[38;5;28mstr\u001B[39m) \u001B[38;5;241m-\u001B[39m\u001B[38;5;241m>\u001B[39m \u001B[38;5;28;01mNone\u001B[39;00m:\n\u001B[1;32m    357\u001B[0m \u001B[38;5;250m    \u001B[39m\u001B[38;5;124;03m\"\"\"Creates a local temporary view with this :class:`DataFrame`.\u001B[39;00m\n\u001B[1;32m    358\u001B[0m \n\u001B[1;32m    359\u001B[0m \u001B[38;5;124;03m    The lifetime of this temporary table is tied to the :class:`SparkSession`\u001B[39;00m\n\u001B[0;32m   (...)\u001B[0m\n\u001B[1;32m    417\u001B[0m \u001B[38;5;124;03m    +---+----+\u001B[39;00m\n\u001B[1;32m    418\u001B[0m \u001B[38;5;124;03m    \"\"\"\u001B[39;00m\n\u001B[0;32m--> 419\u001B[0m     \u001B[38;5;28mself\u001B[39m\u001B[38;5;241m.\u001B[39m_jdf\u001B[38;5;241m.\u001B[39mcreateTempView(name)\n",
        "File \u001B[0;32m/databricks/spark/python/lib/py4j-0.10.9.7-src.zip/py4j/java_gateway.py:1355\u001B[0m, in \u001B[0;36mJavaMember.__call__\u001B[0;34m(self, *args)\u001B[0m\n\u001B[1;32m   1349\u001B[0m command \u001B[38;5;241m=\u001B[39m proto\u001B[38;5;241m.\u001B[39mCALL_COMMAND_NAME \u001B[38;5;241m+\u001B[39m\\\n\u001B[1;32m   1350\u001B[0m     \u001B[38;5;28mself\u001B[39m\u001B[38;5;241m.\u001B[39mcommand_header \u001B[38;5;241m+\u001B[39m\\\n\u001B[1;32m   1351\u001B[0m     args_command \u001B[38;5;241m+\u001B[39m\\\n\u001B[1;32m   1352\u001B[0m     proto\u001B[38;5;241m.\u001B[39mEND_COMMAND_PART\n\u001B[1;32m   1354\u001B[0m answer \u001B[38;5;241m=\u001B[39m \u001B[38;5;28mself\u001B[39m\u001B[38;5;241m.\u001B[39mgateway_client\u001B[38;5;241m.\u001B[39msend_command(command)\n\u001B[0;32m-> 1355\u001B[0m return_value \u001B[38;5;241m=\u001B[39m get_return_value(\n\u001B[1;32m   1356\u001B[0m     answer, \u001B[38;5;28mself\u001B[39m\u001B[38;5;241m.\u001B[39mgateway_client, \u001B[38;5;28mself\u001B[39m\u001B[38;5;241m.\u001B[39mtarget_id, \u001B[38;5;28mself\u001B[39m\u001B[38;5;241m.\u001B[39mname)\n\u001B[1;32m   1358\u001B[0m \u001B[38;5;28;01mfor\u001B[39;00m temp_arg \u001B[38;5;129;01min\u001B[39;00m temp_args:\n\u001B[1;32m   1359\u001B[0m     \u001B[38;5;28;01mif\u001B[39;00m \u001B[38;5;28mhasattr\u001B[39m(temp_arg, \u001B[38;5;124m\"\u001B[39m\u001B[38;5;124m_detach\u001B[39m\u001B[38;5;124m\"\u001B[39m):\n",
        "File \u001B[0;32m/databricks/spark/python/pyspark/errors/exceptions/captured.py:261\u001B[0m, in \u001B[0;36mcapture_sql_exception.<locals>.deco\u001B[0;34m(*a, **kw)\u001B[0m\n\u001B[1;32m    257\u001B[0m converted \u001B[38;5;241m=\u001B[39m convert_exception(e\u001B[38;5;241m.\u001B[39mjava_exception)\n\u001B[1;32m    258\u001B[0m \u001B[38;5;28;01mif\u001B[39;00m \u001B[38;5;129;01mnot\u001B[39;00m \u001B[38;5;28misinstance\u001B[39m(converted, UnknownException):\n\u001B[1;32m    259\u001B[0m     \u001B[38;5;66;03m# Hide where the exception came from that shows a non-Pythonic\u001B[39;00m\n\u001B[1;32m    260\u001B[0m     \u001B[38;5;66;03m# JVM exception message.\u001B[39;00m\n\u001B[0;32m--> 261\u001B[0m     \u001B[38;5;28;01mraise\u001B[39;00m converted \u001B[38;5;28;01mfrom\u001B[39;00m \u001B[38;5;28;01mNone\u001B[39;00m\n\u001B[1;32m    262\u001B[0m \u001B[38;5;28;01melse\u001B[39;00m:\n\u001B[1;32m    263\u001B[0m     \u001B[38;5;28;01mraise\u001B[39;00m\n",
        "\u001B[0;31mAnalysisException\u001B[0m: [TEMP_TABLE_OR_VIEW_ALREADY_EXISTS] Cannot create the temporary view `MyView` because it already exists.\nChoose a different name, drop or replace the existing view,  or add the IF NOT EXISTS clause to tolerate pre-existing views. SQLSTATE: 42P07"
       ],
       "type": "baseError"
      }
     },
     "output_type": "display_data"
    }
   ],
   "source": [
    "df.createTempView(\"MyView\")"
   ]
  },
  {
   "cell_type": "code",
   "execution_count": 0,
   "metadata": {
    "application/vnd.databricks.v1+cell": {
     "cellMetadata": {
      "byteLimit": 2048000,
      "implicitDf": true,
      "rowLimit": 10000
     },
     "inputWidgets": {},
     "nuid": "197aa9c2-4615-4006-8128-0917f647141c",
     "showTitle": false,
     "tableResultSettingsMap": {},
     "title": ""
    }
   },
   "outputs": [
    {
     "output_type": "display_data",
     "data": {
      "text/plain": [
       "\u001B[0;31m---------------------------------------------------------------------------\u001B[0m\n",
       "\u001B[0;31mAnalysisException\u001B[0m                         Traceback (most recent call last)\n",
       "File \u001B[0;32m<command-2011299768916966>, line 1\u001B[0m\n",
       "\u001B[0;32m----> 1\u001B[0m df\u001B[38;5;241m.\u001B[39mcreateTempView(\u001B[38;5;124m\"\u001B[39m\u001B[38;5;124mMyView\u001B[39m\u001B[38;5;124m\"\u001B[39m)\n",
       "\n",
       "File \u001B[0;32m/databricks/spark/python/pyspark/instrumentation_utils.py:47\u001B[0m, in \u001B[0;36m_wrap_function.<locals>.wrapper\u001B[0;34m(*args, **kwargs)\u001B[0m\n",
       "\u001B[1;32m     45\u001B[0m start \u001B[38;5;241m=\u001B[39m time\u001B[38;5;241m.\u001B[39mperf_counter()\n",
       "\u001B[1;32m     46\u001B[0m \u001B[38;5;28;01mtry\u001B[39;00m:\n",
       "\u001B[0;32m---> 47\u001B[0m     res \u001B[38;5;241m=\u001B[39m func(\u001B[38;5;241m*\u001B[39margs, \u001B[38;5;241m*\u001B[39m\u001B[38;5;241m*\u001B[39mkwargs)\n",
       "\u001B[1;32m     48\u001B[0m     logger\u001B[38;5;241m.\u001B[39mlog_success(\n",
       "\u001B[1;32m     49\u001B[0m         module_name, class_name, function_name, time\u001B[38;5;241m.\u001B[39mperf_counter() \u001B[38;5;241m-\u001B[39m start, signature\n",
       "\u001B[1;32m     50\u001B[0m     )\n",
       "\u001B[1;32m     51\u001B[0m     \u001B[38;5;28;01mreturn\u001B[39;00m res\n",
       "\n",
       "File \u001B[0;32m/databricks/spark/python/pyspark/sql/dataframe.py:419\u001B[0m, in \u001B[0;36mDataFrame.createTempView\u001B[0;34m(self, name)\u001B[0m\n",
       "\u001B[1;32m    356\u001B[0m \u001B[38;5;28;01mdef\u001B[39;00m \u001B[38;5;21mcreateTempView\u001B[39m(\u001B[38;5;28mself\u001B[39m, name: \u001B[38;5;28mstr\u001B[39m) \u001B[38;5;241m-\u001B[39m\u001B[38;5;241m>\u001B[39m \u001B[38;5;28;01mNone\u001B[39;00m:\n",
       "\u001B[1;32m    357\u001B[0m \u001B[38;5;250m    \u001B[39m\u001B[38;5;124;03m\"\"\"Creates a local temporary view with this :class:`DataFrame`.\u001B[39;00m\n",
       "\u001B[1;32m    358\u001B[0m \n",
       "\u001B[1;32m    359\u001B[0m \u001B[38;5;124;03m    The lifetime of this temporary table is tied to the :class:`SparkSession`\u001B[39;00m\n",
       "\u001B[0;32m   (...)\u001B[0m\n",
       "\u001B[1;32m    417\u001B[0m \u001B[38;5;124;03m    +---+----+\u001B[39;00m\n",
       "\u001B[1;32m    418\u001B[0m \u001B[38;5;124;03m    \"\"\"\u001B[39;00m\n",
       "\u001B[0;32m--> 419\u001B[0m     \u001B[38;5;28mself\u001B[39m\u001B[38;5;241m.\u001B[39m_jdf\u001B[38;5;241m.\u001B[39mcreateTempView(name)\n",
       "\n",
       "File \u001B[0;32m/databricks/spark/python/lib/py4j-0.10.9.7-src.zip/py4j/java_gateway.py:1355\u001B[0m, in \u001B[0;36mJavaMember.__call__\u001B[0;34m(self, *args)\u001B[0m\n",
       "\u001B[1;32m   1349\u001B[0m command \u001B[38;5;241m=\u001B[39m proto\u001B[38;5;241m.\u001B[39mCALL_COMMAND_NAME \u001B[38;5;241m+\u001B[39m\\\n",
       "\u001B[1;32m   1350\u001B[0m     \u001B[38;5;28mself\u001B[39m\u001B[38;5;241m.\u001B[39mcommand_header \u001B[38;5;241m+\u001B[39m\\\n",
       "\u001B[1;32m   1351\u001B[0m     args_command \u001B[38;5;241m+\u001B[39m\\\n",
       "\u001B[1;32m   1352\u001B[0m     proto\u001B[38;5;241m.\u001B[39mEND_COMMAND_PART\n",
       "\u001B[1;32m   1354\u001B[0m answer \u001B[38;5;241m=\u001B[39m \u001B[38;5;28mself\u001B[39m\u001B[38;5;241m.\u001B[39mgateway_client\u001B[38;5;241m.\u001B[39msend_command(command)\n",
       "\u001B[0;32m-> 1355\u001B[0m return_value \u001B[38;5;241m=\u001B[39m get_return_value(\n",
       "\u001B[1;32m   1356\u001B[0m     answer, \u001B[38;5;28mself\u001B[39m\u001B[38;5;241m.\u001B[39mgateway_client, \u001B[38;5;28mself\u001B[39m\u001B[38;5;241m.\u001B[39mtarget_id, \u001B[38;5;28mself\u001B[39m\u001B[38;5;241m.\u001B[39mname)\n",
       "\u001B[1;32m   1358\u001B[0m \u001B[38;5;28;01mfor\u001B[39;00m temp_arg \u001B[38;5;129;01min\u001B[39;00m temp_args:\n",
       "\u001B[1;32m   1359\u001B[0m     \u001B[38;5;28;01mif\u001B[39;00m \u001B[38;5;28mhasattr\u001B[39m(temp_arg, \u001B[38;5;124m\"\u001B[39m\u001B[38;5;124m_detach\u001B[39m\u001B[38;5;124m\"\u001B[39m):\n",
       "\n",
       "File \u001B[0;32m/databricks/spark/python/pyspark/errors/exceptions/captured.py:261\u001B[0m, in \u001B[0;36mcapture_sql_exception.<locals>.deco\u001B[0;34m(*a, **kw)\u001B[0m\n",
       "\u001B[1;32m    257\u001B[0m converted \u001B[38;5;241m=\u001B[39m convert_exception(e\u001B[38;5;241m.\u001B[39mjava_exception)\n",
       "\u001B[1;32m    258\u001B[0m \u001B[38;5;28;01mif\u001B[39;00m \u001B[38;5;129;01mnot\u001B[39;00m \u001B[38;5;28misinstance\u001B[39m(converted, UnknownException):\n",
       "\u001B[1;32m    259\u001B[0m     \u001B[38;5;66;03m# Hide where the exception came from that shows a non-Pythonic\u001B[39;00m\n",
       "\u001B[1;32m    260\u001B[0m     \u001B[38;5;66;03m# JVM exception message.\u001B[39;00m\n",
       "\u001B[0;32m--> 261\u001B[0m     \u001B[38;5;28;01mraise\u001B[39;00m converted \u001B[38;5;28;01mfrom\u001B[39;00m \u001B[38;5;28;01mNone\u001B[39;00m\n",
       "\u001B[1;32m    262\u001B[0m \u001B[38;5;28;01melse\u001B[39;00m:\n",
       "\u001B[1;32m    263\u001B[0m     \u001B[38;5;28;01mraise\u001B[39;00m\n",
       "\n",
       "\u001B[0;31mAnalysisException\u001B[0m: [TEMP_TABLE_OR_VIEW_ALREADY_EXISTS] Cannot create the temporary view `MyView` because it already exists.\n",
       "Choose a different name, drop or replace the existing view,  or add the IF NOT EXISTS clause to tolerate pre-existing views. SQLSTATE: 42P07"
      ]
     },
     "metadata": {
      "application/vnd.databricks.v1+output": {
       "addedWidgets": {},
       "arguments": {},
       "datasetInfos": [],
       "jupyterProps": {
        "ename": "AnalysisException",
        "evalue": "[TEMP_TABLE_OR_VIEW_ALREADY_EXISTS] Cannot create the temporary view `MyView` because it already exists.\nChoose a different name, drop or replace the existing view,  or add the IF NOT EXISTS clause to tolerate pre-existing views. SQLSTATE: 42P07"
       },
       "metadata": {
        "errorSummary": "Command skipped"
       },
       "removedWidgets": [],
       "sqlProps": {
        "errorClass": "TEMP_TABLE_OR_VIEW_ALREADY_EXISTS",
        "pysparkCallSite": null,
        "pysparkFragment": null,
        "sqlState": "42P07",
        "stackTrace": null,
        "startIndex": null,
        "stopIndex": null
       },
       "stackFrames": [
        "\u001B[0;31m---------------------------------------------------------------------------\u001B[0m",
        "\u001B[0;31mAnalysisException\u001B[0m                         Traceback (most recent call last)",
        "File \u001B[0;32m<command-2011299768916966>, line 1\u001B[0m\n\u001B[0;32m----> 1\u001B[0m df\u001B[38;5;241m.\u001B[39mcreateTempView(\u001B[38;5;124m\"\u001B[39m\u001B[38;5;124mMyView\u001B[39m\u001B[38;5;124m\"\u001B[39m)\n",
        "File \u001B[0;32m/databricks/spark/python/pyspark/instrumentation_utils.py:47\u001B[0m, in \u001B[0;36m_wrap_function.<locals>.wrapper\u001B[0;34m(*args, **kwargs)\u001B[0m\n\u001B[1;32m     45\u001B[0m start \u001B[38;5;241m=\u001B[39m time\u001B[38;5;241m.\u001B[39mperf_counter()\n\u001B[1;32m     46\u001B[0m \u001B[38;5;28;01mtry\u001B[39;00m:\n\u001B[0;32m---> 47\u001B[0m     res \u001B[38;5;241m=\u001B[39m func(\u001B[38;5;241m*\u001B[39margs, \u001B[38;5;241m*\u001B[39m\u001B[38;5;241m*\u001B[39mkwargs)\n\u001B[1;32m     48\u001B[0m     logger\u001B[38;5;241m.\u001B[39mlog_success(\n\u001B[1;32m     49\u001B[0m         module_name, class_name, function_name, time\u001B[38;5;241m.\u001B[39mperf_counter() \u001B[38;5;241m-\u001B[39m start, signature\n\u001B[1;32m     50\u001B[0m     )\n\u001B[1;32m     51\u001B[0m     \u001B[38;5;28;01mreturn\u001B[39;00m res\n",
        "File \u001B[0;32m/databricks/spark/python/pyspark/sql/dataframe.py:419\u001B[0m, in \u001B[0;36mDataFrame.createTempView\u001B[0;34m(self, name)\u001B[0m\n\u001B[1;32m    356\u001B[0m \u001B[38;5;28;01mdef\u001B[39;00m \u001B[38;5;21mcreateTempView\u001B[39m(\u001B[38;5;28mself\u001B[39m, name: \u001B[38;5;28mstr\u001B[39m) \u001B[38;5;241m-\u001B[39m\u001B[38;5;241m>\u001B[39m \u001B[38;5;28;01mNone\u001B[39;00m:\n\u001B[1;32m    357\u001B[0m \u001B[38;5;250m    \u001B[39m\u001B[38;5;124;03m\"\"\"Creates a local temporary view with this :class:`DataFrame`.\u001B[39;00m\n\u001B[1;32m    358\u001B[0m \n\u001B[1;32m    359\u001B[0m \u001B[38;5;124;03m    The lifetime of this temporary table is tied to the :class:`SparkSession`\u001B[39;00m\n\u001B[0;32m   (...)\u001B[0m\n\u001B[1;32m    417\u001B[0m \u001B[38;5;124;03m    +---+----+\u001B[39;00m\n\u001B[1;32m    418\u001B[0m \u001B[38;5;124;03m    \"\"\"\u001B[39;00m\n\u001B[0;32m--> 419\u001B[0m     \u001B[38;5;28mself\u001B[39m\u001B[38;5;241m.\u001B[39m_jdf\u001B[38;5;241m.\u001B[39mcreateTempView(name)\n",
        "File \u001B[0;32m/databricks/spark/python/lib/py4j-0.10.9.7-src.zip/py4j/java_gateway.py:1355\u001B[0m, in \u001B[0;36mJavaMember.__call__\u001B[0;34m(self, *args)\u001B[0m\n\u001B[1;32m   1349\u001B[0m command \u001B[38;5;241m=\u001B[39m proto\u001B[38;5;241m.\u001B[39mCALL_COMMAND_NAME \u001B[38;5;241m+\u001B[39m\\\n\u001B[1;32m   1350\u001B[0m     \u001B[38;5;28mself\u001B[39m\u001B[38;5;241m.\u001B[39mcommand_header \u001B[38;5;241m+\u001B[39m\\\n\u001B[1;32m   1351\u001B[0m     args_command \u001B[38;5;241m+\u001B[39m\\\n\u001B[1;32m   1352\u001B[0m     proto\u001B[38;5;241m.\u001B[39mEND_COMMAND_PART\n\u001B[1;32m   1354\u001B[0m answer \u001B[38;5;241m=\u001B[39m \u001B[38;5;28mself\u001B[39m\u001B[38;5;241m.\u001B[39mgateway_client\u001B[38;5;241m.\u001B[39msend_command(command)\n\u001B[0;32m-> 1355\u001B[0m return_value \u001B[38;5;241m=\u001B[39m get_return_value(\n\u001B[1;32m   1356\u001B[0m     answer, \u001B[38;5;28mself\u001B[39m\u001B[38;5;241m.\u001B[39mgateway_client, \u001B[38;5;28mself\u001B[39m\u001B[38;5;241m.\u001B[39mtarget_id, \u001B[38;5;28mself\u001B[39m\u001B[38;5;241m.\u001B[39mname)\n\u001B[1;32m   1358\u001B[0m \u001B[38;5;28;01mfor\u001B[39;00m temp_arg \u001B[38;5;129;01min\u001B[39;00m temp_args:\n\u001B[1;32m   1359\u001B[0m     \u001B[38;5;28;01mif\u001B[39;00m \u001B[38;5;28mhasattr\u001B[39m(temp_arg, \u001B[38;5;124m\"\u001B[39m\u001B[38;5;124m_detach\u001B[39m\u001B[38;5;124m\"\u001B[39m):\n",
        "File \u001B[0;32m/databricks/spark/python/pyspark/errors/exceptions/captured.py:261\u001B[0m, in \u001B[0;36mcapture_sql_exception.<locals>.deco\u001B[0;34m(*a, **kw)\u001B[0m\n\u001B[1;32m    257\u001B[0m converted \u001B[38;5;241m=\u001B[39m convert_exception(e\u001B[38;5;241m.\u001B[39mjava_exception)\n\u001B[1;32m    258\u001B[0m \u001B[38;5;28;01mif\u001B[39;00m \u001B[38;5;129;01mnot\u001B[39;00m \u001B[38;5;28misinstance\u001B[39m(converted, UnknownException):\n\u001B[1;32m    259\u001B[0m     \u001B[38;5;66;03m# Hide where the exception came from that shows a non-Pythonic\u001B[39;00m\n\u001B[1;32m    260\u001B[0m     \u001B[38;5;66;03m# JVM exception message.\u001B[39;00m\n\u001B[0;32m--> 261\u001B[0m     \u001B[38;5;28;01mraise\u001B[39;00m converted \u001B[38;5;28;01mfrom\u001B[39;00m \u001B[38;5;28;01mNone\u001B[39;00m\n\u001B[1;32m    262\u001B[0m \u001B[38;5;28;01melse\u001B[39;00m:\n\u001B[1;32m    263\u001B[0m     \u001B[38;5;28;01mraise\u001B[39;00m\n",
        "\u001B[0;31mAnalysisException\u001B[0m: [TEMP_TABLE_OR_VIEW_ALREADY_EXISTS] Cannot create the temporary view `MyView` because it already exists.\nChoose a different name, drop or replace the existing view,  or add the IF NOT EXISTS clause to tolerate pre-existing views. SQLSTATE: 42P07"
       ],
       "type": "baseError"
      }
     },
     "output_type": "display_data"
    }
   ],
   "source": [
    "%sql\n",
    "select * from MyView order by Item_MRP desc limit 10"
   ]
  },
  {
   "cell_type": "code",
   "execution_count": 0,
   "metadata": {
    "application/vnd.databricks.v1+cell": {
     "cellMetadata": {
      "byteLimit": 2048000,
      "rowLimit": 10000
     },
     "inputWidgets": {},
     "nuid": "551170f6-9f1b-418e-ae5a-9a57873a8752",
     "showTitle": false,
     "tableResultSettingsMap": {},
     "title": ""
    }
   },
   "outputs": [
    {
     "output_type": "display_data",
     "data": {
      "text/plain": [
       "\u001B[0;31m---------------------------------------------------------------------------\u001B[0m\n",
       "\u001B[0;31mAnalysisException\u001B[0m                         Traceback (most recent call last)\n",
       "File \u001B[0;32m<command-2011299768916966>, line 1\u001B[0m\n",
       "\u001B[0;32m----> 1\u001B[0m df\u001B[38;5;241m.\u001B[39mcreateTempView(\u001B[38;5;124m\"\u001B[39m\u001B[38;5;124mMyView\u001B[39m\u001B[38;5;124m\"\u001B[39m)\n",
       "\n",
       "File \u001B[0;32m/databricks/spark/python/pyspark/instrumentation_utils.py:47\u001B[0m, in \u001B[0;36m_wrap_function.<locals>.wrapper\u001B[0;34m(*args, **kwargs)\u001B[0m\n",
       "\u001B[1;32m     45\u001B[0m start \u001B[38;5;241m=\u001B[39m time\u001B[38;5;241m.\u001B[39mperf_counter()\n",
       "\u001B[1;32m     46\u001B[0m \u001B[38;5;28;01mtry\u001B[39;00m:\n",
       "\u001B[0;32m---> 47\u001B[0m     res \u001B[38;5;241m=\u001B[39m func(\u001B[38;5;241m*\u001B[39margs, \u001B[38;5;241m*\u001B[39m\u001B[38;5;241m*\u001B[39mkwargs)\n",
       "\u001B[1;32m     48\u001B[0m     logger\u001B[38;5;241m.\u001B[39mlog_success(\n",
       "\u001B[1;32m     49\u001B[0m         module_name, class_name, function_name, time\u001B[38;5;241m.\u001B[39mperf_counter() \u001B[38;5;241m-\u001B[39m start, signature\n",
       "\u001B[1;32m     50\u001B[0m     )\n",
       "\u001B[1;32m     51\u001B[0m     \u001B[38;5;28;01mreturn\u001B[39;00m res\n",
       "\n",
       "File \u001B[0;32m/databricks/spark/python/pyspark/sql/dataframe.py:419\u001B[0m, in \u001B[0;36mDataFrame.createTempView\u001B[0;34m(self, name)\u001B[0m\n",
       "\u001B[1;32m    356\u001B[0m \u001B[38;5;28;01mdef\u001B[39;00m \u001B[38;5;21mcreateTempView\u001B[39m(\u001B[38;5;28mself\u001B[39m, name: \u001B[38;5;28mstr\u001B[39m) \u001B[38;5;241m-\u001B[39m\u001B[38;5;241m>\u001B[39m \u001B[38;5;28;01mNone\u001B[39;00m:\n",
       "\u001B[1;32m    357\u001B[0m \u001B[38;5;250m    \u001B[39m\u001B[38;5;124;03m\"\"\"Creates a local temporary view with this :class:`DataFrame`.\u001B[39;00m\n",
       "\u001B[1;32m    358\u001B[0m \n",
       "\u001B[1;32m    359\u001B[0m \u001B[38;5;124;03m    The lifetime of this temporary table is tied to the :class:`SparkSession`\u001B[39;00m\n",
       "\u001B[0;32m   (...)\u001B[0m\n",
       "\u001B[1;32m    417\u001B[0m \u001B[38;5;124;03m    +---+----+\u001B[39;00m\n",
       "\u001B[1;32m    418\u001B[0m \u001B[38;5;124;03m    \"\"\"\u001B[39;00m\n",
       "\u001B[0;32m--> 419\u001B[0m     \u001B[38;5;28mself\u001B[39m\u001B[38;5;241m.\u001B[39m_jdf\u001B[38;5;241m.\u001B[39mcreateTempView(name)\n",
       "\n",
       "File \u001B[0;32m/databricks/spark/python/lib/py4j-0.10.9.7-src.zip/py4j/java_gateway.py:1355\u001B[0m, in \u001B[0;36mJavaMember.__call__\u001B[0;34m(self, *args)\u001B[0m\n",
       "\u001B[1;32m   1349\u001B[0m command \u001B[38;5;241m=\u001B[39m proto\u001B[38;5;241m.\u001B[39mCALL_COMMAND_NAME \u001B[38;5;241m+\u001B[39m\\\n",
       "\u001B[1;32m   1350\u001B[0m     \u001B[38;5;28mself\u001B[39m\u001B[38;5;241m.\u001B[39mcommand_header \u001B[38;5;241m+\u001B[39m\\\n",
       "\u001B[1;32m   1351\u001B[0m     args_command \u001B[38;5;241m+\u001B[39m\\\n",
       "\u001B[1;32m   1352\u001B[0m     proto\u001B[38;5;241m.\u001B[39mEND_COMMAND_PART\n",
       "\u001B[1;32m   1354\u001B[0m answer \u001B[38;5;241m=\u001B[39m \u001B[38;5;28mself\u001B[39m\u001B[38;5;241m.\u001B[39mgateway_client\u001B[38;5;241m.\u001B[39msend_command(command)\n",
       "\u001B[0;32m-> 1355\u001B[0m return_value \u001B[38;5;241m=\u001B[39m get_return_value(\n",
       "\u001B[1;32m   1356\u001B[0m     answer, \u001B[38;5;28mself\u001B[39m\u001B[38;5;241m.\u001B[39mgateway_client, \u001B[38;5;28mself\u001B[39m\u001B[38;5;241m.\u001B[39mtarget_id, \u001B[38;5;28mself\u001B[39m\u001B[38;5;241m.\u001B[39mname)\n",
       "\u001B[1;32m   1358\u001B[0m \u001B[38;5;28;01mfor\u001B[39;00m temp_arg \u001B[38;5;129;01min\u001B[39;00m temp_args:\n",
       "\u001B[1;32m   1359\u001B[0m     \u001B[38;5;28;01mif\u001B[39;00m \u001B[38;5;28mhasattr\u001B[39m(temp_arg, \u001B[38;5;124m\"\u001B[39m\u001B[38;5;124m_detach\u001B[39m\u001B[38;5;124m\"\u001B[39m):\n",
       "\n",
       "File \u001B[0;32m/databricks/spark/python/pyspark/errors/exceptions/captured.py:261\u001B[0m, in \u001B[0;36mcapture_sql_exception.<locals>.deco\u001B[0;34m(*a, **kw)\u001B[0m\n",
       "\u001B[1;32m    257\u001B[0m converted \u001B[38;5;241m=\u001B[39m convert_exception(e\u001B[38;5;241m.\u001B[39mjava_exception)\n",
       "\u001B[1;32m    258\u001B[0m \u001B[38;5;28;01mif\u001B[39;00m \u001B[38;5;129;01mnot\u001B[39;00m \u001B[38;5;28misinstance\u001B[39m(converted, UnknownException):\n",
       "\u001B[1;32m    259\u001B[0m     \u001B[38;5;66;03m# Hide where the exception came from that shows a non-Pythonic\u001B[39;00m\n",
       "\u001B[1;32m    260\u001B[0m     \u001B[38;5;66;03m# JVM exception message.\u001B[39;00m\n",
       "\u001B[0;32m--> 261\u001B[0m     \u001B[38;5;28;01mraise\u001B[39;00m converted \u001B[38;5;28;01mfrom\u001B[39;00m \u001B[38;5;28;01mNone\u001B[39;00m\n",
       "\u001B[1;32m    262\u001B[0m \u001B[38;5;28;01melse\u001B[39;00m:\n",
       "\u001B[1;32m    263\u001B[0m     \u001B[38;5;28;01mraise\u001B[39;00m\n",
       "\n",
       "\u001B[0;31mAnalysisException\u001B[0m: [TEMP_TABLE_OR_VIEW_ALREADY_EXISTS] Cannot create the temporary view `MyView` because it already exists.\n",
       "Choose a different name, drop or replace the existing view,  or add the IF NOT EXISTS clause to tolerate pre-existing views. SQLSTATE: 42P07"
      ]
     },
     "metadata": {
      "application/vnd.databricks.v1+output": {
       "addedWidgets": {},
       "arguments": {},
       "datasetInfos": [],
       "jupyterProps": {
        "ename": "AnalysisException",
        "evalue": "[TEMP_TABLE_OR_VIEW_ALREADY_EXISTS] Cannot create the temporary view `MyView` because it already exists.\nChoose a different name, drop or replace the existing view,  or add the IF NOT EXISTS clause to tolerate pre-existing views. SQLSTATE: 42P07"
       },
       "metadata": {
        "errorSummary": "Command skipped"
       },
       "removedWidgets": [],
       "sqlProps": {
        "errorClass": "TEMP_TABLE_OR_VIEW_ALREADY_EXISTS",
        "pysparkCallSite": null,
        "pysparkFragment": null,
        "sqlState": "42P07",
        "stackTrace": null,
        "startIndex": null,
        "stopIndex": null
       },
       "stackFrames": [
        "\u001B[0;31m---------------------------------------------------------------------------\u001B[0m",
        "\u001B[0;31mAnalysisException\u001B[0m                         Traceback (most recent call last)",
        "File \u001B[0;32m<command-2011299768916966>, line 1\u001B[0m\n\u001B[0;32m----> 1\u001B[0m df\u001B[38;5;241m.\u001B[39mcreateTempView(\u001B[38;5;124m\"\u001B[39m\u001B[38;5;124mMyView\u001B[39m\u001B[38;5;124m\"\u001B[39m)\n",
        "File \u001B[0;32m/databricks/spark/python/pyspark/instrumentation_utils.py:47\u001B[0m, in \u001B[0;36m_wrap_function.<locals>.wrapper\u001B[0;34m(*args, **kwargs)\u001B[0m\n\u001B[1;32m     45\u001B[0m start \u001B[38;5;241m=\u001B[39m time\u001B[38;5;241m.\u001B[39mperf_counter()\n\u001B[1;32m     46\u001B[0m \u001B[38;5;28;01mtry\u001B[39;00m:\n\u001B[0;32m---> 47\u001B[0m     res \u001B[38;5;241m=\u001B[39m func(\u001B[38;5;241m*\u001B[39margs, \u001B[38;5;241m*\u001B[39m\u001B[38;5;241m*\u001B[39mkwargs)\n\u001B[1;32m     48\u001B[0m     logger\u001B[38;5;241m.\u001B[39mlog_success(\n\u001B[1;32m     49\u001B[0m         module_name, class_name, function_name, time\u001B[38;5;241m.\u001B[39mperf_counter() \u001B[38;5;241m-\u001B[39m start, signature\n\u001B[1;32m     50\u001B[0m     )\n\u001B[1;32m     51\u001B[0m     \u001B[38;5;28;01mreturn\u001B[39;00m res\n",
        "File \u001B[0;32m/databricks/spark/python/pyspark/sql/dataframe.py:419\u001B[0m, in \u001B[0;36mDataFrame.createTempView\u001B[0;34m(self, name)\u001B[0m\n\u001B[1;32m    356\u001B[0m \u001B[38;5;28;01mdef\u001B[39;00m \u001B[38;5;21mcreateTempView\u001B[39m(\u001B[38;5;28mself\u001B[39m, name: \u001B[38;5;28mstr\u001B[39m) \u001B[38;5;241m-\u001B[39m\u001B[38;5;241m>\u001B[39m \u001B[38;5;28;01mNone\u001B[39;00m:\n\u001B[1;32m    357\u001B[0m \u001B[38;5;250m    \u001B[39m\u001B[38;5;124;03m\"\"\"Creates a local temporary view with this :class:`DataFrame`.\u001B[39;00m\n\u001B[1;32m    358\u001B[0m \n\u001B[1;32m    359\u001B[0m \u001B[38;5;124;03m    The lifetime of this temporary table is tied to the :class:`SparkSession`\u001B[39;00m\n\u001B[0;32m   (...)\u001B[0m\n\u001B[1;32m    417\u001B[0m \u001B[38;5;124;03m    +---+----+\u001B[39;00m\n\u001B[1;32m    418\u001B[0m \u001B[38;5;124;03m    \"\"\"\u001B[39;00m\n\u001B[0;32m--> 419\u001B[0m     \u001B[38;5;28mself\u001B[39m\u001B[38;5;241m.\u001B[39m_jdf\u001B[38;5;241m.\u001B[39mcreateTempView(name)\n",
        "File \u001B[0;32m/databricks/spark/python/lib/py4j-0.10.9.7-src.zip/py4j/java_gateway.py:1355\u001B[0m, in \u001B[0;36mJavaMember.__call__\u001B[0;34m(self, *args)\u001B[0m\n\u001B[1;32m   1349\u001B[0m command \u001B[38;5;241m=\u001B[39m proto\u001B[38;5;241m.\u001B[39mCALL_COMMAND_NAME \u001B[38;5;241m+\u001B[39m\\\n\u001B[1;32m   1350\u001B[0m     \u001B[38;5;28mself\u001B[39m\u001B[38;5;241m.\u001B[39mcommand_header \u001B[38;5;241m+\u001B[39m\\\n\u001B[1;32m   1351\u001B[0m     args_command \u001B[38;5;241m+\u001B[39m\\\n\u001B[1;32m   1352\u001B[0m     proto\u001B[38;5;241m.\u001B[39mEND_COMMAND_PART\n\u001B[1;32m   1354\u001B[0m answer \u001B[38;5;241m=\u001B[39m \u001B[38;5;28mself\u001B[39m\u001B[38;5;241m.\u001B[39mgateway_client\u001B[38;5;241m.\u001B[39msend_command(command)\n\u001B[0;32m-> 1355\u001B[0m return_value \u001B[38;5;241m=\u001B[39m get_return_value(\n\u001B[1;32m   1356\u001B[0m     answer, \u001B[38;5;28mself\u001B[39m\u001B[38;5;241m.\u001B[39mgateway_client, \u001B[38;5;28mself\u001B[39m\u001B[38;5;241m.\u001B[39mtarget_id, \u001B[38;5;28mself\u001B[39m\u001B[38;5;241m.\u001B[39mname)\n\u001B[1;32m   1358\u001B[0m \u001B[38;5;28;01mfor\u001B[39;00m temp_arg \u001B[38;5;129;01min\u001B[39;00m temp_args:\n\u001B[1;32m   1359\u001B[0m     \u001B[38;5;28;01mif\u001B[39;00m \u001B[38;5;28mhasattr\u001B[39m(temp_arg, \u001B[38;5;124m\"\u001B[39m\u001B[38;5;124m_detach\u001B[39m\u001B[38;5;124m\"\u001B[39m):\n",
        "File \u001B[0;32m/databricks/spark/python/pyspark/errors/exceptions/captured.py:261\u001B[0m, in \u001B[0;36mcapture_sql_exception.<locals>.deco\u001B[0;34m(*a, **kw)\u001B[0m\n\u001B[1;32m    257\u001B[0m converted \u001B[38;5;241m=\u001B[39m convert_exception(e\u001B[38;5;241m.\u001B[39mjava_exception)\n\u001B[1;32m    258\u001B[0m \u001B[38;5;28;01mif\u001B[39;00m \u001B[38;5;129;01mnot\u001B[39;00m \u001B[38;5;28misinstance\u001B[39m(converted, UnknownException):\n\u001B[1;32m    259\u001B[0m     \u001B[38;5;66;03m# Hide where the exception came from that shows a non-Pythonic\u001B[39;00m\n\u001B[1;32m    260\u001B[0m     \u001B[38;5;66;03m# JVM exception message.\u001B[39;00m\n\u001B[0;32m--> 261\u001B[0m     \u001B[38;5;28;01mraise\u001B[39;00m converted \u001B[38;5;28;01mfrom\u001B[39;00m \u001B[38;5;28;01mNone\u001B[39;00m\n\u001B[1;32m    262\u001B[0m \u001B[38;5;28;01melse\u001B[39;00m:\n\u001B[1;32m    263\u001B[0m     \u001B[38;5;28;01mraise\u001B[39;00m\n",
        "\u001B[0;31mAnalysisException\u001B[0m: [TEMP_TABLE_OR_VIEW_ALREADY_EXISTS] Cannot create the temporary view `MyView` because it already exists.\nChoose a different name, drop or replace the existing view,  or add the IF NOT EXISTS clause to tolerate pre-existing views. SQLSTATE: 42P07"
       ],
       "type": "baseError"
      }
     },
     "output_type": "display_data"
    }
   ],
   "source": [
    "df_sql = spark.sql(\"select * from MyView order by Item_MRP desc limit 10\")\n",
    "df_sql.display()"
   ]
  },
  {
   "cell_type": "markdown",
   "metadata": {
    "application/vnd.databricks.v1+cell": {
     "cellMetadata": {
      "byteLimit": 2048000,
      "rowLimit": 10000
     },
     "inputWidgets": {},
     "nuid": "61954376-e902-4be5-9d8f-d7277fe2d769",
     "showTitle": false,
     "tableResultSettingsMap": {},
     "title": ""
    }
   },
   "source": [
    "Data writing"
   ]
  },
  {
   "cell_type": "code",
   "execution_count": 0,
   "metadata": {
    "application/vnd.databricks.v1+cell": {
     "cellMetadata": {
      "byteLimit": 2048000,
      "rowLimit": 10000
     },
     "inputWidgets": {},
     "nuid": "cd30e005-4587-478c-b67d-5a01385c7c3e",
     "showTitle": false,
     "tableResultSettingsMap": {},
     "title": ""
    }
   },
   "outputs": [
    {
     "output_type": "display_data",
     "data": {
      "text/plain": [
       "\u001B[0;31m---------------------------------------------------------------------------\u001B[0m\n",
       "\u001B[0;31mAnalysisException\u001B[0m                         Traceback (most recent call last)\n",
       "File \u001B[0;32m<command-2011299768916966>, line 1\u001B[0m\n",
       "\u001B[0;32m----> 1\u001B[0m df\u001B[38;5;241m.\u001B[39mcreateTempView(\u001B[38;5;124m\"\u001B[39m\u001B[38;5;124mMyView\u001B[39m\u001B[38;5;124m\"\u001B[39m)\n",
       "\n",
       "File \u001B[0;32m/databricks/spark/python/pyspark/instrumentation_utils.py:47\u001B[0m, in \u001B[0;36m_wrap_function.<locals>.wrapper\u001B[0;34m(*args, **kwargs)\u001B[0m\n",
       "\u001B[1;32m     45\u001B[0m start \u001B[38;5;241m=\u001B[39m time\u001B[38;5;241m.\u001B[39mperf_counter()\n",
       "\u001B[1;32m     46\u001B[0m \u001B[38;5;28;01mtry\u001B[39;00m:\n",
       "\u001B[0;32m---> 47\u001B[0m     res \u001B[38;5;241m=\u001B[39m func(\u001B[38;5;241m*\u001B[39margs, \u001B[38;5;241m*\u001B[39m\u001B[38;5;241m*\u001B[39mkwargs)\n",
       "\u001B[1;32m     48\u001B[0m     logger\u001B[38;5;241m.\u001B[39mlog_success(\n",
       "\u001B[1;32m     49\u001B[0m         module_name, class_name, function_name, time\u001B[38;5;241m.\u001B[39mperf_counter() \u001B[38;5;241m-\u001B[39m start, signature\n",
       "\u001B[1;32m     50\u001B[0m     )\n",
       "\u001B[1;32m     51\u001B[0m     \u001B[38;5;28;01mreturn\u001B[39;00m res\n",
       "\n",
       "File \u001B[0;32m/databricks/spark/python/pyspark/sql/dataframe.py:419\u001B[0m, in \u001B[0;36mDataFrame.createTempView\u001B[0;34m(self, name)\u001B[0m\n",
       "\u001B[1;32m    356\u001B[0m \u001B[38;5;28;01mdef\u001B[39;00m \u001B[38;5;21mcreateTempView\u001B[39m(\u001B[38;5;28mself\u001B[39m, name: \u001B[38;5;28mstr\u001B[39m) \u001B[38;5;241m-\u001B[39m\u001B[38;5;241m>\u001B[39m \u001B[38;5;28;01mNone\u001B[39;00m:\n",
       "\u001B[1;32m    357\u001B[0m \u001B[38;5;250m    \u001B[39m\u001B[38;5;124;03m\"\"\"Creates a local temporary view with this :class:`DataFrame`.\u001B[39;00m\n",
       "\u001B[1;32m    358\u001B[0m \n",
       "\u001B[1;32m    359\u001B[0m \u001B[38;5;124;03m    The lifetime of this temporary table is tied to the :class:`SparkSession`\u001B[39;00m\n",
       "\u001B[0;32m   (...)\u001B[0m\n",
       "\u001B[1;32m    417\u001B[0m \u001B[38;5;124;03m    +---+----+\u001B[39;00m\n",
       "\u001B[1;32m    418\u001B[0m \u001B[38;5;124;03m    \"\"\"\u001B[39;00m\n",
       "\u001B[0;32m--> 419\u001B[0m     \u001B[38;5;28mself\u001B[39m\u001B[38;5;241m.\u001B[39m_jdf\u001B[38;5;241m.\u001B[39mcreateTempView(name)\n",
       "\n",
       "File \u001B[0;32m/databricks/spark/python/lib/py4j-0.10.9.7-src.zip/py4j/java_gateway.py:1355\u001B[0m, in \u001B[0;36mJavaMember.__call__\u001B[0;34m(self, *args)\u001B[0m\n",
       "\u001B[1;32m   1349\u001B[0m command \u001B[38;5;241m=\u001B[39m proto\u001B[38;5;241m.\u001B[39mCALL_COMMAND_NAME \u001B[38;5;241m+\u001B[39m\\\n",
       "\u001B[1;32m   1350\u001B[0m     \u001B[38;5;28mself\u001B[39m\u001B[38;5;241m.\u001B[39mcommand_header \u001B[38;5;241m+\u001B[39m\\\n",
       "\u001B[1;32m   1351\u001B[0m     args_command \u001B[38;5;241m+\u001B[39m\\\n",
       "\u001B[1;32m   1352\u001B[0m     proto\u001B[38;5;241m.\u001B[39mEND_COMMAND_PART\n",
       "\u001B[1;32m   1354\u001B[0m answer \u001B[38;5;241m=\u001B[39m \u001B[38;5;28mself\u001B[39m\u001B[38;5;241m.\u001B[39mgateway_client\u001B[38;5;241m.\u001B[39msend_command(command)\n",
       "\u001B[0;32m-> 1355\u001B[0m return_value \u001B[38;5;241m=\u001B[39m get_return_value(\n",
       "\u001B[1;32m   1356\u001B[0m     answer, \u001B[38;5;28mself\u001B[39m\u001B[38;5;241m.\u001B[39mgateway_client, \u001B[38;5;28mself\u001B[39m\u001B[38;5;241m.\u001B[39mtarget_id, \u001B[38;5;28mself\u001B[39m\u001B[38;5;241m.\u001B[39mname)\n",
       "\u001B[1;32m   1358\u001B[0m \u001B[38;5;28;01mfor\u001B[39;00m temp_arg \u001B[38;5;129;01min\u001B[39;00m temp_args:\n",
       "\u001B[1;32m   1359\u001B[0m     \u001B[38;5;28;01mif\u001B[39;00m \u001B[38;5;28mhasattr\u001B[39m(temp_arg, \u001B[38;5;124m\"\u001B[39m\u001B[38;5;124m_detach\u001B[39m\u001B[38;5;124m\"\u001B[39m):\n",
       "\n",
       "File \u001B[0;32m/databricks/spark/python/pyspark/errors/exceptions/captured.py:261\u001B[0m, in \u001B[0;36mcapture_sql_exception.<locals>.deco\u001B[0;34m(*a, **kw)\u001B[0m\n",
       "\u001B[1;32m    257\u001B[0m converted \u001B[38;5;241m=\u001B[39m convert_exception(e\u001B[38;5;241m.\u001B[39mjava_exception)\n",
       "\u001B[1;32m    258\u001B[0m \u001B[38;5;28;01mif\u001B[39;00m \u001B[38;5;129;01mnot\u001B[39;00m \u001B[38;5;28misinstance\u001B[39m(converted, UnknownException):\n",
       "\u001B[1;32m    259\u001B[0m     \u001B[38;5;66;03m# Hide where the exception came from that shows a non-Pythonic\u001B[39;00m\n",
       "\u001B[1;32m    260\u001B[0m     \u001B[38;5;66;03m# JVM exception message.\u001B[39;00m\n",
       "\u001B[0;32m--> 261\u001B[0m     \u001B[38;5;28;01mraise\u001B[39;00m converted \u001B[38;5;28;01mfrom\u001B[39;00m \u001B[38;5;28;01mNone\u001B[39;00m\n",
       "\u001B[1;32m    262\u001B[0m \u001B[38;5;28;01melse\u001B[39;00m:\n",
       "\u001B[1;32m    263\u001B[0m     \u001B[38;5;28;01mraise\u001B[39;00m\n",
       "\n",
       "\u001B[0;31mAnalysisException\u001B[0m: [TEMP_TABLE_OR_VIEW_ALREADY_EXISTS] Cannot create the temporary view `MyView` because it already exists.\n",
       "Choose a different name, drop or replace the existing view,  or add the IF NOT EXISTS clause to tolerate pre-existing views. SQLSTATE: 42P07"
      ]
     },
     "metadata": {
      "application/vnd.databricks.v1+output": {
       "addedWidgets": {},
       "arguments": {},
       "datasetInfos": [],
       "jupyterProps": {
        "ename": "AnalysisException",
        "evalue": "[TEMP_TABLE_OR_VIEW_ALREADY_EXISTS] Cannot create the temporary view `MyView` because it already exists.\nChoose a different name, drop or replace the existing view,  or add the IF NOT EXISTS clause to tolerate pre-existing views. SQLSTATE: 42P07"
       },
       "metadata": {
        "errorSummary": "Command skipped"
       },
       "removedWidgets": [],
       "sqlProps": {
        "errorClass": "TEMP_TABLE_OR_VIEW_ALREADY_EXISTS",
        "pysparkCallSite": null,
        "pysparkFragment": null,
        "sqlState": "42P07",
        "stackTrace": null,
        "startIndex": null,
        "stopIndex": null
       },
       "stackFrames": [
        "\u001B[0;31m---------------------------------------------------------------------------\u001B[0m",
        "\u001B[0;31mAnalysisException\u001B[0m                         Traceback (most recent call last)",
        "File \u001B[0;32m<command-2011299768916966>, line 1\u001B[0m\n\u001B[0;32m----> 1\u001B[0m df\u001B[38;5;241m.\u001B[39mcreateTempView(\u001B[38;5;124m\"\u001B[39m\u001B[38;5;124mMyView\u001B[39m\u001B[38;5;124m\"\u001B[39m)\n",
        "File \u001B[0;32m/databricks/spark/python/pyspark/instrumentation_utils.py:47\u001B[0m, in \u001B[0;36m_wrap_function.<locals>.wrapper\u001B[0;34m(*args, **kwargs)\u001B[0m\n\u001B[1;32m     45\u001B[0m start \u001B[38;5;241m=\u001B[39m time\u001B[38;5;241m.\u001B[39mperf_counter()\n\u001B[1;32m     46\u001B[0m \u001B[38;5;28;01mtry\u001B[39;00m:\n\u001B[0;32m---> 47\u001B[0m     res \u001B[38;5;241m=\u001B[39m func(\u001B[38;5;241m*\u001B[39margs, \u001B[38;5;241m*\u001B[39m\u001B[38;5;241m*\u001B[39mkwargs)\n\u001B[1;32m     48\u001B[0m     logger\u001B[38;5;241m.\u001B[39mlog_success(\n\u001B[1;32m     49\u001B[0m         module_name, class_name, function_name, time\u001B[38;5;241m.\u001B[39mperf_counter() \u001B[38;5;241m-\u001B[39m start, signature\n\u001B[1;32m     50\u001B[0m     )\n\u001B[1;32m     51\u001B[0m     \u001B[38;5;28;01mreturn\u001B[39;00m res\n",
        "File \u001B[0;32m/databricks/spark/python/pyspark/sql/dataframe.py:419\u001B[0m, in \u001B[0;36mDataFrame.createTempView\u001B[0;34m(self, name)\u001B[0m\n\u001B[1;32m    356\u001B[0m \u001B[38;5;28;01mdef\u001B[39;00m \u001B[38;5;21mcreateTempView\u001B[39m(\u001B[38;5;28mself\u001B[39m, name: \u001B[38;5;28mstr\u001B[39m) \u001B[38;5;241m-\u001B[39m\u001B[38;5;241m>\u001B[39m \u001B[38;5;28;01mNone\u001B[39;00m:\n\u001B[1;32m    357\u001B[0m \u001B[38;5;250m    \u001B[39m\u001B[38;5;124;03m\"\"\"Creates a local temporary view with this :class:`DataFrame`.\u001B[39;00m\n\u001B[1;32m    358\u001B[0m \n\u001B[1;32m    359\u001B[0m \u001B[38;5;124;03m    The lifetime of this temporary table is tied to the :class:`SparkSession`\u001B[39;00m\n\u001B[0;32m   (...)\u001B[0m\n\u001B[1;32m    417\u001B[0m \u001B[38;5;124;03m    +---+----+\u001B[39;00m\n\u001B[1;32m    418\u001B[0m \u001B[38;5;124;03m    \"\"\"\u001B[39;00m\n\u001B[0;32m--> 419\u001B[0m     \u001B[38;5;28mself\u001B[39m\u001B[38;5;241m.\u001B[39m_jdf\u001B[38;5;241m.\u001B[39mcreateTempView(name)\n",
        "File \u001B[0;32m/databricks/spark/python/lib/py4j-0.10.9.7-src.zip/py4j/java_gateway.py:1355\u001B[0m, in \u001B[0;36mJavaMember.__call__\u001B[0;34m(self, *args)\u001B[0m\n\u001B[1;32m   1349\u001B[0m command \u001B[38;5;241m=\u001B[39m proto\u001B[38;5;241m.\u001B[39mCALL_COMMAND_NAME \u001B[38;5;241m+\u001B[39m\\\n\u001B[1;32m   1350\u001B[0m     \u001B[38;5;28mself\u001B[39m\u001B[38;5;241m.\u001B[39mcommand_header \u001B[38;5;241m+\u001B[39m\\\n\u001B[1;32m   1351\u001B[0m     args_command \u001B[38;5;241m+\u001B[39m\\\n\u001B[1;32m   1352\u001B[0m     proto\u001B[38;5;241m.\u001B[39mEND_COMMAND_PART\n\u001B[1;32m   1354\u001B[0m answer \u001B[38;5;241m=\u001B[39m \u001B[38;5;28mself\u001B[39m\u001B[38;5;241m.\u001B[39mgateway_client\u001B[38;5;241m.\u001B[39msend_command(command)\n\u001B[0;32m-> 1355\u001B[0m return_value \u001B[38;5;241m=\u001B[39m get_return_value(\n\u001B[1;32m   1356\u001B[0m     answer, \u001B[38;5;28mself\u001B[39m\u001B[38;5;241m.\u001B[39mgateway_client, \u001B[38;5;28mself\u001B[39m\u001B[38;5;241m.\u001B[39mtarget_id, \u001B[38;5;28mself\u001B[39m\u001B[38;5;241m.\u001B[39mname)\n\u001B[1;32m   1358\u001B[0m \u001B[38;5;28;01mfor\u001B[39;00m temp_arg \u001B[38;5;129;01min\u001B[39;00m temp_args:\n\u001B[1;32m   1359\u001B[0m     \u001B[38;5;28;01mif\u001B[39;00m \u001B[38;5;28mhasattr\u001B[39m(temp_arg, \u001B[38;5;124m\"\u001B[39m\u001B[38;5;124m_detach\u001B[39m\u001B[38;5;124m\"\u001B[39m):\n",
        "File \u001B[0;32m/databricks/spark/python/pyspark/errors/exceptions/captured.py:261\u001B[0m, in \u001B[0;36mcapture_sql_exception.<locals>.deco\u001B[0;34m(*a, **kw)\u001B[0m\n\u001B[1;32m    257\u001B[0m converted \u001B[38;5;241m=\u001B[39m convert_exception(e\u001B[38;5;241m.\u001B[39mjava_exception)\n\u001B[1;32m    258\u001B[0m \u001B[38;5;28;01mif\u001B[39;00m \u001B[38;5;129;01mnot\u001B[39;00m \u001B[38;5;28misinstance\u001B[39m(converted, UnknownException):\n\u001B[1;32m    259\u001B[0m     \u001B[38;5;66;03m# Hide where the exception came from that shows a non-Pythonic\u001B[39;00m\n\u001B[1;32m    260\u001B[0m     \u001B[38;5;66;03m# JVM exception message.\u001B[39;00m\n\u001B[0;32m--> 261\u001B[0m     \u001B[38;5;28;01mraise\u001B[39;00m converted \u001B[38;5;28;01mfrom\u001B[39;00m \u001B[38;5;28;01mNone\u001B[39;00m\n\u001B[1;32m    262\u001B[0m \u001B[38;5;28;01melse\u001B[39;00m:\n\u001B[1;32m    263\u001B[0m     \u001B[38;5;28;01mraise\u001B[39;00m\n",
        "\u001B[0;31mAnalysisException\u001B[0m: [TEMP_TABLE_OR_VIEW_ALREADY_EXISTS] Cannot create the temporary view `MyView` because it already exists.\nChoose a different name, drop or replace the existing view,  or add the IF NOT EXISTS clause to tolerate pre-existing views. SQLSTATE: 42P07"
       ],
       "type": "baseError"
      }
     },
     "output_type": "display_data"
    }
   ],
   "source": [
    "df.write.format(\"csv\")\\\n",
    "    .save(\"/FileStore/tables/\")\n",
    "df.write.format(\"csv\")\\\n",
    "    .mode(\"overwrite\")\\    # doesn;t need column to be same\n",
    "        .save(\"/FileStore/tables/1.csv\")\n",
    "df.write.format(\"csv\")\\\n",
    "    .mode(\"append\")\\  # needs columns to be same\n",
    "        .option(\"path\",\"/FileStore/tables/1.csv\")\\\n",
    "            .save()\n",
    "\n"
   ]
  },
  {
   "cell_type": "code",
   "execution_count": 0,
   "metadata": {
    "application/vnd.databricks.v1+cell": {
     "cellMetadata": {
      "byteLimit": 2048000,
      "rowLimit": 10000
     },
     "inputWidgets": {},
     "nuid": "054a4ed9-72d4-4982-b8ac-9b057319b308",
     "showTitle": false,
     "tableResultSettingsMap": {},
     "title": ""
    }
   },
   "outputs": [
    {
     "output_type": "display_data",
     "data": {
      "text/plain": [
       "\u001B[0;31m---------------------------------------------------------------------------\u001B[0m\n",
       "\u001B[0;31mAnalysisException\u001B[0m                         Traceback (most recent call last)\n",
       "File \u001B[0;32m<command-2011299768916966>, line 1\u001B[0m\n",
       "\u001B[0;32m----> 1\u001B[0m df\u001B[38;5;241m.\u001B[39mcreateTempView(\u001B[38;5;124m\"\u001B[39m\u001B[38;5;124mMyView\u001B[39m\u001B[38;5;124m\"\u001B[39m)\n",
       "\n",
       "File \u001B[0;32m/databricks/spark/python/pyspark/instrumentation_utils.py:47\u001B[0m, in \u001B[0;36m_wrap_function.<locals>.wrapper\u001B[0;34m(*args, **kwargs)\u001B[0m\n",
       "\u001B[1;32m     45\u001B[0m start \u001B[38;5;241m=\u001B[39m time\u001B[38;5;241m.\u001B[39mperf_counter()\n",
       "\u001B[1;32m     46\u001B[0m \u001B[38;5;28;01mtry\u001B[39;00m:\n",
       "\u001B[0;32m---> 47\u001B[0m     res \u001B[38;5;241m=\u001B[39m func(\u001B[38;5;241m*\u001B[39margs, \u001B[38;5;241m*\u001B[39m\u001B[38;5;241m*\u001B[39mkwargs)\n",
       "\u001B[1;32m     48\u001B[0m     logger\u001B[38;5;241m.\u001B[39mlog_success(\n",
       "\u001B[1;32m     49\u001B[0m         module_name, class_name, function_name, time\u001B[38;5;241m.\u001B[39mperf_counter() \u001B[38;5;241m-\u001B[39m start, signature\n",
       "\u001B[1;32m     50\u001B[0m     )\n",
       "\u001B[1;32m     51\u001B[0m     \u001B[38;5;28;01mreturn\u001B[39;00m res\n",
       "\n",
       "File \u001B[0;32m/databricks/spark/python/pyspark/sql/dataframe.py:419\u001B[0m, in \u001B[0;36mDataFrame.createTempView\u001B[0;34m(self, name)\u001B[0m\n",
       "\u001B[1;32m    356\u001B[0m \u001B[38;5;28;01mdef\u001B[39;00m \u001B[38;5;21mcreateTempView\u001B[39m(\u001B[38;5;28mself\u001B[39m, name: \u001B[38;5;28mstr\u001B[39m) \u001B[38;5;241m-\u001B[39m\u001B[38;5;241m>\u001B[39m \u001B[38;5;28;01mNone\u001B[39;00m:\n",
       "\u001B[1;32m    357\u001B[0m \u001B[38;5;250m    \u001B[39m\u001B[38;5;124;03m\"\"\"Creates a local temporary view with this :class:`DataFrame`.\u001B[39;00m\n",
       "\u001B[1;32m    358\u001B[0m \n",
       "\u001B[1;32m    359\u001B[0m \u001B[38;5;124;03m    The lifetime of this temporary table is tied to the :class:`SparkSession`\u001B[39;00m\n",
       "\u001B[0;32m   (...)\u001B[0m\n",
       "\u001B[1;32m    417\u001B[0m \u001B[38;5;124;03m    +---+----+\u001B[39;00m\n",
       "\u001B[1;32m    418\u001B[0m \u001B[38;5;124;03m    \"\"\"\u001B[39;00m\n",
       "\u001B[0;32m--> 419\u001B[0m     \u001B[38;5;28mself\u001B[39m\u001B[38;5;241m.\u001B[39m_jdf\u001B[38;5;241m.\u001B[39mcreateTempView(name)\n",
       "\n",
       "File \u001B[0;32m/databricks/spark/python/lib/py4j-0.10.9.7-src.zip/py4j/java_gateway.py:1355\u001B[0m, in \u001B[0;36mJavaMember.__call__\u001B[0;34m(self, *args)\u001B[0m\n",
       "\u001B[1;32m   1349\u001B[0m command \u001B[38;5;241m=\u001B[39m proto\u001B[38;5;241m.\u001B[39mCALL_COMMAND_NAME \u001B[38;5;241m+\u001B[39m\\\n",
       "\u001B[1;32m   1350\u001B[0m     \u001B[38;5;28mself\u001B[39m\u001B[38;5;241m.\u001B[39mcommand_header \u001B[38;5;241m+\u001B[39m\\\n",
       "\u001B[1;32m   1351\u001B[0m     args_command \u001B[38;5;241m+\u001B[39m\\\n",
       "\u001B[1;32m   1352\u001B[0m     proto\u001B[38;5;241m.\u001B[39mEND_COMMAND_PART\n",
       "\u001B[1;32m   1354\u001B[0m answer \u001B[38;5;241m=\u001B[39m \u001B[38;5;28mself\u001B[39m\u001B[38;5;241m.\u001B[39mgateway_client\u001B[38;5;241m.\u001B[39msend_command(command)\n",
       "\u001B[0;32m-> 1355\u001B[0m return_value \u001B[38;5;241m=\u001B[39m get_return_value(\n",
       "\u001B[1;32m   1356\u001B[0m     answer, \u001B[38;5;28mself\u001B[39m\u001B[38;5;241m.\u001B[39mgateway_client, \u001B[38;5;28mself\u001B[39m\u001B[38;5;241m.\u001B[39mtarget_id, \u001B[38;5;28mself\u001B[39m\u001B[38;5;241m.\u001B[39mname)\n",
       "\u001B[1;32m   1358\u001B[0m \u001B[38;5;28;01mfor\u001B[39;00m temp_arg \u001B[38;5;129;01min\u001B[39;00m temp_args:\n",
       "\u001B[1;32m   1359\u001B[0m     \u001B[38;5;28;01mif\u001B[39;00m \u001B[38;5;28mhasattr\u001B[39m(temp_arg, \u001B[38;5;124m\"\u001B[39m\u001B[38;5;124m_detach\u001B[39m\u001B[38;5;124m\"\u001B[39m):\n",
       "\n",
       "File \u001B[0;32m/databricks/spark/python/pyspark/errors/exceptions/captured.py:261\u001B[0m, in \u001B[0;36mcapture_sql_exception.<locals>.deco\u001B[0;34m(*a, **kw)\u001B[0m\n",
       "\u001B[1;32m    257\u001B[0m converted \u001B[38;5;241m=\u001B[39m convert_exception(e\u001B[38;5;241m.\u001B[39mjava_exception)\n",
       "\u001B[1;32m    258\u001B[0m \u001B[38;5;28;01mif\u001B[39;00m \u001B[38;5;129;01mnot\u001B[39;00m \u001B[38;5;28misinstance\u001B[39m(converted, UnknownException):\n",
       "\u001B[1;32m    259\u001B[0m     \u001B[38;5;66;03m# Hide where the exception came from that shows a non-Pythonic\u001B[39;00m\n",
       "\u001B[1;32m    260\u001B[0m     \u001B[38;5;66;03m# JVM exception message.\u001B[39;00m\n",
       "\u001B[0;32m--> 261\u001B[0m     \u001B[38;5;28;01mraise\u001B[39;00m converted \u001B[38;5;28;01mfrom\u001B[39;00m \u001B[38;5;28;01mNone\u001B[39;00m\n",
       "\u001B[1;32m    262\u001B[0m \u001B[38;5;28;01melse\u001B[39;00m:\n",
       "\u001B[1;32m    263\u001B[0m     \u001B[38;5;28;01mraise\u001B[39;00m\n",
       "\n",
       "\u001B[0;31mAnalysisException\u001B[0m: [TEMP_TABLE_OR_VIEW_ALREADY_EXISTS] Cannot create the temporary view `MyView` because it already exists.\n",
       "Choose a different name, drop or replace the existing view,  or add the IF NOT EXISTS clause to tolerate pre-existing views. SQLSTATE: 42P07"
      ]
     },
     "metadata": {
      "application/vnd.databricks.v1+output": {
       "addedWidgets": {},
       "arguments": {},
       "datasetInfos": [],
       "jupyterProps": {
        "ename": "AnalysisException",
        "evalue": "[TEMP_TABLE_OR_VIEW_ALREADY_EXISTS] Cannot create the temporary view `MyView` because it already exists.\nChoose a different name, drop or replace the existing view,  or add the IF NOT EXISTS clause to tolerate pre-existing views. SQLSTATE: 42P07"
       },
       "metadata": {
        "errorSummary": "Command skipped"
       },
       "removedWidgets": [],
       "sqlProps": {
        "errorClass": "TEMP_TABLE_OR_VIEW_ALREADY_EXISTS",
        "pysparkCallSite": null,
        "pysparkFragment": null,
        "sqlState": "42P07",
        "stackTrace": null,
        "startIndex": null,
        "stopIndex": null
       },
       "stackFrames": [
        "\u001B[0;31m---------------------------------------------------------------------------\u001B[0m",
        "\u001B[0;31mAnalysisException\u001B[0m                         Traceback (most recent call last)",
        "File \u001B[0;32m<command-2011299768916966>, line 1\u001B[0m\n\u001B[0;32m----> 1\u001B[0m df\u001B[38;5;241m.\u001B[39mcreateTempView(\u001B[38;5;124m\"\u001B[39m\u001B[38;5;124mMyView\u001B[39m\u001B[38;5;124m\"\u001B[39m)\n",
        "File \u001B[0;32m/databricks/spark/python/pyspark/instrumentation_utils.py:47\u001B[0m, in \u001B[0;36m_wrap_function.<locals>.wrapper\u001B[0;34m(*args, **kwargs)\u001B[0m\n\u001B[1;32m     45\u001B[0m start \u001B[38;5;241m=\u001B[39m time\u001B[38;5;241m.\u001B[39mperf_counter()\n\u001B[1;32m     46\u001B[0m \u001B[38;5;28;01mtry\u001B[39;00m:\n\u001B[0;32m---> 47\u001B[0m     res \u001B[38;5;241m=\u001B[39m func(\u001B[38;5;241m*\u001B[39margs, \u001B[38;5;241m*\u001B[39m\u001B[38;5;241m*\u001B[39mkwargs)\n\u001B[1;32m     48\u001B[0m     logger\u001B[38;5;241m.\u001B[39mlog_success(\n\u001B[1;32m     49\u001B[0m         module_name, class_name, function_name, time\u001B[38;5;241m.\u001B[39mperf_counter() \u001B[38;5;241m-\u001B[39m start, signature\n\u001B[1;32m     50\u001B[0m     )\n\u001B[1;32m     51\u001B[0m     \u001B[38;5;28;01mreturn\u001B[39;00m res\n",
        "File \u001B[0;32m/databricks/spark/python/pyspark/sql/dataframe.py:419\u001B[0m, in \u001B[0;36mDataFrame.createTempView\u001B[0;34m(self, name)\u001B[0m\n\u001B[1;32m    356\u001B[0m \u001B[38;5;28;01mdef\u001B[39;00m \u001B[38;5;21mcreateTempView\u001B[39m(\u001B[38;5;28mself\u001B[39m, name: \u001B[38;5;28mstr\u001B[39m) \u001B[38;5;241m-\u001B[39m\u001B[38;5;241m>\u001B[39m \u001B[38;5;28;01mNone\u001B[39;00m:\n\u001B[1;32m    357\u001B[0m \u001B[38;5;250m    \u001B[39m\u001B[38;5;124;03m\"\"\"Creates a local temporary view with this :class:`DataFrame`.\u001B[39;00m\n\u001B[1;32m    358\u001B[0m \n\u001B[1;32m    359\u001B[0m \u001B[38;5;124;03m    The lifetime of this temporary table is tied to the :class:`SparkSession`\u001B[39;00m\n\u001B[0;32m   (...)\u001B[0m\n\u001B[1;32m    417\u001B[0m \u001B[38;5;124;03m    +---+----+\u001B[39;00m\n\u001B[1;32m    418\u001B[0m \u001B[38;5;124;03m    \"\"\"\u001B[39;00m\n\u001B[0;32m--> 419\u001B[0m     \u001B[38;5;28mself\u001B[39m\u001B[38;5;241m.\u001B[39m_jdf\u001B[38;5;241m.\u001B[39mcreateTempView(name)\n",
        "File \u001B[0;32m/databricks/spark/python/lib/py4j-0.10.9.7-src.zip/py4j/java_gateway.py:1355\u001B[0m, in \u001B[0;36mJavaMember.__call__\u001B[0;34m(self, *args)\u001B[0m\n\u001B[1;32m   1349\u001B[0m command \u001B[38;5;241m=\u001B[39m proto\u001B[38;5;241m.\u001B[39mCALL_COMMAND_NAME \u001B[38;5;241m+\u001B[39m\\\n\u001B[1;32m   1350\u001B[0m     \u001B[38;5;28mself\u001B[39m\u001B[38;5;241m.\u001B[39mcommand_header \u001B[38;5;241m+\u001B[39m\\\n\u001B[1;32m   1351\u001B[0m     args_command \u001B[38;5;241m+\u001B[39m\\\n\u001B[1;32m   1352\u001B[0m     proto\u001B[38;5;241m.\u001B[39mEND_COMMAND_PART\n\u001B[1;32m   1354\u001B[0m answer \u001B[38;5;241m=\u001B[39m \u001B[38;5;28mself\u001B[39m\u001B[38;5;241m.\u001B[39mgateway_client\u001B[38;5;241m.\u001B[39msend_command(command)\n\u001B[0;32m-> 1355\u001B[0m return_value \u001B[38;5;241m=\u001B[39m get_return_value(\n\u001B[1;32m   1356\u001B[0m     answer, \u001B[38;5;28mself\u001B[39m\u001B[38;5;241m.\u001B[39mgateway_client, \u001B[38;5;28mself\u001B[39m\u001B[38;5;241m.\u001B[39mtarget_id, \u001B[38;5;28mself\u001B[39m\u001B[38;5;241m.\u001B[39mname)\n\u001B[1;32m   1358\u001B[0m \u001B[38;5;28;01mfor\u001B[39;00m temp_arg \u001B[38;5;129;01min\u001B[39;00m temp_args:\n\u001B[1;32m   1359\u001B[0m     \u001B[38;5;28;01mif\u001B[39;00m \u001B[38;5;28mhasattr\u001B[39m(temp_arg, \u001B[38;5;124m\"\u001B[39m\u001B[38;5;124m_detach\u001B[39m\u001B[38;5;124m\"\u001B[39m):\n",
        "File \u001B[0;32m/databricks/spark/python/pyspark/errors/exceptions/captured.py:261\u001B[0m, in \u001B[0;36mcapture_sql_exception.<locals>.deco\u001B[0;34m(*a, **kw)\u001B[0m\n\u001B[1;32m    257\u001B[0m converted \u001B[38;5;241m=\u001B[39m convert_exception(e\u001B[38;5;241m.\u001B[39mjava_exception)\n\u001B[1;32m    258\u001B[0m \u001B[38;5;28;01mif\u001B[39;00m \u001B[38;5;129;01mnot\u001B[39;00m \u001B[38;5;28misinstance\u001B[39m(converted, UnknownException):\n\u001B[1;32m    259\u001B[0m     \u001B[38;5;66;03m# Hide where the exception came from that shows a non-Pythonic\u001B[39;00m\n\u001B[1;32m    260\u001B[0m     \u001B[38;5;66;03m# JVM exception message.\u001B[39;00m\n\u001B[0;32m--> 261\u001B[0m     \u001B[38;5;28;01mraise\u001B[39;00m converted \u001B[38;5;28;01mfrom\u001B[39;00m \u001B[38;5;28;01mNone\u001B[39;00m\n\u001B[1;32m    262\u001B[0m \u001B[38;5;28;01melse\u001B[39;00m:\n\u001B[1;32m    263\u001B[0m     \u001B[38;5;28;01mraise\u001B[39;00m\n",
        "\u001B[0;31mAnalysisException\u001B[0m: [TEMP_TABLE_OR_VIEW_ALREADY_EXISTS] Cannot create the temporary view `MyView` because it already exists.\nChoose a different name, drop or replace the existing view,  or add the IF NOT EXISTS clause to tolerate pre-existing views. SQLSTATE: 42P07"
       ],
       "type": "baseError"
      }
     },
     "output_type": "display_data"
    }
   ],
   "source": [
    "dbutils.fs.ls(\"/FileStore/tables/1.csv\")"
   ]
  },
  {
   "cell_type": "code",
   "execution_count": 0,
   "metadata": {
    "application/vnd.databricks.v1+cell": {
     "cellMetadata": {
      "byteLimit": 2048000,
      "rowLimit": 10000
     },
     "inputWidgets": {},
     "nuid": "9265eef2-c7e6-4570-b7da-405c84db03d9",
     "showTitle": false,
     "tableResultSettingsMap": {},
     "title": ""
    }
   },
   "outputs": [
    {
     "output_type": "display_data",
     "data": {
      "text/plain": [
       "\u001B[0;31m---------------------------------------------------------------------------\u001B[0m\n",
       "\u001B[0;31mAnalysisException\u001B[0m                         Traceback (most recent call last)\n",
       "File \u001B[0;32m<command-2011299768916966>, line 1\u001B[0m\n",
       "\u001B[0;32m----> 1\u001B[0m df\u001B[38;5;241m.\u001B[39mcreateTempView(\u001B[38;5;124m\"\u001B[39m\u001B[38;5;124mMyView\u001B[39m\u001B[38;5;124m\"\u001B[39m)\n",
       "\n",
       "File \u001B[0;32m/databricks/spark/python/pyspark/instrumentation_utils.py:47\u001B[0m, in \u001B[0;36m_wrap_function.<locals>.wrapper\u001B[0;34m(*args, **kwargs)\u001B[0m\n",
       "\u001B[1;32m     45\u001B[0m start \u001B[38;5;241m=\u001B[39m time\u001B[38;5;241m.\u001B[39mperf_counter()\n",
       "\u001B[1;32m     46\u001B[0m \u001B[38;5;28;01mtry\u001B[39;00m:\n",
       "\u001B[0;32m---> 47\u001B[0m     res \u001B[38;5;241m=\u001B[39m func(\u001B[38;5;241m*\u001B[39margs, \u001B[38;5;241m*\u001B[39m\u001B[38;5;241m*\u001B[39mkwargs)\n",
       "\u001B[1;32m     48\u001B[0m     logger\u001B[38;5;241m.\u001B[39mlog_success(\n",
       "\u001B[1;32m     49\u001B[0m         module_name, class_name, function_name, time\u001B[38;5;241m.\u001B[39mperf_counter() \u001B[38;5;241m-\u001B[39m start, signature\n",
       "\u001B[1;32m     50\u001B[0m     )\n",
       "\u001B[1;32m     51\u001B[0m     \u001B[38;5;28;01mreturn\u001B[39;00m res\n",
       "\n",
       "File \u001B[0;32m/databricks/spark/python/pyspark/sql/dataframe.py:419\u001B[0m, in \u001B[0;36mDataFrame.createTempView\u001B[0;34m(self, name)\u001B[0m\n",
       "\u001B[1;32m    356\u001B[0m \u001B[38;5;28;01mdef\u001B[39;00m \u001B[38;5;21mcreateTempView\u001B[39m(\u001B[38;5;28mself\u001B[39m, name: \u001B[38;5;28mstr\u001B[39m) \u001B[38;5;241m-\u001B[39m\u001B[38;5;241m>\u001B[39m \u001B[38;5;28;01mNone\u001B[39;00m:\n",
       "\u001B[1;32m    357\u001B[0m \u001B[38;5;250m    \u001B[39m\u001B[38;5;124;03m\"\"\"Creates a local temporary view with this :class:`DataFrame`.\u001B[39;00m\n",
       "\u001B[1;32m    358\u001B[0m \n",
       "\u001B[1;32m    359\u001B[0m \u001B[38;5;124;03m    The lifetime of this temporary table is tied to the :class:`SparkSession`\u001B[39;00m\n",
       "\u001B[0;32m   (...)\u001B[0m\n",
       "\u001B[1;32m    417\u001B[0m \u001B[38;5;124;03m    +---+----+\u001B[39;00m\n",
       "\u001B[1;32m    418\u001B[0m \u001B[38;5;124;03m    \"\"\"\u001B[39;00m\n",
       "\u001B[0;32m--> 419\u001B[0m     \u001B[38;5;28mself\u001B[39m\u001B[38;5;241m.\u001B[39m_jdf\u001B[38;5;241m.\u001B[39mcreateTempView(name)\n",
       "\n",
       "File \u001B[0;32m/databricks/spark/python/lib/py4j-0.10.9.7-src.zip/py4j/java_gateway.py:1355\u001B[0m, in \u001B[0;36mJavaMember.__call__\u001B[0;34m(self, *args)\u001B[0m\n",
       "\u001B[1;32m   1349\u001B[0m command \u001B[38;5;241m=\u001B[39m proto\u001B[38;5;241m.\u001B[39mCALL_COMMAND_NAME \u001B[38;5;241m+\u001B[39m\\\n",
       "\u001B[1;32m   1350\u001B[0m     \u001B[38;5;28mself\u001B[39m\u001B[38;5;241m.\u001B[39mcommand_header \u001B[38;5;241m+\u001B[39m\\\n",
       "\u001B[1;32m   1351\u001B[0m     args_command \u001B[38;5;241m+\u001B[39m\\\n",
       "\u001B[1;32m   1352\u001B[0m     proto\u001B[38;5;241m.\u001B[39mEND_COMMAND_PART\n",
       "\u001B[1;32m   1354\u001B[0m answer \u001B[38;5;241m=\u001B[39m \u001B[38;5;28mself\u001B[39m\u001B[38;5;241m.\u001B[39mgateway_client\u001B[38;5;241m.\u001B[39msend_command(command)\n",
       "\u001B[0;32m-> 1355\u001B[0m return_value \u001B[38;5;241m=\u001B[39m get_return_value(\n",
       "\u001B[1;32m   1356\u001B[0m     answer, \u001B[38;5;28mself\u001B[39m\u001B[38;5;241m.\u001B[39mgateway_client, \u001B[38;5;28mself\u001B[39m\u001B[38;5;241m.\u001B[39mtarget_id, \u001B[38;5;28mself\u001B[39m\u001B[38;5;241m.\u001B[39mname)\n",
       "\u001B[1;32m   1358\u001B[0m \u001B[38;5;28;01mfor\u001B[39;00m temp_arg \u001B[38;5;129;01min\u001B[39;00m temp_args:\n",
       "\u001B[1;32m   1359\u001B[0m     \u001B[38;5;28;01mif\u001B[39;00m \u001B[38;5;28mhasattr\u001B[39m(temp_arg, \u001B[38;5;124m\"\u001B[39m\u001B[38;5;124m_detach\u001B[39m\u001B[38;5;124m\"\u001B[39m):\n",
       "\n",
       "File \u001B[0;32m/databricks/spark/python/pyspark/errors/exceptions/captured.py:261\u001B[0m, in \u001B[0;36mcapture_sql_exception.<locals>.deco\u001B[0;34m(*a, **kw)\u001B[0m\n",
       "\u001B[1;32m    257\u001B[0m converted \u001B[38;5;241m=\u001B[39m convert_exception(e\u001B[38;5;241m.\u001B[39mjava_exception)\n",
       "\u001B[1;32m    258\u001B[0m \u001B[38;5;28;01mif\u001B[39;00m \u001B[38;5;129;01mnot\u001B[39;00m \u001B[38;5;28misinstance\u001B[39m(converted, UnknownException):\n",
       "\u001B[1;32m    259\u001B[0m     \u001B[38;5;66;03m# Hide where the exception came from that shows a non-Pythonic\u001B[39;00m\n",
       "\u001B[1;32m    260\u001B[0m     \u001B[38;5;66;03m# JVM exception message.\u001B[39;00m\n",
       "\u001B[0;32m--> 261\u001B[0m     \u001B[38;5;28;01mraise\u001B[39;00m converted \u001B[38;5;28;01mfrom\u001B[39;00m \u001B[38;5;28;01mNone\u001B[39;00m\n",
       "\u001B[1;32m    262\u001B[0m \u001B[38;5;28;01melse\u001B[39;00m:\n",
       "\u001B[1;32m    263\u001B[0m     \u001B[38;5;28;01mraise\u001B[39;00m\n",
       "\n",
       "\u001B[0;31mAnalysisException\u001B[0m: [TEMP_TABLE_OR_VIEW_ALREADY_EXISTS] Cannot create the temporary view `MyView` because it already exists.\n",
       "Choose a different name, drop or replace the existing view,  or add the IF NOT EXISTS clause to tolerate pre-existing views. SQLSTATE: 42P07"
      ]
     },
     "metadata": {
      "application/vnd.databricks.v1+output": {
       "addedWidgets": {},
       "arguments": {},
       "datasetInfos": [],
       "jupyterProps": {
        "ename": "AnalysisException",
        "evalue": "[TEMP_TABLE_OR_VIEW_ALREADY_EXISTS] Cannot create the temporary view `MyView` because it already exists.\nChoose a different name, drop or replace the existing view,  or add the IF NOT EXISTS clause to tolerate pre-existing views. SQLSTATE: 42P07"
       },
       "metadata": {
        "errorSummary": "Command skipped"
       },
       "removedWidgets": [],
       "sqlProps": {
        "errorClass": "TEMP_TABLE_OR_VIEW_ALREADY_EXISTS",
        "pysparkCallSite": null,
        "pysparkFragment": null,
        "sqlState": "42P07",
        "stackTrace": null,
        "startIndex": null,
        "stopIndex": null
       },
       "stackFrames": [
        "\u001B[0;31m---------------------------------------------------------------------------\u001B[0m",
        "\u001B[0;31mAnalysisException\u001B[0m                         Traceback (most recent call last)",
        "File \u001B[0;32m<command-2011299768916966>, line 1\u001B[0m\n\u001B[0;32m----> 1\u001B[0m df\u001B[38;5;241m.\u001B[39mcreateTempView(\u001B[38;5;124m\"\u001B[39m\u001B[38;5;124mMyView\u001B[39m\u001B[38;5;124m\"\u001B[39m)\n",
        "File \u001B[0;32m/databricks/spark/python/pyspark/instrumentation_utils.py:47\u001B[0m, in \u001B[0;36m_wrap_function.<locals>.wrapper\u001B[0;34m(*args, **kwargs)\u001B[0m\n\u001B[1;32m     45\u001B[0m start \u001B[38;5;241m=\u001B[39m time\u001B[38;5;241m.\u001B[39mperf_counter()\n\u001B[1;32m     46\u001B[0m \u001B[38;5;28;01mtry\u001B[39;00m:\n\u001B[0;32m---> 47\u001B[0m     res \u001B[38;5;241m=\u001B[39m func(\u001B[38;5;241m*\u001B[39margs, \u001B[38;5;241m*\u001B[39m\u001B[38;5;241m*\u001B[39mkwargs)\n\u001B[1;32m     48\u001B[0m     logger\u001B[38;5;241m.\u001B[39mlog_success(\n\u001B[1;32m     49\u001B[0m         module_name, class_name, function_name, time\u001B[38;5;241m.\u001B[39mperf_counter() \u001B[38;5;241m-\u001B[39m start, signature\n\u001B[1;32m     50\u001B[0m     )\n\u001B[1;32m     51\u001B[0m     \u001B[38;5;28;01mreturn\u001B[39;00m res\n",
        "File \u001B[0;32m/databricks/spark/python/pyspark/sql/dataframe.py:419\u001B[0m, in \u001B[0;36mDataFrame.createTempView\u001B[0;34m(self, name)\u001B[0m\n\u001B[1;32m    356\u001B[0m \u001B[38;5;28;01mdef\u001B[39;00m \u001B[38;5;21mcreateTempView\u001B[39m(\u001B[38;5;28mself\u001B[39m, name: \u001B[38;5;28mstr\u001B[39m) \u001B[38;5;241m-\u001B[39m\u001B[38;5;241m>\u001B[39m \u001B[38;5;28;01mNone\u001B[39;00m:\n\u001B[1;32m    357\u001B[0m \u001B[38;5;250m    \u001B[39m\u001B[38;5;124;03m\"\"\"Creates a local temporary view with this :class:`DataFrame`.\u001B[39;00m\n\u001B[1;32m    358\u001B[0m \n\u001B[1;32m    359\u001B[0m \u001B[38;5;124;03m    The lifetime of this temporary table is tied to the :class:`SparkSession`\u001B[39;00m\n\u001B[0;32m   (...)\u001B[0m\n\u001B[1;32m    417\u001B[0m \u001B[38;5;124;03m    +---+----+\u001B[39;00m\n\u001B[1;32m    418\u001B[0m \u001B[38;5;124;03m    \"\"\"\u001B[39;00m\n\u001B[0;32m--> 419\u001B[0m     \u001B[38;5;28mself\u001B[39m\u001B[38;5;241m.\u001B[39m_jdf\u001B[38;5;241m.\u001B[39mcreateTempView(name)\n",
        "File \u001B[0;32m/databricks/spark/python/lib/py4j-0.10.9.7-src.zip/py4j/java_gateway.py:1355\u001B[0m, in \u001B[0;36mJavaMember.__call__\u001B[0;34m(self, *args)\u001B[0m\n\u001B[1;32m   1349\u001B[0m command \u001B[38;5;241m=\u001B[39m proto\u001B[38;5;241m.\u001B[39mCALL_COMMAND_NAME \u001B[38;5;241m+\u001B[39m\\\n\u001B[1;32m   1350\u001B[0m     \u001B[38;5;28mself\u001B[39m\u001B[38;5;241m.\u001B[39mcommand_header \u001B[38;5;241m+\u001B[39m\\\n\u001B[1;32m   1351\u001B[0m     args_command \u001B[38;5;241m+\u001B[39m\\\n\u001B[1;32m   1352\u001B[0m     proto\u001B[38;5;241m.\u001B[39mEND_COMMAND_PART\n\u001B[1;32m   1354\u001B[0m answer \u001B[38;5;241m=\u001B[39m \u001B[38;5;28mself\u001B[39m\u001B[38;5;241m.\u001B[39mgateway_client\u001B[38;5;241m.\u001B[39msend_command(command)\n\u001B[0;32m-> 1355\u001B[0m return_value \u001B[38;5;241m=\u001B[39m get_return_value(\n\u001B[1;32m   1356\u001B[0m     answer, \u001B[38;5;28mself\u001B[39m\u001B[38;5;241m.\u001B[39mgateway_client, \u001B[38;5;28mself\u001B[39m\u001B[38;5;241m.\u001B[39mtarget_id, \u001B[38;5;28mself\u001B[39m\u001B[38;5;241m.\u001B[39mname)\n\u001B[1;32m   1358\u001B[0m \u001B[38;5;28;01mfor\u001B[39;00m temp_arg \u001B[38;5;129;01min\u001B[39;00m temp_args:\n\u001B[1;32m   1359\u001B[0m     \u001B[38;5;28;01mif\u001B[39;00m \u001B[38;5;28mhasattr\u001B[39m(temp_arg, \u001B[38;5;124m\"\u001B[39m\u001B[38;5;124m_detach\u001B[39m\u001B[38;5;124m\"\u001B[39m):\n",
        "File \u001B[0;32m/databricks/spark/python/pyspark/errors/exceptions/captured.py:261\u001B[0m, in \u001B[0;36mcapture_sql_exception.<locals>.deco\u001B[0;34m(*a, **kw)\u001B[0m\n\u001B[1;32m    257\u001B[0m converted \u001B[38;5;241m=\u001B[39m convert_exception(e\u001B[38;5;241m.\u001B[39mjava_exception)\n\u001B[1;32m    258\u001B[0m \u001B[38;5;28;01mif\u001B[39;00m \u001B[38;5;129;01mnot\u001B[39;00m \u001B[38;5;28misinstance\u001B[39m(converted, UnknownException):\n\u001B[1;32m    259\u001B[0m     \u001B[38;5;66;03m# Hide where the exception came from that shows a non-Pythonic\u001B[39;00m\n\u001B[1;32m    260\u001B[0m     \u001B[38;5;66;03m# JVM exception message.\u001B[39;00m\n\u001B[0;32m--> 261\u001B[0m     \u001B[38;5;28;01mraise\u001B[39;00m converted \u001B[38;5;28;01mfrom\u001B[39;00m \u001B[38;5;28;01mNone\u001B[39;00m\n\u001B[1;32m    262\u001B[0m \u001B[38;5;28;01melse\u001B[39;00m:\n\u001B[1;32m    263\u001B[0m     \u001B[38;5;28;01mraise\u001B[39;00m\n",
        "\u001B[0;31mAnalysisException\u001B[0m: [TEMP_TABLE_OR_VIEW_ALREADY_EXISTS] Cannot create the temporary view `MyView` because it already exists.\nChoose a different name, drop or replace the existing view,  or add the IF NOT EXISTS clause to tolerate pre-existing views. SQLSTATE: 42P07"
       ],
       "type": "baseError"
      }
     },
     "output_type": "display_data"
    }
   ],
   "source": [
    "try:\n",
    "    df.write.format(\"csv\")\\\n",
    "        .mode(\"error\")\\\n",
    "            .save(\"/FileStore/tables/1.csv\")   # error as file exists\n",
    "except Exception as e:\n",
    "    print(e)\n",
    "\n",
    "#error , will throw an error if data exists; if data does not exist, it will save the data."
   ]
  },
  {
   "cell_type": "code",
   "execution_count": 0,
   "metadata": {
    "application/vnd.databricks.v1+cell": {
     "cellMetadata": {
      "byteLimit": 2048000,
      "rowLimit": 10000
     },
     "inputWidgets": {},
     "nuid": "22a3569f-11d3-41d0-b7dc-6223da5ed2ae",
     "showTitle": false,
     "tableResultSettingsMap": {},
     "title": ""
    }
   },
   "outputs": [
    {
     "output_type": "display_data",
     "data": {
      "text/plain": [
       "\u001B[0;31m---------------------------------------------------------------------------\u001B[0m\n",
       "\u001B[0;31mAnalysisException\u001B[0m                         Traceback (most recent call last)\n",
       "File \u001B[0;32m<command-2011299768916966>, line 1\u001B[0m\n",
       "\u001B[0;32m----> 1\u001B[0m df\u001B[38;5;241m.\u001B[39mcreateTempView(\u001B[38;5;124m\"\u001B[39m\u001B[38;5;124mMyView\u001B[39m\u001B[38;5;124m\"\u001B[39m)\n",
       "\n",
       "File \u001B[0;32m/databricks/spark/python/pyspark/instrumentation_utils.py:47\u001B[0m, in \u001B[0;36m_wrap_function.<locals>.wrapper\u001B[0;34m(*args, **kwargs)\u001B[0m\n",
       "\u001B[1;32m     45\u001B[0m start \u001B[38;5;241m=\u001B[39m time\u001B[38;5;241m.\u001B[39mperf_counter()\n",
       "\u001B[1;32m     46\u001B[0m \u001B[38;5;28;01mtry\u001B[39;00m:\n",
       "\u001B[0;32m---> 47\u001B[0m     res \u001B[38;5;241m=\u001B[39m func(\u001B[38;5;241m*\u001B[39margs, \u001B[38;5;241m*\u001B[39m\u001B[38;5;241m*\u001B[39mkwargs)\n",
       "\u001B[1;32m     48\u001B[0m     logger\u001B[38;5;241m.\u001B[39mlog_success(\n",
       "\u001B[1;32m     49\u001B[0m         module_name, class_name, function_name, time\u001B[38;5;241m.\u001B[39mperf_counter() \u001B[38;5;241m-\u001B[39m start, signature\n",
       "\u001B[1;32m     50\u001B[0m     )\n",
       "\u001B[1;32m     51\u001B[0m     \u001B[38;5;28;01mreturn\u001B[39;00m res\n",
       "\n",
       "File \u001B[0;32m/databricks/spark/python/pyspark/sql/dataframe.py:419\u001B[0m, in \u001B[0;36mDataFrame.createTempView\u001B[0;34m(self, name)\u001B[0m\n",
       "\u001B[1;32m    356\u001B[0m \u001B[38;5;28;01mdef\u001B[39;00m \u001B[38;5;21mcreateTempView\u001B[39m(\u001B[38;5;28mself\u001B[39m, name: \u001B[38;5;28mstr\u001B[39m) \u001B[38;5;241m-\u001B[39m\u001B[38;5;241m>\u001B[39m \u001B[38;5;28;01mNone\u001B[39;00m:\n",
       "\u001B[1;32m    357\u001B[0m \u001B[38;5;250m    \u001B[39m\u001B[38;5;124;03m\"\"\"Creates a local temporary view with this :class:`DataFrame`.\u001B[39;00m\n",
       "\u001B[1;32m    358\u001B[0m \n",
       "\u001B[1;32m    359\u001B[0m \u001B[38;5;124;03m    The lifetime of this temporary table is tied to the :class:`SparkSession`\u001B[39;00m\n",
       "\u001B[0;32m   (...)\u001B[0m\n",
       "\u001B[1;32m    417\u001B[0m \u001B[38;5;124;03m    +---+----+\u001B[39;00m\n",
       "\u001B[1;32m    418\u001B[0m \u001B[38;5;124;03m    \"\"\"\u001B[39;00m\n",
       "\u001B[0;32m--> 419\u001B[0m     \u001B[38;5;28mself\u001B[39m\u001B[38;5;241m.\u001B[39m_jdf\u001B[38;5;241m.\u001B[39mcreateTempView(name)\n",
       "\n",
       "File \u001B[0;32m/databricks/spark/python/lib/py4j-0.10.9.7-src.zip/py4j/java_gateway.py:1355\u001B[0m, in \u001B[0;36mJavaMember.__call__\u001B[0;34m(self, *args)\u001B[0m\n",
       "\u001B[1;32m   1349\u001B[0m command \u001B[38;5;241m=\u001B[39m proto\u001B[38;5;241m.\u001B[39mCALL_COMMAND_NAME \u001B[38;5;241m+\u001B[39m\\\n",
       "\u001B[1;32m   1350\u001B[0m     \u001B[38;5;28mself\u001B[39m\u001B[38;5;241m.\u001B[39mcommand_header \u001B[38;5;241m+\u001B[39m\\\n",
       "\u001B[1;32m   1351\u001B[0m     args_command \u001B[38;5;241m+\u001B[39m\\\n",
       "\u001B[1;32m   1352\u001B[0m     proto\u001B[38;5;241m.\u001B[39mEND_COMMAND_PART\n",
       "\u001B[1;32m   1354\u001B[0m answer \u001B[38;5;241m=\u001B[39m \u001B[38;5;28mself\u001B[39m\u001B[38;5;241m.\u001B[39mgateway_client\u001B[38;5;241m.\u001B[39msend_command(command)\n",
       "\u001B[0;32m-> 1355\u001B[0m return_value \u001B[38;5;241m=\u001B[39m get_return_value(\n",
       "\u001B[1;32m   1356\u001B[0m     answer, \u001B[38;5;28mself\u001B[39m\u001B[38;5;241m.\u001B[39mgateway_client, \u001B[38;5;28mself\u001B[39m\u001B[38;5;241m.\u001B[39mtarget_id, \u001B[38;5;28mself\u001B[39m\u001B[38;5;241m.\u001B[39mname)\n",
       "\u001B[1;32m   1358\u001B[0m \u001B[38;5;28;01mfor\u001B[39;00m temp_arg \u001B[38;5;129;01min\u001B[39;00m temp_args:\n",
       "\u001B[1;32m   1359\u001B[0m     \u001B[38;5;28;01mif\u001B[39;00m \u001B[38;5;28mhasattr\u001B[39m(temp_arg, \u001B[38;5;124m\"\u001B[39m\u001B[38;5;124m_detach\u001B[39m\u001B[38;5;124m\"\u001B[39m):\n",
       "\n",
       "File \u001B[0;32m/databricks/spark/python/pyspark/errors/exceptions/captured.py:261\u001B[0m, in \u001B[0;36mcapture_sql_exception.<locals>.deco\u001B[0;34m(*a, **kw)\u001B[0m\n",
       "\u001B[1;32m    257\u001B[0m converted \u001B[38;5;241m=\u001B[39m convert_exception(e\u001B[38;5;241m.\u001B[39mjava_exception)\n",
       "\u001B[1;32m    258\u001B[0m \u001B[38;5;28;01mif\u001B[39;00m \u001B[38;5;129;01mnot\u001B[39;00m \u001B[38;5;28misinstance\u001B[39m(converted, UnknownException):\n",
       "\u001B[1;32m    259\u001B[0m     \u001B[38;5;66;03m# Hide where the exception came from that shows a non-Pythonic\u001B[39;00m\n",
       "\u001B[1;32m    260\u001B[0m     \u001B[38;5;66;03m# JVM exception message.\u001B[39;00m\n",
       "\u001B[0;32m--> 261\u001B[0m     \u001B[38;5;28;01mraise\u001B[39;00m converted \u001B[38;5;28;01mfrom\u001B[39;00m \u001B[38;5;28;01mNone\u001B[39;00m\n",
       "\u001B[1;32m    262\u001B[0m \u001B[38;5;28;01melse\u001B[39;00m:\n",
       "\u001B[1;32m    263\u001B[0m     \u001B[38;5;28;01mraise\u001B[39;00m\n",
       "\n",
       "\u001B[0;31mAnalysisException\u001B[0m: [TEMP_TABLE_OR_VIEW_ALREADY_EXISTS] Cannot create the temporary view `MyView` because it already exists.\n",
       "Choose a different name, drop or replace the existing view,  or add the IF NOT EXISTS clause to tolerate pre-existing views. SQLSTATE: 42P07"
      ]
     },
     "metadata": {
      "application/vnd.databricks.v1+output": {
       "addedWidgets": {},
       "arguments": {},
       "datasetInfos": [],
       "jupyterProps": {
        "ename": "AnalysisException",
        "evalue": "[TEMP_TABLE_OR_VIEW_ALREADY_EXISTS] Cannot create the temporary view `MyView` because it already exists.\nChoose a different name, drop or replace the existing view,  or add the IF NOT EXISTS clause to tolerate pre-existing views. SQLSTATE: 42P07"
       },
       "metadata": {
        "errorSummary": "Command skipped"
       },
       "removedWidgets": [],
       "sqlProps": {
        "errorClass": "TEMP_TABLE_OR_VIEW_ALREADY_EXISTS",
        "pysparkCallSite": null,
        "pysparkFragment": null,
        "sqlState": "42P07",
        "stackTrace": null,
        "startIndex": null,
        "stopIndex": null
       },
       "stackFrames": [
        "\u001B[0;31m---------------------------------------------------------------------------\u001B[0m",
        "\u001B[0;31mAnalysisException\u001B[0m                         Traceback (most recent call last)",
        "File \u001B[0;32m<command-2011299768916966>, line 1\u001B[0m\n\u001B[0;32m----> 1\u001B[0m df\u001B[38;5;241m.\u001B[39mcreateTempView(\u001B[38;5;124m\"\u001B[39m\u001B[38;5;124mMyView\u001B[39m\u001B[38;5;124m\"\u001B[39m)\n",
        "File \u001B[0;32m/databricks/spark/python/pyspark/instrumentation_utils.py:47\u001B[0m, in \u001B[0;36m_wrap_function.<locals>.wrapper\u001B[0;34m(*args, **kwargs)\u001B[0m\n\u001B[1;32m     45\u001B[0m start \u001B[38;5;241m=\u001B[39m time\u001B[38;5;241m.\u001B[39mperf_counter()\n\u001B[1;32m     46\u001B[0m \u001B[38;5;28;01mtry\u001B[39;00m:\n\u001B[0;32m---> 47\u001B[0m     res \u001B[38;5;241m=\u001B[39m func(\u001B[38;5;241m*\u001B[39margs, \u001B[38;5;241m*\u001B[39m\u001B[38;5;241m*\u001B[39mkwargs)\n\u001B[1;32m     48\u001B[0m     logger\u001B[38;5;241m.\u001B[39mlog_success(\n\u001B[1;32m     49\u001B[0m         module_name, class_name, function_name, time\u001B[38;5;241m.\u001B[39mperf_counter() \u001B[38;5;241m-\u001B[39m start, signature\n\u001B[1;32m     50\u001B[0m     )\n\u001B[1;32m     51\u001B[0m     \u001B[38;5;28;01mreturn\u001B[39;00m res\n",
        "File \u001B[0;32m/databricks/spark/python/pyspark/sql/dataframe.py:419\u001B[0m, in \u001B[0;36mDataFrame.createTempView\u001B[0;34m(self, name)\u001B[0m\n\u001B[1;32m    356\u001B[0m \u001B[38;5;28;01mdef\u001B[39;00m \u001B[38;5;21mcreateTempView\u001B[39m(\u001B[38;5;28mself\u001B[39m, name: \u001B[38;5;28mstr\u001B[39m) \u001B[38;5;241m-\u001B[39m\u001B[38;5;241m>\u001B[39m \u001B[38;5;28;01mNone\u001B[39;00m:\n\u001B[1;32m    357\u001B[0m \u001B[38;5;250m    \u001B[39m\u001B[38;5;124;03m\"\"\"Creates a local temporary view with this :class:`DataFrame`.\u001B[39;00m\n\u001B[1;32m    358\u001B[0m \n\u001B[1;32m    359\u001B[0m \u001B[38;5;124;03m    The lifetime of this temporary table is tied to the :class:`SparkSession`\u001B[39;00m\n\u001B[0;32m   (...)\u001B[0m\n\u001B[1;32m    417\u001B[0m \u001B[38;5;124;03m    +---+----+\u001B[39;00m\n\u001B[1;32m    418\u001B[0m \u001B[38;5;124;03m    \"\"\"\u001B[39;00m\n\u001B[0;32m--> 419\u001B[0m     \u001B[38;5;28mself\u001B[39m\u001B[38;5;241m.\u001B[39m_jdf\u001B[38;5;241m.\u001B[39mcreateTempView(name)\n",
        "File \u001B[0;32m/databricks/spark/python/lib/py4j-0.10.9.7-src.zip/py4j/java_gateway.py:1355\u001B[0m, in \u001B[0;36mJavaMember.__call__\u001B[0;34m(self, *args)\u001B[0m\n\u001B[1;32m   1349\u001B[0m command \u001B[38;5;241m=\u001B[39m proto\u001B[38;5;241m.\u001B[39mCALL_COMMAND_NAME \u001B[38;5;241m+\u001B[39m\\\n\u001B[1;32m   1350\u001B[0m     \u001B[38;5;28mself\u001B[39m\u001B[38;5;241m.\u001B[39mcommand_header \u001B[38;5;241m+\u001B[39m\\\n\u001B[1;32m   1351\u001B[0m     args_command \u001B[38;5;241m+\u001B[39m\\\n\u001B[1;32m   1352\u001B[0m     proto\u001B[38;5;241m.\u001B[39mEND_COMMAND_PART\n\u001B[1;32m   1354\u001B[0m answer \u001B[38;5;241m=\u001B[39m \u001B[38;5;28mself\u001B[39m\u001B[38;5;241m.\u001B[39mgateway_client\u001B[38;5;241m.\u001B[39msend_command(command)\n\u001B[0;32m-> 1355\u001B[0m return_value \u001B[38;5;241m=\u001B[39m get_return_value(\n\u001B[1;32m   1356\u001B[0m     answer, \u001B[38;5;28mself\u001B[39m\u001B[38;5;241m.\u001B[39mgateway_client, \u001B[38;5;28mself\u001B[39m\u001B[38;5;241m.\u001B[39mtarget_id, \u001B[38;5;28mself\u001B[39m\u001B[38;5;241m.\u001B[39mname)\n\u001B[1;32m   1358\u001B[0m \u001B[38;5;28;01mfor\u001B[39;00m temp_arg \u001B[38;5;129;01min\u001B[39;00m temp_args:\n\u001B[1;32m   1359\u001B[0m     \u001B[38;5;28;01mif\u001B[39;00m \u001B[38;5;28mhasattr\u001B[39m(temp_arg, \u001B[38;5;124m\"\u001B[39m\u001B[38;5;124m_detach\u001B[39m\u001B[38;5;124m\"\u001B[39m):\n",
        "File \u001B[0;32m/databricks/spark/python/pyspark/errors/exceptions/captured.py:261\u001B[0m, in \u001B[0;36mcapture_sql_exception.<locals>.deco\u001B[0;34m(*a, **kw)\u001B[0m\n\u001B[1;32m    257\u001B[0m converted \u001B[38;5;241m=\u001B[39m convert_exception(e\u001B[38;5;241m.\u001B[39mjava_exception)\n\u001B[1;32m    258\u001B[0m \u001B[38;5;28;01mif\u001B[39;00m \u001B[38;5;129;01mnot\u001B[39;00m \u001B[38;5;28misinstance\u001B[39m(converted, UnknownException):\n\u001B[1;32m    259\u001B[0m     \u001B[38;5;66;03m# Hide where the exception came from that shows a non-Pythonic\u001B[39;00m\n\u001B[1;32m    260\u001B[0m     \u001B[38;5;66;03m# JVM exception message.\u001B[39;00m\n\u001B[0;32m--> 261\u001B[0m     \u001B[38;5;28;01mraise\u001B[39;00m converted \u001B[38;5;28;01mfrom\u001B[39;00m \u001B[38;5;28;01mNone\u001B[39;00m\n\u001B[1;32m    262\u001B[0m \u001B[38;5;28;01melse\u001B[39;00m:\n\u001B[1;32m    263\u001B[0m     \u001B[38;5;28;01mraise\u001B[39;00m\n",
        "\u001B[0;31mAnalysisException\u001B[0m: [TEMP_TABLE_OR_VIEW_ALREADY_EXISTS] Cannot create the temporary view `MyView` because it already exists.\nChoose a different name, drop or replace the existing view,  or add the IF NOT EXISTS clause to tolerate pre-existing views. SQLSTATE: 42P07"
       ],
       "type": "baseError"
      }
     },
     "output_type": "display_data"
    }
   ],
   "source": [
    "df.write.format(\"csv\")\\\n",
    "    .mode(\"ignore\")\\\n",
    "        .option(\"path\",\"/FileStore/tables/1.csv\")\\\n",
    "            .save()\n",
    "# ignore, it skips writing if the file or directory already exists, regardless of the content. The content does not need to match; it simply checks for the existence of the target location."
   ]
  },
  {
   "cell_type": "code",
   "execution_count": 0,
   "metadata": {
    "application/vnd.databricks.v1+cell": {
     "cellMetadata": {
      "byteLimit": 2048000,
      "rowLimit": 10000
     },
     "inputWidgets": {},
     "nuid": "e48d0ab0-073a-4934-bd48-e288e73a07ae",
     "showTitle": false,
     "tableResultSettingsMap": {},
     "title": ""
    }
   },
   "outputs": [],
   "source": []
  }
 ],
 "metadata": {
  "application/vnd.databricks.v1+notebook": {
   "computePreferences": null,
   "dashboards": [],
   "environmentMetadata": {
    "base_environment": "",
    "client": "1"
   },
   "language": "python",
   "notebookMetadata": {
    "mostRecentlyExecutedCommandWithImplicitDF": {
     "commandId": 2011299768916972,
     "dataframes": [
      "_sqldf"
     ]
    },
    "pythonIndentUnit": 4
   },
   "notebookName": "Everything in Pyspark",
   "widgets": {}
  }
 },
 "nbformat": 4,
 "nbformat_minor": 0
}
